{
  "nbformat": 4,
  "nbformat_minor": 0,
  "metadata": {
    "colab": {
      "provenance": [],
      "authorship_tag": "ABX9TyMpwjTnmpn05eeK92qM70Xa",
      "include_colab_link": true
    },
    "kernelspec": {
      "name": "python3",
      "display_name": "Python 3"
    },
    "language_info": {
      "name": "python"
    }
  },
  "cells": [
    {
      "cell_type": "markdown",
      "metadata": {
        "id": "view-in-github",
        "colab_type": "text"
      },
      "source": [
        "<a href=\"https://colab.research.google.com/github/coldbilberry/repo-gui/blob/main/ML_in_Business_HW6.ipynb\" target=\"_parent\"><img src=\"https://colab.research.google.com/assets/colab-badge.svg\" alt=\"Open In Colab\"/></a>"
      ]
    },
    {
      "cell_type": "markdown",
      "source": [
        "1"
      ],
      "metadata": {
        "id": "TlE_MLhedMEP"
      }
    },
    {
      "cell_type": "markdown",
      "source": [
        "https://archive.ics.uci.edu/dataset/5/arrhythmia"
      ],
      "metadata": {
        "id": "eY_ZXyVYeK3r"
      }
    },
    {
      "cell_type": "code",
      "source": [
        "import pandas as pd\n",
        "import numpy as np\n",
        "df = pd.read_csv(\"arrhythmia.data\", header=None)\n",
        "df.head(3)"
      ],
      "metadata": {
        "id": "AC0dwbgCdPRx"
      },
      "execution_count": null,
      "outputs": []
    },
    {
      "cell_type": "code",
      "source": [
        "df.iloc[:,279].nunique(), np.sort(df.iloc[:,279].unique())"
      ],
      "metadata": {
        "id": "3ojRj9TTeZpl"
      },
      "execution_count": null,
      "outputs": []
    },
    {
      "cell_type": "markdown",
      "source": [
        "Согласно описанию существует 16 групп классификации наличия или отстутсвия сердечной аритмии.\n",
        "\n",
        "01 - Normal 245\n",
        "\n",
        "02 - Ischemic changes (Coronary Artery Disease) 44\n",
        "\n",
        "03 - Old Anterior Myocardial Infarction 15\n",
        "\n",
        "04 - Old Inferior Myocardial Infarction 15\n",
        "\n",
        "05 - Sinus tachycardy 13\n",
        "\n",
        "06 - Sinus bradycardy 25\n",
        "\n",
        "07 - Ventricular Premature Contraction (PVC) 3\n",
        "\n",
        "08 - Supraventricular Premature Contraction 2\n",
        "\n",
        "09 - Left bundle branch block 9\n",
        "\n",
        "10 - Right bundle branch block 50\n",
        "\n",
        "11 - 1. degree AtrioVentricular block 0\n",
        "\n",
        "12 - 2. degree AV block 0\n",
        "\n",
        "13 - 3. degree AV block 0\n",
        "\n",
        "14 - Left ventricule hypertrophy 4\n",
        "\n",
        "15 - Atrial Fibrillation or Flutter 5\n",
        "\n",
        "16 - Others 22\n",
        "\n",
        "Будем работать со второй группой 02 - Ischemic changes (Coronary Artery Disease)"
      ],
      "metadata": {
        "id": "B7dXqPSsegmd"
      }
    },
    {
      "cell_type": "code",
      "source": [
        "data = df.copy()\n",
        "data[279].replace([1, 3, 4, 5, 6, 7, 8, 9, 10, 11, 12, 13, 14, 15, 16], 0, inplace=True)\n",
        "data[279].replace(2, 1, inplace=True)\n",
        "data[279]"
      ],
      "metadata": {
        "id": "nyrHQAuLen4S"
      },
      "execution_count": null,
      "outputs": []
    },
    {
      "cell_type": "code",
      "source": [
        "print(data.shape)"
      ],
      "metadata": {
        "id": "NC_g8cOBfD1V"
      },
      "execution_count": null,
      "outputs": []
    },
    {
      "cell_type": "code",
      "source": [
        "data.iloc[:, -1].value_counts()"
      ],
      "metadata": {
        "id": "5oOU5qByfEmO"
      },
      "execution_count": null,
      "outputs": []
    },
    {
      "cell_type": "code",
      "source": [
        "def get_num_features(df):\n",
        "    \"\"\"\n",
        "    функция возвращает список числовых признаков\n",
        "    :param df\n",
        "    :return: list\n",
        "    \"\"\"\n",
        "    numerical_features = df.select_dtypes(include=[np.number])\n",
        "    # print(f\"count of numeric_features_train {numerical_features.shape[1]}\")\n",
        "    return numerical_features.columns\n",
        "\n",
        "\n",
        "def get_cat_features(df):\n",
        "    \"\"\"\n",
        "    функция возвращает список признаков с типом \"объект\"\n",
        "    :param df:\n",
        "    :return: list\n",
        "    \"\"\"\n",
        "    categorical_features = df.select_dtypes(include=[np.object])\n",
        "    return categorical_features.columns"
      ],
      "metadata": {
        "id": "mkZf7pyKfIFP"
      },
      "execution_count": null,
      "outputs": []
    },
    {
      "cell_type": "code",
      "source": [
        "get_num_features(data)"
      ],
      "metadata": {
        "id": "w_PqZoimfKK_"
      },
      "execution_count": null,
      "outputs": []
    },
    {
      "cell_type": "code",
      "source": [
        "get_cat_features(data)"
      ],
      "metadata": {
        "id": "9bYIBEMHfMZi"
      },
      "execution_count": null,
      "outputs": []
    },
    {
      "cell_type": "markdown",
      "source": [
        "2"
      ],
      "metadata": {
        "id": "SeRiaFZGfOIY"
      }
    },
    {
      "cell_type": "code",
      "source": [
        "data[10].unique()"
      ],
      "metadata": {
        "id": "WQ_qTt-JfOza"
      },
      "execution_count": null,
      "outputs": []
    },
    {
      "cell_type": "code",
      "source": [
        "for col in [10, 11, 12, 13, 14]:\n",
        "    # извлекаем индексы по условию (тех элементов, которые имеют значение \"?\")\n",
        "    indices = np.where(data[col] != '?')\n",
        "    # получаем спиcок элементов по индексам [0], приводим к строке, к целому и находим медиану\n",
        "    col_med = np.median(np.take(data[col], indices[0]).astype(str).astype(int))\n",
        "    # заменяем некорректное значение медианой\n",
        "    data[col] = data[col].replace('?', col_med)"
      ],
      "metadata": {
        "id": "4D9Y3ajDfR7_"
      },
      "execution_count": null,
      "outputs": []
    },
    {
      "cell_type": "code",
      "source": [
        "data[10].unique()"
      ],
      "metadata": {
        "id": "rjVOzbKbfTXb"
      },
      "execution_count": null,
      "outputs": []
    },
    {
      "cell_type": "code",
      "source": [
        "for col in [10, 11, 12, 13, 14]:\n",
        "    data[col] = data[col].astype(int)"
      ],
      "metadata": {
        "id": "B_LDSscxfWV0"
      },
      "execution_count": null,
      "outputs": []
    },
    {
      "cell_type": "markdown",
      "source": [
        "3"
      ],
      "metadata": {
        "id": "UnKZkKlsfYId"
      }
    },
    {
      "cell_type": "code",
      "source": [
        "from sklearn.model_selection import train_test_split\n",
        "\n",
        "x_data = data.iloc[:,:-1]\n",
        "y_data = data.iloc[:,-1]\n",
        "\n",
        "x_train, x_test, y_train, y_test = train_test_split(x_data, y_data, test_size=0.2, random_state=7)"
      ],
      "metadata": {
        "id": "T_QgFrE0fYst"
      },
      "execution_count": null,
      "outputs": []
    },
    {
      "cell_type": "code",
      "source": [
        "import xgboost as xgb\n",
        "\n",
        "model = xgb.XGBClassifier()\n",
        "\n",
        "model.fit(x_train, y_train)\n",
        "y_predict = model.predict(x_test)"
      ],
      "metadata": {
        "id": "BE6MRsxlfbH-"
      },
      "execution_count": null,
      "outputs": []
    },
    {
      "cell_type": "markdown",
      "source": [
        "Проверяем качество модели"
      ],
      "metadata": {
        "id": "qmXETRRnfej0"
      }
    },
    {
      "cell_type": "code",
      "source": [
        "from sklearn.metrics import recall_score, precision_score, roc_auc_score, accuracy_score, f1_score\n",
        "\n",
        "def evaluate_results(y_test, y_predict):\n",
        "    print('Classification results:')\n",
        "    f1 = f1_score(y_test, y_predict)\n",
        "    print(\"f1: %.2f%%\" % (f1 * 100.0))\n",
        "    roc = roc_auc_score(y_test, y_predict)\n",
        "    print(\"roc: %.2f%%\" % (roc * 100.0))\n",
        "    rec = recall_score(y_test, y_predict, average='binary')\n",
        "    print(\"recall: %.2f%%\" % (rec * 100.0))\n",
        "    prc = precision_score(y_test, y_predict, average='binary')\n",
        "    print(\"precision: %.2f%%\" % (prc * 100.0))\n",
        "    return f1, roc, rec, prc\n",
        "\n",
        "f1, roc, rec, prc = evaluate_results(y_test, y_predict)\n",
        "\n",
        "score = []\n",
        "score.append([f1, prc, rec, roc])"
      ],
      "metadata": {
        "id": "g5PsJ9oQffEU"
      },
      "execution_count": null,
      "outputs": []
    },
    {
      "cell_type": "markdown",
      "source": [
        "4"
      ],
      "metadata": {
        "id": "jTRWZ2BxfjGx"
      }
    },
    {
      "cell_type": "code",
      "source": [
        "mod_data = data.copy()\n",
        "#get the indices of the positives samples\n",
        "pos_ind = np.where(mod_data.iloc[:,-1].values == 1)[0]\n",
        "#shuffle them\n",
        "np.random.shuffle(pos_ind)\n",
        "# leave just 25% of the positives marked\n",
        "pos_sample_len = int(np.ceil(0.25 * len(pos_ind)))\n",
        "print(f'Using {pos_sample_len}/{len(pos_ind)} as positives and unlabeling the rest')\n",
        "pos_sample = pos_ind[:pos_sample_len]"
      ],
      "metadata": {
        "id": "mgKtEgTQfjrV"
      },
      "execution_count": null,
      "outputs": []
    },
    {
      "cell_type": "code",
      "source": [
        "mod_data['class_test'] = -1\n",
        "mod_data.loc[pos_sample,'class_test'] = 1\n",
        "print('target variable:\\n', mod_data.iloc[:,-1].value_counts())"
      ],
      "metadata": {
        "id": "HBZt49-1fm7n"
      },
      "execution_count": null,
      "outputs": []
    },
    {
      "cell_type": "code",
      "source": [
        "mod_data[279].values"
      ],
      "metadata": {
        "id": "pTjtLRyTfqcw"
      },
      "execution_count": null,
      "outputs": []
    },
    {
      "cell_type": "code",
      "source": [
        "mod_data.head(10)"
      ],
      "metadata": {
        "id": "Jg3aCApcfrmJ"
      },
      "execution_count": null,
      "outputs": []
    },
    {
      "cell_type": "code",
      "source": [
        "x_data = mod_data.iloc[:,:-2].values # just the X\n",
        "y_labeled = mod_data.iloc[:,-1].values # new class (just the P & U)\n",
        "y_positive = mod_data.iloc[:,-2].values # original class"
      ],
      "metadata": {
        "id": "DMF22Yj6fu94"
      },
      "execution_count": null,
      "outputs": []
    },
    {
      "cell_type": "markdown",
      "source": [
        "5"
      ],
      "metadata": {
        "id": "xIIEUQqUfv8v"
      }
    },
    {
      "cell_type": "code",
      "source": [
        "mod_data = mod_data.sample(frac=1)\n",
        "neg_sample = mod_data[mod_data['class_test']==-1][:len(mod_data[mod_data['class_test']==1])]\n",
        "sample_test = mod_data[mod_data['class_test']==-1][len(mod_data[mod_data['class_test']==1]):]\n",
        "pos_sample = mod_data[mod_data['class_test']==1]\n",
        "print(neg_sample.shape, pos_sample.shape)\n",
        "sample_train = pd.concat([neg_sample, pos_sample]).sample(frac=1)"
      ],
      "metadata": {
        "id": "UcvkUYp2fw1t"
      },
      "execution_count": null,
      "outputs": []
    },
    {
      "cell_type": "code",
      "source": [
        "model = xgb.XGBClassifier()\n",
        "\n",
        "model.fit(sample_train.iloc[:,:-2].values,\n",
        "          sample_train.iloc[:,-2].values)\n",
        "y_predict = model.predict(sample_test.iloc[:,:-2].values)\n",
        "\n",
        "f1, prc, rec, roc = evaluate_results(sample_test.iloc[:,-2].values, y_predict)"
      ],
      "metadata": {
        "id": "sSEHQPTwf1Mi"
      },
      "execution_count": null,
      "outputs": []
    },
    {
      "cell_type": "markdown",
      "source": [
        "6"
      ],
      "metadata": {
        "id": "Jmk8u7eGf4kh"
      }
    },
    {
      "cell_type": "code",
      "source": [
        "score.append([f1, prc, rec, roc])"
      ],
      "metadata": {
        "id": "A7i_V1-df5VS"
      },
      "execution_count": null,
      "outputs": []
    },
    {
      "cell_type": "code",
      "source": [
        "df = pd.DataFrame({'original': score[0], 'random negative sampling': score[1]}).T\n",
        "df.columns = ['fscore', 'precision', 'recall', 'roc_auc']\n",
        "df"
      ],
      "metadata": {
        "id": "z0LKQnksf9XR"
      },
      "execution_count": null,
      "outputs": []
    },
    {
      "cell_type": "markdown",
      "source": [
        "7"
      ],
      "metadata": {
        "id": "e1IETFyXf_0j"
      }
    },
    {
      "cell_type": "code",
      "source": [
        "mod_data = data.copy()\n",
        "#get the indices of the positives samples\n",
        "pos_ind = np.where(mod_data.iloc[:,-1].values == 1)[0]\n",
        "#shuffle them\n",
        "np.random.shuffle(pos_ind)\n",
        "# leave just 30% of the positives marked\n",
        "pos_sample_len = int(np.ceil(0.3 * len(pos_ind)))\n",
        "print(f'Using {pos_sample_len}/{len(pos_ind)} as positives and unlabeling the rest')\n",
        "pos_sample = pos_ind[:pos_sample_len]"
      ],
      "metadata": {
        "id": "ldKxX5SggApN"
      },
      "execution_count": null,
      "outputs": []
    },
    {
      "cell_type": "code",
      "source": [
        "mod_data['class_test'] = -1\n",
        "mod_data.loc[pos_sample,'class_test'] = 1\n",
        "print('target variable:\\n', mod_data.iloc[:,-1].value_counts())"
      ],
      "metadata": {
        "id": "cW7ppIqFgDxo"
      },
      "execution_count": null,
      "outputs": []
    },
    {
      "cell_type": "code",
      "source": [
        "mod_data[279].values"
      ],
      "metadata": {
        "id": "Dn__mEwIgGJM"
      },
      "execution_count": null,
      "outputs": []
    },
    {
      "cell_type": "code",
      "source": [
        "mod_data.head(10)"
      ],
      "metadata": {
        "id": "hfwSHZaagJiC"
      },
      "execution_count": null,
      "outputs": []
    },
    {
      "cell_type": "code",
      "source": [
        "x_data = mod_data.iloc[:,:-2].values # just the X\n",
        "y_labeled = mod_data.iloc[:,-1].values # new class (just the P & U)\n",
        "y_positive = mod_data.iloc[:,-2].values # original class"
      ],
      "metadata": {
        "id": "2v3pnnRrgMJ0"
      },
      "execution_count": null,
      "outputs": []
    },
    {
      "cell_type": "code",
      "source": [
        "mod_data = mod_data.sample(frac=1)\n",
        "neg_sample = mod_data[mod_data['class_test']==-1][:len(mod_data[mod_data['class_test']==1])]\n",
        "sample_test = mod_data[mod_data['class_test']==-1][len(mod_data[mod_data['class_test']==1]):]\n",
        "pos_sample = mod_data[mod_data['class_test']==1]\n",
        "print(neg_sample.shape, pos_sample.shape)\n",
        "sample_train = pd.concat([neg_sample, pos_sample]).sample(frac=1)"
      ],
      "metadata": {
        "id": "LnMIWCE-gOJf"
      },
      "execution_count": null,
      "outputs": []
    },
    {
      "cell_type": "code",
      "source": [
        "model = xgb.XGBClassifier()\n",
        "\n",
        "model.fit(sample_train.iloc[:,:-2].values,\n",
        "          sample_train.iloc[:,-2].values)\n",
        "y_predict = model.predict(sample_test.iloc[:,:-2].values)\n",
        "\n",
        "f1, prc, rec, roc = evaluate_results(sample_test.iloc[:,-2].values, y_predict)"
      ],
      "metadata": {
        "id": "3BBHuWKygQya"
      },
      "execution_count": null,
      "outputs": []
    },
    {
      "cell_type": "code",
      "source": [
        "score.append([f1, prc, rec, roc])"
      ],
      "metadata": {
        "id": "3UKkozFFgT6c"
      },
      "execution_count": null,
      "outputs": []
    },
    {
      "cell_type": "code",
      "source": [
        "df = pd.DataFrame({'original': score[0], 'random negative sampling': score[1], 'random negative sampling 0.3': score[2]}).T\n",
        "df.columns = ['fscore', 'precision', 'recall', 'roc_auc']\n",
        "df"
      ],
      "metadata": {
        "id": "PfGqaGXtgVsh"
      },
      "execution_count": null,
      "outputs": []
    },
    {
      "cell_type": "code",
      "source": [
        "mod_data = data.copy()\n",
        "#get the indices of the positives samples\n",
        "pos_ind = np.where(mod_data.iloc[:,-1].values == 1)[0]\n",
        "#shuffle them\n",
        "np.random.shuffle(pos_ind)\n",
        "# leave just 20% of the positives marked\n",
        "pos_sample_len = int(np.ceil(0.2 * len(pos_ind)))\n",
        "print(f'Using {pos_sample_len}/{len(pos_ind)} as positives and unlabeling the rest')\n",
        "pos_sample = pos_ind[:pos_sample_len]"
      ],
      "metadata": {
        "id": "njHxKq0kgYIt"
      },
      "execution_count": null,
      "outputs": []
    },
    {
      "cell_type": "code",
      "source": [
        "mod_data['class_test'] = -1\n",
        "mod_data.loc[pos_sample,'class_test'] = 1\n",
        "print('target variable:\\n', mod_data.iloc[:,-1].value_counts())"
      ],
      "metadata": {
        "id": "bXcyR-IlgdcK"
      },
      "execution_count": null,
      "outputs": []
    },
    {
      "cell_type": "code",
      "source": [
        "x_data = mod_data.iloc[:,:-2].values # just the X\n",
        "y_labeled = mod_data.iloc[:,-1].values # new class (just the P & U)\n",
        "y_positive = mod_data.iloc[:,-2].values # original class"
      ],
      "metadata": {
        "id": "60f7FTCCgitU"
      },
      "execution_count": null,
      "outputs": []
    },
    {
      "cell_type": "code",
      "source": [
        "mod_data = mod_data.sample(frac=1)\n",
        "neg_sample = mod_data[mod_data['class_test']==-1][:len(mod_data[mod_data['class_test']==1])]\n",
        "sample_test = mod_data[mod_data['class_test']==-1][len(mod_data[mod_data['class_test']==1]):]\n",
        "pos_sample = mod_data[mod_data['class_test']==1]\n",
        "print(neg_sample.shape, pos_sample.shape)\n",
        "sample_train = pd.concat([neg_sample, pos_sample]).sample(frac=1)"
      ],
      "metadata": {
        "id": "4SIQg5dNgk34"
      },
      "execution_count": null,
      "outputs": []
    },
    {
      "cell_type": "code",
      "source": [
        "model = xgb.XGBClassifier()\n",
        "\n",
        "model.fit(sample_train.iloc[:,:-2].values,\n",
        "          sample_train.iloc[:,-2].values)\n",
        "y_predict = model.predict(sample_test.iloc[:,:-2].values)\n",
        "\n",
        "f1, prc, rec, roc = evaluate_results(sample_test.iloc[:,-2].values, y_predict)"
      ],
      "metadata": {
        "id": "uQ-dq82egoDE"
      },
      "execution_count": null,
      "outputs": []
    },
    {
      "cell_type": "code",
      "source": [
        "score.append([f1, prc, rec, roc])"
      ],
      "metadata": {
        "id": "tcNGNkXhgq-u"
      },
      "execution_count": null,
      "outputs": []
    },
    {
      "cell_type": "code",
      "source": [
        "df = pd.DataFrame({'original': score[0],\n",
        "                   'random negative sampling': score[1],\n",
        "                   'random negative sampling 0.3': score[2],\n",
        "                   'random negative sampling 0.2': score[3]}).T\n",
        "df.columns = ['fscore', 'precision', 'recall', 'roc_auc']\n",
        "df"
      ],
      "metadata": {
        "id": "LbT-NzLhguV5"
      },
      "execution_count": null,
      "outputs": []
    },
    {
      "cell_type": "markdown",
      "source": [
        "Вывод: наилучший F-score у обычного XGboost, однако Recall и Precision выше при использовании random negative sampling с долей 0.2"
      ],
      "metadata": {
        "id": "7NcGthCMgwZy"
      }
    }
  ]
}