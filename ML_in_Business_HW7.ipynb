{
  "nbformat": 4,
  "nbformat_minor": 0,
  "metadata": {
    "colab": {
      "provenance": [],
      "authorship_tag": "ABX9TyPCgaI7opDn/evWpihfjua7",
      "include_colab_link": true
    },
    "kernelspec": {
      "name": "python3",
      "display_name": "Python 3"
    },
    "language_info": {
      "name": "python"
    }
  },
  "cells": [
    {
      "cell_type": "markdown",
      "metadata": {
        "id": "view-in-github",
        "colab_type": "text"
      },
      "source": [
        "<a href=\"https://colab.research.google.com/github/coldbilberry/repo-gui/blob/main/ML_in_Business_HW7.ipynb\" target=\"_parent\"><img src=\"https://colab.research.google.com/assets/colab-badge.svg\" alt=\"Open In Colab\"/></a>"
      ]
    },
    {
      "cell_type": "code",
      "execution_count": null,
      "metadata": {
        "id": "0MjAsbfYhDqo"
      },
      "outputs": [],
      "source": [
        "import pandas as pd\n",
        "import numpy as np\n",
        "\n",
        "from sklearn.linear_model import LinearRegression\n",
        "from sklearn.ensemble import RandomForestRegressor\n",
        "from sklearn.preprocessing import StandardScaler\n",
        "from sklearn.pipeline import Pipeline, make_pipeline, FeatureUnion\n",
        "from sklearn.base import BaseEstimator, TransformerMixin\n",
        "from sklearn.model_selection import train_test_split\n",
        "from sklearn.metrics import (mean_absolute_error, r2_score, recall_score, precision_score,\n",
        "                            roc_auc_score, accuracy_score, f1_score)\n",
        "import matplotlib as mpl\n",
        "import matplotlib.pyplot as plt\n",
        "%matplotlib inline\n",
        "import seaborn as sns\n",
        "\n",
        "import xgboost as xgb\n",
        "\n",
        "import shap\n",
        "# load JS visualization code to notebook\n",
        "shap.initjs()"
      ]
    },
    {
      "cell_type": "code",
      "source": [
        "# dataset из задания к уроку 6 файл \"arrhythmia.data\"\n",
        "df = pd.read_csv(\"arrhythmia.data\", header=None)\n",
        "df.head(3)"
      ],
      "metadata": {
        "id": "Mc2soDu2hpdY"
      },
      "execution_count": null,
      "outputs": []
    },
    {
      "cell_type": "code",
      "source": [
        "data = df.copy()\n",
        "data[279].replace([1, 3, 4, 5, 6, 7, 8, 9, 10, 11, 12, 13, 14, 15, 16], 0, inplace=True)\n",
        "data[279].replace(2, 1, inplace=True)\n",
        "data[279]"
      ],
      "metadata": {
        "id": "K-2SxBS0hzKp"
      },
      "execution_count": null,
      "outputs": []
    },
    {
      "cell_type": "code",
      "source": [
        "data.iloc[:, -1].value_counts()"
      ],
      "metadata": {
        "id": "V_DE_ssQh0cv"
      },
      "execution_count": null,
      "outputs": []
    },
    {
      "cell_type": "code",
      "source": [
        "def get_num_features(df):\n",
        "    \"\"\"\n",
        "    функция возвращает список числовых признаков\n",
        "    :param df\n",
        "    :return: list\n",
        "    \"\"\"\n",
        "    numerical_features = df.select_dtypes(include=[np.number])\n",
        "    # print(f\"count of numeric_features_train {numerical_features.shape[1]}\")\n",
        "    return numerical_features.columns\n",
        "\n",
        "\n",
        "def get_cat_features(df):\n",
        "    \"\"\"\n",
        "    функция возвращает список признаков с типом \"объект\"\n",
        "    :param df:\n",
        "    :return: list\n",
        "    \"\"\"\n",
        "    categorical_features = df.select_dtypes(include=[np.object])\n",
        "    return categorical_features.columns"
      ],
      "metadata": {
        "id": "7tMJm95kh2OU"
      },
      "execution_count": null,
      "outputs": []
    },
    {
      "cell_type": "code",
      "source": [
        "get_num_features(data)"
      ],
      "metadata": {
        "id": "rfqEelhyh4v4"
      },
      "execution_count": null,
      "outputs": []
    },
    {
      "cell_type": "code",
      "source": [
        "get_cat_features(data)"
      ],
      "metadata": {
        "id": "x07b3_eqh7ce"
      },
      "execution_count": null,
      "outputs": []
    },
    {
      "cell_type": "code",
      "source": [
        "sns.displot(data, x=data[279]);"
      ],
      "metadata": {
        "id": "HpvUOT36h9Rq"
      },
      "execution_count": null,
      "outputs": []
    },
    {
      "cell_type": "code",
      "source": [
        "df = pd.DataFrame({\n",
        "    # среднее по всем фичам трейна за исключением таргета\n",
        "    'train mean 1': data.loc[data[279]==1, :].describe().iloc[1,1:],\n",
        "    # среднее по всем фичам теста (здесь таргета нет)\n",
        "    'train mean 0': data.loc[data[279]==0, :].describe().iloc[1,1:]\n",
        "})\n",
        "\n",
        "df.plot.bar(figsize=(16,8))\n",
        "plt.title('Среднее значение целевой переменной для разных классов датасета');"
      ],
      "metadata": {
        "id": "E6stBRdiiA_D"
      },
      "execution_count": null,
      "outputs": []
    },
    {
      "cell_type": "code",
      "source": [
        "df =  data.loc[data[279]==1, :].describe().iloc[1,1:] - data.loc[data[279]==0, :].describe().iloc[1,1:]\n",
        "\n",
        "df.plot(figsize=(16,8))\n",
        "plt.title('Среднее значение целевой переменной');"
      ],
      "metadata": {
        "id": "8tt5qFGOiDt1"
      },
      "execution_count": null,
      "outputs": []
    },
    {
      "cell_type": "code",
      "source": [
        "data[10].unique()"
      ],
      "metadata": {
        "id": "e1eSBXCxiFyN"
      },
      "execution_count": null,
      "outputs": []
    },
    {
      "cell_type": "code",
      "source": [
        "for col in [10, 11, 12, 13, 14]:\n",
        "    # извлекаем индексы по условию (тех элементов, которые имеют значение \"?\")\n",
        "    indices = np.where(data[col] != '?')\n",
        "    # получаем спиcок элементов по индексам [0], приводим к строке, к целому и находим медиану\n",
        "    col_med = np.median(np.take(data[col], indices[0]).astype(str).astype(int))\n",
        "    # заменяем некорректное значение медианой\n",
        "    data[col] = data[col].replace('?', col_med)"
      ],
      "metadata": {
        "id": "etmqlkn-iF13"
      },
      "execution_count": null,
      "outputs": []
    },
    {
      "cell_type": "code",
      "source": [
        "data[10].unique()"
      ],
      "metadata": {
        "id": "l3yTBHo9iKF5"
      },
      "execution_count": null,
      "outputs": []
    },
    {
      "cell_type": "code",
      "source": [
        "for col in [10, 11, 12, 13, 14]:\n",
        "    data[col] = data[col].astype(int)"
      ],
      "metadata": {
        "id": "LiNSzTgLiNZH"
      },
      "execution_count": null,
      "outputs": []
    },
    {
      "cell_type": "code",
      "source": [
        "data[10].unique()"
      ],
      "metadata": {
        "id": "GlBJ7l4fiPbB"
      },
      "execution_count": null,
      "outputs": []
    },
    {
      "cell_type": "code",
      "source": [
        "%%time\n",
        "parameters = {\"max_depth\": 6, \"n_estimators\": 25, \"random_state\": 27, \"n_jobs\": 8}\n",
        "\n",
        "forest = RandomForestRegressor(**parameters)\n",
        "forest.fit(data.drop([279], axis=1), data[279])"
      ],
      "metadata": {
        "id": "QijoKB30iRnG"
      },
      "execution_count": null,
      "outputs": []
    },
    {
      "cell_type": "code",
      "source": [
        "n_top = 10\n",
        "importances = forest.feature_importances_\n",
        "idx = np.argsort(importances)[::-1][0:n_top]\n",
        "feature_names = data.drop([279], axis=1).columns\n",
        "\n",
        "plt.figure(figsize=(20, 5))\n",
        "sns.barplot(x=feature_names[idx], y=importances[idx], palette=\"viridis\")\n",
        "plt.title(\"Топ 10 важных признаков\", size=14)"
      ],
      "metadata": {
        "id": "Vj1H_w_4iUUV"
      },
      "execution_count": null,
      "outputs": []
    },
    {
      "cell_type": "code",
      "source": [
        "data['bmi'] = round(data[3] / ((data[2] / 100) ** 2), 1)\n",
        "data.head(5)"
      ],
      "metadata": {
        "id": "DUzMzVCZid7-"
      },
      "execution_count": null,
      "outputs": []
    },
    {
      "cell_type": "code",
      "source": [
        "plt.figure(figsize=(16, 5))\n",
        "sns.displot(data, x=data[0], bins=25 );"
      ],
      "metadata": {
        "id": "zUUwIKlfihX1"
      },
      "execution_count": null,
      "outputs": []
    },
    {
      "cell_type": "code",
      "source": [
        "plt.figure(figsize=(16, 5))\n",
        "sns.kdeplot(data=data[0]);"
      ],
      "metadata": {
        "id": "BaGC-WSMijYy"
      },
      "execution_count": null,
      "outputs": []
    },
    {
      "cell_type": "code",
      "source": [
        "data['Age Sqrt'] = np.sqrt(data[0])\n",
        "data"
      ],
      "metadata": {
        "id": "HMpd0LGKilF8"
      },
      "execution_count": null,
      "outputs": []
    },
    {
      "cell_type": "code",
      "source": [
        "data['Heart_rate_age'] = data[14] / data[0]\n",
        "data"
      ],
      "metadata": {
        "id": "J2S4h-giimwv"
      },
      "execution_count": null,
      "outputs": []
    },
    {
      "cell_type": "code",
      "source": [
        "x_data = data.drop([279], axis=1)\n",
        "y_data = data[279]\n",
        "\n",
        "x_train, x_test, y_train, y_test = train_test_split(x_data, y_data, test_size=0.2, random_state=7)"
      ],
      "metadata": {
        "id": "fncrsek_io-x"
      },
      "execution_count": null,
      "outputs": []
    },
    {
      "cell_type": "code",
      "source": [
        "model = xgb.XGBClassifier()\n",
        "\n",
        "model.fit(x_train, y_train)\n",
        "y_predict = model.predict(x_test)"
      ],
      "metadata": {
        "id": "kUSIuFQtirPN"
      },
      "execution_count": null,
      "outputs": []
    },
    {
      "cell_type": "code",
      "source": [
        "def evaluate_results(y_test, y_predict):\n",
        "    print('Classification results:')\n",
        "    f1 = f1_score(y_test, y_predict)\n",
        "    print(\"f1: %.2f%%\" % (f1 * 100.0))\n",
        "    roc = roc_auc_score(y_test, y_predict)\n",
        "    print(\"roc: %.2f%%\" % (roc * 100.0))\n",
        "    rec = recall_score(y_test, y_predict, average='binary')\n",
        "    print(\"recall: %.2f%%\" % (rec * 100.0))\n",
        "    prc = precision_score(y_test, y_predict, average='binary')\n",
        "    print(\"precision: %.2f%%\" % (prc * 100.0))\n",
        "    return f1, roc, rec, prc"
      ],
      "metadata": {
        "id": "gRdvitZOiteX"
      },
      "execution_count": null,
      "outputs": []
    },
    {
      "cell_type": "code",
      "source": [
        "f1, roc, rec, prc = evaluate_results(y_test, y_predict)\n",
        "\n",
        "score = []\n",
        "score.append([f1, prc, rec, roc])"
      ],
      "metadata": {
        "id": "r8TKiTAbiwGs"
      },
      "execution_count": null,
      "outputs": []
    },
    {
      "cell_type": "markdown",
      "source": [
        "разобраться с SHAP и построить важности признаков для:\n",
        "\n",
        "- всего тестового набора данных (summary_plot - дать интерпретацию)\n",
        "\n",
        "- для топ 10%\n",
        "\n",
        "- для отдельных наблюдений вывести force_plot и попытаться проинтерпретировать результат"
      ],
      "metadata": {
        "id": "4JDenTtdi3Eg"
      }
    },
    {
      "cell_type": "code",
      "source": [
        "# explain the model's predictions using SHAP\n",
        "# (same syntax works for LightGBM, CatBoost, scikit-learn and spark models)\n",
        "explainer = shap.TreeExplainer(model)\n",
        "shap_values = explainer.shap_values(x_train)\n",
        "\n",
        "# visualize the first prediction's explanation (use matplotlib=True to avoid Javascript)\n",
        "shap.force_plot(explainer.expected_value, shap_values[0,:], x_train.iloc[0,:])"
      ],
      "metadata": {
        "id": "etnC01Sfi8rI"
      },
      "execution_count": null,
      "outputs": []
    },
    {
      "cell_type": "code",
      "source": [
        "# summarize the effects of all the features\n",
        "shap.summary_plot(shap_values, x_train, max_display=83)"
      ],
      "metadata": {
        "id": "D-D6QGTCi_ov"
      },
      "execution_count": null,
      "outputs": []
    },
    {
      "cell_type": "markdown",
      "source": [
        "Интерпретация summary_plot\n",
        "\n",
        "индекс массы тела bmi показывает что его превышение увеличивает риск нарушений работы сердца. А его уменьшение, не снижает, а просто оставляет в районе нуля.\n",
        "\n",
        "14-й признак (пульс) - увеличение пульса увеличивает риск нарушений работы сердца\n",
        "\n",
        "heart_rate_age - отношение пульса к возрасту показывает, что повышенное или пониженное отношение понижает риски.\n",
        "\n",
        "признак 3 (вес) ясно показывает что повышенный вес повышает, а пониженый - снижает риск."
      ],
      "metadata": {
        "id": "VgabetV4jE7p"
      }
    },
    {
      "cell_type": "code",
      "source": [
        "#  средние значения SHAP для каждого признака\n",
        "shap.summary_plot(shap_values, x_train, plot_type=\"bar\")"
      ],
      "metadata": {
        "id": "sTtkYD7ejNKD"
      },
      "execution_count": null,
      "outputs": []
    },
    {
      "cell_type": "code",
      "source": [
        "# visualize the first prediction's explanation (use matplotlib=True to avoid Javascript)\n",
        "shap.force_plot(explainer.expected_value, shap_values[196,:], x_train.iloc[196,:], matplotlib=True)"
      ],
      "metadata": {
        "id": "dW28VBRjjPg9"
      },
      "execution_count": null,
      "outputs": []
    },
    {
      "cell_type": "code",
      "source": [
        "# visualize the first prediction's explanation (use matplotlib=True to avoid Javascript)\n",
        "shap.force_plot(explainer.expected_value, shap_values[176,:], x_train.iloc[176,:], matplotlib=True)"
      ],
      "metadata": {
        "id": "OgDe3wumjS9h"
      },
      "execution_count": null,
      "outputs": []
    },
    {
      "cell_type": "code",
      "source": [
        "# visualize the first prediction's explanation (use matplotlib=True to avoid Javascript)\n",
        "shap.force_plot(explainer.expected_value, shap_values[25,:], x_train.iloc[25,:], matplotlib=True)"
      ],
      "metadata": {
        "id": "aQB6KK8ejV04"
      },
      "execution_count": null,
      "outputs": []
    },
    {
      "cell_type": "code",
      "source": [
        "shap.force_plot(explainer.expected_value, shap_values[20,:], x_train.iloc[20,:], matplotlib=True)"
      ],
      "metadata": {
        "id": "x84SuRLojYFo"
      },
      "execution_count": null,
      "outputs": []
    },
    {
      "cell_type": "code",
      "source": [
        "# summary_plot для топ 10%\n",
        "shap.summary_plot(shap_values, x_train, max_display=10)"
      ],
      "metadata": {
        "id": "oiSKEJI3jaaQ"
      },
      "execution_count": null,
      "outputs": []
    },
    {
      "cell_type": "code",
      "source": [
        "# summary_plot для топ 10% в виде баров\n",
        "shap.summary_plot(shap_values, x_train, plot_type=\"bar\", max_display=10)"
      ],
      "metadata": {
        "id": "R9LSWNZAjcgg"
      },
      "execution_count": null,
      "outputs": []
    }
  ]
}