{
  "nbformat": 4,
  "nbformat_minor": 0,
  "metadata": {
    "colab": {
      "name": "Untitled0.ipynb",
      "provenance": [],
      "authorship_tag": "ABX9TyMWVZEcWcXU7cI9qJRFY3vo",
      "include_colab_link": true
    },
    "kernelspec": {
      "name": "python3",
      "display_name": "Python 3"
    },
    "language_info": {
      "name": "python"
    }
  },
  "cells": [
    {
      "cell_type": "markdown",
      "metadata": {
        "id": "view-in-github",
        "colab_type": "text"
      },
      "source": [
        "<a href=\"https://colab.research.google.com/github/coldbilberry/repo-gui/blob/main/Untitled10.ipynb\" target=\"_parent\"><img src=\"https://colab.research.google.com/assets/colab-badge.svg\" alt=\"Open In Colab\"/></a>"
      ]
    },
    {
      "cell_type": "code",
      "metadata": {
        "id": "QqH31heddMM7"
      },
      "source": [
        "import numpy as np\n",
        "import matplotlib.pyplot as plt\n",
        "import matplotlib.mlab as mlab\n",
        "\n",
        "for i in range (0,3):\n",
        "    a = input()\n",
        "    x = int(np.random.uniform(0,36))\n",
        "    print (x)\n",
        "\n"
      ],
      "execution_count": null,
      "outputs": []
    },
    {
      "cell_type": "code",
      "metadata": {
        "id": "K5Je9W090ykk"
      },
      "source": [
        "import numpy as np, math\n",
        "\n",
        "\n",
        "# 1) Дополните код Монте-Карло последовательности независимых испытаний      расчетом соответствующих вероятностей (через биномиальное распределение)  и сравните результаты.\n",
        "def Monte_Karlo(kk,n):\n",
        "    # k,n = 0, 5000\n",
        "    k=0\n",
        "    a = np.random.randint(0,2 ,n)\n",
        "    b = np.random.randint(0,2 ,n)\n",
        "    c = np.random.randint(0,2 ,n)\n",
        "    d = np.random.randint(0,2 ,n)\n",
        "    x = a + b + c + d\n",
        "\n",
        "    for i in range(0,n):\n",
        "        if x[i] == kk:   #оценивается вероятность равного выпадения орлов и решек на ЧЕТЫРЕХ испытаниях, т.е. 2 раза Орел и 2 раза Решка\n",
        "            k = k + 1\n",
        "    print (\"Вероятность по Монте-Карло:\", k, n, k/n)\n",
        "\n",
        "def Bernulli(n,k):\n",
        "    C_n_k = math.factorial(n)/(math.factorial(k)*math.factorial(n-k))\n",
        "    P_n_k = C_n_k * 1/2**n\n",
        "    print(\"Вероятность по Бернулли:\", P_n_k)\n",
        "    return P_n_k\n",
        "#1\n",
        "print(\"Задание 1:\")\n",
        "Monte_Karlo(2,5000)\n",
        "Bernulli(4,2)\n",
        "\n",
        "#2 Повторите расчеты биномиальных коэффициентов и вероятностей k успехов в         последовательности из n независимых испытаний, взяв другие значения n и k.\n",
        "print(\"Задание 2:\")\n",
        "Bernulli(5,3)"
      ],
      "execution_count": null,
      "outputs": []
    },
    {
      "cell_type": "code",
      "metadata": {
        "id": "bzIq1qdP0dge"
      },
      "source": [
        "import numpy as np\n",
        "import matplotlib.pyplot as plt\n",
        "\n",
        "x = []      #список выборок\n",
        "sum = []    #список сумм элементов каждой выборки\n",
        "for i in range (0,10):\n",
        "    sum.append(0)\n",
        "    x.append(np.random.rand(32))  #np.random.rand(0,9,100) для целых\n",
        "    # x.append(np.random.randint(0, 9, 10))\n",
        "    # sum_i = x[i].sum()\n",
        "    # sum[i] = sum[i] + sum_i\n",
        "print(x)\n",
        "sum = x[0]+x[1]+x[2]+x[3]+x[4]+x[5]+x[6]+x[7]+x[8]+x[9]\n",
        "print (sum)\n",
        "\n",
        "num_bins = 7\n",
        "n, bins, patches = plt.hist(sum, num_bins)\n",
        "plt.xlabel('sum')\n",
        "plt.ylabel('Probability')\n",
        "plt.title('Histogram')\n",
        "plt.show()"
      ],
      "execution_count": null,
      "outputs": []
    }
  ]
}