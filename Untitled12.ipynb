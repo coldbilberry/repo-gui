{
  "nbformat": 4,
  "nbformat_minor": 0,
  "metadata": {
    "colab": {
      "name": "Untitled0.ipynb",
      "provenance": [],
      "authorship_tag": "ABX9TyOIdqYycnRaSt5FAktdAo28",
      "include_colab_link": true
    },
    "kernelspec": {
      "name": "python3",
      "display_name": "Python 3"
    },
    "language_info": {
      "name": "python"
    }
  },
  "cells": [
    {
      "cell_type": "markdown",
      "metadata": {
        "id": "view-in-github",
        "colab_type": "text"
      },
      "source": [
        "<a href=\"https://colab.research.google.com/github/coldbilberry/repo-gui/blob/main/Untitled12.ipynb\" target=\"_parent\"><img src=\"https://colab.research.google.com/assets/colab-badge.svg\" alt=\"Open In Colab\"/></a>"
      ]
    },
    {
      "cell_type": "code",
      "metadata": {
        "colab": {
          "base_uri": "https://localhost:8080/",
          "height": 435
        },
        "id": "QqH31heddMM7",
        "outputId": "8dc1725e-01fd-44ed-f0cb-d0214f25e965"
      },
      "source": [
        "import numpy as np\n",
        "import matplotlib.pyplot as plt\n",
        "\n",
        "# ​ Дополните код расчетом коэффициента корреляции ​ x ​ и ​ y ​ по формуле\n",
        "\n",
        "n = 100\n",
        "r = 0.77\n",
        "x = np.random.rand(n)\n",
        "y = r*x + (1 - r)*np.random.rand(n)\n",
        "plt.plot(x,y,'o')\n",
        "plt.xlabel('x')\n",
        "plt.ylabel('y')\n",
        "plt.grid(True)\n",
        "\n",
        "a = (np.sum(x)*np.sum(y) - n*np.sum(x*y))/(np.sum(x)*np.sum(x) - n*np.sum(x*x))\n",
        "b = (np.sum(y) - a*np.sum(x))/n\n",
        "\n",
        "A = np.vstack([x, np.ones(len(x))]).T\n",
        "a1, b1 = np.linalg.lstsq(A, y)[0]\n",
        "print(\"a, b через МНК для линейной регрессии:\",a,b)\n",
        "print(\"a, b через встроенную библиотеку:\",a1, b1)\n",
        "c = np.corrcoef(x, y)\n",
        "print(\"Коэф корреляции через встроенную библиотеку:\", c)\n",
        "\n",
        "# ​ Дополните код расчетом коэффициента корреляции ​ x ​ и ​ y ​ по формуле\n",
        "# найдем средние значения\n",
        "x_avg = np.average(x)\n",
        "y_avg = np.average(y)\n",
        "print(\"x, y средние:\",x_avg, y_avg)\n",
        "R = np.sum((x - x_avg)*(y - y_avg)) / (np.sum((x-x_avg)**2)*(np.sum((y-y_avg)**2)))**0.5\n",
        "print(\"Коэф корреляции по формуле:\", R)\n",
        "plt.plot([0, 1], [b, a + b])\n",
        "plt.show()\n",
        "\n"
      ],
      "execution_count": 8,
      "outputs": [
        {
          "output_type": "stream",
          "name": "stdout",
          "text": [
            "a, b через МНК для линейной регрессии: 0.7710390520357767 0.1260021872157759\n",
            "a, b через встроенную библиотеку: 0.7710390520357755 0.1260021872157764\n",
            "Коэф корреляции через встроенную библиотеку: [[1.         0.95412942]\n",
            " [0.95412942 1.        ]]\n",
            "x, y средние: 0.5326075841190756 0.5366634339820131\n",
            "Коэф корреляции по формуле: 0.9541294205469492\n"
          ]
        },
        {
          "output_type": "stream",
          "name": "stderr",
          "text": [
            "/usr/local/lib/python3.7/dist-packages/ipykernel_launcher.py:19: FutureWarning: `rcond` parameter will change to the default of machine precision times ``max(M, N)`` where M and N are the input matrix dimensions.\n",
            "To use the future default and silence this warning we advise to pass `rcond=None`, to keep using the old, explicitly pass `rcond=-1`.\n"
          ]
        },
        {
          "output_type": "display_data",
          "data": {
            "image/png": "[encoded data removed]",
            "text/plain": [
              "<Figure size 432x288 with 1 Axes>"
            ]
          },
          "metadata": {
            "needs_background": "light"
          }
        }
      ]
    }
  ]
}