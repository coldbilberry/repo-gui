{
  "nbformat": 4,
  "nbformat_minor": 0,
  "metadata": {
    "colab": {
      "name": "Untitled0.ipynb",
      "provenance": [],
      "authorship_tag": "ABX9TyMf641VXN2k4Xw7xFyRtm/o",
      "include_colab_link": true
    },
    "kernelspec": {
      "name": "python3",
      "display_name": "Python 3"
    },
    "language_info": {
      "name": "python"
    }
  },
  "cells": [
    {
      "cell_type": "markdown",
      "metadata": {
        "id": "view-in-github",
        "colab_type": "text"
      },
      "source": [
        "<a href=\"https://colab.research.google.com/github/coldbilberry/repo-gui/blob/main/Untitled7.ipynb\" target=\"_parent\"><img src=\"https://colab.research.google.com/assets/colab-badge.svg\" alt=\"Open In Colab\"/></a>"
      ]
    },
    {
      "cell_type": "code",
      "metadata": {
        "colab": {
          "base_uri": "https://localhost:8080/",
          "height": 500
        },
        "id": "QqH31heddMM7",
        "outputId": "1f0a9c99-6bf2-428d-dbbd-0cdfa3f38a71"
      },
      "source": [
        "import numpy as np\n",
        "import matplotlib.pyplot as plt\n",
        "from scipy.optimize import fsolve\n",
        "\n",
        "def equations(p):\n",
        "    x, y = p\n",
        "    return (y - x**2 + 1, np.exp(x) - x*y +x -1)\n",
        "\n",
        "x = np.linspace(-2,3,201)\n",
        "plt.plot(x,(np.exp(x) +x - 1)/x) #синий\n",
        "plt.plot(x, x**2 - 1)\n",
        "plt.xlabel('x')\n",
        "plt.ylabel('y')\n",
        "plt.ylim(-1.5)\n",
        "plt.grid(True)\n",
        "plt.show()\n",
        "\n",
        "#1\n",
        "xx = -1.5\n",
        "yy = 1.5\n",
        "print(\"Решение с точкой приближения: (\",xx,\";\",yy,\")\")\n",
        "x1, y1 = fsolve(equations,(xx,yy))\n",
        "print (\"x1=\",x1,\"; y1=\",y1)\n",
        "#2\n",
        "xx = 2.5\n",
        "yy = 5.5\n",
        "print(\"Решение с точкой приближения: (\",xx,\";\",yy,\")\")\n",
        "x2, y2 = fsolve(equations,(xx,yy))\n",
        "print (\"x2=\",x2,\"; y2=\",y2)\n",
        "print()\n",
        "\n",
        "\n",
        "def ner(x,y):\n",
        "    return np.exp(x)+x*(1-y)-1\n",
        "print (\"Выше мы нашли корни системы уравнений. Проверим найденные корни, подставив их в систему с уравнением и неравенством.\")\n",
        "print(\"y = x**2 – 1\")\n",
        "print (\"exp(x) + x∙(1 – y) -1 > 0\")\n",
        "print(\"Решением системы будут корни, при котором выполняется неравенство (>0 ). Подставим и посчитаем:\")\n",
        "print(\"x1,y1:\",ner(x1,y1))\n",
        "print(\"x2,y2:\",ner(x2,y2))\n",
        "\n"
      ],
      "execution_count": 17,
      "outputs": [
        {
          "output_type": "stream",
          "name": "stderr",
          "text": [
            "/usr/local/lib/python3.7/dist-packages/ipykernel_launcher.py:10: RuntimeWarning: invalid value encountered in true_divide\n",
            "  # Remove the CWD from sys.path while we load stuff.\n"
          ]
        },
        {
          "output_type": "display_data",
          "data": {
            "image/png": "[encoded data removed]",
            "text/plain": [
              "<Figure size 432x288 with 1 Axes>"
            ]
          },
          "metadata": {
            "needs_background": "light"
          }
        },
        {
          "output_type": "stream",
          "name": "stdout",
          "text": [
            "Решение с точкой приближения: ( -1.5 ; 1.5 )\n",
            "x1= -1.5818353528795808 ; y1= 1.5022030836160143\n",
            "Решение с точкой приближения: ( 2.5 ; 5.5 )\n",
            "x2= 2.6181455730846337 ; y2= 5.85468624186152\n",
            "\n",
            "Выше мы нашли корни системы уравнений. Проверим найденные корни, подставив их в систему с уравнением и неравенством.\n",
            "y = x**2 – 1\n",
            "exp(x) + x∙(1 – y) -1 > 0\n",
            "Решением системы будут корни, при котором выполняется неравенство (>0 ). Подставим и посчитаем:\n",
            "x1,y1: -9.227862918237406e-11\n",
            "x2,y2: 6.977529665164184e-12\n"
          ]
        }
      ]
    }
  ]
}