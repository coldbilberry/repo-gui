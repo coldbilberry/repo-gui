{
  "nbformat": 4,
  "nbformat_minor": 0,
  "metadata": {
    "colab": {
      "provenance": [],
      "authorship_tag": "ABX9TyMcenX2cPglS5h6NVTOf3Kl",
      "include_colab_link": true
    },
    "kernelspec": {
      "name": "python3",
      "display_name": "Python 3"
    },
    "language_info": {
      "name": "python"
    }
  },
  "cells": [
    {
      "cell_type": "markdown",
      "metadata": {
        "id": "view-in-github",
        "colab_type": "text"
      },
      "source": [
        "<a href=\"https://colab.research.google.com/github/coldbilberry/repo-gui/blob/main/%D0%91%D0%B8%D0%B1%D0%BB%D0%B8%D0%BE%D1%82%D0%B5%D0%BA%D0%B8_Python_%D0%B4%D0%BB%D1%8F_Data_Science_Numpy%2C_Matplotlib%2C_Scikit_learn.ipynb\" target=\"_parent\"><img src=\"https://colab.research.google.com/assets/colab-badge.svg\" alt=\"Open In Colab\"/></a>"
      ]
    },
    {
      "cell_type": "code",
      "execution_count": 1,
      "metadata": {
        "id": "mIn3xmfsfmDE"
      },
      "outputs": [],
      "source": [
        "import numpy as np\n",
        "import pandas as pd\n",
        "import random\n",
        "\n",
        "from sklearn.model_selection import train_test_split, cross_val_score\n",
        "from sklearn.preprocessing import StandardScaler, MinMaxScaler\n",
        "from sklearn.ensemble import RandomForestRegressor\n",
        "from sklearn.metrics import r2_score as r2\n",
        "from sklearn.model_selection import KFold, GridSearchCV\n",
        "\n",
        "import matplotlib\n",
        "import matplotlib.pyplot as plt\n",
        "import seaborn as sns\n",
        "%matplotlib inline"
      ]
    },
    {
      "cell_type": "code",
      "source": [
        "import warnings\n",
        "warnings.filterwarnings('ignore')"
      ],
      "metadata": {
        "id": "Lz3aZRRL_BzM"
      },
      "execution_count": 2,
      "outputs": []
    },
    {
      "cell_type": "code",
      "source": [
        "matplotlib.rcParams.update({'font.size': 14})"
      ],
      "metadata": {
        "id": "lCq4g9T7_FEN"
      },
      "execution_count": 3,
      "outputs": []
    },
    {
      "cell_type": "code",
      "source": [
        "TRAIN_DATASET_PATH = 'C:/АННА/Data Sience/Библиотеки Python/Проект/train.csv'\n",
        "TEST_DATASET_PATH = 'C:/АННА/Data Sience/Библиотеки Python/Проект/test.csv'"
      ],
      "metadata": {
        "id": "e2aJPKCT_F6e"
      },
      "execution_count": null,
      "outputs": []
    },
    {
      "cell_type": "markdown",
      "source": [
        "1. Постановка задачи\n",
        "\n",
        "Цель - оценивать стоимость квартиры\n",
        "\n",
        "2. Получение данных\n",
        "\n",
        "Статистические данные о ряде квартир в России. Описание датасета\n",
        "\n",
        "Id - идентификационный номер квартиры\n",
        "\n",
        "DistrictId - идентификационный номер района\n",
        "\n",
        "Rooms - количество комнат\n",
        "\n",
        "Square - площадь\n",
        "\n",
        "LifeSquare - жилая площадь\n",
        "\n",
        "KitchenSquare - площадь кухни\n",
        "\n",
        "Floor - этаж\n",
        "\n",
        "HouseFloor - количество этажей в доме\n",
        "\n",
        "HouseYear - год постройки дома\n",
        "\n",
        "Ecology_1, Ecology_2, Ecology_3 - экологические показатели местности\n",
        "\n",
        "Social_1, Social_2, Social_3 - социальные показатели местности\n",
        "\n",
        "Healthcare_1, Helthcare_2 - показатели местности, связанные с охраной здоровья\n",
        "\n",
        "Shops_1, Shops_2 - показатели, связанные с наличием магазинов, торговых центров\n",
        "\n",
        "Price - цена квартиры"
      ],
      "metadata": {
        "id": "mOoSoUkA_cK3"
      }
    },
    {
      "cell_type": "markdown",
      "source": [
        "3. Анализ данных"
      ],
      "metadata": {
        "id": "cWMWj_sS_ybj"
      }
    },
    {
      "cell_type": "code",
      "source": [
        "def reduce_mem_usage(df):\n",
        "    \"\"\" iterate through all the columns of a dataframe and modify the data type\n",
        "        to reduce memory usage.\n",
        "    \"\"\"\n",
        "    start_mem = df.memory_usage().sum() / 1024**2\n",
        "    print('Memory usage of dataframe is {:.2f} MB'.format(start_mem))\n",
        "\n",
        "    for col in df.columns:\n",
        "        col_type = df[col].dtype\n",
        "\n",
        "        if col_type != object:\n",
        "            c_min = df[col].min()\n",
        "            c_max = df[col].max()\n",
        "            if str(col_type)[:3] == 'int':\n",
        "                if c_min > np.iinfo(np.int8).min and c_max < np.iinfo(np.int8).max:\n",
        "                    df[col] = df[col].astype(np.int8)\n",
        "                elif c_min > np.iinfo(np.int16).min and c_max < np.iinfo(np.int16).max:\n",
        "                    df[col] = df[col].astype(np.int16)\n",
        "                elif c_min > np.iinfo(np.int32).min and c_max < np.iinfo(np.int32).max:\n",
        "                    df[col] = df[col].astype(np.int32)\n",
        "                elif c_min > np.iinfo(np.int64).min and c_max < np.iinfo(np.int64).max:\n",
        "                    df[col] = df[col].astype(np.int64)\n",
        "            else:\n",
        "                if c_min > np.finfo(np.float32).min and c_max < np.finfo(np.float32).max:\n",
        "                    df[col] = df[col].astype(np.float32)\n",
        "                else:\n",
        "                    df[col] = df[col].astype(np.float64)\n",
        "        else:\n",
        "            df[col] = df[col].astype('category')\n",
        "\n",
        "    end_mem = df.memory_usage().sum() / 1024**2\n",
        "    print('Memory usage after optimization is: {:.2f} MB'.format(end_mem))\n",
        "    print('Decreased by {:.1f}%'.format(100 * (start_mem - end_mem) / start_mem))\n",
        "\n",
        "    return df"
      ],
      "metadata": {
        "id": "7t03Ji5i_urv"
      },
      "execution_count": 4,
      "outputs": []
    },
    {
      "cell_type": "code",
      "source": [
        "df = pd.read_csv(TRAIN_DATASET_PATH, sep=',')"
      ],
      "metadata": {
        "collapsed": true,
        "id": "BwulBRyi_5IY"
      },
      "execution_count": null,
      "outputs": []
    },
    {
      "cell_type": "code",
      "source": [
        "df.head()"
      ],
      "metadata": {
        "id": "uyBzmQEb_6wz"
      },
      "execution_count": null,
      "outputs": []
    },
    {
      "cell_type": "code",
      "source": [
        "df.shape"
      ],
      "metadata": {
        "id": "Gl3I-14F_-Pz"
      },
      "execution_count": null,
      "outputs": []
    },
    {
      "cell_type": "code",
      "source": [
        "df.columns"
      ],
      "metadata": {
        "id": "dVuqaun6_-5A"
      },
      "execution_count": null,
      "outputs": []
    },
    {
      "cell_type": "markdown",
      "source": [
        "4. Визуализация данных"
      ],
      "metadata": {
        "id": "mcg_sNtbACXk"
      }
    },
    {
      "cell_type": "code",
      "source": [
        "df.head(4)"
      ],
      "metadata": {
        "id": "-9dAsStVADAv"
      },
      "execution_count": null,
      "outputs": []
    },
    {
      "cell_type": "code",
      "source": [
        "df.tail(2)"
      ],
      "metadata": {
        "id": "1RGB9ncHAGgj"
      },
      "execution_count": null,
      "outputs": []
    },
    {
      "cell_type": "code",
      "source": [
        "df.sample(10)"
      ],
      "metadata": {
        "id": "eNvMLgoOAIsq"
      },
      "execution_count": null,
      "outputs": []
    },
    {
      "cell_type": "code",
      "source": [
        "df[df['Rooms'] == 0].sample(8) # 0 комнат у 8-ми квартир"
      ],
      "metadata": {
        "id": "3SoNJEILALLu"
      },
      "execution_count": null,
      "outputs": []
    },
    {
      "cell_type": "code",
      "source": [
        "df[df['Price'] > 0].agg([np.min, np.mean, np.max])"
      ],
      "metadata": {
        "id": "OpQxJxGzANeo"
      },
      "execution_count": null,
      "outputs": []
    },
    {
      "cell_type": "code",
      "source": [
        "df[(df['HouseFloor'] < 5) & (df['Floor'] > 5)].head() # этажность дома меньше, чем этаж квартиры"
      ],
      "metadata": {
        "id": "lCJFMMdKAQ7E"
      },
      "execution_count": null,
      "outputs": []
    },
    {
      "cell_type": "code",
      "source": [
        "df.dtypes"
      ],
      "metadata": {
        "id": "VBZutJ31AS3H"
      },
      "execution_count": null,
      "outputs": []
    },
    {
      "cell_type": "code",
      "source": [
        "df.info(memory_usage='deep')"
      ],
      "metadata": {
        "id": "4G8Rjkw_AU33"
      },
      "execution_count": null,
      "outputs": []
    },
    {
      "cell_type": "code",
      "source": [
        "df.describe()"
      ],
      "metadata": {
        "id": "TR0LspZSAW84"
      },
      "execution_count": null,
      "outputs": []
    },
    {
      "cell_type": "markdown",
      "source": [
        "5. Разбиение данных на train и valid\n",
        "\n",
        "1 Разделение на target и feature датасеты"
      ],
      "metadata": {
        "id": "9HuYKCgiAaUz"
      }
    },
    {
      "cell_type": "code",
      "source": [
        "df.columns.tolist()"
      ],
      "metadata": {
        "id": "NpiIeI1DAhTO"
      },
      "execution_count": null,
      "outputs": []
    },
    {
      "cell_type": "code",
      "source": [
        "target = 'Price'"
      ],
      "metadata": {
        "id": "34cnEJm7gmRu"
      },
      "execution_count": null,
      "outputs": []
    },
    {
      "cell_type": "code",
      "source": [
        "feature_names = ['Id','DistrictId','Rooms','Square','LifeSquare','KitchenSquare','Floor','HouseFloor','HouseYear','Ecology_1',\n",
        "                 'Ecology_2','Ecology_3','Social_1','Social_2','Social_3','Healthcare_1','Helthcare_2','Shops_1','Shops_2']"
      ],
      "metadata": {
        "id": "aoWCqHECgow_"
      },
      "execution_count": null,
      "outputs": []
    },
    {
      "cell_type": "code",
      "source": [
        "X = pd.DataFrame(df, columns=feature_names)\n",
        "X.head()"
      ],
      "metadata": {
        "id": "V-eTOjzrgzPD"
      },
      "execution_count": null,
      "outputs": []
    },
    {
      "cell_type": "code",
      "source": [
        "y = pd.DataFrame(df, columns=['Price'])\n",
        "y.head()"
      ],
      "metadata": {
        "id": "MEgN3w16g28B"
      },
      "execution_count": null,
      "outputs": []
    },
    {
      "cell_type": "markdown",
      "source": [
        "2 Разделение на тренировочный и тестовый датасеты"
      ],
      "metadata": {
        "id": "Xg6DpnE1g56d"
      }
    },
    {
      "cell_type": "code",
      "source": [
        "from sklearn.model_selection import train_test_split"
      ],
      "metadata": {
        "id": "GDMjQYkPg7_U"
      },
      "execution_count": null,
      "outputs": []
    },
    {
      "cell_type": "code",
      "source": [
        "X_train, X_valid, y_train, y_valid = train_test_split(X, y, test_size=0.25, random_state=42)"
      ],
      "metadata": {
        "id": "aIFbD5kPg-BI"
      },
      "execution_count": null,
      "outputs": []
    },
    {
      "cell_type": "markdown",
      "source": [
        "3 Тестовый датасет"
      ],
      "metadata": {
        "id": "O37x7DF7hCMS"
      }
    },
    {
      "cell_type": "code",
      "source": [
        "test_df = pd.read_csv(TEST_DATASET_PATH, sep=',')"
      ],
      "metadata": {
        "id": "65DC9qg-hAI9"
      },
      "execution_count": null,
      "outputs": []
    },
    {
      "cell_type": "code",
      "source": [
        "test_df.head()"
      ],
      "metadata": {
        "id": "y2rX5c2UhG31"
      },
      "execution_count": null,
      "outputs": []
    },
    {
      "cell_type": "markdown",
      "source": [
        "6. Переработка данных"
      ],
      "metadata": {
        "id": "fwRVyrSShKTU"
      }
    },
    {
      "cell_type": "markdown",
      "source": [
        "1 Обработка нулевых значений и NaN."
      ],
      "metadata": {
        "id": "cvct9ndNhOEa"
      }
    },
    {
      "cell_type": "markdown",
      "source": [
        "1.1 Пропуски"
      ],
      "metadata": {
        "id": "Jl9-am7NhPth"
      }
    },
    {
      "cell_type": "code",
      "source": [
        "df.isna().sum()"
      ],
      "metadata": {
        "id": "JfXGnipthJVJ"
      },
      "execution_count": null,
      "outputs": []
    },
    {
      "cell_type": "markdown",
      "source": [
        "1.1.1 LifeSquare_nan"
      ],
      "metadata": {
        "id": "7HwHDs4DhYEX"
      }
    },
    {
      "cell_type": "code",
      "source": [
        "X_train['LifeSquare_nan'] = 0\n",
        "X_valid['LifeSquare_nan'] = 0\n",
        "test_df['LifeSquare_nan'] = 0\n",
        "X_train"
      ],
      "metadata": {
        "id": "M46B3TDihZWd"
      },
      "execution_count": null,
      "outputs": []
    },
    {
      "cell_type": "code",
      "source": [
        "X_train.loc[X_train['LifeSquare'].isna(), 'LifeSquare_nan']\n",
        "X_valid.loc[X_valid['LifeSquare'].isna(), 'LifeSquare_nan']\n",
        "test_df.loc[test_df['LifeSquare'].isna(), 'LifeSquare_nan']"
      ],
      "metadata": {
        "id": "P-52uUlAhdO4"
      },
      "execution_count": null,
      "outputs": []
    },
    {
      "cell_type": "code",
      "source": [
        "X_train.loc[X_train['LifeSquare'].isna(), 'LifeSquare_nan'] = 1\n",
        "X_valid.loc[X_valid['LifeSquare'].isna(), 'LifeSquare_nan'] = 1\n",
        "test_df.loc[test_df['LifeSquare'].isna(), 'LifeSquare_nan'] = 1"
      ],
      "metadata": {
        "id": "G4bUyNCShgO6"
      },
      "execution_count": null,
      "outputs": []
    },
    {
      "cell_type": "code",
      "source": [
        "X_valid[X_valid['LifeSquare_nan'] == 1]"
      ],
      "metadata": {
        "id": "cr3_zRbPhiYi"
      },
      "execution_count": null,
      "outputs": []
    },
    {
      "cell_type": "code",
      "source": [
        "# проверка метода fillna (заполнить пропуски)\n",
        "median = X_train['LifeSquare'].median()\n",
        "X_train['LifeSquare'].fillna(median).isna().sum()\n",
        "X_valid['LifeSquare'].fillna(median).isna().sum()\n",
        "test_df['LifeSquare'].fillna(median).isna().sum()"
      ],
      "metadata": {
        "id": "N8nEDStzhlAg"
      },
      "execution_count": null,
      "outputs": []
    },
    {
      "cell_type": "code",
      "source": [
        "X_train['LifeSquare'].isna().sum()"
      ],
      "metadata": {
        "id": "aKd5BFcVhm23"
      },
      "execution_count": null,
      "outputs": []
    },
    {
      "cell_type": "code",
      "source": [
        "# заполняем медианой\n",
        "X_train['LifeSquare'] = X_train['LifeSquare'].fillna(median)\n",
        "X_valid['LifeSquare'] = X_valid['LifeSquare'].fillna(median)\n",
        "test_df['LifeSquare'] = test_df['LifeSquare'].fillna(median)"
      ],
      "metadata": {
        "id": "b_LYoriahpR9"
      },
      "execution_count": null,
      "outputs": []
    },
    {
      "cell_type": "code",
      "source": [
        "X_train.isna().sum()"
      ],
      "metadata": {
        "id": "aUU-MP3hhrEy"
      },
      "execution_count": null,
      "outputs": []
    },
    {
      "cell_type": "markdown",
      "source": [
        "1.1.2 Healthcare_1_nan"
      ],
      "metadata": {
        "id": "a1_5owd-pDR5"
      }
    },
    {
      "cell_type": "code",
      "source": [
        "X_train['Healthcare_1_nan'] = 0\n",
        "X_valid['Healthcare_1_nan'] = 0\n",
        "test_df['Healthcare_1_nan'] = 0\n",
        "X_train"
      ],
      "metadata": {
        "id": "8ITYpuC5pGPx"
      },
      "execution_count": null,
      "outputs": []
    },
    {
      "cell_type": "code",
      "source": [
        "X_train.loc[X_train['Healthcare_1'].isna(), 'Healthcare_1_nan']\n",
        "X_valid.loc[X_valid['Healthcare_1'].isna(), 'Healthcare_1_nan']\n",
        "test_df.loc[test_df['Healthcare_1'].isna(), 'Healthcare_1_nan']"
      ],
      "metadata": {
        "id": "QY7a_zrkpI0p"
      },
      "execution_count": null,
      "outputs": []
    },
    {
      "cell_type": "code",
      "source": [
        "X_train.loc[X_train['Healthcare_1'].isna(), 'Healthcare_1_nan'] = 1\n",
        "X_valid.loc[X_valid['Healthcare_1'].isna(), 'Healthcare_1_nan'] = 1\n",
        "test_df.loc[test_df['Healthcare_1'].isna(), 'Healthcare_1_nan'] = 1"
      ],
      "metadata": {
        "id": "qP15-97dpLbX"
      },
      "execution_count": null,
      "outputs": []
    },
    {
      "cell_type": "code",
      "source": [
        "X_valid[X_valid['Healthcare_1_nan'] == 1]"
      ],
      "metadata": {
        "id": "ot6frE0RpNkA"
      },
      "execution_count": null,
      "outputs": []
    },
    {
      "cell_type": "code",
      "source": [
        "# проверка метода fillna (заполнить пропуски)\n",
        "median = X_train['Healthcare_1'].median()\n",
        "X_train['Healthcare_1'].fillna(median).isna().sum()\n",
        "X_valid['Healthcare_1'].fillna(median).isna().sum()\n",
        "test_df['Healthcare_1'].fillna(median).isna().sum()"
      ],
      "metadata": {
        "id": "SKT9GmeFpP-H"
      },
      "execution_count": null,
      "outputs": []
    },
    {
      "cell_type": "code",
      "source": [
        "X_train['Healthcare_1'].isna().sum()"
      ],
      "metadata": {
        "id": "fqGDZ2pLpSgX"
      },
      "execution_count": null,
      "outputs": []
    },
    {
      "cell_type": "code",
      "source": [
        "X_train['Healthcare_1'] = X_train['Healthcare_1'].fillna(median)\n",
        "X_valid['Healthcare_1'] = X_valid['Healthcare_1'].fillna(median)\n",
        "test_df['Healthcare_1'] = test_df['Healthcare_1'].fillna(median)"
      ],
      "metadata": {
        "id": "ZQ0Y-S83pUFk"
      },
      "execution_count": null,
      "outputs": []
    },
    {
      "cell_type": "code",
      "source": [
        "X_valid.isna().sum()"
      ],
      "metadata": {
        "id": "meVAqq99pWSf"
      },
      "execution_count": null,
      "outputs": []
    },
    {
      "cell_type": "code",
      "source": [
        "X_train = X_train.drop('LifeSquare_nan', axis=1)\n",
        "X_valid = X_valid.drop('LifeSquare_nan', axis=1)\n",
        "test_df = test_df.drop('LifeSquare_nan', axis=1)\n",
        "\n",
        "X_train = X_train.drop('Healthcare_1_nan', axis=1)\n",
        "X_valid = X_valid.drop('Healthcare_1_nan', axis=1)\n",
        "test_df = test_df.drop('Healthcare_1_nan', axis=1)"
      ],
      "metadata": {
        "id": "wOpMs7mQptF3"
      },
      "execution_count": null,
      "outputs": []
    },
    {
      "cell_type": "markdown",
      "source": [
        "1.2 Обработка нулевых значений"
      ],
      "metadata": {
        "id": "wy6BrjQYc_8O"
      }
    },
    {
      "cell_type": "markdown",
      "source": [
        "1.2.1 Rooms"
      ],
      "metadata": {
        "id": "ZkmEpVQRdGa3"
      }
    },
    {
      "cell_type": "code",
      "source": [
        "X_train.loc[X_train['Rooms'] == 0, :]"
      ],
      "metadata": {
        "id": "2GrxEJRLdCEi"
      },
      "execution_count": null,
      "outputs": []
    },
    {
      "cell_type": "code",
      "source": [
        "X_valid.loc[X_valid['Rooms'] == 0, :]"
      ],
      "metadata": {
        "id": "W0cYT0lDdMWP"
      },
      "execution_count": null,
      "outputs": []
    },
    {
      "cell_type": "code",
      "source": [
        "test_df.loc[test_df['Rooms'] == 0, :]"
      ],
      "metadata": {
        "id": "yB3qDmSidPbv"
      },
      "execution_count": null,
      "outputs": []
    },
    {
      "cell_type": "code",
      "source": [
        "X_train['Rooms'] = X_train['Rooms'].replace(0, X_train['Rooms'].median())\n",
        "X_valid['Rooms'] = X_valid['Rooms'].replace(0, X_train['Rooms'].median())\n",
        "test_df['Rooms'] = test_df['Rooms'].replace(0, X_train['Rooms'].median())"
      ],
      "metadata": {
        "id": "CcfKE7MYdRzf"
      },
      "execution_count": null,
      "outputs": []
    },
    {
      "cell_type": "code",
      "source": [
        "X_train.loc[X_train['Rooms'] == 0, :]"
      ],
      "metadata": {
        "id": "qXWFCb9jdT1G"
      },
      "execution_count": null,
      "outputs": []
    },
    {
      "cell_type": "code",
      "source": [
        "X_train.loc[X_train['KitchenSquare'] == 0, :]"
      ],
      "metadata": {
        "id": "r4V10uUsdWbA"
      },
      "execution_count": null,
      "outputs": []
    },
    {
      "cell_type": "code",
      "source": [
        "X_valid.loc[X_valid['KitchenSquare'] == 0, :]"
      ],
      "metadata": {
        "id": "XoUsvvOFdY03"
      },
      "execution_count": null,
      "outputs": []
    },
    {
      "cell_type": "code",
      "source": [
        "test_df.loc[test_df['KitchenSquare'] == 0, :]"
      ],
      "metadata": {
        "id": "skfgNp_udbyI"
      },
      "execution_count": null,
      "outputs": []
    },
    {
      "cell_type": "code",
      "source": [
        "X_train['KitchenSquare'] = X_train['KitchenSquare'].replace(0, X_train['KitchenSquare'].median())\n",
        "X_valid['KitchenSquare'] = X_valid['KitchenSquare'].replace(0, X_train['KitchenSquare'].median())\n",
        "test_df['KitchenSquare'] = test_df['KitchenSquare'].replace(0, X_train['KitchenSquare'].median())"
      ],
      "metadata": {
        "id": "X7jLkh1RdecL"
      },
      "execution_count": null,
      "outputs": []
    },
    {
      "cell_type": "code",
      "source": [
        "test_df.loc[test_df['KitchenSquare'] == 0, :]"
      ],
      "metadata": {
        "id": "oixNn6mSdgcI"
      },
      "execution_count": null,
      "outputs": []
    },
    {
      "cell_type": "markdown",
      "source": [
        "1.2.3 HouseFloor"
      ],
      "metadata": {
        "id": "TcCaPKTSdi6C"
      }
    },
    {
      "cell_type": "code",
      "source": [
        "X_train.loc[X_train['HouseFloor'] == 0, :]"
      ],
      "metadata": {
        "id": "ivauImqTdk8M"
      },
      "execution_count": null,
      "outputs": []
    },
    {
      "cell_type": "code",
      "source": [
        "X_valid.loc[X_valid['HouseFloor'] == 0, :]"
      ],
      "metadata": {
        "id": "QRwCL_pxdnFV"
      },
      "execution_count": null,
      "outputs": []
    },
    {
      "cell_type": "code",
      "source": [
        "test_df.loc[test_df['HouseFloor'] == 0, :]"
      ],
      "metadata": {
        "id": "buyaSc17dq60"
      },
      "execution_count": null,
      "outputs": []
    },
    {
      "cell_type": "code",
      "source": [
        "X_train['HouseFloor'] = X_train['HouseFloor'].replace(0, X_train['HouseFloor'].median())\n",
        "X_valid['HouseFloor'] = X_valid['HouseFloor'].replace(0, X_train['HouseFloor'].median())\n",
        "test_df['HouseFloor'] = test_df['HouseFloor'].replace(0, X_train['HouseFloor'].median())"
      ],
      "metadata": {
        "id": "e57oW0o7duaW"
      },
      "execution_count": null,
      "outputs": []
    },
    {
      "cell_type": "code",
      "source": [
        "X_valid.loc[X_valid['HouseFloor'] == 0, :]"
      ],
      "metadata": {
        "id": "25ZCTBNSdww4"
      },
      "execution_count": null,
      "outputs": []
    },
    {
      "cell_type": "markdown",
      "source": [
        "6.2. Обработка выбросов"
      ],
      "metadata": {
        "id": "Z97iYZkedzn_"
      }
    },
    {
      "cell_type": "markdown",
      "source": [
        "6.2.1 Обработка признака Rooms"
      ],
      "metadata": {
        "id": "TQPxSI74d0TO"
      }
    },
    {
      "cell_type": "code",
      "source": [
        "X_train.sort_values(['Rooms','LifeSquare'], ascending=[False, False])\n",
        "X_train.head(10)"
      ],
      "metadata": {
        "id": "4KmzzZU6d2jk"
      },
      "execution_count": null,
      "outputs": []
    },
    {
      "cell_type": "code",
      "source": [
        "X_valid.sort_values(['Rooms','LifeSquare'], ascending=[False, False])\n",
        "X_valid.head(10)"
      ],
      "metadata": {
        "id": "1p_CmYVPf6Tm"
      },
      "execution_count": null,
      "outputs": []
    },
    {
      "cell_type": "code",
      "source": [
        "test_df.sort_values(['Rooms','LifeSquare'], ascending=[False, False])\n",
        "test_df.head(10)"
      ],
      "metadata": {
        "id": "mQxokM9qf7Mg"
      },
      "execution_count": null,
      "outputs": []
    },
    {
      "cell_type": "code",
      "source": [
        "X_train.loc[X_train['Rooms'] > 6, 'Rooms'] = X_train['Rooms'].median()"
      ],
      "metadata": {
        "id": "8fWGlf4qgBYE"
      },
      "execution_count": null,
      "outputs": []
    },
    {
      "cell_type": "code",
      "source": [
        "X_valid.loc[X_valid['Rooms'] > 6, 'Rooms'] = X_train['Rooms'].median()"
      ],
      "metadata": {
        "id": "Ucr4y_OWgDp7"
      },
      "execution_count": null,
      "outputs": []
    },
    {
      "cell_type": "code",
      "source": [
        "test_df.loc[test_df['Rooms'] > 6, 'Rooms'] = X_train['Rooms'].median()"
      ],
      "metadata": {
        "id": "htSDrjdVgFt4"
      },
      "execution_count": null,
      "outputs": []
    },
    {
      "cell_type": "markdown",
      "source": [
        "6.2.3 Обработка признаков Square и LifeSquare"
      ],
      "metadata": {
        "id": "picpHdf4gJtJ"
      }
    },
    {
      "cell_type": "code",
      "source": [
        "X_train.loc[X_train['Square'] < X_train['LifeSquare'], :] # Общая площадь меньше, чем жилая"
      ],
      "metadata": {
        "id": "nSHPqvqJgKYj"
      },
      "execution_count": null,
      "outputs": []
    },
    {
      "cell_type": "code",
      "source": [
        "X_valid.loc[X_valid['Square'] < X_valid['LifeSquare'], :] # Общая площадь меньше, чем жилая"
      ],
      "metadata": {
        "id": "fLf6kbEAgOMh"
      },
      "execution_count": null,
      "outputs": []
    },
    {
      "cell_type": "code",
      "source": [
        "test_df.loc[test_df['Square'] < test_df['LifeSquare'], :] # Общая площадь меньше, чем жилая"
      ],
      "metadata": {
        "id": "R1HP_RK-gRq6"
      },
      "execution_count": null,
      "outputs": []
    },
    {
      "cell_type": "code",
      "source": [
        "# обработка в пункте 7.2.1.6"
      ],
      "metadata": {
        "id": "k4TL6RYtgUZN"
      },
      "execution_count": null,
      "outputs": []
    },
    {
      "cell_type": "code",
      "source": [
        "X_train.loc[X_train['Square'] < X_train['LifeSquare'] + X_train['KitchenSquare'], :] # Сумма жилой площади и кухни больше, чем общая площадь"
      ],
      "metadata": {
        "id": "UbU5mC-_gVEz"
      },
      "execution_count": null,
      "outputs": []
    },
    {
      "cell_type": "code",
      "source": [
        "X_valid.loc[X_valid['Square'] < X_valid['LifeSquare'] + X_valid['KitchenSquare'], :] # Сумма жилой площади и кухни больше, чем общая площадь"
      ],
      "metadata": {
        "id": "hp3byYOzgcQ7"
      },
      "execution_count": null,
      "outputs": []
    },
    {
      "cell_type": "code",
      "source": [
        "test_df.loc[test_df['Square'] < test_df['LifeSquare'] + test_df['KitchenSquare'], :] # Сумма жилой площади и кухни больше, чем общая площадь"
      ],
      "metadata": {
        "id": "i8q5mUmsgdMi"
      },
      "execution_count": null,
      "outputs": []
    },
    {
      "cell_type": "code",
      "source": [
        "# обработка в пункте 7.2.1.7"
      ],
      "metadata": {
        "id": "oX-xbYcTgjcw"
      },
      "execution_count": null,
      "outputs": []
    },
    {
      "cell_type": "markdown",
      "source": [
        "6.2.4 Обработка признака HouseYear"
      ],
      "metadata": {
        "id": "n9Mmx8TggllM"
      }
    },
    {
      "cell_type": "code",
      "source": [
        "X_train.loc[X_train['HouseYear'] > 2020, 'HouseYear'] = X_train['HouseYear'].median()\n",
        "X_valid.loc[X_valid['HouseYear'] > 2020, 'HouseYear'] = X_train['HouseYear'].median()\n",
        "test_df.loc[test_df['HouseYear'] > 2020, 'HouseYear'] = X_train['HouseYear'].median()"
      ],
      "metadata": {
        "id": "nLc1ZLSognZC"
      },
      "execution_count": null,
      "outputs": []
    },
    {
      "cell_type": "markdown",
      "source": [
        "6.3 Обработка дробных чисел"
      ],
      "metadata": {
        "id": "W1RhlW1Jgve1"
      }
    },
    {
      "cell_type": "code",
      "source": [
        "X_train.dtypes"
      ],
      "metadata": {
        "id": "28q6py3Mgx4H"
      },
      "execution_count": null,
      "outputs": []
    },
    {
      "cell_type": "code",
      "source": [
        "X_valid.dtypes"
      ],
      "metadata": {
        "id": "KzKogb-Ag0Qb"
      },
      "execution_count": null,
      "outputs": []
    },
    {
      "cell_type": "code",
      "source": [
        "test_df.dtypes"
      ],
      "metadata": {
        "id": "HD-7Negxg2N6"
      },
      "execution_count": null,
      "outputs": []
    },
    {
      "cell_type": "markdown",
      "source": [
        "6.3.1 Количество комнат - целое число"
      ],
      "metadata": {
        "id": "v0jF12Ung4Zr"
      }
    },
    {
      "cell_type": "code",
      "source": [
        "X_train['Rooms'] = X_train['Rooms'].astype('int16')\n",
        "X_train['Rooms'].dtype"
      ],
      "metadata": {
        "id": "TOIKZNDRg5Et"
      },
      "execution_count": null,
      "outputs": []
    },
    {
      "cell_type": "code",
      "source": [
        "X_valid['Rooms'] = X_valid['Rooms'].astype('int16')\n",
        "X_valid['Rooms'].dtype"
      ],
      "metadata": {
        "id": "WmDbB6Cmg8ba"
      },
      "execution_count": null,
      "outputs": []
    },
    {
      "cell_type": "code",
      "source": [
        "test_df['Rooms'] = test_df['Rooms'].astype('int16')\n",
        "test_df['Rooms'].dtype"
      ],
      "metadata": {
        "id": "Ti90Ov_ag_wM"
      },
      "execution_count": null,
      "outputs": []
    },
    {
      "cell_type": "markdown",
      "source": [
        "6.3.2 Этаж квартиры - целое число"
      ],
      "metadata": {
        "id": "vJPxGdC9hCX2"
      }
    },
    {
      "cell_type": "code",
      "source": [
        "X_train['Floor'] = X_train['Floor'].astype('int16')\n",
        "X_train['Floor'].dtype"
      ],
      "metadata": {
        "id": "diXnnmiPhDOi"
      },
      "execution_count": null,
      "outputs": []
    },
    {
      "cell_type": "code",
      "source": [
        "X_valid['Floor'] = X_valid['Floor'].astype('int16')\n",
        "X_valid['Floor'].dtype"
      ],
      "metadata": {
        "id": "N4g6nhHVhFDO"
      },
      "execution_count": null,
      "outputs": []
    },
    {
      "cell_type": "code",
      "source": [
        "test_df['Floor'] = test_df['Floor'].astype('int16')\n",
        "test_df['Floor'].dtype"
      ],
      "metadata": {
        "id": "vJnx91W7hIJo"
      },
      "execution_count": null,
      "outputs": []
    },
    {
      "cell_type": "markdown",
      "source": [
        "6.3.3 Этажность дома - целое число"
      ],
      "metadata": {
        "id": "FSmAGaM9hMAC"
      }
    },
    {
      "cell_type": "code",
      "source": [
        "X_train['HouseFloor'] = X_train['HouseFloor'].astype('int16')\n",
        "X_train['HouseFloor'].dtype"
      ],
      "metadata": {
        "id": "3y7oCqsIhMst"
      },
      "execution_count": null,
      "outputs": []
    },
    {
      "cell_type": "code",
      "source": [
        "X_valid['HouseFloor'] = X_valid['HouseFloor'].astype('int16')\n",
        "X_valid['HouseFloor'].dtype"
      ],
      "metadata": {
        "id": "QFSCUd3zhP6S"
      },
      "execution_count": null,
      "outputs": []
    },
    {
      "cell_type": "code",
      "source": [
        "test_df['HouseFloor'] = test_df['HouseFloor'].astype('int16')\n",
        "test_df['HouseFloor'].dtype"
      ],
      "metadata": {
        "id": "hPEnM0YmhSb8"
      },
      "execution_count": null,
      "outputs": []
    },
    {
      "cell_type": "markdown",
      "source": [
        "6.4 Преобразование качественных переменных в количественные\n",
        "\n",
        "Качественные признаки: Ecology_2, Ecology_3, Shops_2"
      ],
      "metadata": {
        "id": "TCMVO-fphU4Q"
      }
    },
    {
      "cell_type": "markdown",
      "source": [
        "6.4.1 Признак Ecology_2"
      ],
      "metadata": {
        "id": "s7t5nc5hhbKZ"
      }
    },
    {
      "cell_type": "code",
      "source": [
        "pd.get_dummies(X_train['Ecology_2'], prefix='Eco_2', drop_first=True)"
      ],
      "metadata": {
        "id": "e1l39tvehe0c"
      },
      "execution_count": null,
      "outputs": []
    },
    {
      "cell_type": "code",
      "source": [
        "X_train = pd.concat([X_train, pd.get_dummies(X_train['Ecology_2'], prefix='Eco_2', drop_first=True)], axis=1)\n",
        "X_train.head()"
      ],
      "metadata": {
        "id": "kEsExJxFhg5Y"
      },
      "execution_count": null,
      "outputs": []
    },
    {
      "cell_type": "code",
      "source": [
        "X_train = X_train.drop('Ecology_2', axis=1)"
      ],
      "metadata": {
        "id": "jtKUXRkThjAU"
      },
      "execution_count": null,
      "outputs": []
    },
    {
      "cell_type": "code",
      "source": [
        "pd.get_dummies(X_valid['Ecology_2'], prefix='Eco_2', drop_first=True)"
      ],
      "metadata": {
        "id": "l1cDDo2VhlfF"
      },
      "execution_count": null,
      "outputs": []
    },
    {
      "cell_type": "code",
      "source": [
        "X_valid = pd.concat([X_valid, pd.get_dummies(X_valid['Ecology_2'], prefix='Eco_2', drop_first=True)], axis=1)\n",
        "X_valid.head()"
      ],
      "metadata": {
        "id": "vqrUZBYrhn1T"
      },
      "execution_count": null,
      "outputs": []
    },
    {
      "cell_type": "code",
      "source": [
        "X_valid = X_valid.drop('Ecology_2', axis=1)"
      ],
      "metadata": {
        "id": "Ngz_36Kchp7B"
      },
      "execution_count": null,
      "outputs": []
    },
    {
      "cell_type": "code",
      "source": [
        "pd.get_dummies(test_df['Ecology_2'], prefix='Eco_2', drop_first=True)"
      ],
      "metadata": {
        "id": "Nn6ZjiD-hqn1"
      },
      "execution_count": null,
      "outputs": []
    },
    {
      "cell_type": "code",
      "source": [
        "test_df = pd.concat([test_df, pd.get_dummies(test_df['Ecology_2'], prefix='Eco_2', drop_first=True)], axis=1)\n",
        "test_df.head()"
      ],
      "metadata": {
        "id": "PYreL74qhuSY"
      },
      "execution_count": null,
      "outputs": []
    },
    {
      "cell_type": "code",
      "source": [
        "test_df = test_df.drop('Ecology_2', axis=1)"
      ],
      "metadata": {
        "id": "BlvQCd53hxlS"
      },
      "execution_count": null,
      "outputs": []
    },
    {
      "cell_type": "markdown",
      "source": [
        "6.4.2 Признак Ecology_3"
      ],
      "metadata": {
        "id": "iYA1QAk2h3WR"
      }
    },
    {
      "cell_type": "code",
      "source": [
        "pd.get_dummies(X_train['Ecology_3'], prefix='Eco_3', drop_first=True)"
      ],
      "metadata": {
        "id": "Y9-gjUXXh4fQ"
      },
      "execution_count": null,
      "outputs": []
    },
    {
      "cell_type": "code",
      "source": [
        "X_train = pd.concat([X_train, pd.get_dummies(X_train['Ecology_3'], prefix='Eco_3', drop_first=True)], axis=1)\n",
        "X_train.head()"
      ],
      "metadata": {
        "id": "Ef2ADMdsh9VJ"
      },
      "execution_count": null,
      "outputs": []
    },
    {
      "cell_type": "code",
      "source": [
        "X_train = X_train.drop('Ecology_3', axis=1)"
      ],
      "metadata": {
        "id": "8QPIj0Mwh_iC"
      },
      "execution_count": null,
      "outputs": []
    },
    {
      "cell_type": "code",
      "source": [
        "pd.get_dummies(X_valid['Ecology_3'], prefix='Eco_3', drop_first=True)"
      ],
      "metadata": {
        "id": "96Xq0SXBiBZr"
      },
      "execution_count": null,
      "outputs": []
    },
    {
      "cell_type": "code",
      "source": [
        "X_valid = pd.concat([X_valid, pd.get_dummies(X_valid['Ecology_3'], prefix='Eco_3', drop_first=True)], axis=1)\n",
        "X_valid.head()"
      ],
      "metadata": {
        "id": "10w3vYqNiDg8"
      },
      "execution_count": null,
      "outputs": []
    },
    {
      "cell_type": "code",
      "source": [
        "X_valid = X_valid.drop('Ecology_3', axis=1)"
      ],
      "metadata": {
        "id": "Zdrioo73iGiw"
      },
      "execution_count": null,
      "outputs": []
    },
    {
      "cell_type": "code",
      "source": [
        "pd.get_dummies(test_df['Ecology_3'], prefix='Eco_3', drop_first=True)"
      ],
      "metadata": {
        "id": "Aa-RgfS7iI-Z"
      },
      "execution_count": null,
      "outputs": []
    },
    {
      "cell_type": "code",
      "source": [
        "test_df = pd.concat([test_df, pd.get_dummies(test_df['Ecology_3'], prefix='Eco_3', drop_first=True)], axis=1)\n",
        "test_df.head()"
      ],
      "metadata": {
        "id": "XYqV5t6OiM23"
      },
      "execution_count": null,
      "outputs": []
    },
    {
      "cell_type": "code",
      "source": [
        "test_df = test_df.drop('Ecology_3', axis=1)"
      ],
      "metadata": {
        "id": "O0aync1fiPGs"
      },
      "execution_count": null,
      "outputs": []
    },
    {
      "cell_type": "markdown",
      "source": [
        "6.4.3 Признак Shops_2"
      ],
      "metadata": {
        "id": "L61j6bYyiSSJ"
      }
    },
    {
      "cell_type": "code",
      "source": [
        "pd.get_dummies(X_train['Shops_2'], prefix='Shops_2', drop_first=True)"
      ],
      "metadata": {
        "id": "BtUpNOeDiVvK"
      },
      "execution_count": null,
      "outputs": []
    },
    {
      "cell_type": "code",
      "source": [
        "X_train = pd.concat([X_train, pd.get_dummies(X_train['Shops_2'], prefix='Shops_2', drop_first=True)], axis=1)\n",
        "X_train.head()"
      ],
      "metadata": {
        "id": "GjGdStB3ib-m"
      },
      "execution_count": null,
      "outputs": []
    },
    {
      "cell_type": "code",
      "source": [
        "X_train = X_train.drop('Shops_2', axis=1)"
      ],
      "metadata": {
        "id": "U1yKe3eRie_n"
      },
      "execution_count": null,
      "outputs": []
    },
    {
      "cell_type": "code",
      "source": [
        "pd.get_dummies(X_valid['Shops_2'], prefix='Shops_2', drop_first=True)"
      ],
      "metadata": {
        "id": "EOW8i-ulilu5"
      },
      "execution_count": null,
      "outputs": []
    },
    {
      "cell_type": "code",
      "source": [
        "X_valid = pd.concat([X_valid, pd.get_dummies(X_valid['Shops_2'], prefix='Shops_2', drop_first=True)], axis=1)\n",
        "X_valid.head()"
      ],
      "metadata": {
        "id": "w3zqJJ9uio94"
      },
      "execution_count": null,
      "outputs": []
    },
    {
      "cell_type": "code",
      "source": [
        "X_valid = X_valid.drop('Shops_2', axis=1)"
      ],
      "metadata": {
        "id": "0olGPOXkirEi"
      },
      "execution_count": null,
      "outputs": []
    },
    {
      "cell_type": "code",
      "source": [
        "pd.get_dummies(test_df['Shops_2'], prefix='Shops_2', drop_first=True)"
      ],
      "metadata": {
        "id": "aIhxXlGLit7z"
      },
      "execution_count": null,
      "outputs": []
    },
    {
      "cell_type": "code",
      "source": [
        "test_df = pd.concat([test_df, pd.get_dummies(test_df['Shops_2'], prefix='Shops_2', drop_first=True)], axis=1)\n",
        "test_df.head()"
      ],
      "metadata": {
        "id": "c6pNW0b8iwE_"
      },
      "execution_count": null,
      "outputs": []
    },
    {
      "cell_type": "markdown",
      "source": [
        "6.5 Преобразование признака по категориям (Feature discretization)"
      ],
      "metadata": {
        "id": "3ZsQPFetiyqP"
      }
    },
    {
      "cell_type": "markdown",
      "source": [
        "6.5.1 HouseYear"
      ],
      "metadata": {
        "id": "4TbuXzVti0ea"
      }
    },
    {
      "cell_type": "code",
      "source": [
        "X_train['HouseYear'].describe()"
      ],
      "metadata": {
        "id": "ZayxFIwYi2zl"
      },
      "execution_count": null,
      "outputs": []
    },
    {
      "cell_type": "code",
      "source": [
        "def age_to_cat(X):\n",
        "\n",
        "    X['age_cat'] = 0\n",
        "\n",
        "    X.loc[X['HouseYear'] >= 2015, 'age_cat'] = 1\n",
        "    X.loc[(X['HouseYear'] < 2015) & (X['HouseYear'] >= 2000), 'age_cat'] = 2\n",
        "    X.loc[(X['HouseYear'] < 2000) & (X['HouseYear'] >= 1990), 'age_cat'] = 3\n",
        "    X.loc[(X['HouseYear'] < 1990) & (X['HouseYear'] >= 1950), 'age_cat'] = 4\n",
        "    X.loc[X['HouseYear'] <= 1949, 'age_cat'] = 5\n",
        "\n",
        "    return X"
      ],
      "metadata": {
        "id": "xuVaU_ZRi5rI"
      },
      "execution_count": null,
      "outputs": []
    },
    {
      "cell_type": "code",
      "source": [
        "X_train = age_to_cat(X_train)\n",
        "X_train.head()"
      ],
      "metadata": {
        "id": "C_a0328ri_G0"
      },
      "execution_count": null,
      "outputs": []
    },
    {
      "cell_type": "code",
      "source": [
        "X_valid = age_to_cat(X_valid)\n",
        "X_valid.head()"
      ],
      "metadata": {
        "id": "cAyIlgWYjCld"
      },
      "execution_count": null,
      "outputs": []
    },
    {
      "cell_type": "code",
      "source": [
        "test_df = age_to_cat(test_df)\n",
        "test_df.head()"
      ],
      "metadata": {
        "id": "rPPpKAVjjEwx"
      },
      "execution_count": null,
      "outputs": []
    },
    {
      "cell_type": "markdown",
      "source": [
        "6.5.2 DistrictId"
      ],
      "metadata": {
        "id": "jSjuYu6tjG0m"
      }
    },
    {
      "cell_type": "code",
      "source": [
        "X_train['DistrictId'].describe()"
      ],
      "metadata": {
        "id": "u9liJ5jXjH2F"
      },
      "execution_count": null,
      "outputs": []
    },
    {
      "cell_type": "code",
      "source": [
        "def dist_to_cat(X):\n",
        "\n",
        "    X['dist_cat'] = 0\n",
        "\n",
        "    X.loc[X['DistrictId'] >= 150, 'dist_cat'] = 1\n",
        "    X.loc[(X['DistrictId'] < 149) & (X['DistrictId'] >= 75), 'dist_cat'] = 2\n",
        "    X.loc[(X['DistrictId'] < 74) & (X['DistrictId'] >= 36), 'dist_cat'] = 3\n",
        "    X.loc[(X['DistrictId'] < 35) & (X['DistrictId'] >= 19), 'dist_cat'] = 4\n",
        "    X.loc[X['DistrictId'] <= 18, 'dist_cat'] = 5\n",
        "\n",
        "    return X"
      ],
      "metadata": {
        "id": "ZWQx3b8CjLFm"
      },
      "execution_count": null,
      "outputs": []
    },
    {
      "cell_type": "code",
      "source": [
        "X_train = dist_to_cat(X_train)\n",
        "X_train.head()"
      ],
      "metadata": {
        "id": "btE-MTQAjN3W"
      },
      "execution_count": null,
      "outputs": []
    },
    {
      "cell_type": "code",
      "source": [
        "X_valid = dist_to_cat(X_valid)\n",
        "X_valid.head()"
      ],
      "metadata": {
        "id": "1n4b-CyDjQHd"
      },
      "execution_count": null,
      "outputs": []
    },
    {
      "cell_type": "code",
      "source": [
        "test_df = dist_to_cat(test_df)\n",
        "test_df.head()"
      ],
      "metadata": {
        "id": "Aerc1J2OjSta"
      },
      "execution_count": null,
      "outputs": []
    },
    {
      "cell_type": "markdown",
      "source": [
        "7. EDA (иследовательский анализ данных). Генерация новых признаков."
      ],
      "metadata": {
        "id": "T0uLN-fHjdUw"
      }
    },
    {
      "cell_type": "markdown",
      "source": [
        "7.1 Распределение таргета"
      ],
      "metadata": {
        "id": "r8RfhLppjeed"
      }
    },
    {
      "cell_type": "code",
      "source": [
        "plt.figure(figsize = (16, 8))\n",
        "\n",
        "plt.subplot(121)\n",
        "y_train['Price'].hist(density=False, bins=20)\n",
        "plt.ylabel('количество квартир')\n",
        "plt.xlabel('Price')\n",
        "\n",
        "plt.subplot(122)\n",
        "sns.kdeplot(y_train['Price'], shade=True, legend=False)\n",
        "plt.xlabel('Price')\n",
        "\n",
        "plt.suptitle('Распределение Цены на train')\n",
        "plt.show()"
      ],
      "metadata": {
        "id": "T8nqON3kjgxC"
      },
      "execution_count": null,
      "outputs": []
    },
    {
      "cell_type": "code",
      "source": [
        "plt.figure(figsize = (16, 8))\n",
        "\n",
        "plt.subplot(121)\n",
        "y_valid['Price'].hist(density=False, bins=20)\n",
        "plt.ylabel('количество квартир')\n",
        "plt.xlabel('Price')\n",
        "\n",
        "plt.subplot(122)\n",
        "sns.kdeplot(y_valid['Price'], shade=True, legend=False)\n",
        "plt.xlabel('Price')\n",
        "\n",
        "plt.suptitle('Распределение Цены на valid')\n",
        "plt.show()"
      ],
      "metadata": {
        "id": "cj_cZEzMjkzw"
      },
      "execution_count": null,
      "outputs": []
    },
    {
      "cell_type": "code",
      "source": [
        "target_mean = round(y_train['Price'].mean(), 2)\n",
        "target_median = y_train['Price'].median()\n",
        "target_mode = y_train['Price'].mode()[0]\n",
        "print(f'mean = {target_mean}, median = {target_median}, mode = {target_mode}')"
      ],
      "metadata": {
        "id": "OoBEMOGdjnFd"
      },
      "execution_count": null,
      "outputs": []
    },
    {
      "cell_type": "code",
      "source": [
        "plt.figure(figsize = (16, 8))\n",
        "\n",
        "sns.distplot(y_train['Price'], bins=50)\n",
        "\n",
        "y = np.linspace(0, 0.000005, 10)\n",
        "plt.plot([target_mean] * 10, y, label='mean', linewidth=4)\n",
        "plt.plot([target_median] * 10, y, label='median', linewidth=4)\n",
        "plt.plot([target_mode] * 10, y, label='mode', linewidth=4)\n",
        "\n",
        "plt.title('Распределение Цены на train')\n",
        "plt.legend()\n",
        "plt.show()"
      ],
      "metadata": {
        "id": "9rmmk_c4jpfo"
      },
      "execution_count": null,
      "outputs": []
    },
    {
      "cell_type": "code",
      "source": [
        "plt.figure(figsize = (16, 8))\n",
        "\n",
        "sns.distplot(y_valid['Price'], bins=50)\n",
        "\n",
        "y = np.linspace(0, 0.000005, 10)\n",
        "plt.plot([target_mean] * 10, y, label='mean', linewidth=4)\n",
        "plt.plot([target_median] * 10, y, label='median', linewidth=4)\n",
        "plt.plot([target_mode] * 10, y, label='mode', linewidth=4)\n",
        "\n",
        "plt.title('Распределение Цены на valid')\n",
        "plt.legend()\n",
        "plt.show()"
      ],
      "metadata": {
        "id": "rXkyVkqXjrry"
      },
      "execution_count": null,
      "outputs": []
    },
    {
      "cell_type": "code",
      "source": [
        "target_bins = y_train['Price'] // 10000 * 10000\n",
        "\n",
        "target_adjusted_mode = target_bins.mode()[0]\n",
        "target_adjusted_mode"
      ],
      "metadata": {
        "id": "rUlMRe7vjt9X"
      },
      "execution_count": null,
      "outputs": []
    },
    {
      "cell_type": "code",
      "source": [
        "plt.figure(figsize = (16, 8))\n",
        "\n",
        "sns.distplot(y_train['Price'], bins=50)\n",
        "\n",
        "y = np.linspace(0, 0.000005, 10)\n",
        "plt.plot([target_mean] * 10, y, label='mean', linestyle=':', linewidth=4)\n",
        "plt.plot([target_median] * 10, y, label='median', linestyle='--', linewidth=4)\n",
        "plt.plot([target_adjusted_mode] * 10, y, label='target_adjusted_mode', linestyle='-.', linewidth=4)\n",
        "print(f'mean = {target_mean}, median = {target_median}, mode = {target_adjusted_mode}')\n",
        "plt.title('Распределение Цены на train')\n",
        "plt.legend\n",
        "plt.show"
      ],
      "metadata": {
        "id": "5R7kG2WCjwu8"
      },
      "execution_count": null,
      "outputs": []
    },
    {
      "cell_type": "code",
      "source": [
        "plt.figure(figsize = (16, 8))\n",
        "\n",
        "sns.distplot(y_valid['Price'], bins=50)\n",
        "\n",
        "y = np.linspace(0, 0.000005, 10)\n",
        "plt.plot([target_mean] * 10, y, label='mean', linestyle=':', linewidth=4)\n",
        "plt.plot([target_median] * 10, y, label='median', linestyle='--', linewidth=4)\n",
        "plt.plot([target_adjusted_mode] * 10, y, label='target_adjusted_mode', linestyle='-.', linewidth=4)\n",
        "print(f'mean = {target_mean}, median = {target_median}, mode = {target_adjusted_mode}')\n",
        "plt.title('Распределение Цены на valid')\n",
        "plt.legend\n",
        "plt.show"
      ],
      "metadata": {
        "id": "spAgUk74j2EY"
      },
      "execution_count": null,
      "outputs": []
    },
    {
      "cell_type": "markdown",
      "source": [
        "7.2 Распределение фичей"
      ],
      "metadata": {
        "id": "DSxTQptmj88h"
      }
    },
    {
      "cell_type": "markdown",
      "source": [
        "7.2.1 Количественные признаки"
      ],
      "metadata": {
        "id": "yjLT9zW7j_N9"
      }
    },
    {
      "cell_type": "code",
      "source": [
        "X_train.hist(figsize=(16,16), bins=20, grid=False);"
      ],
      "metadata": {
        "id": "iidqxDiBj_2L"
      },
      "execution_count": null,
      "outputs": []
    },
    {
      "cell_type": "code",
      "source": [
        "X_valid.hist(figsize=(16,16), bins=20, grid=False);"
      ],
      "metadata": {
        "id": "xGDiZJVnkDQf"
      },
      "execution_count": null,
      "outputs": []
    },
    {
      "cell_type": "code",
      "source": [
        "test_df.hist(figsize=(16,16), bins=20, grid=False);"
      ],
      "metadata": {
        "id": "vJ9DIfwvkF-K"
      },
      "execution_count": null,
      "outputs": []
    },
    {
      "cell_type": "markdown",
      "source": [
        "7.2.1.1 Обработка признака KitchenSquare"
      ],
      "metadata": {
        "id": "Eg21zoCIkIYu"
      }
    },
    {
      "cell_type": "code",
      "source": [
        "X_train['KitchenSquare'].describe()"
      ],
      "metadata": {
        "id": "Jc2SXKtOkLbj"
      },
      "execution_count": null,
      "outputs": []
    },
    {
      "cell_type": "code",
      "source": [
        "X_valid['KitchenSquare'].describe()"
      ],
      "metadata": {
        "id": "hHchg5-tkPmK"
      },
      "execution_count": null,
      "outputs": []
    },
    {
      "cell_type": "code",
      "source": [
        "test_df['KitchenSquare'].describe()"
      ],
      "metadata": {
        "id": "PJvMSmEkkQV3"
      },
      "execution_count": null,
      "outputs": []
    },
    {
      "cell_type": "code",
      "source": [
        "X_train.loc[X_train['KitchenSquare'] > 50, 'KitchenSquare'].\\\n",
        "hist(figsize=(4,4), bins=200, grid=False);"
      ],
      "metadata": {
        "id": "reoa0724kUqh"
      },
      "execution_count": null,
      "outputs": []
    },
    {
      "cell_type": "code",
      "source": [
        "X_valid.loc[X_valid['KitchenSquare'] > 50, 'KitchenSquare'].\\\n",
        "hist(figsize=(4,4), bins=200, grid=False);"
      ],
      "metadata": {
        "id": "ScUD__fhkWwj"
      },
      "execution_count": null,
      "outputs": []
    },
    {
      "cell_type": "code",
      "source": [
        "test_df.loc[test_df['KitchenSquare'] > 50, 'KitchenSquare'].\\\n",
        "hist(figsize=(4,4), bins=200, grid=False);"
      ],
      "metadata": {
        "id": "5gUo_Hx3kZLq"
      },
      "execution_count": null,
      "outputs": []
    },
    {
      "cell_type": "code",
      "source": [
        "X_train.loc[X_train['KitchenSquare'] > 50, 'KitchenSquare'] = X_train['KitchenSquare'].median()\n",
        "X_valid.loc[X_valid['KitchenSquare'] > 50, 'KitchenSquare'] = X_train['KitchenSquare'].median()\n",
        "test_df.loc[test_df['KitchenSquare'] > 50, 'KitchenSquare'] = X_train['KitchenSquare'].median()\n",
        "X_train.loc[X_train['KitchenSquare'] < 5, 'KitchenSquare'] = X_train['KitchenSquare'].median()\n",
        "X_valid.loc[X_valid['KitchenSquare'] < 5, 'KitchenSquare'] = X_train['KitchenSquare'].median()\n",
        "test_df.loc[test_df['KitchenSquare'] < 5, 'KitchenSquare'] = X_train['KitchenSquare'].median()"
      ],
      "metadata": {
        "id": "LE_FUC44kcF9"
      },
      "execution_count": null,
      "outputs": []
    },
    {
      "cell_type": "code",
      "source": [
        "X_train['KitchenSquare'].describe()"
      ],
      "metadata": {
        "id": "L-Fev7C-krb8"
      },
      "execution_count": null,
      "outputs": []
    },
    {
      "cell_type": "code",
      "source": [
        "X_valid['KitchenSquare'].describe()"
      ],
      "metadata": {
        "id": "mspricz2ksuw"
      },
      "execution_count": null,
      "outputs": []
    },
    {
      "cell_type": "code",
      "source": [
        "test_df['KitchenSquare'].describe()"
      ],
      "metadata": {
        "id": "YPrqpSNqkxSS"
      },
      "execution_count": null,
      "outputs": []
    },
    {
      "cell_type": "markdown",
      "source": [
        "7.2.1.2 Обработка признака HouseFloor"
      ],
      "metadata": {
        "id": "jitsIc8ikzta"
      }
    },
    {
      "cell_type": "code",
      "source": [
        "X_train['HouseFloor'].describe()"
      ],
      "metadata": {
        "id": "uOnOqgi_liqr"
      },
      "execution_count": null,
      "outputs": []
    },
    {
      "cell_type": "code",
      "source": [
        "X_valid['HouseFloor'].describe()"
      ],
      "metadata": {
        "id": "eF2_cbTkljhO"
      },
      "execution_count": null,
      "outputs": []
    },
    {
      "cell_type": "code",
      "source": [
        "test_df['HouseFloor'].describe()"
      ],
      "metadata": {
        "id": "z4XLb3C6lp8d"
      },
      "execution_count": null,
      "outputs": []
    },
    {
      "cell_type": "code",
      "source": [
        "X_train.loc[X_train['HouseFloor'] > 90, 'HouseFloor'].\\\n",
        "hist(figsize=(4,4), bins=200, grid=False);"
      ],
      "metadata": {
        "id": "a2K5Klzwlt0G"
      },
      "execution_count": null,
      "outputs": []
    },
    {
      "cell_type": "code",
      "source": [
        "X_valid.loc[X_valid['HouseFloor'] > 90, 'HouseFloor'].\\\n",
        "hist(figsize=(4,4), bins=200, grid=False);"
      ],
      "metadata": {
        "id": "xEEmr-ZNlv_o"
      },
      "execution_count": null,
      "outputs": []
    },
    {
      "cell_type": "code",
      "source": [
        "test_df.loc[test_df['HouseFloor'] > 90, 'HouseFloor'].\\\n",
        "hist(figsize=(4,4), bins=200, grid=False);"
      ],
      "metadata": {
        "id": "F-Gnqi6ilzdC"
      },
      "execution_count": null,
      "outputs": []
    },
    {
      "cell_type": "code",
      "source": [
        "X_train.loc[X_train['HouseFloor'] > 90, 'HouseFloor'] = X_train['HouseFloor'].median()\n",
        "X_valid.loc[X_valid['HouseFloor'] > 90, 'HouseFloor'] = X_train['HouseFloor'].median()\n",
        "test_df.loc[test_df['HouseFloor'] > 90, 'HouseFloor'] = X_train['HouseFloor'].median()"
      ],
      "metadata": {
        "id": "tNrPHhV6l2bb"
      },
      "execution_count": null,
      "outputs": []
    },
    {
      "cell_type": "code",
      "source": [
        "X_train['HouseFloor'].describe()"
      ],
      "metadata": {
        "id": "lrPl2U5pl80N"
      },
      "execution_count": null,
      "outputs": []
    },
    {
      "cell_type": "code",
      "source": [
        "X_valid['HouseFloor'].describe()"
      ],
      "metadata": {
        "id": "F0tB4yjomAVF"
      },
      "execution_count": null,
      "outputs": []
    },
    {
      "cell_type": "code",
      "source": [
        "test_df['HouseFloor'].describe()"
      ],
      "metadata": {
        "id": "MHcYj5iQmCvS"
      },
      "execution_count": null,
      "outputs": []
    },
    {
      "cell_type": "markdown",
      "source": [
        "7.2.1.3 Обработка признака LifeSquare"
      ],
      "metadata": {
        "id": "M7dqZcdNmFeG"
      }
    },
    {
      "cell_type": "code",
      "source": [
        "X_train['LifeSquare'].describe()"
      ],
      "metadata": {
        "id": "I1qfu9nBmGPZ"
      },
      "execution_count": null,
      "outputs": []
    },
    {
      "cell_type": "code",
      "source": [
        "X_valid['LifeSquare'].describe()"
      ],
      "metadata": {
        "id": "ma1QqXRKmJqH"
      },
      "execution_count": null,
      "outputs": []
    },
    {
      "cell_type": "code",
      "source": [
        "test_df['LifeSquare'].describe()"
      ],
      "metadata": {
        "id": "CB4qk_JEmL43"
      },
      "execution_count": null,
      "outputs": []
    },
    {
      "cell_type": "code",
      "source": [
        "X_train.loc[X_train['LifeSquare'] > 500, 'LifeSquare'].\\\n",
        "hist(figsize=(4,4), bins=200, grid=False);"
      ],
      "metadata": {
        "id": "ogEm79T8mN66"
      },
      "execution_count": null,
      "outputs": []
    },
    {
      "cell_type": "code",
      "source": [
        "X_train.loc[X_train['LifeSquare'] > 500, 'LifeSquare'] = X_train['LifeSquare'].median()\n",
        "X_valid.loc[X_valid['LifeSquare'] > 500, 'LifeSquare'] = X_train['LifeSquare'].median()\n",
        "test_df.loc[test_df['LifeSquare'] > 500, 'LifeSquare'] = X_train['LifeSquare'].median()"
      ],
      "metadata": {
        "id": "y3yUTYfqmQpW"
      },
      "execution_count": null,
      "outputs": []
    },
    {
      "cell_type": "code",
      "source": [
        "X_train.loc[X_train['LifeSquare'] < 5, 'LifeSquare'] = X_train['LifeSquare'].median()\n",
        "X_valid.loc[X_valid['LifeSquare'] < 5, 'LifeSquare'] = X_train['LifeSquare'].median()\n",
        "test_df.loc[test_df['LifeSquare'] < 5, 'LifeSquare'] = X_train['LifeSquare'].median()"
      ],
      "metadata": {
        "id": "oaHTL5cNmRgn"
      },
      "execution_count": null,
      "outputs": []
    },
    {
      "cell_type": "code",
      "source": [
        "X_train['LifeSquare'].describe()"
      ],
      "metadata": {
        "id": "jQw3ORAYmU-4"
      },
      "execution_count": null,
      "outputs": []
    },
    {
      "cell_type": "code",
      "source": [
        "X_valid['LifeSquare'].describe()"
      ],
      "metadata": {
        "id": "InLZ92Z4mV1y"
      },
      "execution_count": null,
      "outputs": []
    },
    {
      "cell_type": "code",
      "source": [
        "test_df['LifeSquare'].describe()"
      ],
      "metadata": {
        "id": "b9TcAXpUmaEV"
      },
      "execution_count": null,
      "outputs": []
    },
    {
      "cell_type": "markdown",
      "source": [
        "7.2.1.4 Обработка признака Square"
      ],
      "metadata": {
        "id": "yvJbA9Slmck0"
      }
    },
    {
      "cell_type": "code",
      "source": [
        "X_train['Square'].describe()"
      ],
      "metadata": {
        "id": "c7Wy_gdTmdjv"
      },
      "execution_count": null,
      "outputs": []
    },
    {
      "cell_type": "code",
      "source": [
        "X_valid['Square'].describe()"
      ],
      "metadata": {
        "id": "LG5obA8Xmfbp"
      },
      "execution_count": null,
      "outputs": []
    },
    {
      "cell_type": "code",
      "source": [
        "test_df['Square'].describe()"
      ],
      "metadata": {
        "id": "L9v3QFxlmi_Z"
      },
      "execution_count": null,
      "outputs": []
    },
    {
      "cell_type": "code",
      "source": [
        "X_train.loc[X_train['Square'] < 10, 'Square'] = X_train['Square'].median()"
      ],
      "metadata": {
        "id": "7iz5viekml3v"
      },
      "execution_count": null,
      "outputs": []
    },
    {
      "cell_type": "code",
      "source": [
        "X_valid.loc[X_valid['Square'] < 10, 'Square'] = X_train['Square'].median()"
      ],
      "metadata": {
        "id": "vRJKbYEemn41"
      },
      "execution_count": null,
      "outputs": []
    },
    {
      "cell_type": "code",
      "source": [
        "test_df.loc[test_df['Square'] < 10, 'Square'] = X_train['Square'].median()"
      ],
      "metadata": {
        "id": "I2W3vKnbmqoG"
      },
      "execution_count": null,
      "outputs": []
    },
    {
      "cell_type": "code",
      "source": [
        "X_train.loc[X_train['Square'] > 500, 'Square'] = X_train['Square'].median()"
      ],
      "metadata": {
        "id": "bl5smsHzmtEw"
      },
      "execution_count": null,
      "outputs": []
    },
    {
      "cell_type": "code",
      "source": [
        "X_valid.loc[X_valid['Square'] > 500, 'Square'] = X_train['Square'].median()"
      ],
      "metadata": {
        "id": "gUOpG5AtmuEa"
      },
      "execution_count": null,
      "outputs": []
    },
    {
      "cell_type": "code",
      "source": [
        "test_df.loc[test_df['Square'] > 500, 'Square'] = X_train['Square'].median()"
      ],
      "metadata": {
        "id": "nAABUS5Mm1OU"
      },
      "execution_count": null,
      "outputs": []
    },
    {
      "cell_type": "markdown",
      "source": [
        "7.2.1.5 Отображение признаков на графиках"
      ],
      "metadata": {
        "id": "nAvnSan0m69R"
      }
    },
    {
      "cell_type": "code",
      "source": [
        "grid = sns.jointplot(X_train['Rooms'], X_train['Square'], kind='kde')\n",
        "grid.fig.set_figwidth(8)\n",
        "grid.fig.set_figheight(8)\n",
        "\n",
        "plt.show"
      ],
      "metadata": {
        "id": "SyI4tzCPm-K0"
      },
      "execution_count": null,
      "outputs": []
    },
    {
      "cell_type": "code",
      "source": [
        "plt.figure(figsize=(6,3))\n",
        "\n",
        "sns.boxplot(X_valid['Square'], whis=3)\n",
        "\n",
        "plt.xlabel('Square')\n",
        "plt.show()"
      ],
      "metadata": {
        "id": "nK_d8wXLnBJg"
      },
      "execution_count": null,
      "outputs": []
    },
    {
      "cell_type": "markdown",
      "source": [
        "7.2.1.6 Обработка признаков Square < LifeSquare"
      ],
      "metadata": {
        "id": "am20YFbGnIFi"
      }
    },
    {
      "cell_type": "code",
      "source": [
        "X_train[(X_train['Square'] < X_train['LifeSquare'])].head(1000)"
      ],
      "metadata": {
        "id": "gqXED6MqnKmL"
      },
      "execution_count": null,
      "outputs": []
    },
    {
      "cell_type": "code",
      "source": [
        "X_valid[(X_valid['Square'] < X_valid['LifeSquare'])].head(1000)"
      ],
      "metadata": {
        "id": "QVQjxtnunOCI"
      },
      "execution_count": null,
      "outputs": []
    },
    {
      "cell_type": "code",
      "source": [
        "test_df[(test_df['Square'] < test_df['LifeSquare'])].head(1000)"
      ],
      "metadata": {
        "id": "5MEH16pknR_B"
      },
      "execution_count": null,
      "outputs": []
    },
    {
      "cell_type": "code",
      "source": [
        "X_train.loc[X_train['Square'] < X_train['LifeSquare'], ['Square', 'LifeSquare']] = X_train.loc[X_train['Square'] < X_train['LifeSquare'], ['LifeSquare', 'Square']].values\n",
        "X_valid.loc[X_valid['Square'] < X_valid['LifeSquare'], ['Square', 'LifeSquare']] = X_valid.loc[X_valid['Square'] < X_valid['LifeSquare'], ['LifeSquare', 'Square']].values\n",
        "test_df.loc[test_df['Square'] < test_df['LifeSquare'], ['Square', 'LifeSquare']] = test_df.loc[test_df['Square'] < test_df['LifeSquare'], ['LifeSquare', 'Square']].values"
      ],
      "metadata": {
        "id": "8MBE5yhhnXJh"
      },
      "execution_count": null,
      "outputs": []
    },
    {
      "cell_type": "code",
      "source": [
        "X_train.loc[7246, :]"
      ],
      "metadata": {
        "id": "TPI9vPlApiGL"
      },
      "execution_count": null,
      "outputs": []
    },
    {
      "cell_type": "markdown",
      "source": [
        "7.2.1.7 Обработка признаков Square < (LifeSquare + KitchenSquare)"
      ],
      "metadata": {
        "id": "U_1WDoL7pm5-"
      }
    },
    {
      "cell_type": "code",
      "source": [
        "X_train[(X_train['Square'] < (X_train['LifeSquare'] + X_train['KitchenSquare']))].head(1000)"
      ],
      "metadata": {
        "id": "lg0m44Cnpskq"
      },
      "execution_count": null,
      "outputs": []
    },
    {
      "cell_type": "code",
      "source": [
        "X_valid[(X_valid['Square'] < (X_valid['LifeSquare'] + X_valid['KitchenSquare']))].head(1000)"
      ],
      "metadata": {
        "id": "XF8CvZOfptw9"
      },
      "execution_count": null,
      "outputs": []
    },
    {
      "cell_type": "code",
      "source": [
        "test_df[(test_df['Square'] < (test_df['LifeSquare'] + test_df['KitchenSquare']))].head(1000)"
      ],
      "metadata": {
        "id": "AMO3g3J4pwiZ"
      },
      "execution_count": null,
      "outputs": []
    },
    {
      "cell_type": "code",
      "source": [
        "X_train.loc[X_train['Square'] < (X_train['LifeSquare'] + X_train['KitchenSquare']), 'Square'] = X_train.loc[X_train['Square'] < (X_train['LifeSquare'] + X_train['KitchenSquare']), ['LifeSquare', 'KitchenSquare']].sum(axis=1)"
      ],
      "metadata": {
        "id": "bw1CgH9kpz1U"
      },
      "execution_count": null,
      "outputs": []
    },
    {
      "cell_type": "code",
      "source": [
        "X_train.loc[7246, :]"
      ],
      "metadata": {
        "id": "8AiirRcHp42T"
      },
      "execution_count": null,
      "outputs": []
    },
    {
      "cell_type": "code",
      "source": [
        "X_valid.loc[X_valid['Square'] < (X_valid['LifeSquare'] + X_valid['KitchenSquare']), 'Square'] = X_valid.loc[X_valid['Square'] < (X_valid['LifeSquare'] + X_valid['KitchenSquare']), ['LifeSquare', 'KitchenSquare']].sum(axis=1)"
      ],
      "metadata": {
        "id": "YWkhow8_p96F"
      },
      "execution_count": null,
      "outputs": []
    },
    {
      "cell_type": "code",
      "source": [
        "X_valid.loc[8296, :]"
      ],
      "metadata": {
        "id": "MfUJt74op-01"
      },
      "execution_count": null,
      "outputs": []
    },
    {
      "cell_type": "code",
      "source": [
        "test_df.loc[test_df['Square'] < (test_df['LifeSquare'] + test_df['KitchenSquare']), 'Square'] = test_df.loc[test_df['Square'] < (test_df['LifeSquare'] + test_df['KitchenSquare']), ['LifeSquare', 'KitchenSquare']].sum(axis=1)"
      ],
      "metadata": {
        "id": "meVzgoKeqD2_"
      },
      "execution_count": null,
      "outputs": []
    },
    {
      "cell_type": "code",
      "source": [
        "test_df.loc[468, :]"
      ],
      "metadata": {
        "id": "uqqur2kYqHla"
      },
      "execution_count": null,
      "outputs": []
    },
    {
      "cell_type": "markdown",
      "source": [
        "7.2.1.8 Обработка признаков Floor > HouseFloor"
      ],
      "metadata": {
        "id": "AQl6dQPdqKOJ"
      }
    },
    {
      "cell_type": "code",
      "source": [
        "X_train[(X_train['HouseFloor'] < X_train['Floor'])].head(1000)"
      ],
      "metadata": {
        "id": "B89NGfs1qLWm"
      },
      "execution_count": null,
      "outputs": []
    },
    {
      "cell_type": "code",
      "source": [
        "X_valid[(X_valid['HouseFloor'] < X_valid['Floor'])].head(1000)"
      ],
      "metadata": {
        "id": "njry9hvAqPT3"
      },
      "execution_count": null,
      "outputs": []
    },
    {
      "cell_type": "code",
      "source": [
        "test_df[(test_df['HouseFloor'] < test_df['Floor'])].head(1000)"
      ],
      "metadata": {
        "id": "8EwB8Q6dqSt3"
      },
      "execution_count": null,
      "outputs": []
    },
    {
      "cell_type": "code",
      "source": [
        "X_train.loc[X_train['HouseFloor'] < X_train['Floor'], ['HouseFloor', 'Floor']] = X_train.loc[X_train['HouseFloor'] < X_train['Floor'], ['Floor', 'HouseFloor']].values\n",
        "X_valid.loc[X_valid['HouseFloor'] < X_valid['Floor'], ['HouseFloor', 'Floor']] = X_valid.loc[X_valid['HouseFloor'] < X_valid['Floor'], ['Floor', 'HouseFloor']].values\n",
        "test_df.loc[test_df['HouseFloor'] < test_df['Floor'], ['HouseFloor', 'Floor']] = test_df.loc[test_df['HouseFloor'] < test_df['Floor'], ['Floor', 'HouseFloor']].values"
      ],
      "metadata": {
        "id": "Hb8JcjYJqWY4"
      },
      "execution_count": null,
      "outputs": []
    },
    {
      "cell_type": "code",
      "source": [
        "test_df.loc[468, :]"
      ],
      "metadata": {
        "id": "5lgPSkePqffL"
      },
      "execution_count": null,
      "outputs": []
    },
    {
      "cell_type": "markdown",
      "source": [
        "7.2.2 Категориальные признаки"
      ],
      "metadata": {
        "id": "FnxsI6-Pqkbn"
      }
    },
    {
      "cell_type": "code",
      "source": [
        "counts = test_df['age_cat'].value_counts()\n",
        "\n",
        "plt.figure(figsize=(12, 8))\n",
        "plt.title('age_cat')\n",
        "sns.barplot(counts.index, counts.values)\n",
        "\n",
        "plt.show()"
      ],
      "metadata": {
        "id": "ADP3XWwQqlps"
      },
      "execution_count": null,
      "outputs": []
    },
    {
      "cell_type": "code",
      "source": [
        "counts_ = X_train['dist_cat'].value_counts()\n",
        "\n",
        "plt.figure(figsize=(12, 8))\n",
        "plt.title('dist_cat')\n",
        "sns.barplot(counts_.index, counts_.values)\n",
        "\n",
        "plt.show()"
      ],
      "metadata": {
        "id": "KAff8pIJqpH4"
      },
      "execution_count": null,
      "outputs": []
    },
    {
      "cell_type": "code",
      "source": [
        "plt.figure(figsize = (15, 10))\n",
        "\n",
        "sns.set(font_scale=1.4)\n",
        "\n",
        "corr_matrix = X_train.corr()\n",
        "corr_matrix = np.round(corr_matrix, 2)\n",
        "corr_matrix[np.abs(corr_matrix) < 0.2] = 0\n",
        "\n",
        "sns.heatmap(corr_matrix, annot=True, linewidths=.5, cmap='coolwarm')\n",
        "\n",
        "plt.title('Correlation matrix')\n",
        "plt.show()"
      ],
      "metadata": {
        "id": "dYkQ-efgqtnU"
      },
      "execution_count": null,
      "outputs": []
    },
    {
      "cell_type": "markdown",
      "source": [
        "7.3 Удаление Id"
      ],
      "metadata": {
        "id": "L2zQcUd7qyDC"
      }
    },
    {
      "cell_type": "code",
      "source": [
        "X_train = X_train.drop('Id', axis=1)\n",
        "X_valid = X_valid.drop('Id', axis=1)\n",
        "test_df = test_df.drop('Id', axis=1)"
      ],
      "metadata": {
        "id": "9ukKlpWgqw-Q"
      },
      "execution_count": null,
      "outputs": []
    },
    {
      "cell_type": "code",
      "source": [
        "X_train.head(20)"
      ],
      "metadata": {
        "id": "7pSeCT0hq8cO"
      },
      "execution_count": null,
      "outputs": []
    },
    {
      "cell_type": "code",
      "source": [
        "X_valid.head(20)"
      ],
      "metadata": {
        "id": "PVSrkvoDq_Cm"
      },
      "execution_count": null,
      "outputs": []
    },
    {
      "cell_type": "code",
      "source": [
        "test_df.head(20)"
      ],
      "metadata": {
        "id": "K0cGPPoLrCmc"
      },
      "execution_count": null,
      "outputs": []
    },
    {
      "cell_type": "code",
      "source": [
        "y_train.head(20)"
      ],
      "metadata": {
        "id": "ghTlnfKvrFNG"
      },
      "execution_count": null,
      "outputs": []
    },
    {
      "cell_type": "markdown",
      "source": [
        "8. Масштабирование"
      ],
      "metadata": {
        "id": "a-XxqGhcrH7j"
      }
    },
    {
      "cell_type": "code",
      "source": [
        "from sklearn.preprocessing import RobustScaler"
      ],
      "metadata": {
        "id": "mYqIuTM6rJOM"
      },
      "execution_count": null,
      "outputs": []
    },
    {
      "cell_type": "code",
      "source": [
        "cols_for_scale = ['DistrictId', 'Rooms', 'Square', 'LifeSquare', 'KitchenSquare',\n",
        "       'Floor', 'HouseFloor', 'HouseYear', 'Ecology_1', 'Social_1', 'Social_2',\n",
        "       'Social_3', 'Healthcare_1', 'Helthcare_2', 'Shops_1',\n",
        "       'Eco_2_B', 'Eco_3_B', 'Shops_2_B', 'age_cat', 'dist_cat']"
      ],
      "metadata": {
        "id": "SoFlq3CYrMtW"
      },
      "execution_count": null,
      "outputs": []
    },
    {
      "cell_type": "code",
      "source": [
        "scaler = RobustScaler()"
      ],
      "metadata": {
        "id": "XoG4Xdy9rQ2Q"
      },
      "execution_count": null,
      "outputs": []
    },
    {
      "cell_type": "code",
      "source": [
        "X_train[cols_for_scale] = scaler.fit_transform(X_train[cols_for_scale])\n",
        "X_valid[cols_for_scale] = scaler.transform(X_valid[cols_for_scale])\n",
        "test_df[cols_for_scale] = scaler.transform(test_df[cols_for_scale])"
      ],
      "metadata": {
        "id": "HdSp8dzMrUCp"
      },
      "execution_count": null,
      "outputs": []
    },
    {
      "cell_type": "markdown",
      "source": [
        "9. Построение модели"
      ],
      "metadata": {
        "id": "1ascFEcbraSn"
      }
    },
    {
      "cell_type": "markdown",
      "source": [
        "9.1 Обучение модели"
      ],
      "metadata": {
        "id": "mEAedDo0rgQw"
      }
    },
    {
      "cell_type": "code",
      "source": [
        "X_train.isna().sum().sum(), X_valid.isna().sum().sum(), test_df.isna().sum().sum()"
      ],
      "metadata": {
        "id": "t5lCEkTLrht_"
      },
      "execution_count": null,
      "outputs": []
    },
    {
      "cell_type": "code",
      "source": [
        "from sklearn.ensemble import GradientBoostingRegressor"
      ],
      "metadata": {
        "id": "nPfaXQF3rmCL"
      },
      "execution_count": null,
      "outputs": []
    },
    {
      "cell_type": "code",
      "source": [
        "gb_model = GradientBoostingRegressor(criterion='mse', max_depth=7, min_samples_leaf=10, random_state=42, n_estimators=100)\n",
        "\n",
        "gb_model.fit(X_train, y_train)\n",
        "\n",
        "y_pred = gb_model.predict(X_valid)\n",
        "check_test = pd.DataFrame({'y_valid': y_valid['Price'], 'y_pred': y_pred.flatten()}, columns=['y_valid', 'y_pred'])\n",
        "check_test"
      ],
      "metadata": {
        "id": "Or2ZXJR4rqiR"
      },
      "execution_count": null,
      "outputs": []
    },
    {
      "cell_type": "markdown",
      "source": [
        "9.2 Метрика оценки качества"
      ],
      "metadata": {
        "id": "DTSXIEGcrtip"
      }
    },
    {
      "cell_type": "code",
      "source": [
        "from sklearn.metrics import r2_score"
      ],
      "metadata": {
        "id": "ZuJv_uhPrvzr"
      },
      "execution_count": null,
      "outputs": []
    },
    {
      "cell_type": "code",
      "source": [
        "r2_score(y_valid, y_pred)"
      ],
      "metadata": {
        "id": "YVbV4H21rxjH"
      },
      "execution_count": null,
      "outputs": []
    },
    {
      "cell_type": "markdown",
      "source": [
        "10. Формирование файла с прогнозами"
      ],
      "metadata": {
        "id": "hVcYSwUJr2Te"
      }
    },
    {
      "cell_type": "code",
      "source": [
        "test_df.shape"
      ],
      "metadata": {
        "id": "e5OgTvtJr4d4"
      },
      "execution_count": null,
      "outputs": []
    },
    {
      "cell_type": "code",
      "source": [
        "test_df"
      ],
      "metadata": {
        "id": "IkVSIQpOr68L"
      },
      "execution_count": null,
      "outputs": []
    },
    {
      "cell_type": "code",
      "source": [
        "submit = pd.read_csv('C:/АННА/Data Sience/Библиотеки Python/Проект/Архив/project_data_from_kaggle/sample_submission.csv')\n",
        "submit.head()"
      ],
      "metadata": {
        "id": "mloOyllKr98M"
      },
      "execution_count": null,
      "outputs": []
    },
    {
      "cell_type": "code",
      "source": [
        "predictions = gb_model.predict(test_df)\n",
        "predictions"
      ],
      "metadata": {
        "id": "wsW_VPxXsAoz"
      },
      "execution_count": null,
      "outputs": []
    },
    {
      "cell_type": "code",
      "source": [
        "submit['Price'] = predictions\n",
        "submit.head()"
      ],
      "metadata": {
        "id": "ML0QtavfsF1i"
      },
      "execution_count": null,
      "outputs": []
    },
    {
      "cell_type": "code",
      "source": [
        "submit.to_csv('C:/АННА/Data Sience/Библиотеки Python/Проект/gb_submission.csv', index=False)"
      ],
      "metadata": {
        "id": "9m8VfeAWsJl6"
      },
      "execution_count": null,
      "outputs": []
    }
  ]
}