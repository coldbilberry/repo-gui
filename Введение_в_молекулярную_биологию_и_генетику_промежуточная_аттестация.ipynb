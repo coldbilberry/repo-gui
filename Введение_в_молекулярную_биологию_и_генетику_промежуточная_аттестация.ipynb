{
  "nbformat": 4,
  "nbformat_minor": 0,
  "metadata": {
    "colab": {
      "provenance": [],
      "authorship_tag": "ABX9TyPZXSwWQ+L5BJIxygYmqHjW",
      "include_colab_link": true
    },
    "kernelspec": {
      "name": "python3",
      "display_name": "Python 3"
    },
    "language_info": {
      "name": "python"
    }
  },
  "cells": [
    {
      "cell_type": "markdown",
      "metadata": {
        "id": "view-in-github",
        "colab_type": "text"
      },
      "source": [
        "<a href=\"https://colab.research.google.com/github/coldbilberry/repo-gui/blob/main/%D0%92%D0%B2%D0%B5%D0%B4%D0%B5%D0%BD%D0%B8%D0%B5_%D0%B2_%D0%BC%D0%BE%D0%BB%D0%B5%D0%BA%D1%83%D0%BB%D1%8F%D1%80%D0%BD%D1%83%D1%8E_%D0%B1%D0%B8%D0%BE%D0%BB%D0%BE%D0%B3%D0%B8%D1%8E_%D0%B8_%D0%B3%D0%B5%D0%BD%D0%B5%D1%82%D0%B8%D0%BA%D1%83_%D0%BF%D1%80%D0%BE%D0%BC%D0%B5%D0%B6%D1%83%D1%82%D0%BE%D1%87%D0%BD%D0%B0%D1%8F_%D0%B0%D1%82%D1%82%D0%B5%D1%81%D1%82%D0%B0%D1%86%D0%B8%D1%8F.ipynb\" target=\"_parent\"><img src=\"https://colab.research.google.com/assets/colab-badge.svg\" alt=\"Open In Colab\"/></a>"
      ]
    },
    {
      "cell_type": "code",
      "execution_count": 1,
      "metadata": {
        "colab": {
          "base_uri": "https://localhost:8080/"
        },
        "id": "Z65e_mvq2S7W",
        "outputId": "6e4b0796-be49-4188-f8d4-bab41af083cf"
      },
      "outputs": [
        {
          "output_type": "stream",
          "name": "stdout",
          "text": [
            "Collecting biopython\n",
            "  Downloading biopython-1.84-cp310-cp310-manylinux_2_17_x86_64.manylinux2014_x86_64.whl.metadata (12 kB)\n",
            "Requirement already satisfied: numpy in /usr/local/lib/python3.10/dist-packages (from biopython) (1.26.4)\n",
            "Downloading biopython-1.84-cp310-cp310-manylinux_2_17_x86_64.manylinux2014_x86_64.whl (3.2 MB)\n",
            "\u001b[?25l   \u001b[90m━━━━━━━━━━━━━━━━━━━━━━━━━━━━━━━━━━━━━━━━\u001b[0m \u001b[32m0.0/3.2 MB\u001b[0m \u001b[31m?\u001b[0m eta \u001b[36m-:--:--\u001b[0m\r\u001b[2K   \u001b[91m━━━━━━━━━━━━━━━━━━━━━━━━━━━━━━━━━━━━━━━\u001b[0m\u001b[91m╸\u001b[0m \u001b[32m3.2/3.2 MB\u001b[0m \u001b[31m103.1 MB/s\u001b[0m eta \u001b[36m0:00:01\u001b[0m\r\u001b[2K   \u001b[90m━━━━━━━━━━━━━━━━━━━━━━━━━━━━━━━━━━━━━━━━\u001b[0m \u001b[32m3.2/3.2 MB\u001b[0m \u001b[31m53.6 MB/s\u001b[0m eta \u001b[36m0:00:00\u001b[0m\n",
            "\u001b[?25hInstalling collected packages: biopython\n",
            "Successfully installed biopython-1.84\n"
          ]
        }
      ],
      "source": [
        "!pip install biopython\n",
        "from Bio import Entrez\n",
        "Entrez.email = \"A.N.Other@example.com\"\n",
        "from Bio import SeqIO\n",
        "from Bio.Seq import Seq\n",
        "from Bio.SeqRecord import SeqRecord\n",
        "import pandas as pd\n",
        "import xml.etree.ElementTree as ET\n",
        "from pprint import pprint\n",
        "\n",
        "import pandas as pd\n",
        "import matplotlib.pyplot as plt"
      ]
    },
    {
      "cell_type": "code",
      "source": [
        "from google.colab import drive\n",
        "drive.mount('/content/drive')"
      ],
      "metadata": {
        "colab": {
          "base_uri": "https://localhost:8080/",
          "height": 299
        },
        "id": "2ik5oGsy4IJI",
        "outputId": "9dc5dac7-276b-4a8f-ecf8-eef18d837537"
      },
      "execution_count": 4,
      "outputs": [
        {
          "output_type": "error",
          "ename": "MessageError",
          "evalue": "Error: credential propagation was unsuccessful",
          "traceback": [
            "\u001b[0;31m---------------------------------------------------------------------------\u001b[0m",
            "\u001b[0;31mMessageError\u001b[0m                              Traceback (most recent call last)",
            "\u001b[0;32m<ipython-input-4-d5df0069828e>\u001b[0m in \u001b[0;36m<cell line: 2>\u001b[0;34m()\u001b[0m\n\u001b[1;32m      1\u001b[0m \u001b[0;32mfrom\u001b[0m \u001b[0mgoogle\u001b[0m\u001b[0;34m.\u001b[0m\u001b[0mcolab\u001b[0m \u001b[0;32mimport\u001b[0m \u001b[0mdrive\u001b[0m\u001b[0;34m\u001b[0m\u001b[0;34m\u001b[0m\u001b[0m\n\u001b[0;32m----> 2\u001b[0;31m \u001b[0mdrive\u001b[0m\u001b[0;34m.\u001b[0m\u001b[0mmount\u001b[0m\u001b[0;34m(\u001b[0m\u001b[0;34m'/content/drive'\u001b[0m\u001b[0;34m)\u001b[0m\u001b[0;34m\u001b[0m\u001b[0;34m\u001b[0m\u001b[0m\n\u001b[0m",
            "\u001b[0;32m/usr/local/lib/python3.10/dist-packages/google/colab/drive.py\u001b[0m in \u001b[0;36mmount\u001b[0;34m(mountpoint, force_remount, timeout_ms, readonly)\u001b[0m\n\u001b[1;32m     98\u001b[0m \u001b[0;32mdef\u001b[0m \u001b[0mmount\u001b[0m\u001b[0;34m(\u001b[0m\u001b[0mmountpoint\u001b[0m\u001b[0;34m,\u001b[0m \u001b[0mforce_remount\u001b[0m\u001b[0;34m=\u001b[0m\u001b[0;32mFalse\u001b[0m\u001b[0;34m,\u001b[0m \u001b[0mtimeout_ms\u001b[0m\u001b[0;34m=\u001b[0m\u001b[0;36m120000\u001b[0m\u001b[0;34m,\u001b[0m \u001b[0mreadonly\u001b[0m\u001b[0;34m=\u001b[0m\u001b[0;32mFalse\u001b[0m\u001b[0;34m)\u001b[0m\u001b[0;34m:\u001b[0m\u001b[0;34m\u001b[0m\u001b[0;34m\u001b[0m\u001b[0m\n\u001b[1;32m     99\u001b[0m   \u001b[0;34m\"\"\"Mount your Google Drive at the specified mountpoint path.\"\"\"\u001b[0m\u001b[0;34m\u001b[0m\u001b[0;34m\u001b[0m\u001b[0m\n\u001b[0;32m--> 100\u001b[0;31m   return _mount(\n\u001b[0m\u001b[1;32m    101\u001b[0m       \u001b[0mmountpoint\u001b[0m\u001b[0;34m,\u001b[0m\u001b[0;34m\u001b[0m\u001b[0;34m\u001b[0m\u001b[0m\n\u001b[1;32m    102\u001b[0m       \u001b[0mforce_remount\u001b[0m\u001b[0;34m=\u001b[0m\u001b[0mforce_remount\u001b[0m\u001b[0;34m,\u001b[0m\u001b[0;34m\u001b[0m\u001b[0;34m\u001b[0m\u001b[0m\n",
            "\u001b[0;32m/usr/local/lib/python3.10/dist-packages/google/colab/drive.py\u001b[0m in \u001b[0;36m_mount\u001b[0;34m(mountpoint, force_remount, timeout_ms, ephemeral, readonly)\u001b[0m\n\u001b[1;32m    131\u001b[0m   )\n\u001b[1;32m    132\u001b[0m   \u001b[0;32mif\u001b[0m \u001b[0mephemeral\u001b[0m\u001b[0;34m:\u001b[0m\u001b[0;34m\u001b[0m\u001b[0;34m\u001b[0m\u001b[0m\n\u001b[0;32m--> 133\u001b[0;31m     _message.blocking_request(\n\u001b[0m\u001b[1;32m    134\u001b[0m         \u001b[0;34m'request_auth'\u001b[0m\u001b[0;34m,\u001b[0m\u001b[0;34m\u001b[0m\u001b[0;34m\u001b[0m\u001b[0m\n\u001b[1;32m    135\u001b[0m         \u001b[0mrequest\u001b[0m\u001b[0;34m=\u001b[0m\u001b[0;34m{\u001b[0m\u001b[0;34m'authType'\u001b[0m\u001b[0;34m:\u001b[0m \u001b[0;34m'dfs_ephemeral'\u001b[0m\u001b[0;34m}\u001b[0m\u001b[0;34m,\u001b[0m\u001b[0;34m\u001b[0m\u001b[0;34m\u001b[0m\u001b[0m\n",
            "\u001b[0;32m/usr/local/lib/python3.10/dist-packages/google/colab/_message.py\u001b[0m in \u001b[0;36mblocking_request\u001b[0;34m(request_type, request, timeout_sec, parent)\u001b[0m\n\u001b[1;32m    174\u001b[0m       \u001b[0mrequest_type\u001b[0m\u001b[0;34m,\u001b[0m \u001b[0mrequest\u001b[0m\u001b[0;34m,\u001b[0m \u001b[0mparent\u001b[0m\u001b[0;34m=\u001b[0m\u001b[0mparent\u001b[0m\u001b[0;34m,\u001b[0m \u001b[0mexpect_reply\u001b[0m\u001b[0;34m=\u001b[0m\u001b[0;32mTrue\u001b[0m\u001b[0;34m\u001b[0m\u001b[0;34m\u001b[0m\u001b[0m\n\u001b[1;32m    175\u001b[0m   )\n\u001b[0;32m--> 176\u001b[0;31m   \u001b[0;32mreturn\u001b[0m \u001b[0mread_reply_from_input\u001b[0m\u001b[0;34m(\u001b[0m\u001b[0mrequest_id\u001b[0m\u001b[0;34m,\u001b[0m \u001b[0mtimeout_sec\u001b[0m\u001b[0;34m)\u001b[0m\u001b[0;34m\u001b[0m\u001b[0;34m\u001b[0m\u001b[0m\n\u001b[0m",
            "\u001b[0;32m/usr/local/lib/python3.10/dist-packages/google/colab/_message.py\u001b[0m in \u001b[0;36mread_reply_from_input\u001b[0;34m(message_id, timeout_sec)\u001b[0m\n\u001b[1;32m    101\u001b[0m     ):\n\u001b[1;32m    102\u001b[0m       \u001b[0;32mif\u001b[0m \u001b[0;34m'error'\u001b[0m \u001b[0;32min\u001b[0m \u001b[0mreply\u001b[0m\u001b[0;34m:\u001b[0m\u001b[0;34m\u001b[0m\u001b[0;34m\u001b[0m\u001b[0m\n\u001b[0;32m--> 103\u001b[0;31m         \u001b[0;32mraise\u001b[0m \u001b[0mMessageError\u001b[0m\u001b[0;34m(\u001b[0m\u001b[0mreply\u001b[0m\u001b[0;34m[\u001b[0m\u001b[0;34m'error'\u001b[0m\u001b[0;34m]\u001b[0m\u001b[0;34m)\u001b[0m\u001b[0;34m\u001b[0m\u001b[0;34m\u001b[0m\u001b[0m\n\u001b[0m\u001b[1;32m    104\u001b[0m       \u001b[0;32mreturn\u001b[0m \u001b[0mreply\u001b[0m\u001b[0;34m.\u001b[0m\u001b[0mget\u001b[0m\u001b[0;34m(\u001b[0m\u001b[0;34m'data'\u001b[0m\u001b[0;34m,\u001b[0m \u001b[0;32mNone\u001b[0m\u001b[0;34m)\u001b[0m\u001b[0;34m\u001b[0m\u001b[0;34m\u001b[0m\u001b[0m\n\u001b[1;32m    105\u001b[0m \u001b[0;34m\u001b[0m\u001b[0m\n",
            "\u001b[0;31mMessageError\u001b[0m: Error: credential propagation was unsuccessful"
          ]
        }
      ]
    },
    {
      "cell_type": "code",
      "source": [
        "%cd '/content/drive/MyDrive/Colab Notebooks/GB/19_6_files'"
      ],
      "metadata": {
        "colab": {
          "base_uri": "https://localhost:8080/"
        },
        "id": "Pl3hi1ij4M7U",
        "outputId": "fe6b9ed7-58f9-4117-fe43-7a1eb926ecd1"
      },
      "execution_count": 3,
      "outputs": [
        {
          "output_type": "stream",
          "name": "stdout",
          "text": [
            "[Errno 2] No such file or directory: '/content/drive/MyDrive/Colab Notebooks/GB/19_6_files'\n",
            "/content\n"
          ]
        }
      ]
    },
    {
      "cell_type": "markdown",
      "source": [
        "Получаем список генов по наименованию болезни из базы NCBI"
      ],
      "metadata": {
        "id": "yxiewsCK4agt"
      }
    },
    {
      "cell_type": "code",
      "source": [
        "def get_genes_by_disease(disease, retmax):\n",
        "  disease_name = disease #Вносим название болезни во внутреннюю переменную\n",
        "  handle = Entrez.esearch(db=\"gene\", term=disease_name, retmax = retmax) #'retmax' Ограничиваем количество генов для вывода\n",
        "  record = Entrez.read(handle)\n",
        "  gene_ids = record[\"IdList\"]\n",
        "  return gene_ids"
      ],
      "metadata": {
        "id": "B20tsdxp4biT"
      },
      "execution_count": 5,
      "outputs": []
    },
    {
      "cell_type": "code",
      "source": [
        "#Запрашиваем ID хромосомы из NCBI через параметр 'gi_id'.\n",
        "#Эта процедура применяется в общей процедуре сбора информации по генам(см. ячейку ниже)\n",
        "def search_chromosome(gi_id):\n",
        "    handle = Entrez.esummary(db=\"nucleotide\", id=gi_id)\n",
        "    record = Entrez.read(handle)\n",
        "    handle.close()\n",
        "    return record[0]['AccessionVersion']"
      ],
      "metadata": {
        "id": "1yvd6qT64ha1"
      },
      "execution_count": 6,
      "outputs": []
    },
    {
      "cell_type": "code",
      "source": [
        "# Поиск в базе по имени гена\n",
        "def search_gene_name(gene_id):\n",
        "  handle = Entrez.esummary(db=\"gene\", id=gene_id)\n",
        "  record = Entrez.read(handle)\n",
        "  handle.close()\n",
        "  return record['DocumentSummarySet']['DocumentSummary'][0]['Name']"
      ],
      "metadata": {
        "id": "vLW84kKi4lg9"
      },
      "execution_count": 7,
      "outputs": []
    },
    {
      "cell_type": "code",
      "source": [
        "#Получаем из NCBI информацию о генах из списка 'gene_id_list', в том числе ID хромосомы.\n",
        "def get_gene_info(gene_id_list):\n",
        "  gene_info = []\n",
        "  for gene_id in gene_id_list:\n",
        "    handle = Entrez.efetch(db=\"gene\", id=gene_id, rettype = 'xml')\n",
        "    gene_locus = ET.parse(handle).getroot().find(\"Entrezgene/Entrezgene_locus\")\n",
        "    region = gene_locus.find(\"Gene-commentary/Gene-commentary_seqs/Seq-loc/Seq-loc_int/Seq-interval\")\n",
        "    start = int(region.find(\"Seq-interval_from\").text) + 1\n",
        "    end = int(region.find(\"Seq-interval_to\").text) + 1\n",
        "    gi_id = region.find(\"Seq-interval_id/Seq-id/Seq-id_gi\").text\n",
        "    strand = region.find(\"Seq-interval_strand/Na-strand\").get(\"value\")\n",
        "    # print(gene_id, start, end, gi_id, strand)\n",
        "    gene_info.append({'gene_name':search_gene_name(gene_id), 'gene_id':gene_id, 'interval_from':start, 'interval_to':end, 'gi_id':gi_id, 'nucleotide':search_chromosome(gi_id), 'strand':strand})\n",
        "  return gene_info"
      ],
      "metadata": {
        "id": "Xp8eRTpP4r8I"
      },
      "execution_count": 8,
      "outputs": []
    },
    {
      "cell_type": "code",
      "source": [
        "%%time\n",
        "gene_id_list = get_genes_by_disease('Apert syndrome', 30)\n",
        "gene_list = get_gene_info(gene_id_list)"
      ],
      "metadata": {
        "colab": {
          "base_uri": "https://localhost:8080/",
          "height": 520
        },
        "id": "-rb7FtE54166",
        "outputId": "2905bc14-f365-40c2-a160-846cc7c2f1e4"
      },
      "execution_count": 9,
      "outputs": [
        {
          "output_type": "error",
          "ename": "IncompleteRead",
          "evalue": "IncompleteRead(38611 bytes read)",
          "traceback": [
            "\u001b[0;31m---------------------------------------------------------------------------\u001b[0m",
            "\u001b[0;31mValueError\u001b[0m                                Traceback (most recent call last)",
            "\u001b[0;32m/usr/lib/python3.10/http/client.py\u001b[0m in \u001b[0;36m_get_chunk_left\u001b[0;34m(self)\u001b[0m\n\u001b[1;32m    565\u001b[0m             \u001b[0;32mtry\u001b[0m\u001b[0;34m:\u001b[0m\u001b[0;34m\u001b[0m\u001b[0;34m\u001b[0m\u001b[0m\n\u001b[0;32m--> 566\u001b[0;31m                 \u001b[0mchunk_left\u001b[0m \u001b[0;34m=\u001b[0m \u001b[0mself\u001b[0m\u001b[0;34m.\u001b[0m\u001b[0m_read_next_chunk_size\u001b[0m\u001b[0;34m(\u001b[0m\u001b[0;34m)\u001b[0m\u001b[0;34m\u001b[0m\u001b[0;34m\u001b[0m\u001b[0m\n\u001b[0m\u001b[1;32m    567\u001b[0m             \u001b[0;32mexcept\u001b[0m \u001b[0mValueError\u001b[0m\u001b[0;34m:\u001b[0m\u001b[0;34m\u001b[0m\u001b[0;34m\u001b[0m\u001b[0m\n",
            "\u001b[0;32m/usr/lib/python3.10/http/client.py\u001b[0m in \u001b[0;36m_read_next_chunk_size\u001b[0;34m(self)\u001b[0m\n\u001b[1;32m    532\u001b[0m         \u001b[0;32mtry\u001b[0m\u001b[0;34m:\u001b[0m\u001b[0;34m\u001b[0m\u001b[0;34m\u001b[0m\u001b[0m\n\u001b[0;32m--> 533\u001b[0;31m             \u001b[0;32mreturn\u001b[0m \u001b[0mint\u001b[0m\u001b[0;34m(\u001b[0m\u001b[0mline\u001b[0m\u001b[0;34m,\u001b[0m \u001b[0;36m16\u001b[0m\u001b[0;34m)\u001b[0m\u001b[0;34m\u001b[0m\u001b[0;34m\u001b[0m\u001b[0m\n\u001b[0m\u001b[1;32m    534\u001b[0m         \u001b[0;32mexcept\u001b[0m \u001b[0mValueError\u001b[0m\u001b[0;34m:\u001b[0m\u001b[0;34m\u001b[0m\u001b[0;34m\u001b[0m\u001b[0m\n",
            "\u001b[0;31mValueError\u001b[0m: invalid literal for int() with base 16: b''",
            "\nDuring handling of the above exception, another exception occurred:\n",
            "\u001b[0;31mIncompleteRead\u001b[0m                            Traceback (most recent call last)",
            "\u001b[0;32m/usr/lib/python3.10/http/client.py\u001b[0m in \u001b[0;36m_read_chunked\u001b[0;34m(self, amt)\u001b[0m\n\u001b[1;32m    582\u001b[0m             \u001b[0;32mwhile\u001b[0m \u001b[0;32mTrue\u001b[0m\u001b[0;34m:\u001b[0m\u001b[0;34m\u001b[0m\u001b[0;34m\u001b[0m\u001b[0m\n\u001b[0;32m--> 583\u001b[0;31m                 \u001b[0mchunk_left\u001b[0m \u001b[0;34m=\u001b[0m \u001b[0mself\u001b[0m\u001b[0;34m.\u001b[0m\u001b[0m_get_chunk_left\u001b[0m\u001b[0;34m(\u001b[0m\u001b[0;34m)\u001b[0m\u001b[0;34m\u001b[0m\u001b[0;34m\u001b[0m\u001b[0m\n\u001b[0m\u001b[1;32m    584\u001b[0m                 \u001b[0;32mif\u001b[0m \u001b[0mchunk_left\u001b[0m \u001b[0;32mis\u001b[0m \u001b[0;32mNone\u001b[0m\u001b[0;34m:\u001b[0m\u001b[0;34m\u001b[0m\u001b[0;34m\u001b[0m\u001b[0m\n",
            "\u001b[0;32m/usr/lib/python3.10/http/client.py\u001b[0m in \u001b[0;36m_get_chunk_left\u001b[0;34m(self)\u001b[0m\n\u001b[1;32m    567\u001b[0m             \u001b[0;32mexcept\u001b[0m \u001b[0mValueError\u001b[0m\u001b[0;34m:\u001b[0m\u001b[0;34m\u001b[0m\u001b[0;34m\u001b[0m\u001b[0m\n\u001b[0;32m--> 568\u001b[0;31m                 \u001b[0;32mraise\u001b[0m \u001b[0mIncompleteRead\u001b[0m\u001b[0;34m(\u001b[0m\u001b[0;34mb''\u001b[0m\u001b[0;34m)\u001b[0m\u001b[0;34m\u001b[0m\u001b[0;34m\u001b[0m\u001b[0m\n\u001b[0m\u001b[1;32m    569\u001b[0m             \u001b[0;32mif\u001b[0m \u001b[0mchunk_left\u001b[0m \u001b[0;34m==\u001b[0m \u001b[0;36m0\u001b[0m\u001b[0;34m:\u001b[0m\u001b[0;34m\u001b[0m\u001b[0;34m\u001b[0m\u001b[0m\n",
            "\u001b[0;31mIncompleteRead\u001b[0m: IncompleteRead(0 bytes read)",
            "\nDuring handling of the above exception, another exception occurred:\n",
            "\u001b[0;31mIncompleteRead\u001b[0m                            Traceback (most recent call last)",
            "\u001b[0;32m<timed exec>\u001b[0m in \u001b[0;36m<module>\u001b[0;34m\u001b[0m\n",
            "\u001b[0;32m<ipython-input-8-151f2f0f68c9>\u001b[0m in \u001b[0;36mget_gene_info\u001b[0;34m(gene_id_list)\u001b[0m\n\u001b[1;32m      4\u001b[0m   \u001b[0;32mfor\u001b[0m \u001b[0mgene_id\u001b[0m \u001b[0;32min\u001b[0m \u001b[0mgene_id_list\u001b[0m\u001b[0;34m:\u001b[0m\u001b[0;34m\u001b[0m\u001b[0;34m\u001b[0m\u001b[0m\n\u001b[1;32m      5\u001b[0m     \u001b[0mhandle\u001b[0m \u001b[0;34m=\u001b[0m \u001b[0mEntrez\u001b[0m\u001b[0;34m.\u001b[0m\u001b[0mefetch\u001b[0m\u001b[0;34m(\u001b[0m\u001b[0mdb\u001b[0m\u001b[0;34m=\u001b[0m\u001b[0;34m\"gene\"\u001b[0m\u001b[0;34m,\u001b[0m \u001b[0mid\u001b[0m\u001b[0;34m=\u001b[0m\u001b[0mgene_id\u001b[0m\u001b[0;34m,\u001b[0m \u001b[0mrettype\u001b[0m \u001b[0;34m=\u001b[0m \u001b[0;34m'xml'\u001b[0m\u001b[0;34m)\u001b[0m\u001b[0;34m\u001b[0m\u001b[0;34m\u001b[0m\u001b[0m\n\u001b[0;32m----> 6\u001b[0;31m     \u001b[0mgene_locus\u001b[0m \u001b[0;34m=\u001b[0m \u001b[0mET\u001b[0m\u001b[0;34m.\u001b[0m\u001b[0mparse\u001b[0m\u001b[0;34m(\u001b[0m\u001b[0mhandle\u001b[0m\u001b[0;34m)\u001b[0m\u001b[0;34m.\u001b[0m\u001b[0mgetroot\u001b[0m\u001b[0;34m(\u001b[0m\u001b[0;34m)\u001b[0m\u001b[0;34m.\u001b[0m\u001b[0mfind\u001b[0m\u001b[0;34m(\u001b[0m\u001b[0;34m\"Entrezgene/Entrezgene_locus\"\u001b[0m\u001b[0;34m)\u001b[0m\u001b[0;34m\u001b[0m\u001b[0;34m\u001b[0m\u001b[0m\n\u001b[0m\u001b[1;32m      7\u001b[0m     \u001b[0mregion\u001b[0m \u001b[0;34m=\u001b[0m \u001b[0mgene_locus\u001b[0m\u001b[0;34m.\u001b[0m\u001b[0mfind\u001b[0m\u001b[0;34m(\u001b[0m\u001b[0;34m\"Gene-commentary/Gene-commentary_seqs/Seq-loc/Seq-loc_int/Seq-interval\"\u001b[0m\u001b[0;34m)\u001b[0m\u001b[0;34m\u001b[0m\u001b[0;34m\u001b[0m\u001b[0m\n\u001b[1;32m      8\u001b[0m     \u001b[0mstart\u001b[0m \u001b[0;34m=\u001b[0m \u001b[0mint\u001b[0m\u001b[0;34m(\u001b[0m\u001b[0mregion\u001b[0m\u001b[0;34m.\u001b[0m\u001b[0mfind\u001b[0m\u001b[0;34m(\u001b[0m\u001b[0;34m\"Seq-interval_from\"\u001b[0m\u001b[0;34m)\u001b[0m\u001b[0;34m.\u001b[0m\u001b[0mtext\u001b[0m\u001b[0;34m)\u001b[0m \u001b[0;34m+\u001b[0m \u001b[0;36m1\u001b[0m\u001b[0;34m\u001b[0m\u001b[0;34m\u001b[0m\u001b[0m\n",
            "\u001b[0;32m/usr/lib/python3.10/xml/etree/ElementTree.py\u001b[0m in \u001b[0;36mparse\u001b[0;34m(source, parser)\u001b[0m\n\u001b[1;32m   1220\u001b[0m     \"\"\"\n\u001b[1;32m   1221\u001b[0m     \u001b[0mtree\u001b[0m \u001b[0;34m=\u001b[0m \u001b[0mElementTree\u001b[0m\u001b[0;34m(\u001b[0m\u001b[0;34m)\u001b[0m\u001b[0;34m\u001b[0m\u001b[0;34m\u001b[0m\u001b[0m\n\u001b[0;32m-> 1222\u001b[0;31m     \u001b[0mtree\u001b[0m\u001b[0;34m.\u001b[0m\u001b[0mparse\u001b[0m\u001b[0;34m(\u001b[0m\u001b[0msource\u001b[0m\u001b[0;34m,\u001b[0m \u001b[0mparser\u001b[0m\u001b[0;34m)\u001b[0m\u001b[0;34m\u001b[0m\u001b[0;34m\u001b[0m\u001b[0m\n\u001b[0m\u001b[1;32m   1223\u001b[0m     \u001b[0;32mreturn\u001b[0m \u001b[0mtree\u001b[0m\u001b[0;34m\u001b[0m\u001b[0;34m\u001b[0m\u001b[0m\n\u001b[1;32m   1224\u001b[0m \u001b[0;34m\u001b[0m\u001b[0m\n",
            "\u001b[0;32m/usr/lib/python3.10/xml/etree/ElementTree.py\u001b[0m in \u001b[0;36mparse\u001b[0;34m(self, source, parser)\u001b[0m\n\u001b[1;32m    578\u001b[0m                     \u001b[0;31m# It can be used to parse the whole source without feeding\u001b[0m\u001b[0;34m\u001b[0m\u001b[0;34m\u001b[0m\u001b[0m\n\u001b[1;32m    579\u001b[0m                     \u001b[0;31m# it with chunks.\u001b[0m\u001b[0;34m\u001b[0m\u001b[0;34m\u001b[0m\u001b[0m\n\u001b[0;32m--> 580\u001b[0;31m                     \u001b[0mself\u001b[0m\u001b[0;34m.\u001b[0m\u001b[0m_root\u001b[0m \u001b[0;34m=\u001b[0m \u001b[0mparser\u001b[0m\u001b[0;34m.\u001b[0m\u001b[0m_parse_whole\u001b[0m\u001b[0;34m(\u001b[0m\u001b[0msource\u001b[0m\u001b[0;34m)\u001b[0m\u001b[0;34m\u001b[0m\u001b[0;34m\u001b[0m\u001b[0m\n\u001b[0m\u001b[1;32m    581\u001b[0m                     \u001b[0;32mreturn\u001b[0m \u001b[0mself\u001b[0m\u001b[0;34m.\u001b[0m\u001b[0m_root\u001b[0m\u001b[0;34m\u001b[0m\u001b[0;34m\u001b[0m\u001b[0m\n\u001b[1;32m    582\u001b[0m             \u001b[0;32mwhile\u001b[0m \u001b[0;32mTrue\u001b[0m\u001b[0;34m:\u001b[0m\u001b[0;34m\u001b[0m\u001b[0;34m\u001b[0m\u001b[0m\n",
            "\u001b[0;32m/usr/lib/python3.10/http/client.py\u001b[0m in \u001b[0;36mread\u001b[0;34m(self, amt)\u001b[0m\n\u001b[1;32m    458\u001b[0m \u001b[0;34m\u001b[0m\u001b[0m\n\u001b[1;32m    459\u001b[0m         \u001b[0;32mif\u001b[0m \u001b[0mself\u001b[0m\u001b[0;34m.\u001b[0m\u001b[0mchunked\u001b[0m\u001b[0;34m:\u001b[0m\u001b[0;34m\u001b[0m\u001b[0;34m\u001b[0m\u001b[0m\n\u001b[0;32m--> 460\u001b[0;31m             \u001b[0;32mreturn\u001b[0m \u001b[0mself\u001b[0m\u001b[0;34m.\u001b[0m\u001b[0m_read_chunked\u001b[0m\u001b[0;34m(\u001b[0m\u001b[0mamt\u001b[0m\u001b[0;34m)\u001b[0m\u001b[0;34m\u001b[0m\u001b[0;34m\u001b[0m\u001b[0m\n\u001b[0m\u001b[1;32m    461\u001b[0m \u001b[0;34m\u001b[0m\u001b[0m\n\u001b[1;32m    462\u001b[0m         \u001b[0;32mif\u001b[0m \u001b[0mamt\u001b[0m \u001b[0;32mis\u001b[0m \u001b[0;32mnot\u001b[0m \u001b[0;32mNone\u001b[0m\u001b[0;34m:\u001b[0m\u001b[0;34m\u001b[0m\u001b[0;34m\u001b[0m\u001b[0m\n",
            "\u001b[0;32m/usr/lib/python3.10/http/client.py\u001b[0m in \u001b[0;36m_read_chunked\u001b[0;34m(self, amt)\u001b[0m\n\u001b[1;32m    596\u001b[0m             \u001b[0;32mreturn\u001b[0m \u001b[0;34mb''\u001b[0m\u001b[0;34m.\u001b[0m\u001b[0mjoin\u001b[0m\u001b[0;34m(\u001b[0m\u001b[0mvalue\u001b[0m\u001b[0;34m)\u001b[0m\u001b[0;34m\u001b[0m\u001b[0;34m\u001b[0m\u001b[0m\n\u001b[1;32m    597\u001b[0m         \u001b[0;32mexcept\u001b[0m \u001b[0mIncompleteRead\u001b[0m\u001b[0;34m:\u001b[0m\u001b[0;34m\u001b[0m\u001b[0;34m\u001b[0m\u001b[0m\n\u001b[0;32m--> 598\u001b[0;31m             \u001b[0;32mraise\u001b[0m \u001b[0mIncompleteRead\u001b[0m\u001b[0;34m(\u001b[0m\u001b[0;34mb''\u001b[0m\u001b[0;34m.\u001b[0m\u001b[0mjoin\u001b[0m\u001b[0;34m(\u001b[0m\u001b[0mvalue\u001b[0m\u001b[0;34m)\u001b[0m\u001b[0;34m)\u001b[0m\u001b[0;34m\u001b[0m\u001b[0;34m\u001b[0m\u001b[0m\n\u001b[0m\u001b[1;32m    599\u001b[0m \u001b[0;34m\u001b[0m\u001b[0m\n\u001b[1;32m    600\u001b[0m     \u001b[0;32mdef\u001b[0m \u001b[0m_readinto_chunked\u001b[0m\u001b[0;34m(\u001b[0m\u001b[0mself\u001b[0m\u001b[0;34m,\u001b[0m \u001b[0mb\u001b[0m\u001b[0;34m)\u001b[0m\u001b[0;34m:\u001b[0m\u001b[0;34m\u001b[0m\u001b[0;34m\u001b[0m\u001b[0m\n",
            "\u001b[0;31mIncompleteRead\u001b[0m: IncompleteRead(38611 bytes read)"
          ]
        }
      ]
    },
    {
      "cell_type": "code",
      "source": [
        "#Предоставляем список генов в виде таблицы\n",
        "df = pd.DataFrame(gene_list)\n",
        "df['accession'] = df['nucleotide'].apply(lambda x: x.split('.')[0])\n",
        "df['version'] = df['nucleotide'].apply(lambda x: x.split('.')[1])"
      ],
      "metadata": {
        "colab": {
          "base_uri": "https://localhost:8080/",
          "height": 190
        },
        "id": "Ayx-MT6p45p_",
        "outputId": "74dace11-b3b0-4307-ad5e-162f7e5fba9c"
      },
      "execution_count": 10,
      "outputs": [
        {
          "output_type": "error",
          "ename": "NameError",
          "evalue": "name 'gene_list' is not defined",
          "traceback": [
            "\u001b[0;31m---------------------------------------------------------------------------\u001b[0m",
            "\u001b[0;31mNameError\u001b[0m                                 Traceback (most recent call last)",
            "\u001b[0;32m<ipython-input-10-7bb9c782dce4>\u001b[0m in \u001b[0;36m<cell line: 2>\u001b[0;34m()\u001b[0m\n\u001b[1;32m      1\u001b[0m \u001b[0;31m#Предоставляем список генов в виде таблицы\u001b[0m\u001b[0;34m\u001b[0m\u001b[0;34m\u001b[0m\u001b[0m\n\u001b[0;32m----> 2\u001b[0;31m \u001b[0mdf\u001b[0m \u001b[0;34m=\u001b[0m \u001b[0mpd\u001b[0m\u001b[0;34m.\u001b[0m\u001b[0mDataFrame\u001b[0m\u001b[0;34m(\u001b[0m\u001b[0mgene_list\u001b[0m\u001b[0;34m)\u001b[0m\u001b[0;34m\u001b[0m\u001b[0;34m\u001b[0m\u001b[0m\n\u001b[0m\u001b[1;32m      3\u001b[0m \u001b[0mdf\u001b[0m\u001b[0;34m[\u001b[0m\u001b[0;34m'accession'\u001b[0m\u001b[0;34m]\u001b[0m \u001b[0;34m=\u001b[0m \u001b[0mdf\u001b[0m\u001b[0;34m[\u001b[0m\u001b[0;34m'nucleotide'\u001b[0m\u001b[0;34m]\u001b[0m\u001b[0;34m.\u001b[0m\u001b[0mapply\u001b[0m\u001b[0;34m(\u001b[0m\u001b[0;32mlambda\u001b[0m \u001b[0mx\u001b[0m\u001b[0;34m:\u001b[0m \u001b[0mx\u001b[0m\u001b[0;34m.\u001b[0m\u001b[0msplit\u001b[0m\u001b[0;34m(\u001b[0m\u001b[0;34m'.'\u001b[0m\u001b[0;34m)\u001b[0m\u001b[0;34m[\u001b[0m\u001b[0;36m0\u001b[0m\u001b[0;34m]\u001b[0m\u001b[0;34m)\u001b[0m\u001b[0;34m\u001b[0m\u001b[0;34m\u001b[0m\u001b[0m\n\u001b[1;32m      4\u001b[0m \u001b[0mdf\u001b[0m\u001b[0;34m[\u001b[0m\u001b[0;34m'version'\u001b[0m\u001b[0;34m]\u001b[0m \u001b[0;34m=\u001b[0m \u001b[0mdf\u001b[0m\u001b[0;34m[\u001b[0m\u001b[0;34m'nucleotide'\u001b[0m\u001b[0;34m]\u001b[0m\u001b[0;34m.\u001b[0m\u001b[0mapply\u001b[0m\u001b[0;34m(\u001b[0m\u001b[0;32mlambda\u001b[0m \u001b[0mx\u001b[0m\u001b[0;34m:\u001b[0m \u001b[0mx\u001b[0m\u001b[0;34m.\u001b[0m\u001b[0msplit\u001b[0m\u001b[0;34m(\u001b[0m\u001b[0;34m'.'\u001b[0m\u001b[0;34m)\u001b[0m\u001b[0;34m[\u001b[0m\u001b[0;36m1\u001b[0m\u001b[0;34m]\u001b[0m\u001b[0;34m)\u001b[0m\u001b[0;34m\u001b[0m\u001b[0;34m\u001b[0m\u001b[0m\n",
            "\u001b[0;31mNameError\u001b[0m: name 'gene_list' is not defined"
          ]
        }
      ]
    },
    {
      "cell_type": "code",
      "source": [
        "df.T"
      ],
      "metadata": {
        "colab": {
          "base_uri": "https://localhost:8080/",
          "height": 139
        },
        "id": "mJslSQtp48zt",
        "outputId": "bb26d2e5-1836-4cce-e280-452e2ca50fc1"
      },
      "execution_count": 11,
      "outputs": [
        {
          "output_type": "error",
          "ename": "NameError",
          "evalue": "name 'df' is not defined",
          "traceback": [
            "\u001b[0;31m---------------------------------------------------------------------------\u001b[0m",
            "\u001b[0;31mNameError\u001b[0m                                 Traceback (most recent call last)",
            "\u001b[0;32m<ipython-input-11-7fdade2a6a38>\u001b[0m in \u001b[0;36m<cell line: 1>\u001b[0;34m()\u001b[0m\n\u001b[0;32m----> 1\u001b[0;31m \u001b[0mdf\u001b[0m\u001b[0;34m.\u001b[0m\u001b[0mT\u001b[0m\u001b[0;34m\u001b[0m\u001b[0;34m\u001b[0m\u001b[0m\n\u001b[0m",
            "\u001b[0;31mNameError\u001b[0m: name 'df' is not defined"
          ]
        }
      ]
    },
    {
      "cell_type": "code",
      "source": [
        "#Получаем нуклеотидную последовательность гена. Параметры берем из 'gene_list'\n",
        "def get_dna_sequence(gene_seq_keys_list):\n",
        "  gene_seq_list = []\n",
        "  for nucleotid in gene_seq_keys_list:\n",
        "    nucleotid_id = nucleotid['nucleotide']\n",
        "    start = nucleotid['interval_from']\n",
        "    end = nucleotid['interval_to']\n",
        "    handle = Entrez.efetch(db=\"nucleotide\",\n",
        "                        id=nucleotid_id,\n",
        "                        rettype = 'fasta',\n",
        "                        retmode = 'text')\n",
        "    #загружаем нуклеотидную последовательность хромосомы\n",
        "    chromosome = SeqIO.read(handle, 'fasta')\n",
        "    gene_seq = chromosome.seq[start:end]\n",
        "    gene_seq_list.append({'Gene ID': nucleotid[\"gene_id\"], 'gen_seq': gene_seq})\n",
        "  return gene_seq_list"
      ],
      "metadata": {
        "id": "Igb3V8h_5AhT"
      },
      "execution_count": null,
      "outputs": []
    },
    {
      "cell_type": "code",
      "source": [
        "%%time\n",
        "gene_seq_list = get_dna_sequence(gene_list)\n",
        "pprint(gene_seq_list)"
      ],
      "metadata": {
        "id": "_HoF9EeU5BXj"
      },
      "execution_count": null,
      "outputs": []
    },
    {
      "cell_type": "code",
      "source": [
        "# Получаем информацию из базы данных SNP для гена FGFR2\n",
        "gene_name = \"FGFR2\"\n",
        "org = \"homo sapiens\"\n",
        "# search ClinVar for variants in the gene\n",
        "handle = Entrez.esearch(db=\"snp\", term=f\"{gene_name}[Gene Name]  AND {org}[Organism] AND (pathogenic[Clinical_Significance] OR likely pathogenic[Clinical_Significance] OR pathogenic likely pathogenic[Clinical_Significance])\", retmax=100)\n",
        "# handle = Entrez.esearch(db=\"snp\", term=f\"{gene_name}[Gene Name]  AND {org}[Organism]\", retmax=60000)\n",
        "record = Entrez.read(handle)\n",
        "handle.close()\n",
        "rs_list = record['IdList']\n",
        "len(rs_list)"
      ],
      "metadata": {
        "id": "8RA2vmsD5Dov"
      },
      "execution_count": null,
      "outputs": []
    },
    {
      "cell_type": "code",
      "source": [
        "# Получаем информацию по каждой мутации из списка\n",
        "def get_snp_rs_info(rs_list):\n",
        "  snp_rs_info = []\n",
        "  for k, i in enumerate(rs_list):\n",
        "    print(f'\\r{k} ' , end='')\n",
        "    handle = Entrez.esearch(db=\"snp\", term=\"rs\" + i, format='gb')\n",
        "    #handle = Entrez.efetch(db=\"snp\", id=\"rs\" + i)\n",
        "    record = Entrez.read(handle)\n",
        "    handle.close()\n",
        "    idlist = record[\"IdList\"]\n",
        "\n",
        "    if len(idlist) > 0:\n",
        "        handle = Entrez.esummary(db=\"snp\", id=\",\".join(idlist))\n",
        "        result = Entrez.read(handle)\n",
        "        handle.close()\n",
        "        snp_info = result['DocumentSummarySet']['DocumentSummary'][0]\n",
        "        snp_rs_info.append({key: snp_info[key] for key in snp_info.keys()})\n",
        "        # snp_rs_info.append({'SNP_ID':f\"rs{snp_info['SNP_ID']}\", 'GENES':snp_info['GENES'], 'ACC':snp_info['ACC'], 'SPDI':snp_info['SPDI'], 'ALLELE':\" > \".join(snp_info['SPDI'].split(':')[2:]), 'CLINICAL_SIGNIFICANCE':snp_info['CLINICAL_SIGNIFICANCE'], 'CLINICAL_SORT':snp_info['CLINICAL_SORT']})\n",
        "  return snp_rs_info"
      ],
      "metadata": {
        "id": "mK7iunmU5GCd"
      },
      "execution_count": null,
      "outputs": []
    },
    {
      "cell_type": "code",
      "source": [
        "# search for the SNP record in NCBI dbSNP database\n",
        "handle = Entrez.esearch(db=\"snp\", term=\"rs77543610\")\n",
        "record = Entrez.read(handle)\n",
        "print(record)\n",
        "snp_rs_info=[]\n",
        "# retrieve the relevant data for the SNP\n",
        "handle = Entrez.esummary(db=\"snp\", id=record[\"IdList\"][0], rettype=\"asn.1\")\n",
        "record = Entrez.read(handle)\n",
        "#snp_info = record['DocumentSummarySet']['DocumentSummary'][0]\n",
        "#snp_rs_info.append({'SPDI':snp_info['SPDI']})\n",
        "#snp_rs_info.append({'ALLELE':\" > \".join(snp_info['SPDI'].split(':')[2:])})\n",
        "pprint(record)"
      ],
      "metadata": {
        "id": "FUUuMr745IZm"
      },
      "execution_count": null,
      "outputs": []
    },
    {
      "cell_type": "markdown",
      "source": [
        "1. Оценить частоту мутаций в популяциях по выбранному гену"
      ],
      "metadata": {
        "id": "XE7aoT8J5NpS"
      }
    },
    {
      "cell_type": "code",
      "source": [
        "df = pd.read_parquet('M4team_dataset.parquet.gzip')"
      ],
      "metadata": {
        "id": "1-2fhKDz5Ock"
      },
      "execution_count": null,
      "outputs": []
    },
    {
      "cell_type": "code",
      "source": [
        "df_new = df.copy()"
      ],
      "metadata": {
        "id": "M2a4TXhi59-M"
      },
      "execution_count": null,
      "outputs": []
    },
    {
      "cell_type": "code",
      "source": [
        "df_new.head(2)"
      ],
      "metadata": {
        "id": "xw8BOfgm6Aqu"
      },
      "execution_count": null,
      "outputs": []
    },
    {
      "cell_type": "code",
      "source": [
        "df_new.info()"
      ],
      "metadata": {
        "id": "PA7_12xg6D6G"
      },
      "execution_count": null,
      "outputs": []
    },
    {
      "cell_type": "code",
      "source": [
        "sign_list = ['pathogenic',\n",
        "       'pathogenic,likely-pathogenic,pathogenic-likely-pathogenic',\n",
        "       'pathogenic,likely-pathogenic,uncertain-significance,benign-likely-benign',\n",
        "       'likely-pathogenic,uncertain-significance,pathogenic',\n",
        "       'likely-pathogenic',\n",
        "       'likely-pathogenic,pathogenic',\n",
        "       'pathogenic,uncertain-significance']"
      ],
      "metadata": {
        "id": "C_gE_SV_6HLP"
      },
      "execution_count": null,
      "outputs": []
    },
    {
      "cell_type": "code",
      "source": [
        "df_new.columns"
      ],
      "metadata": {
        "id": "LDy61B_Q6Lgw"
      },
      "execution_count": null,
      "outputs": []
    },
    {
      "cell_type": "code",
      "source": [
        "df_new.drop(columns=['SNP_ID',  'GLOBAL_SAMPLESIZE', 'CHR'], inplace=True)"
      ],
      "metadata": {
        "id": "pfsJi9lt6OPp"
      },
      "execution_count": null,
      "outputs": []
    },
    {
      "cell_type": "code",
      "source": [
        "df_new.CLINICAL_SIGNIFICANCE.value_counts()"
      ],
      "metadata": {
        "id": "MNEAhMq_6QV6"
      },
      "execution_count": null,
      "outputs": []
    },
    {
      "cell_type": "code",
      "source": [
        "# rs_pat_list = df_fgfr2_pat.SNP_ID_RS.values.tolist()"
      ],
      "metadata": {
        "id": "yug5SZfZ6SXa"
      },
      "execution_count": null,
      "outputs": []
    },
    {
      "cell_type": "code",
      "source": [
        "df_new.Population.value_counts()"
      ],
      "metadata": {
        "id": "gQHjQ9V06UuN"
      },
      "execution_count": null,
      "outputs": []
    },
    {
      "cell_type": "code",
      "source": [
        "# Унификация названий популяции\n",
        "d = {'America' : 'American', 'Europe' : 'European', 'Africa' : 'African',\n",
        "     'AfricanAmerican': 'African American', 'Est_Asia': 'East Asian',\n",
        "     'SouthAsian': 'South Asian'}\n",
        "df_new['Population'] = df_new['Population'].apply(lambda x: d[x] if x in d.keys() else x)\n",
        "\n",
        "# Удаление некоторых категорий\n",
        "df_new = df_new.loc[~df_new['Population'].isin(['PARENT AND CHILD COHORT', 'TWIN COHORT', 'ACPOP', 'Other', 'Total', 'Global', 'CRM'])]"
      ],
      "metadata": {
        "id": "P0FNnYiR6ZE8"
      },
      "execution_count": null,
      "outputs": []
    },
    {
      "cell_type": "code",
      "source": [
        "# df_new = df_new[df['Ref Allele'] !='-\\nNo frequency provided']\n",
        "df_new['Alt_Allele'] = df_new['Alt Allele'].apply(lambda x: x.split('=')[0])\n",
        "df_new['Alt_Allele_frequency'] = df_new['Alt Allele'].apply(lambda x: x.split('=')[1].split(',')[0]).astype(float)"
      ],
      "metadata": {
        "id": "iMHCifJX6ave"
      },
      "execution_count": null,
      "outputs": []
    },
    {
      "cell_type": "code",
      "source": [
        "# Удаление строк, где Samplesize = 0\n",
        "df_new = df_new[df_new['Samplesize']!= 0]"
      ],
      "metadata": {
        "id": "FGMgvedT6e6e"
      },
      "execution_count": null,
      "outputs": []
    },
    {
      "cell_type": "code",
      "source": [
        "df_new.loc[df_new['Samplesize']== 0]"
      ],
      "metadata": {
        "id": "vD1RRGaS6fxo"
      },
      "execution_count": null,
      "outputs": []
    },
    {
      "cell_type": "code",
      "source": [
        "# Отфильтруем данные по CLINICAL_SIGNIFICANCE = pathogenic\n",
        "df1_new = df_new.loc[df_new['CLINICAL_SIGNIFICANCE'].isin(['pathogenic'])]"
      ],
      "metadata": {
        "id": "nTAHxPTo6h1Q"
      },
      "execution_count": null,
      "outputs": []
    },
    {
      "cell_type": "code",
      "source": [
        "df1_new.groupby(['Population', 'Alt_Allele']).agg({'Alt_Allele_frequency': ['max', 'mean', 'sum'], 'Samplesize': ['max', 'sum']}).reset_index()"
      ],
      "metadata": {
        "id": "CMtYnlF06kbT"
      },
      "execution_count": null,
      "outputs": []
    },
    {
      "cell_type": "code",
      "source": [
        "df1_new.Population.value_counts()"
      ],
      "metadata": {
        "id": "igPKcHF86mgg"
      },
      "execution_count": null,
      "outputs": []
    },
    {
      "cell_type": "code",
      "source": [
        "fig, ax = plt.subplots()\n",
        "for title, group in df1_new.groupby('Population'):\n",
        "    ax.scatter(group['Alt_Allele'], group['Alt_Allele_frequency'], label=title)\n",
        "\n",
        "plt.xlabel('Alt_Allele')\n",
        "plt.ylabel('Alt_Allele_frequency')\n",
        "plt.title('pop and Alt_Allele_frequency')\n",
        "\n",
        "plt.legend()\n",
        "plt.show()"
      ],
      "metadata": {
        "id": "469cc1mN6sbN"
      },
      "execution_count": null,
      "outputs": []
    },
    {
      "cell_type": "code",
      "source": [
        "# Посмотрим частоту альтернативных аллелей в пределах одной популяции\n",
        "df_american = df1_new.loc[df1_new['Population'].isin(['American']) & df1_new['Alt_Allele'].isin(['A', 'T', 'G', 'C'])]"
      ],
      "metadata": {
        "id": "X3atscSd6vBu"
      },
      "execution_count": null,
      "outputs": []
    },
    {
      "cell_type": "code",
      "source": [
        "df_american.groupby(['Population', 'Alt_Allele']).agg({'Alt_Allele_frequency': ['max', 'mean', 'sum'], 'Samplesize': ['max', 'sum']}).reset_index()"
      ],
      "metadata": {
        "id": "9DsrV_Fw6vsy"
      },
      "execution_count": null,
      "outputs": []
    },
    {
      "cell_type": "code",
      "source": [
        "fig, ax = plt.subplots()\n",
        "\n",
        "for title, group in df_american.groupby('Population'):\n",
        "    ax.scatter(group['Alt_Allele'], group['Alt_Allele_frequency'], label=title)\n",
        "\n",
        "plt.xlabel('Alt_Allele')\n",
        "plt.ylabel('Alt_Allele_frequency')\n",
        "plt.title('American and Alt_Allele_frequency')\n",
        "\n",
        "plt.legend()\n",
        "plt.show()"
      ],
      "metadata": {
        "id": "q-u7LRT26zeI"
      },
      "execution_count": null,
      "outputs": []
    },
    {
      "cell_type": "code",
      "source": [
        "df_european = df1_new.loc[df1_new['Population'].isin(['European']) & df1_new['Alt_Allele'].isin(['A', 'T', 'G', 'C'])]"
      ],
      "metadata": {
        "id": "YzuMJ8Ms60R3"
      },
      "execution_count": null,
      "outputs": []
    },
    {
      "cell_type": "code",
      "source": [
        "df_european.groupby(['Population', 'Alt_Allele']).agg({'Alt_Allele_frequency': ['max', 'mean', 'sum'], 'Samplesize': ['max', 'sum']}).reset_index()"
      ],
      "metadata": {
        "id": "cZ1BwVZe62yb"
      },
      "execution_count": null,
      "outputs": []
    },
    {
      "cell_type": "code",
      "source": [
        "fig, ax = plt.subplots()\n",
        "\n",
        "for title, group in df_european.groupby('Population'):\n",
        "    ax.scatter(group['Alt_Allele'], group['Alt_Allele_frequency'], label=title)\n",
        "\n",
        "plt.xlabel('Alt_Allele')\n",
        "plt.ylabel('Alt_Allele_frequency')\n",
        "plt.title('European and Alt_Allele_frequency')\n",
        "\n",
        "plt.legend()\n",
        "plt.show()"
      ],
      "metadata": {
        "id": "P3nKps5867nf"
      },
      "execution_count": null,
      "outputs": []
    },
    {
      "cell_type": "markdown",
      "source": [
        "2. Оценить частоту мутаций в разрезе связанных заболеваний."
      ],
      "metadata": {
        "id": "u2vCfFBj6_Wv"
      }
    },
    {
      "cell_type": "code",
      "source": [
        "df2 = pd.read_parquet('FGFR2_disease_dataset.parquet.gzip')"
      ],
      "metadata": {
        "id": "KRZRtDqu7AVO"
      },
      "execution_count": null,
      "outputs": []
    },
    {
      "cell_type": "code",
      "source": [
        "df_dis = df2.copy()\n",
        "df_dis.head(2)"
      ],
      "metadata": {
        "id": "o41Lkdn-7Cgf"
      },
      "execution_count": null,
      "outputs": []
    },
    {
      "cell_type": "code",
      "source": [
        "df_dis.info()"
      ],
      "metadata": {
        "id": "UwPq2ZBo7EZd"
      },
      "execution_count": null,
      "outputs": []
    },
    {
      "cell_type": "code",
      "source": [
        "df_dis.drop(columns=['ALLELE_ORIGIN', 'GLOBAL_SAMPLESIZE', 'GLOBAL_POPULATION', 'CHR', 'SUSPECTED', 'TEXT', 'CITED_SORT' ], inplace=True)"
      ],
      "metadata": {
        "id": "wNlBfIXv7HB2"
      },
      "execution_count": null,
      "outputs": []
    },
    {
      "cell_type": "code",
      "source": [
        "df_dis.columns"
      ],
      "metadata": {
        "id": "mQZs5FY07Kcb"
      },
      "execution_count": null,
      "outputs": []
    },
    {
      "cell_type": "code",
      "source": [
        "df_dis.Disease_Names.value_counts()"
      ],
      "metadata": {
        "id": "m9W3n6Vw7MoL"
      },
      "execution_count": null,
      "outputs": []
    },
    {
      "cell_type": "code",
      "source": [
        "# Унификация названий болезней\n",
        "d = {'Craniosynostosis, nonspecific' : 'FGFR2-related syndromic and non-syndromic craniosynostoses',\n",
        "     'Craniosynostosis syndrome' : 'FGFR2-related syndromic and non-syndromic craniosynostoses',\n",
        "     'Craniosynostosis, nonsyndromic unicoronal' : 'FGFR2-related syndromic and non-syndromic craniosynostoses',\n",
        "     'Craniosynostosis, nonclassifiable autosomal dominant': 'FGFR2-related syndromic and non-syndromic craniosynostoses',\n",
        "     'FGFR2 related craniosynostosis': 'FGFR2-related syndromic and non-syndromic craniosynostoses',\n",
        "     'Pfeiffer syndrome variant': 'Pfeiffer syndrome',\n",
        "     'Pfeiffer syndrome type 3': 'Pfeiffer syndrome',\n",
        "     'Squamous cell lung carcinoma': 'Lung adenocarcinoma',\n",
        "     'Abnormal pinna morphology,Abnormal posterior cranial fossa morphology,Abnormal zygomatic bone morphology,Brachyturricephaly,Choanal stenosis,Cranial asymmetry,Deviated nasal septum,Dilation of lateral ventricles,Downslanted palpebral fissures,Facial asymmetry,Flat occiput,High forehead,High palate,Hydrocephalus,Hypertelorism,Hypointensity of cerebral white matter on MRI,Low-set ears,Mild fetal ventriculomegaly,Narrow forehead,Shallow orbits,Short neck,Wide anterior fontanel':\n",
        "     'Craniofacial-skeletal-dermatologic dysplasia',\n",
        "     'Acrocephalosyndactyly type I,Antley-Bixler syndrome without genital anomalies or disordered steroidogenesis,Beare-Stevenson cutis gyrata syndrome,Crouzon syndrome,FGFR2-related bent bone dysplasia,Familial scaphocephaly syndrome, McGillivray type,Jackson-Weiss syndrome,Levy-Hollister syndrome,Neoplasm of stomach,Pfeiffer syndrome,Saethre-Chotzen syndrome':\n",
        "     'Undefined FGFR2-related syndrome',\n",
        "     'Acrocephalosyndactyly type I': 'Apert syndrome',\n",
        "     'not provided': '[Not provided]'}\n",
        "df_dis['Disease_Names'] = df_dis['Disease_Names'].apply(lambda x: d[x] if x in d.keys() else x)\n",
        "\n",
        "# Удаление некоторых категорий\n",
        "# df_dis = df_dis.loc[~df_dis['Disease_Names'].isin(['not provided'])]"
      ],
      "metadata": {
        "id": "qSmRWL7H7RPf"
      },
      "execution_count": null,
      "outputs": []
    },
    {
      "cell_type": "code",
      "source": [
        "df_dis.Disease_Names.value_counts()"
      ],
      "metadata": {
        "id": "AC4CkgT67R8V"
      },
      "execution_count": null,
      "outputs": []
    },
    {
      "cell_type": "code",
      "source": [
        "df_dis.SNP_CLASS.value_counts()"
      ],
      "metadata": {
        "id": "6WB3bSK37WPY"
      },
      "execution_count": null,
      "outputs": []
    },
    {
      "cell_type": "code",
      "source": [
        "fig, ax = plt.subplots()\n",
        "\n",
        "for title, group in df_dis.groupby('Disease_Names'):\n",
        "    ax.scatter(group['SNP_CLASS'], group['Disease_Names'])\n",
        "\n",
        "fig.set_figheight(7)\n",
        "fig.set_figwidth(4)\n",
        "\n",
        "# ax.set_xticklabels(ax.get_xticklabels(), rotation=90, ha='right')\n",
        "\n",
        "plt.xlabel('SNP class')\n",
        "plt.ylabel('Disease Names')\n",
        "plt.title('SNP class distribution of FGFR2-related diseases')\n",
        "\n",
        "# plt.legend()\n",
        "plt.show()"
      ],
      "metadata": {
        "id": "a0iUHJVg7YxP"
      },
      "execution_count": null,
      "outputs": []
    },
    {
      "cell_type": "code",
      "source": [
        "df_dis['Mutation_type'].value_counts()"
      ],
      "metadata": {
        "id": "_zHaCMec7bLE"
      },
      "execution_count": null,
      "outputs": []
    },
    {
      "cell_type": "code",
      "source": [
        "# Унификация названий типов мутаций\n",
        "d = {'Missense Variant' : 'Missense',\n",
        "     'Stop Gained' : 'Nonsense (Stop Gained)',\n",
        "     'Synonymous Variant' : 'Synonymous',\n",
        "     'Splice Acceptor Variant' : 'Splice Acceptor',\n",
        "     'Splice Donor Variant' : 'Splice Donor',\n",
        "     'Intron Variant' : 'Intron'}\n",
        "df_dis['Mutation_type'] = df_dis['Mutation_type'].apply(lambda x: d[x] if x in d.keys() else x)"
      ],
      "metadata": {
        "id": "zaxA6L9F7cJK"
      },
      "execution_count": null,
      "outputs": []
    },
    {
      "cell_type": "code",
      "source": [
        "df_dis['Mutation_type'].value_counts()"
      ],
      "metadata": {
        "id": "CZ6Acbk87eg8"
      },
      "execution_count": null,
      "outputs": []
    },
    {
      "cell_type": "code",
      "source": [
        "fig, ax = plt.subplots()\n",
        "\n",
        "for title, group in df_dis.groupby('Disease_Names'):\n",
        "    ax.scatter(group['Mutation_type'], group['Disease_Names'])\n",
        "\n",
        "fig.set_figheight(7)\n",
        "fig.set_figwidth(4)\n",
        "\n",
        "ax.set_xticklabels(ax.get_xticklabels(), rotation=60, ha='right')\n",
        "\n",
        "plt.xlabel('Mutation type')\n",
        "plt.ylabel('Disease Names')\n",
        "plt.title('Mutation types of FGFR2-related diseases')\n",
        "\n",
        "# plt.legend()\n",
        "plt.show()"
      ],
      "metadata": {
        "id": "QqRho3EW7gjs"
      },
      "execution_count": null,
      "outputs": []
    },
    {
      "cell_type": "code",
      "source": [
        "fig, ax = plt.subplots()\n",
        "\n",
        "for title, group in df_dis.groupby('Mutation_type'):\n",
        "    ax.scatter(group['SNP_CLASS'], group['Mutation_type'])\n",
        "\n",
        "fig.set_figheight(4)\n",
        "fig.set_figwidth(4)\n",
        "\n",
        "# ax.set_xticklabels(ax.get_xticklabels(), rotation=60, ha='right')\n",
        "\n",
        "plt.xlabel('SNP_CLASS')\n",
        "plt.ylabel('Mutation type')\n",
        "plt.title('Mutation types and SNP class relation of FGFR2-related diseases')\n",
        "\n",
        "# plt.legend()\n",
        "plt.show()"
      ],
      "metadata": {
        "id": "fOyl6iqp7jOg"
      },
      "execution_count": null,
      "outputs": []
    }
  ]
}