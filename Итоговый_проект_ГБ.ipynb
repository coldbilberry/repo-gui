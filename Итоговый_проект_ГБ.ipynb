{
  "nbformat": 4,
  "nbformat_minor": 0,
  "metadata": {
    "colab": {
      "provenance": [],
      "authorship_tag": "ABX9TyO1wbIAyqP1CW2S7AnpW2hD",
      "include_colab_link": true
    },
    "kernelspec": {
      "name": "python3",
      "display_name": "Python 3"
    },
    "language_info": {
      "name": "python"
    }
  },
  "cells": [
    {
      "cell_type": "markdown",
      "metadata": {
        "id": "view-in-github",
        "colab_type": "text"
      },
      "source": [
        "<a href=\"https://colab.research.google.com/github/coldbilberry/repo-gui/blob/main/%D0%98%D1%82%D0%BE%D0%B3%D0%BE%D0%B2%D1%8B%D0%B9_%D0%BF%D1%80%D0%BE%D0%B5%D0%BA%D1%82_%D0%93%D0%91.ipynb\" target=\"_parent\"><img src=\"https://colab.research.google.com/assets/colab-badge.svg\" alt=\"Open In Colab\"/></a>"
      ]
    },
    {
      "cell_type": "markdown",
      "source": [
        "Итоговый проект на факультете Data Science в медицине университета GeekBrains.\n",
        "\n",
        "Студент: Сергеева Анна Михайловна.\n",
        "\n",
        "Срок обучения: 2,5 года."
      ],
      "metadata": {
        "id": "SGcGgTii80j2"
      }
    },
    {
      "cell_type": "markdown",
      "source": [
        "Задание 1.\n",
        "\n",
        "Визуализируйте распределение количественных переменных (возраст, уровень холестерина) с помощью box plot и гистограмм.\n",
        "\n",
        "Постройте столбчатые диаграммы для анализа распределения категориальных переменных (пол, тип боли в груди).\n",
        "\n",
        "Работаем с таблицей https://drive.google.com/drive/folders/1VixOZfS79REbocxz_adU_7U848zFHdxf"
      ],
      "metadata": {
        "id": "WG09Hq4R9BHp"
      }
    },
    {
      "cell_type": "code",
      "execution_count": null,
      "metadata": {
        "id": "xlBXAaHN8P6_"
      },
      "outputs": [],
      "source": [
        "import warnings\n",
        "warnings.filterwarnings('ignore')"
      ]
    },
    {
      "cell_type": "code",
      "source": [
        "import numpy as np\n",
        "import pandas as pd\n",
        "import matplotlib.pyplot as plt\n",
        "import seaborn as sns\n",
        "from sklearn.model_selection import train_test_split, GridSearchCV"
      ],
      "metadata": {
        "id": "cnvgFgRL9NQ5"
      },
      "execution_count": null,
      "outputs": []
    },
    {
      "cell_type": "code",
      "source": [
        "from sklearn.metrics import make_scorer, mean_squared_error"
      ],
      "metadata": {
        "id": "0soDviE29QNf"
      },
      "execution_count": null,
      "outputs": []
    },
    {
      "cell_type": "code",
      "source": [
        "pip install association-metrics"
      ],
      "metadata": {
        "colab": {
          "base_uri": "https://localhost:8080/"
        },
        "id": "AULlkQ0W9QzN",
        "outputId": "e3b88f46-1b7b-4206-e714-b424862ecfe7"
      },
      "execution_count": null,
      "outputs": [
        {
          "output_type": "stream",
          "name": "stdout",
          "text": [
            "Collecting association-metrics\n",
            "  Downloading association-metrics-0.0.1.tar.gz (3.2 kB)\n",
            "  Preparing metadata (setup.py) ... \u001b[?25l\u001b[?25hdone\n",
            "Building wheels for collected packages: association-metrics\n",
            "  Building wheel for association-metrics (setup.py) ... \u001b[?25l\u001b[?25hdone\n",
            "  Created wheel for association-metrics: filename=association_metrics-0.0.1-py3-none-any.whl size=3929 sha256=712ff75b0dc6372e9f6d1357b73cf062f7bc8adc5ed5b142e453a8840bf82637\n",
            "  Stored in directory: /root/.cache/pip/wheels/01/47/5f/4360ef6988df6f1b0c1857cab43334269110160bd97b716936\n",
            "Successfully built association-metrics\n",
            "Installing collected packages: association-metrics\n",
            "Successfully installed association-metrics-0.0.1\n"
          ]
        }
      ]
    },
    {
      "cell_type": "code",
      "source": [
        "import association_metrics as am"
      ],
      "metadata": {
        "id": "IdValATZ9XjF"
      },
      "execution_count": null,
      "outputs": []
    },
    {
      "cell_type": "markdown",
      "source": [
        "Загрузка данных"
      ],
      "metadata": {
        "id": "br3L06qS9bgf"
      }
    },
    {
      "cell_type": "code",
      "source": [
        "from google.colab import drive\n",
        "drive.mount('/content/drive')"
      ],
      "metadata": {
        "id": "oytq4W9b9cF2"
      },
      "execution_count": null,
      "outputs": []
    },
    {
      "cell_type": "code",
      "source": [
        "data = pd.read_csv('drive/MyDrive/Итоговый/Доп. материал_Задание_ 1_heart.csv')"
      ],
      "metadata": {
        "id": "V-ltQmxA9uPU"
      },
      "execution_count": null,
      "outputs": []
    },
    {
      "cell_type": "code",
      "source": [
        "data.head(5)"
      ],
      "metadata": {
        "id": "8S3I27vx92F7"
      },
      "execution_count": null,
      "outputs": []
    },
    {
      "cell_type": "code",
      "source": [
        "data.info()"
      ],
      "metadata": {
        "id": "qgwS5TBI96TZ"
      },
      "execution_count": null,
      "outputs": []
    },
    {
      "cell_type": "code",
      "source": [
        "data.describe().T"
      ],
      "metadata": {
        "id": "fEG20hAe-Aj0"
      },
      "execution_count": null,
      "outputs": []
    },
    {
      "cell_type": "code",
      "source": [
        "data.hist(figsize=(20,5), layout=(-1, 7), bins=20, edgecolor='b');"
      ],
      "metadata": {
        "id": "8hDkbU7K-qhw"
      },
      "execution_count": null,
      "outputs": []
    },
    {
      "cell_type": "markdown",
      "source": [
        "Преобразование типов данных\n",
        "\n",
        "Сделаем категориальные признаки типом данных object."
      ],
      "metadata": {
        "id": "xlv75kVY-85Y"
      }
    },
    {
      "cell_type": "code",
      "source": [
        "continuous = ['age', 'trestbps', 'chol', 'thalach', 'oldpeak']\n",
        "\n",
        "categorical = [feature for feature in data.columns if feature not in continuous]"
      ],
      "metadata": {
        "id": "2AhTmffp-rXW"
      },
      "execution_count": null,
      "outputs": []
    },
    {
      "cell_type": "code",
      "source": [
        "data[categorical] = data[categorical].astype('object')\n",
        "\n",
        "data.dtypes"
      ],
      "metadata": {
        "id": "OHse7Pwd_BGw"
      },
      "execution_count": null,
      "outputs": []
    },
    {
      "cell_type": "markdown",
      "source": [
        "Проверка на дубли"
      ],
      "metadata": {
        "id": "P3_oEENy_GT1"
      }
    },
    {
      "cell_type": "code",
      "source": [
        "duplicates = data[data.duplicated()]\n",
        "duplicates"
      ],
      "metadata": {
        "id": "DrZab8CX_Efo"
      },
      "execution_count": null,
      "outputs": []
    },
    {
      "cell_type": "code",
      "source": [
        "data = data.drop_duplicates()"
      ],
      "metadata": {
        "id": "ffB6RRDd_JDi"
      },
      "execution_count": null,
      "outputs": []
    },
    {
      "cell_type": "code",
      "source": [
        "plt.figure(figsize=(10, 6))\n",
        "plt.hist(data['age'], bins=15, edgecolor='black')\n",
        "plt.title('Age Distribution')\n",
        "plt.xlabel('Age')\n",
        "plt.ylabel('Frequency')\n",
        "plt.grid(True)\n",
        "plt.show()"
      ],
      "metadata": {
        "id": "aALAeSk__K05"
      },
      "execution_count": null,
      "outputs": []
    },
    {
      "cell_type": "code",
      "source": [
        "plt.figure(figsize=(10, 6))\n",
        "boxprops = dict(color='blue', linewidth=2)\n",
        "medianprops = dict(color='red', linewidth=2)\n",
        "whiskerprops = dict(color='blue', linewidth=2)\n",
        "capprops = dict(color='blue', linewidth=2)\n",
        "flierprops = dict(marker='o', color='blue', markersize=5)\n",
        "\n",
        "plt.boxplot(data['age'], boxprops=boxprops, medianprops=medianprops,\n",
        "            whiskerprops=whiskerprops, capprops=capprops, flierprops=flierprops)\n",
        "\n",
        "plt.title('Age Level Box Plot')\n",
        "plt.xlabel('Age')\n",
        "plt.ylabel('Values')\n",
        "plt.grid(True)\n",
        "plt.show()"
      ],
      "metadata": {
        "id": "7UQKo2Sj_Nd8"
      },
      "execution_count": null,
      "outputs": []
    },
    {
      "cell_type": "code",
      "source": [
        "plt.figure(figsize=(10, 6))\n",
        "plt.hist(data['chol'], bins=15, edgecolor='black')\n",
        "plt.title('Сhol Distribution')\n",
        "plt.xlabel('Сhol')\n",
        "plt.ylabel('Frequency')\n",
        "plt.grid(True)\n",
        "plt.show()"
      ],
      "metadata": {
        "id": "B5lLoXtq_QkY"
      },
      "execution_count": null,
      "outputs": []
    },
    {
      "cell_type": "code",
      "source": [
        "plt.figure(figsize=(10, 6))\n",
        "boxprops = dict(color='blue', linewidth=2)\n",
        "medianprops = dict(color='red', linewidth=2)\n",
        "whiskerprops = dict(color='blue', linewidth=2)\n",
        "capprops = dict(color='blue', linewidth=2)\n",
        "flierprops = dict(marker='o', color='blue', markersize=5)\n",
        "\n",
        "plt.boxplot(data['chol'], boxprops=boxprops, medianprops=medianprops,\n",
        "            whiskerprops=whiskerprops, capprops=capprops, flierprops=flierprops)\n",
        "\n",
        "plt.title('Cholesterol Level Box Plot')\n",
        "plt.xlabel('Cholesterol')\n",
        "plt.ylabel('Values')\n",
        "plt.grid(True)\n",
        "plt.show()"
      ],
      "metadata": {
        "id": "CyqEm6ir_UzJ"
      },
      "execution_count": null,
      "outputs": []
    },
    {
      "cell_type": "markdown",
      "source": [
        "Построить столбчатые диаграммы для анализа распределения категориальных переменных (пол, тип боли в груди)"
      ],
      "metadata": {
        "id": "wU7uCjNq_bGv"
      }
    },
    {
      "cell_type": "code",
      "source": [
        "plt.figure(figsize=(10, 6))\n",
        "sns.countplot(x='sex', data=data, palette='viridis')\n",
        "plt.title('Gender Distribution')\n",
        "plt.xlabel('Gender')\n",
        "plt.ylabel('Count')\n",
        "plt.xticks(ticks=[0, 1], labels=['Female', 'Male'])\n",
        "plt.grid(True)\n",
        "plt.show()"
      ],
      "metadata": {
        "id": "F7Mtt0U__jEY"
      },
      "execution_count": null,
      "outputs": []
    },
    {
      "cell_type": "code",
      "source": [
        "plt.figure(figsize=(10, 6))\n",
        "sns.countplot(x='cp', data=data, palette='viridis')\n",
        "plt.title('Chest Pain Type Distribution')\n",
        "plt.xlabel('Chest Pain Type')\n",
        "plt.ylabel('Count')\n",
        "plt.xticks(ticks=[0, 1, 2, 3], labels=['Типичная стенокардия', 'Атипичная стенокардия', 'Боль, не связанная со стенокардией', 'Бессимптомная'] , rotation=45)\n",
        "plt.grid(True)\n",
        "plt.show()"
      ],
      "metadata": {
        "id": "djBNkh_7_m3E"
      },
      "execution_count": null,
      "outputs": []
    },
    {
      "cell_type": "markdown",
      "source": [
        "Задание 2.\n",
        "\n",
        "Вам предстоит провести эксперименты с моделью машинного обучения и изучить процесс кросс-валидации и подбора гиперпараметров. Ваша задача состоит в следующем:\n",
        "\n",
        "1) Загрузите набор данных, подходящий для задачи классификации или регрессии. Вы можете использовать любой набор данных, предоставленный в библиотеке scikit-learn или другом доступном источнике данных.\n",
        "\n",
        "2) Разделите данные на обучающую и тестовую выборки с помощью функции train_test_split из библиотеки scikit-learn.\n",
        "\n",
        "3) Создайте модель машинного обучения, которую вы хотите использовать для предсказания на этом наборе данных. Например, можно использовать модель линейной регрессии или случайный лес для задачи регрессии, или модель логистической регрессии или случайный лес для задачи классификации.\n",
        "\n",
        "4) Используйте метод кросс-валидации, чтобы оценить производительность модели на обучающей выборке. Например, можно использовать метод cross_val_score из библиотеки scikit-learn с использованием метрики оценки, такой как точность (accuracy) или среднеквадратичная ошибка (mean squared error).\n",
        "\n",
        "5) Проведите подбор гиперпараметров модели с помощью метода GridSearchCV из библиотеки scikit-learn. Этот метод позволяет перебирать различные значения гиперпараметров и выбирать наилучшие значения на основе кросс-валидации.\n",
        "\n",
        "6) Обучите модель с использованием оптимальных гиперпараметров на обучающей выборке и оцени ее производительность на тестовой выборке.\n",
        "\n",
        "7) Проведите анализ результатов и сделай выводы о процессе кросс-валидации и подборе гиперпараметров в задачах машинного обучения."
      ],
      "metadata": {
        "id": "LlvGJyrP_qta"
      }
    },
    {
      "cell_type": "code",
      "source": [
        "from sklearn.model_selection import train_test_split, cross_val_score"
      ],
      "metadata": {
        "id": "be0McQAHCWXn"
      },
      "execution_count": null,
      "outputs": []
    },
    {
      "cell_type": "code",
      "source": [
        "from sklearn.linear_model import LogisticRegression"
      ],
      "metadata": {
        "id": "9slPyDS0CZNP"
      },
      "execution_count": null,
      "outputs": []
    },
    {
      "cell_type": "code",
      "source": [
        "from sklearn.metrics import accuracy_score, log_loss\n",
        "from sklearn.metrics import f1_score\n",
        "from sklearn.metrics import roc_auc_score\n",
        "from sklearn.metrics import r2_score\n",
        "from sklearn.metrics import classification_report"
      ],
      "metadata": {
        "id": "GynVSPYzCdYg"
      },
      "execution_count": null,
      "outputs": []
    },
    {
      "cell_type": "markdown",
      "source": [
        "Для задания №2 был выбран датасет с данными когорты педиатрических пациентов с подозрением на аппендицит, поступивших с болью в животе в детскую больницу Святой Хедвиги в Регенсбурге, Германия, в период с 2016 по 2021 год.\n",
        "(https://archive.ics.uci.edu/dataset/938/regensburg+pediatric+appendicitis)"
      ],
      "metadata": {
        "id": "1Mw8C3NmCi0c"
      }
    },
    {
      "cell_type": "markdown",
      "source": [
        "1.Загрузите набор данных."
      ],
      "metadata": {
        "id": "qFPAZ8TyCqsl"
      }
    },
    {
      "cell_type": "code",
      "source": [
        "data2 = pd.read_excel('drive/MyDrive/Итоговый/app_data.xlsx')"
      ],
      "metadata": {
        "id": "gWGAc9JSCocg"
      },
      "execution_count": null,
      "outputs": []
    },
    {
      "cell_type": "code",
      "source": [
        "data2.head(5)"
      ],
      "metadata": {
        "id": "r_d6sCTcCwbP"
      },
      "execution_count": null,
      "outputs": []
    },
    {
      "cell_type": "markdown",
      "source": [
        "Таргет - Диагноз (Diagnosis). Есть аппендицит, нет аппендицита.\n",
        "\n",
        "Задача - определить класс диагностического решения - бинарная классификация."
      ],
      "metadata": {
        "id": "VmRMKhQ1EMu3"
      }
    },
    {
      "cell_type": "markdown",
      "source": [
        "EDA"
      ],
      "metadata": {
        "id": "claPiHY-EPzg"
      }
    },
    {
      "cell_type": "code",
      "source": [
        "data2.info()"
      ],
      "metadata": {
        "id": "bohlONBSC0tF"
      },
      "execution_count": null,
      "outputs": []
    },
    {
      "cell_type": "markdown",
      "source": [
        "17 количественных признаков, 39 категориальных"
      ],
      "metadata": {
        "id": "hCeXaDKyEXF4"
      }
    },
    {
      "cell_type": "code",
      "source": [
        "data2 = data2.dropna(subset = ['Diagnosis'])"
      ],
      "metadata": {
        "id": "UPBUwz-4EXuZ"
      },
      "execution_count": null,
      "outputs": []
    },
    {
      "cell_type": "code",
      "source": [
        "data2.isna().sum()"
      ],
      "metadata": {
        "id": "Nrz7yl4xEbIc"
      },
      "execution_count": null,
      "outputs": []
    },
    {
      "cell_type": "markdown",
      "source": [
        "В датасете много пропусков.\n",
        "\n",
        "Будем формировать список для удаления неинформативных колонок, обрабатывать пропуски.\n",
        "\n",
        "Посмотрим признаки с пропусками в процентном соотношении."
      ],
      "metadata": {
        "id": "VrczsAHJE1h5"
      }
    },
    {
      "cell_type": "code",
      "source": [
        "null = data2.isna().sum()/len(data2) * 100\n",
        "null = pd.DataFrame({'feature':null.index, 'null_percentage':null}).sort_values(by='null_percentage', ascending=False).reset_index(drop=True)"
      ],
      "metadata": {
        "id": "ExV4xxVpE2Yn"
      },
      "execution_count": null,
      "outputs": []
    },
    {
      "cell_type": "code",
      "source": [
        "null"
      ],
      "metadata": {
        "id": "wKxMBtMpE6-b"
      },
      "execution_count": null,
      "outputs": []
    },
    {
      "cell_type": "markdown",
      "source": [
        "Подробно будем рассматривать признаки с пропусками > 10 %"
      ],
      "metadata": {
        "id": "65BrFyBgFAB9"
      }
    },
    {
      "cell_type": "code",
      "source": [
        "# список колонок для удаления\n",
        "for_drop = []"
      ],
      "metadata": {
        "id": "dn7Ym72rFAiV"
      },
      "execution_count": null,
      "outputs": []
    },
    {
      "cell_type": "markdown",
      "source": [
        "Признак Abscess_Location (локация абсцесса) заполнен всего 13-ю строками со значениями (Douglas, retrovesikal, rechter Unterbauch, perityphlitisch, an den M. psoas rechts). Признак неинформативен."
      ],
      "metadata": {
        "id": "9Bl6vykgFKZu"
      }
    },
    {
      "cell_type": "code",
      "source": [
        "for_drop.append('Abscess_Location')"
      ],
      "metadata": {
        "id": "SPYRPpkwFDvI"
      },
      "execution_count": null,
      "outputs": []
    },
    {
      "cell_type": "markdown",
      "source": [
        "Признак Gynecological Findings (уточнения по гинекологии) заполнен 26-ю строками. У половины из списка найдены кисты яичников. Слишком мало для информативности."
      ],
      "metadata": {
        "id": "3TRpordcFRUy"
      }
    },
    {
      "cell_type": "code",
      "source": [
        "for_drop.append('Gynecological_Findings')"
      ],
      "metadata": {
        "id": "Pa2Ys6mhFWQc"
      },
      "execution_count": null,
      "outputs": []
    },
    {
      "cell_type": "markdown",
      "source": [
        "Признак Conglomerate_of_Bowel_Loops (конгломерат кишечника) заполнен на 43 строчках. Значения yes, no. Неинформативен."
      ],
      "metadata": {
        "id": "JLMHUg02FW_A"
      }
    },
    {
      "cell_type": "code",
      "source": [
        "for_drop.append('Conglomerate_of_Bowel_Loops')"
      ],
      "metadata": {
        "id": "trxzeSzDFZEo"
      },
      "execution_count": null,
      "outputs": []
    },
    {
      "cell_type": "markdown",
      "source": [
        "Признак Segmented_Neutrophils (Сегментированные нейтрофилы) 54 строки заполнено. Численные значения. Указывают на воспалительный процесс в организме. Нет гарантии, что этот процесс - аппендицит."
      ],
      "metadata": {
        "id": "zPfdjHgwFbQo"
      }
    },
    {
      "cell_type": "code",
      "source": [
        "for_drop.append('Segmented_Neutrophils')"
      ],
      "metadata": {
        "id": "zSZ4Ndw9FeTe"
      },
      "execution_count": null,
      "outputs": []
    },
    {
      "cell_type": "markdown",
      "source": [
        "Признак Ileus (Кишечная непроходимость) 60 строк заполнено. Значения yes, no. Кишечная непроходимость прямо не указывает на аппендицит."
      ],
      "metadata": {
        "id": "ztHquDJ_Fjpi"
      }
    },
    {
      "cell_type": "code",
      "source": [
        "for_drop.append('Ileus')"
      ],
      "metadata": {
        "id": "GByUOQQ-FlzL"
      },
      "execution_count": null,
      "outputs": []
    },
    {
      "cell_type": "markdown",
      "source": [
        "Признак Perfusion (Перфузия) - метод подведения и пропускания крови, кровезамещающих растворов и биологически активных веществ через сосудистую систему органов и тканей организма. 63 значения. Хоть этот метод проводится на аппендиксе и у 61 из 63 пациентов диагностирован аппендицит, все равно 63 значения из 782 это очень мало. Замену на моду считаю неправильной."
      ],
      "metadata": {
        "id": "JU81VdNhFn1c"
      }
    },
    {
      "cell_type": "code",
      "source": [
        "for_drop.append('Perfusion')"
      ],
      "metadata": {
        "id": "-pgBT1DKFqOz"
      },
      "execution_count": null,
      "outputs": []
    },
    {
      "cell_type": "markdown",
      "source": [
        "Признак Enteritis (воспаление в области тонкого кишечника). Аппендикс является частью слепой кишки, не тонкого кишечника."
      ],
      "metadata": {
        "id": "dfzPnje7Fubv"
      }
    },
    {
      "cell_type": "code",
      "source": [
        "for_drop.append('Enteritis')"
      ],
      "metadata": {
        "id": "kRJedCNKFsgv"
      },
      "execution_count": null,
      "outputs": []
    },
    {
      "cell_type": "markdown",
      "source": [
        "Признак Appendicolith (Аппендиколит) это образование, которое формируется из-за кальцифицированных отложений в аппендиксе, состоящих из плотных каловых масс и иногда минеральных отложений 69 значений. Признак является прямым предшественником аппендицита."
      ],
      "metadata": {
        "id": "5g4HpdOkF0aM"
      }
    },
    {
      "cell_type": "code",
      "source": [
        "df_colith = data2[data2['Appendicolith'] == 'yes']"
      ],
      "metadata": {
        "id": "e053xCfHFxnz"
      },
      "execution_count": null,
      "outputs": []
    },
    {
      "cell_type": "code",
      "source": [
        "df_colith['Diagnosis']"
      ],
      "metadata": {
        "id": "GHSExXDkF6jt"
      },
      "execution_count": null,
      "outputs": []
    },
    {
      "cell_type": "markdown",
      "source": [
        "Считаю, что если у пациента диагноституется Аппендиколит, то этот факт обязательно указывается в истории болезни. Значит, пропуски заполняем значением 'no'."
      ],
      "metadata": {
        "id": "tp2HoDdsIUda"
      }
    },
    {
      "cell_type": "code",
      "source": [
        "data2['Appendicolith'].fillna('no', inplace=True)"
      ],
      "metadata": {
        "id": "j6HHI3O8IXO0"
      },
      "execution_count": null,
      "outputs": []
    },
    {
      "cell_type": "code",
      "source": [
        "data2['Appendicolith'].value_counts()"
      ],
      "metadata": {
        "id": "h06z2RpQIlDq"
      },
      "execution_count": null,
      "outputs": []
    },
    {
      "cell_type": "markdown",
      "source": [
        "Признак Coprostasis (Скопление каловых масс в толстой кишке кишечника)."
      ],
      "metadata": {
        "id": "gtrNC4spJJx2"
      }
    },
    {
      "cell_type": "code",
      "source": [
        "data2_copro = data2[data2['Coprostasis'] == 'yes']"
      ],
      "metadata": {
        "id": "rjqMY3t4JKz7"
      },
      "execution_count": null,
      "outputs": []
    },
    {
      "cell_type": "code",
      "source": [
        "data2_copro['Diagnosis']"
      ],
      "metadata": {
        "id": "DgvKUmtmJNWU"
      },
      "execution_count": null,
      "outputs": []
    },
    {
      "cell_type": "code",
      "source": [
        "for_drop.append('Coprostasis')"
      ],
      "metadata": {
        "id": "4Gd42q2yJSpd"
      },
      "execution_count": null,
      "outputs": []
    },
    {
      "cell_type": "markdown",
      "source": [
        "Признак Perforation (Признаки перфорации аппендикса при УЗИ)"
      ],
      "metadata": {
        "id": "mZ8sUNMjJV8A"
      }
    },
    {
      "cell_type": "code",
      "source": [
        "data2_per = data2[data2['Perforation'] == 'yes']\n",
        "data2_per['Diagnosis']"
      ],
      "metadata": {
        "id": "hLS2MbSkJTcC"
      },
      "execution_count": null,
      "outputs": []
    },
    {
      "cell_type": "code",
      "source": [
        "data2_per = data2[data2['Perforation'] == 'no']\n",
        "data2_per['Diagnosis']"
      ],
      "metadata": {
        "id": "q6e_uA2CJb1M"
      },
      "execution_count": null,
      "outputs": []
    },
    {
      "cell_type": "code",
      "source": [
        "data2.groupby('Perforation')['Diagnosis'].value_counts()"
      ],
      "metadata": {
        "id": "VzTaJlTWJcgf"
      },
      "execution_count": null,
      "outputs": []
    },
    {
      "cell_type": "markdown",
      "source": [
        "Перфорация аппендикса прямое следствие аппендицита. Удалять колонку нельзя. Практически все заполненные значения признака Перфорации относятся к диагнозу аппендицит. Пропуски заполняем значением suspected, у которого более сбалансированы варианты диагноза."
      ],
      "metadata": {
        "id": "5HeZid0tJiGh"
      }
    },
    {
      "cell_type": "code",
      "source": [
        "data2['Perforation'].fillna('suspected', inplace=True)"
      ],
      "metadata": {
        "id": "lyG0Gj62Jev8"
      },
      "execution_count": null,
      "outputs": []
    },
    {
      "cell_type": "code",
      "source": [
        "data2['Perforation'].value_counts()"
      ],
      "metadata": {
        "id": "abf53jJWJnES"
      },
      "execution_count": null,
      "outputs": []
    },
    {
      "cell_type": "markdown",
      "source": [
        "Признак Appendicular_Abscess (Аппендикулярный абсцесс) - осложнение острого аппендицита."
      ],
      "metadata": {
        "id": "z9Zger5mJrIr"
      }
    },
    {
      "cell_type": "code",
      "source": [
        "data2_app = data2[data2['Appendicular_Abscess'] == 'no']\n",
        "data2_app['Diagnosis']"
      ],
      "metadata": {
        "id": "siX4Q-mCJtWX"
      },
      "execution_count": null,
      "outputs": []
    },
    {
      "cell_type": "code",
      "source": [
        "data2.groupby('Appendicular_Abscess')['Diagnosis'].value_counts()"
      ],
      "metadata": {
        "id": "ti_aaj9dJwlr"
      },
      "execution_count": null,
      "outputs": []
    },
    {
      "cell_type": "markdown",
      "source": [
        "Признак Appendicular_Abscess не следует удалять, так как он является следствием аппендицита. Заменим пропуски значением 'not excluded' (не исключено), которое не нарушит баланс признака и сохранит связь с таргетом."
      ],
      "metadata": {
        "id": "jy9EbIZCJ5zo"
      }
    },
    {
      "cell_type": "code",
      "source": [
        "data2['Appendicular_Abscess'].fillna('not excluded', inplace=True)\n",
        "data2['Appendicular_Abscess'].value_counts()"
      ],
      "metadata": {
        "id": "aZ-3Js2vJ8ZM"
      },
      "execution_count": null,
      "outputs": []
    },
    {
      "cell_type": "markdown",
      "source": [
        "Признак Bowel_Wall_Thickening (Утолщение внутренней стенки кишечника). 99 значений заполнено. Удаляем."
      ],
      "metadata": {
        "id": "EcxeTudPKBFw"
      }
    },
    {
      "cell_type": "code",
      "source": [
        "for_drop.append('Bowel_Wall_Thickening')"
      ],
      "metadata": {
        "id": "lqU-Lnv1KCHv"
      },
      "execution_count": null,
      "outputs": []
    },
    {
      "cell_type": "markdown",
      "source": [
        "Признак Lymph_Nodes_Location (Расположение лимфатических узлов)"
      ],
      "metadata": {
        "id": "j_5ysLfAKiF6"
      }
    },
    {
      "cell_type": "code",
      "source": [
        "data2.groupby('Lymph_Nodes_Location')['Diagnosis'].value_counts()"
      ],
      "metadata": {
        "id": "FnZ3mLCMKkO4"
      },
      "execution_count": null,
      "outputs": []
    },
    {
      "cell_type": "markdown",
      "source": [
        "По распределению диагноза по группам локации лимфоузлов видно, что в большинстве случаев пациенты с аппендицитом имеют увеличенные узлы \"rechter Unterbauch\", а без аппендицита - 'mesenterial'. Заполним пропуски таким образом."
      ],
      "metadata": {
        "id": "_wejYoJ7KnU9"
      }
    },
    {
      "cell_type": "code",
      "source": [
        "data2.loc[(data2['Lymph_Nodes_Location'].isna()) & (data2['Diagnosis'] == 'appendicitis'), 'Lymph_Nodes_Location'] = 'rechter Unterbauch'\n",
        "data2.loc[(data2['Lymph_Nodes_Location'].isna()) & (data2['Diagnosis'] == 'no appendicitis'), 'Lymph_Nodes_Location'] = 'mesenterial'\n",
        "data2['Lymph_Nodes_Location'].value_counts()"
      ],
      "metadata": {
        "id": "kFRyXAGqKqHh"
      },
      "execution_count": null,
      "outputs": []
    },
    {
      "cell_type": "markdown",
      "source": [
        "Признак Target_Sign (Аксиальное изображение аппендикса с заполненным жидкостью центром, окруженным эхогенной и подслизистой оболочкой и гипоэхогенной мускулатурой). 138 значений заполнено."
      ],
      "metadata": {
        "id": "4cnBDQKzKzAq"
      }
    },
    {
      "cell_type": "code",
      "source": [
        "data2.groupby('Target_Sign')['Diagnosis'].value_counts()"
      ],
      "metadata": {
        "id": "z9jpbFmKK3oS"
      },
      "execution_count": null,
      "outputs": []
    },
    {
      "cell_type": "code",
      "source": [
        "data2.loc[(data2['Target_Sign'].isna()) & (data2['Diagnosis'] == 'appendicitis'), 'Target_Sign'] = 'yes'\n",
        "data2.loc[(data2['Target_Sign'].isna()) & (data2['Diagnosis'] == 'no appendicitis'), 'Target_Sign'] = 'not excluded'\n",
        "data2['Target_Sign'].value_counts()"
      ],
      "metadata": {
        "id": "L5O0I8V1K841"
      },
      "execution_count": null,
      "outputs": []
    },
    {
      "cell_type": "code",
      "source": [
        "data2.groupby('Meteorism')['Diagnosis'].value_counts()"
      ],
      "metadata": {
        "id": "p8Hv8rDaK95F"
      },
      "execution_count": null,
      "outputs": []
    },
    {
      "cell_type": "code",
      "source": [
        "for_drop.append('Meteorism')"
      ],
      "metadata": {
        "id": "YuSzKmuKLDwi"
      },
      "execution_count": null,
      "outputs": []
    },
    {
      "cell_type": "markdown",
      "source": [
        "Признак Pathological_Lymph_Nodes (Увеличенные и воспаленные внутрибрюшные лимфатические узлы)"
      ],
      "metadata": {
        "id": "FhVUBeqVLGW5"
      }
    },
    {
      "cell_type": "code",
      "source": [
        "data2.groupby('Pathological_Lymph_Nodes')['Diagnosis'].value_counts()"
      ],
      "metadata": {
        "id": "yRdtjeyoLLuO"
      },
      "execution_count": null,
      "outputs": []
    },
    {
      "cell_type": "code",
      "source": [
        "for_drop.append('Pathological_Lymph_Nodes')"
      ],
      "metadata": {
        "id": "jm9FJR4SLOFB"
      },
      "execution_count": null,
      "outputs": []
    },
    {
      "cell_type": "markdown",
      "source": [
        "Признак Appendix_Wall_Layers (Распределение и характеристики слоев аппендикса, например, неравномерность при нарастающем воспалении)"
      ],
      "metadata": {
        "id": "2KrwbgwtLRsJ"
      }
    },
    {
      "cell_type": "code",
      "source": [
        "data2.groupby('Appendix_Wall_Layers')['Diagnosis'].value_counts()"
      ],
      "metadata": {
        "id": "C82nXOnMLScb"
      },
      "execution_count": null,
      "outputs": []
    },
    {
      "cell_type": "markdown",
      "source": [
        "Заменим пропуски на признак intact (неповрежденный). Распределение диагноза по этому признаку ~ 1/3"
      ],
      "metadata": {
        "id": "1f4AGmxJLXFu"
      }
    },
    {
      "cell_type": "code",
      "source": [
        "data2['Appendix_Wall_Layers'].fillna('intact', inplace=True)\n",
        "data2['Appendix_Wall_Layers'].value_counts()"
      ],
      "metadata": {
        "id": "AyTjWPNZLUKv"
      },
      "execution_count": null,
      "outputs": []
    },
    {
      "cell_type": "code",
      "source": [
        "data2.groupby('Surrounding_Tissue_Reaction')['Diagnosis'].value_counts()"
      ],
      "metadata": {
        "id": "sUaJxnIILdwi"
      },
      "execution_count": null,
      "outputs": []
    },
    {
      "cell_type": "markdown",
      "source": [
        "Чтобы исключить ошибку второго рода (пропустить аппендицит там, где он есть) заменим пропуски на yes."
      ],
      "metadata": {
        "id": "0Rot9kV6LgFk"
      }
    },
    {
      "cell_type": "code",
      "source": [
        "data2['Surrounding_Tissue_Reaction'].fillna('yes', inplace=True)\n",
        "data2['Surrounding_Tissue_Reaction'].value_counts()"
      ],
      "metadata": {
        "id": "dD_FEdHdLivD"
      },
      "execution_count": null,
      "outputs": []
    },
    {
      "cell_type": "markdown",
      "source": [
        "Признак Appendix_Diameter (Максимальный наружный диаметр аппендикса)"
      ],
      "metadata": {
        "id": "5IoyPDeKLn-W"
      }
    },
    {
      "cell_type": "code",
      "source": [
        "data2.groupby('Appendix_Diameter')['Diagnosis'].value_counts()"
      ],
      "metadata": {
        "id": "Oq63dq7iLnEp"
      },
      "execution_count": null,
      "outputs": []
    },
    {
      "cell_type": "markdown",
      "source": [
        "Порог 6 мм. Заменим медианой."
      ],
      "metadata": {
        "id": "9FvaiZ8vLs5A"
      }
    },
    {
      "cell_type": "code",
      "source": [
        "median_value = data2['Appendix_Diameter'].median()\n",
        "data2['Appendix_Diameter'].fillna(median_value, inplace=True)\n",
        "data2['Appendix_Diameter'].value_counts()"
      ],
      "metadata": {
        "id": "yUWcOA0LLsIO"
      },
      "execution_count": null,
      "outputs": []
    },
    {
      "cell_type": "markdown",
      "source": [
        "Признак RBC_in_Urine (Количество эритроцитов в единице объема мочи)"
      ],
      "metadata": {
        "id": "H51QgkyyLx5Z"
      }
    },
    {
      "cell_type": "code",
      "source": [
        "data2.groupby('RBC_in_Urine')['Diagnosis'].value_counts()"
      ],
      "metadata": {
        "id": "FLjLUuLLLyfR"
      },
      "execution_count": null,
      "outputs": []
    },
    {
      "cell_type": "markdown",
      "source": [
        "Заменим пропуски на значение \"no\""
      ],
      "metadata": {
        "id": "0aq3EY37L3_K"
      }
    },
    {
      "cell_type": "code",
      "source": [
        "data2['RBC_in_Urine'].fillna('no', inplace=True)\n",
        "data2['RBC_in_Urine'].value_counts()"
      ],
      "metadata": {
        "id": "7CD5x2ewL0mL"
      },
      "execution_count": null,
      "outputs": []
    },
    {
      "cell_type": "markdown",
      "source": [
        "Признак Ketones_in_Urine (Кетоны в моче)"
      ],
      "metadata": {
        "id": "msN31WRHL-Mq"
      }
    },
    {
      "cell_type": "code",
      "source": [
        "data2.groupby('Ketones_in_Urine')['Diagnosis'].value_counts()"
      ],
      "metadata": {
        "id": "Bo9OisgbMAuy"
      },
      "execution_count": null,
      "outputs": []
    },
    {
      "cell_type": "code",
      "source": [
        "data2['Ketones_in_Urine'].fillna('no', inplace=True)\n",
        "data2['Ketones_in_Urine'].value_counts()"
      ],
      "metadata": {
        "id": "o_hfAHOyMDp-"
      },
      "execution_count": null,
      "outputs": []
    },
    {
      "cell_type": "markdown",
      "source": [
        "Признак WBC_in_Urine (Лейкоциты в моче)"
      ],
      "metadata": {
        "id": "lQdV9eJrMEZF"
      }
    },
    {
      "cell_type": "code",
      "source": [
        "data2.groupby('WBC_in_Urine')['Diagnosis'].value_counts()"
      ],
      "metadata": {
        "id": "O7UUhbckMGpw"
      },
      "execution_count": null,
      "outputs": []
    },
    {
      "cell_type": "code",
      "source": [
        "data2['WBC_in_Urine'].fillna('no', inplace=True)\n",
        "data2['WBC_in_Urine'].value_counts()"
      ],
      "metadata": {
        "id": "2w-nywTtMJRP"
      },
      "execution_count": null,
      "outputs": []
    },
    {
      "cell_type": "markdown",
      "source": [
        "Признак Ipsilateral_Rebound_Tenderness (Состояние, при котором ощущается боль ипсилатеральной стороны при снятии давления над животом)"
      ],
      "metadata": {
        "id": "lMVlOOfbMMtg"
      }
    },
    {
      "cell_type": "code",
      "source": [
        "data2.groupby('Ipsilateral_Rebound_Tenderness')['Diagnosis'].value_counts()"
      ],
      "metadata": {
        "id": "pqYZ7SCZMMD3"
      },
      "execution_count": null,
      "outputs": []
    },
    {
      "cell_type": "code",
      "source": [
        "data2['Ipsilateral_Rebound_Tenderness'].fillna('not excluded', inplace=True)\n",
        "data2['Ipsilateral_Rebound_Tenderness'].value_counts()"
      ],
      "metadata": {
        "id": "mrVLOyYHMWcI"
      },
      "execution_count": null,
      "outputs": []
    },
    {
      "cell_type": "markdown",
      "source": [
        "Признак Neutrophil_Percentage (Процент нейтрофилов)"
      ],
      "metadata": {
        "id": "O5eSGM5DMd8J"
      }
    },
    {
      "cell_type": "code",
      "source": [
        "data2.groupby('Neutrophil_Percentage')['Diagnosis'].value_counts()"
      ],
      "metadata": {
        "id": "vpXJqfSXMfPl"
      },
      "execution_count": null,
      "outputs": []
    },
    {
      "cell_type": "code",
      "source": [
        "median_value = data2['Neutrophil_Percentage'].median()\n",
        "data2['Neutrophil_Percentage'].fillna(median_value, inplace=True)\n",
        "data2['Neutrophil_Percentage'].value_counts()"
      ],
      "metadata": {
        "id": "X9Cx7vD1MlS7"
      },
      "execution_count": null,
      "outputs": []
    },
    {
      "cell_type": "markdown",
      "source": [
        "Удаление неинформативных колонок."
      ],
      "metadata": {
        "id": "IC62tf8_MpMu"
      }
    },
    {
      "cell_type": "code",
      "source": [
        "data2 = data2.drop(for_drop, axis=1)"
      ],
      "metadata": {
        "id": "qIQD6PwgMoot"
      },
      "execution_count": null,
      "outputs": []
    },
    {
      "cell_type": "code",
      "source": [
        "data2.isna().sum()"
      ],
      "metadata": {
        "id": "d73l7-DeMtnJ"
      },
      "execution_count": null,
      "outputs": []
    },
    {
      "cell_type": "markdown",
      "source": [
        "Остальные пропуски заменим медианой или модой."
      ],
      "metadata": {
        "id": "l8UzYxIpMwNl"
      }
    },
    {
      "cell_type": "code",
      "source": [
        "missing_columns = data2.columns[data2.isnull().any()].tolist()\n",
        "missing_columns"
      ],
      "metadata": {
        "id": "x4dKn1vlMygo"
      },
      "execution_count": null,
      "outputs": []
    },
    {
      "cell_type": "code",
      "source": [
        "column_types = data2.dtypes"
      ],
      "metadata": {
        "id": "V_MDmlcHM13M"
      },
      "execution_count": null,
      "outputs": []
    },
    {
      "cell_type": "code",
      "source": [
        "print(\"Типы данных колонок:\\n\", column_types)"
      ],
      "metadata": {
        "id": "kJR-qg1PM33G"
      },
      "execution_count": null,
      "outputs": []
    },
    {
      "cell_type": "code",
      "source": [
        "# разделим количественные и качественные колонки\n",
        "cat_columns = ['Sex',\n",
        " 'Appendix_on_US',\n",
        " 'Migratory_Pain',\n",
        " 'Lower_Right_Abd_Pain',\n",
        " 'Contralateral_Rebound_Tenderness',\n",
        " 'Coughing_Pain',\n",
        " 'Nausea',\n",
        " 'Loss_of_Appetite',\n",
        " 'Neutrophilia',\n",
        " 'Dysuria',\n",
        " 'Stool',\n",
        " 'Peritonitis',\n",
        " 'Psoas_Sign',\n",
        " 'US_Performed',\n",
        " 'Free_Fluids',\n",
        "  'Diagnosis_Presumptive']\n",
        "\n",
        "num_columns = ['Age',\n",
        "  'BMI',\n",
        " 'Height',\n",
        " 'Weight',\n",
        " 'Length_of_Stay',\n",
        " 'Alvarado_Score',\n",
        " 'Paedriatic_Appendicitis_Score',\n",
        " 'Appendix_Diameter',\n",
        " 'Body_Temperature',\n",
        " 'WBC_Count',\n",
        "  'Neutrophil_Percentage',\n",
        " 'RBC_Count',\n",
        " 'Hemoglobin',\n",
        " 'RDW',\n",
        " 'Thrombocyte_Count',\n",
        " 'CRP',\n",
        "  'US_Number']"
      ],
      "metadata": {
        "id": "jnoCKT81M7Qg"
      },
      "execution_count": null,
      "outputs": []
    },
    {
      "cell_type": "code",
      "source": [
        "# замена на моду\n",
        "for column in cat_columns:\n",
        "    mode = data2[column].mode()[0]  # Найти моду\n",
        "    data2[column].fillna(mode, inplace=True)"
      ],
      "metadata": {
        "id": "XdlE78lTM8KI"
      },
      "execution_count": null,
      "outputs": []
    },
    {
      "cell_type": "code",
      "source": [
        "# замена на медиану\n",
        "for column in num_columns:\n",
        "    median = data2[column].median()  # Найти медиану\n",
        "    data2[column].fillna(median, inplace=True)"
      ],
      "metadata": {
        "id": "iWpD-ymyM_iR"
      },
      "execution_count": null,
      "outputs": []
    },
    {
      "cell_type": "code",
      "source": [
        "data2.isna().sum()"
      ],
      "metadata": {
        "id": "Cuk3U-XfNDDT"
      },
      "execution_count": null,
      "outputs": []
    },
    {
      "cell_type": "markdown",
      "source": [
        "Проверка на однородность колонок."
      ],
      "metadata": {
        "id": "9M9mUEtfNF73"
      }
    },
    {
      "cell_type": "code",
      "source": [
        "for i in data2.columns:\n",
        "  if len(data2[i].value_counts() == 1):\n",
        "    print(i, len(data2[i].value_counts()))"
      ],
      "metadata": {
        "id": "gMpyjkt2NI_n"
      },
      "execution_count": null,
      "outputs": []
    },
    {
      "cell_type": "markdown",
      "source": [
        "Распределение целевого признака."
      ],
      "metadata": {
        "id": "lSdRVasqNLue"
      }
    },
    {
      "cell_type": "code",
      "source": [
        "data2.Diagnosis.value_counts()"
      ],
      "metadata": {
        "id": "7zMksG61NPlO"
      },
      "execution_count": null,
      "outputs": []
    },
    {
      "cell_type": "code",
      "source": [
        "# Убираем признак Management, из-за большой корреляции с таргетом\n",
        "data2 = data2.drop('Management', axis=1)"
      ],
      "metadata": {
        "id": "mJcEs81GNTIp"
      },
      "execution_count": null,
      "outputs": []
    },
    {
      "cell_type": "markdown",
      "source": [
        "2. Разделите данные на обучающую и тестовую выборки.\n",
        "\n",
        "Преобразование категориалных переменных в числовые с использованием One-Hot Encoding."
      ],
      "metadata": {
        "id": "piWhGNn7NVwD"
      }
    },
    {
      "cell_type": "code",
      "source": [
        "cat_columns = ['Sex',\n",
        " 'Appendix_on_US',\n",
        " 'Migratory_Pain',\n",
        " 'Lower_Right_Abd_Pain',\n",
        " 'Contralateral_Rebound_Tenderness',\n",
        " 'Coughing_Pain',\n",
        " 'Nausea',\n",
        " 'Loss_of_Appetite',\n",
        " 'Neutrophilia',\n",
        " 'Dysuria',\n",
        " 'Stool',\n",
        " 'Peritonitis',\n",
        " 'Psoas_Sign',\n",
        " 'US_Performed',\n",
        " 'Free_Fluids',\n",
        " 'Diagnosis_Presumptive',\n",
        "  'Ketones_in_Urine',\n",
        "  'RBC_in_Urine',\n",
        "  'WBC_in_Urine',\n",
        "  'Ipsilateral_Rebound_Tenderness',\n",
        "   'Appendix_Wall_Layers',\n",
        "  'Target_Sign',\n",
        "  'Appendicolith',\n",
        "  'Perforation',\n",
        "  'Surrounding_Tissue_Reaction',\n",
        "  'Appendicular_Abscess',\n",
        "  'Lymph_Nodes_Location',\n",
        "  'Severity']"
      ],
      "metadata": {
        "id": "4V_laPEGNU9Q"
      },
      "execution_count": null,
      "outputs": []
    },
    {
      "cell_type": "code",
      "source": [
        "df_encoded = pd.get_dummies(data2, columns=cat_columns, drop_first=True)"
      ],
      "metadata": {
        "id": "fFcwsfMENfPs"
      },
      "execution_count": null,
      "outputs": []
    },
    {
      "cell_type": "code",
      "source": [
        "X = df_encoded.drop('Diagnosis', axis=1)\n",
        "y = df_encoded.Diagnosis"
      ],
      "metadata": {
        "id": "6FgJrFpGNiNH"
      },
      "execution_count": null,
      "outputs": []
    },
    {
      "cell_type": "code",
      "source": [
        "X_train, X_test, y_train, y_test = train_test_split(X, y, test_size=0.25, random_state=42)"
      ],
      "metadata": {
        "id": "_im_1xROOQYG"
      },
      "execution_count": null,
      "outputs": []
    },
    {
      "cell_type": "markdown",
      "source": [
        "3.Создайте модель машинного обучения.\n",
        "\n",
        "Для задачи бинарной классификации используем модель логистической регрессии."
      ],
      "metadata": {
        "id": "CqzF12e8ORvC"
      }
    },
    {
      "cell_type": "code",
      "source": [
        "lg_model = LogisticRegression(random_state=42, max_iter=10000)"
      ],
      "metadata": {
        "id": "LgeHNJ6jOWuX"
      },
      "execution_count": null,
      "outputs": []
    },
    {
      "cell_type": "code",
      "source": [
        "lg_model.fit(X_train, y_train)"
      ],
      "metadata": {
        "id": "Ub2RpISVOYuP"
      },
      "execution_count": null,
      "outputs": []
    },
    {
      "cell_type": "code",
      "source": [
        "y_pred = lg_model.predict(X_test)"
      ],
      "metadata": {
        "id": "VHMlXoslOcLe"
      },
      "execution_count": null,
      "outputs": []
    },
    {
      "cell_type": "code",
      "source": [
        "print(classification_report(y_test, y_pred))"
      ],
      "metadata": {
        "id": "Qpl6asyuOgKY"
      },
      "execution_count": null,
      "outputs": []
    },
    {
      "cell_type": "markdown",
      "source": [
        "4.Используйте метод кросс-валидации, чтобы оценить производительность модели на обучающей выборке."
      ],
      "metadata": {
        "id": "JJHWwatMOjjE"
      }
    },
    {
      "cell_type": "code",
      "source": [
        "# Выполнение кросс-валидации\n",
        "cv_scores = cross_val_score(lg_model, X, y, cv=5)"
      ],
      "metadata": {
        "id": "CWrq-mp7Om2-"
      },
      "execution_count": null,
      "outputs": []
    },
    {
      "cell_type": "code",
      "source": [
        "# Оценка производительности модели\n",
        "print(f'Cross-Validation Accuracy Scores: {cv_scores}')\n",
        "print(f'Mean CV Accuracy: {cv_scores.mean()}')\n",
        "print(f'Standard Deviation of CV Accuracy: {cv_scores.std()}')"
      ],
      "metadata": {
        "id": "sJMH9rPyOpDZ"
      },
      "execution_count": null,
      "outputs": []
    },
    {
      "cell_type": "markdown",
      "source": [
        "5.Проведите подбор гиперпараметров модели с помощью метода GridSearchCV."
      ],
      "metadata": {
        "id": "2hsElqV7OqBC"
      }
    },
    {
      "cell_type": "code",
      "source": [
        "# Определение метрики accuracy для GridSearchCV\n",
        "accuracy_scorer = make_scorer(accuracy_score)"
      ],
      "metadata": {
        "id": "_TC_kh91OsZU"
      },
      "execution_count": null,
      "outputs": []
    },
    {
      "cell_type": "code",
      "source": [
        "# Определение гиперпараметров для подбора\n",
        "param_grid = {\n",
        "    'C': [0.01, 0.1, 1, 10, 100],\n",
        "    'solver': ['newton-cg', 'lbfgs', 'liblinear', 'sag', 'saga'],\n",
        "    'max_iter': [100, 200, 300, 1000, 10000]\n",
        "}"
      ],
      "metadata": {
        "id": "Lxy8KtSGQwZD"
      },
      "execution_count": null,
      "outputs": []
    },
    {
      "cell_type": "code",
      "source": [
        "# Настройка GridSearchCV\n",
        "grid_search = GridSearchCV(estimator=LogisticRegression(), param_grid=param_grid, scoring=accuracy_scorer, cv=5, n_jobs=-1)"
      ],
      "metadata": {
        "id": "fJK3YKkMQ0dV"
      },
      "execution_count": null,
      "outputs": []
    },
    {
      "cell_type": "code",
      "source": [
        "grid_search.fit(X, y)"
      ],
      "metadata": {
        "id": "vc1Nr7qeQ3te"
      },
      "execution_count": null,
      "outputs": []
    },
    {
      "cell_type": "code",
      "source": [
        "print(f'Best Parameters: {grid_search.best_params_}')\n",
        "print(f'Best Accuracy Score: {grid_search.best_score_}')"
      ],
      "metadata": {
        "id": "kGrP1zY-Q59J"
      },
      "execution_count": null,
      "outputs": []
    },
    {
      "cell_type": "markdown",
      "source": [
        "Best accuracy без подбора гиперпараметров: 1.\n",
        "\n",
        "Best accuracy с подбором гиперпараметров: 0.9820512820512821\n",
        "\n",
        "Метрика модели оказывается ниже при использовании GridSearchCV по сравнению с использованием модели без настройки гиперпараметров. Такая ситуация может возникать по нескольким причинам:\n",
        "\n",
        "1 - GridSearchCV использует перекрестную проверку (cross-validation) для оценки производительности модели. Это более строгий способ оценки, так как модель проверяется на нескольких разбиениях данных. В результате оценка может быть более точной, но иногда она оказывается ниже, чем на одной тренировочной и тестовой выборке.\n",
        "\n",
        "2 - Без настройки гиперпараметров модель может быть переобучена на тренировочных данных, что приводит к высокой производительности на тренировочных данных и, возможно, на конкретной тестовой выборке, но не на новых данных. GridSearchCV помогает избежать оверфиттинга за счет регуляризации и перекрестной проверки, что может привести к более низкой, но более надежной оценке производительности."
      ],
      "metadata": {
        "id": "DJvRfNGUQ9yJ"
      }
    },
    {
      "cell_type": "markdown",
      "source": [
        "6.Обучите модель."
      ],
      "metadata": {
        "id": "6ie4ugphRGkp"
      }
    },
    {
      "cell_type": "code",
      "source": [
        "# max_iter=100\n",
        "lg_model = LogisticRegression(random_state=42, max_iter=100)"
      ],
      "metadata": {
        "id": "K1ffrTSFRI0G"
      },
      "execution_count": null,
      "outputs": []
    },
    {
      "cell_type": "code",
      "source": [
        "params = lg_model.get_params()\n",
        "print(params)"
      ],
      "metadata": {
        "id": "exoXcTsyRKam"
      },
      "execution_count": null,
      "outputs": []
    },
    {
      "cell_type": "code",
      "source": [
        "lg_model.fit(X_train, y_train)"
      ],
      "metadata": {
        "id": "z0ZbWnrWRMp_"
      },
      "execution_count": null,
      "outputs": []
    },
    {
      "cell_type": "code",
      "source": [
        "y_pred = lg_model.predict(X_test)"
      ],
      "metadata": {
        "id": "wkI6b45bRO7f"
      },
      "execution_count": null,
      "outputs": []
    },
    {
      "cell_type": "code",
      "source": [
        "print(classification_report(y_test, y_pred))"
      ],
      "metadata": {
        "id": "BNX0oWIzRRhx"
      },
      "execution_count": null,
      "outputs": []
    },
    {
      "cell_type": "code",
      "source": [
        "# max_iter=10000\n",
        "lg_model = LogisticRegression(random_state=42, max_iter=10000)"
      ],
      "metadata": {
        "id": "nCzScMKPRUG7"
      },
      "execution_count": null,
      "outputs": []
    },
    {
      "cell_type": "code",
      "source": [
        "params = lg_model.get_params()\n",
        "print(params)"
      ],
      "metadata": {
        "id": "OOwI6I59RWfb"
      },
      "execution_count": null,
      "outputs": []
    },
    {
      "cell_type": "code",
      "source": [
        "lg_model.fit(X_train, y_train)"
      ],
      "metadata": {
        "id": "iXMxHcc_RYkH"
      },
      "execution_count": null,
      "outputs": []
    },
    {
      "cell_type": "code",
      "source": [
        "y_pred = lg_model.predict(X_test)"
      ],
      "metadata": {
        "id": "946Ik7DTRaY_"
      },
      "execution_count": null,
      "outputs": []
    },
    {
      "cell_type": "code",
      "source": [
        "print(classification_report(y_test, y_pred))"
      ],
      "metadata": {
        "id": "hNkZ1xZORc6j"
      },
      "execution_count": null,
      "outputs": []
    },
    {
      "cell_type": "markdown",
      "source": [
        "7.Анализ результатов и выводы о процессе кросс-валидации и подборе гиперпараметров в задачах машинного обучения.\n",
        "Модель Логистической регрессии (Baseline) решила задачу наилучшим образом. Сразу были выбраны наиболее эффективные параметры регуляризации и solver. Осталось лишь отрегулировать количество итераций.\n",
        "\n",
        "GridSearchCV показал также высокий результат accuracy, но ниже, чем у Логистической регрессии (Baseline).\n",
        "\n",
        "Выводы:\n",
        "\n",
        "Причин, по которым GridSearchCV оказался недостаточно эффективным, могут быть несколько:\n",
        "\n",
        "- Более строгий способ оценки.\n",
        "\n",
        "- Переобучение модели.\n",
        "\n",
        "- Неправильно подобраны гиперпараметры.\n",
        "\n",
        "- Небольшие данные.\n",
        "\n",
        "Модель Логистической регрессии (Baseline) справилась наилучшим образом, достигнув accuracy = 1 в одной из подвыборок кросс-валидации."
      ],
      "metadata": {
        "id": "FsnZ7zAjRkVD"
      }
    },
    {
      "cell_type": "markdown",
      "source": [
        "Задание 3.\n",
        "Задание на ознакомление с датасетом (https://drive.google.com/file/d/1ZQE6onLM61sxj5g4Qa-eUJXgLhkfcITV/view):\n",
        "\n",
        "Необходимо препроцессировать данные, выбрать только содержательные колонки; сделать описательную статистику нескольких параметров; сформулировать гипотезу о взаимосвязи ваших параметров (например, смертность при раке зависит от пола) и проверить ее с помощью подходящего метода визуализации.\n",
        "\n",
        "Если сможете выбрать метод и рассчитать статистику вывода, это будет плюсом.\n",
        "\n",
        "Датасет состоит из 5-ти файлов:\n",
        "\n",
        "clinical.tsv,\n",
        "\n",
        "exposure.tsv,\n",
        "\n",
        "family_history.tsv,\n",
        "\n",
        "follow_up.tsv,\n",
        "\n",
        "pathology_detail.tsv."
      ],
      "metadata": {
        "id": "Mn1gTU5ARu32"
      }
    },
    {
      "cell_type": "markdown",
      "source": [
        "Препроцессинг данных."
      ],
      "metadata": {
        "id": "YVFY2VQKU26k"
      }
    },
    {
      "cell_type": "code",
      "source": [
        "df_clinical = pd.read_table('drive/MyDrive/Итоговый/clinical.tsv')\n",
        "df_clinical.head()"
      ],
      "metadata": {
        "id": "G4MkN8nJU55n"
      },
      "execution_count": null,
      "outputs": []
    },
    {
      "cell_type": "code",
      "source": [
        "df_clinical.shape"
      ],
      "metadata": {
        "id": "1REQlmiTU8q3"
      },
      "execution_count": null,
      "outputs": []
    },
    {
      "cell_type": "code",
      "source": [
        "print('Есть пропуски!\\n') if df_clinical.isna().any().any() else print('Пропусков нет\\n')"
      ],
      "metadata": {
        "id": "fMDb5OrQU9U-"
      },
      "execution_count": null,
      "outputs": []
    },
    {
      "cell_type": "code",
      "source": [
        "df_exposure = pd.read_table('drive/MyDrive/Итоговый/exposure.tsv')\n",
        "df_exposure.head()"
      ],
      "metadata": {
        "id": "AbCN9ATlU_Xy"
      },
      "execution_count": null,
      "outputs": []
    },
    {
      "cell_type": "code",
      "source": [
        "df_exposure.shape"
      ],
      "metadata": {
        "id": "5CGTZrV3VCzc"
      },
      "execution_count": null,
      "outputs": []
    },
    {
      "cell_type": "code",
      "source": [
        "print('Есть пропуски!\\n') if df_exposure.isna().any().any() else print('Пропусков нет\\n')"
      ],
      "metadata": {
        "id": "0UzvsNrCVFFZ"
      },
      "execution_count": null,
      "outputs": []
    },
    {
      "cell_type": "code",
      "source": [
        "df_family_history = pd.read_table('drive/MyDrive/Итоговый/family_history.tsv')\n",
        "df_family_history.head()"
      ],
      "metadata": {
        "id": "OhEQ8ikbVF1d"
      },
      "execution_count": null,
      "outputs": []
    },
    {
      "cell_type": "code",
      "source": [
        "df_family_history.shape  #пустой датасет"
      ],
      "metadata": {
        "id": "or2X633bVT1N"
      },
      "execution_count": null,
      "outputs": []
    },
    {
      "cell_type": "code",
      "source": [
        "df_follow_up = pd.read_table('drive/MyDrive/Итоговый/follow_up.tsv')\n",
        "df_follow_up.head()"
      ],
      "metadata": {
        "id": "kDv_LSM0VYBp"
      },
      "execution_count": null,
      "outputs": []
    },
    {
      "cell_type": "code",
      "source": [
        "df_follow_up.shape #датасет пустой"
      ],
      "metadata": {
        "id": "YiJ8TYAmVa36"
      },
      "execution_count": null,
      "outputs": []
    },
    {
      "cell_type": "code",
      "source": [
        "df_pathology_detail = pd.read_table('drive/MyDrive/Итоговый/pathology_detail.tsv')\n",
        "df_pathology_detail.head()"
      ],
      "metadata": {
        "id": "aUqte3QEVdE7"
      },
      "execution_count": null,
      "outputs": []
    },
    {
      "cell_type": "code",
      "source": [
        "df_pathology_detail.shape # датасет пустой"
      ],
      "metadata": {
        "id": "4Zw_2csuVfSq"
      },
      "execution_count": null,
      "outputs": []
    },
    {
      "cell_type": "markdown",
      "source": [
        "Три датасета пустые. Работаем с таблицами df_clinical и df_exposure"
      ],
      "metadata": {
        "id": "WR7aiAGLVkL0"
      }
    },
    {
      "cell_type": "code",
      "source": [
        "display(df_clinical.nunique())"
      ],
      "metadata": {
        "id": "uZJaSTQI4eR4"
      },
      "execution_count": null,
      "outputs": []
    },
    {
      "cell_type": "markdown",
      "source": [
        "есть колонки с одним уникальным значением"
      ],
      "metadata": {
        "id": "GdyFqrzV4i-T"
      }
    },
    {
      "cell_type": "code",
      "source": [
        "display(df_exposure.nunique())"
      ],
      "metadata": {
        "id": "naNa9ZvS4gq7"
      },
      "execution_count": null,
      "outputs": []
    },
    {
      "cell_type": "markdown",
      "source": [
        "есть колонки с одним уникальным значением"
      ],
      "metadata": {
        "id": "wwdQzLlr4ore"
      }
    },
    {
      "cell_type": "markdown",
      "source": [
        "Убираем из датасетов df_clinical и df_exposure колонки, где количество уникальных значений = 1."
      ],
      "metadata": {
        "id": "mwV2g8kf4rXG"
      }
    },
    {
      "cell_type": "code",
      "source": [
        "clinical_info_lst = [i for i in df_clinical.columns if df_clinical[i].nunique() != 1]\n",
        "clinical_info = df_clinical[clinical_info_lst]\n",
        "\n",
        "exposure_info_lst = [i for i in df_exposure.columns if df_exposure[i].nunique() != 1]\n",
        "exposure_info = df_exposure[exposure_info_lst]\n",
        "\n",
        "clinical_info.shape"
      ],
      "metadata": {
        "id": "vhoUz0v84pex"
      },
      "execution_count": null,
      "outputs": []
    },
    {
      "cell_type": "markdown",
      "source": [
        "Таблица exposure_info полностью дублирует первые колонки таблицы clinical_info. Работаем с датасетом clinical_info."
      ],
      "metadata": {
        "id": "GbbJimeO4yfQ"
      }
    },
    {
      "cell_type": "markdown",
      "source": [
        "Получим однообразие данных."
      ],
      "metadata": {
        "id": "Bb1nMZGn42gg"
      }
    },
    {
      "cell_type": "code",
      "source": [
        "clinical_info = clinical_info.replace(\"no\", 'No')\n",
        "clinical_info = clinical_info.replace(\"yes\", 'Yes')\n",
        "clinical_info = clinical_info.replace(\"'--\", np.nan)\n",
        "clinical_info.head()"
      ],
      "metadata": {
        "id": "q44KwwMp40Av"
      },
      "execution_count": null,
      "outputs": []
    },
    {
      "cell_type": "markdown",
      "source": [
        "добавим два столбца химиотерапия и лучевая терапия"
      ],
      "metadata": {
        "id": "ducXz_lo47QO"
      }
    },
    {
      "cell_type": "code",
      "source": [
        "clinical_info.treatment_type.unique()"
      ],
      "metadata": {
        "id": "6rcvC70s48TV"
      },
      "execution_count": null,
      "outputs": []
    },
    {
      "cell_type": "code",
      "source": [
        "clinical_info['treatment_Radiation'] = np.nan\n",
        "clinical_info['treatment_Pharmaceutical'] = np.nan\n",
        "\n",
        "# записываем новые столбцы на основе старых\n",
        "def therapy_reaction(row):\n",
        "    if row['treatment_type'] == 'Pharmaceutical Therapy, NOS':\n",
        "        row['treatment_Pharmaceutical'] = row['treatment_or_therapy']\n",
        "    elif row['treatment_type'] == 'Radiation Therapy, NOS':\n",
        "        row['treatment_Radiation'] = row['treatment_or_therapy']\n",
        "\n",
        "    return row\n",
        "\n",
        "clinical_info = clinical_info.apply(therapy_reaction, axis=1)"
      ],
      "metadata": {
        "id": "UvMT5Cbm5JCR"
      },
      "execution_count": null,
      "outputs": []
    },
    {
      "cell_type": "code",
      "source": [
        "# удалим неинформативные столбцы\n",
        "clinical_info = clinical_info.drop(['treatment_or_therapy',\t'treatment_type', 'case_submitter_id'], axis=1)\n",
        "\n",
        "clinical_info.set_index('case_id', inplace=True) # заменяем индексы\n",
        "clinical_info.dropna(axis=0, how='all', inplace=True) # удаляем пустые строки\n",
        "clinical_info.reset_index(drop=False, inplace=True ) # сбрасываем индексы\n",
        "clinical_info.shape"
      ],
      "metadata": {
        "id": "ZCTUcRiB5NL3"
      },
      "execution_count": null,
      "outputs": []
    },
    {
      "cell_type": "markdown",
      "source": [
        "проверка на пропуски"
      ],
      "metadata": {
        "id": "OPSv7syT5Qym"
      }
    },
    {
      "cell_type": "code",
      "source": [
        "print(clinical_info.isnull().sum())"
      ],
      "metadata": {
        "id": "2rhlh5Y65S_M"
      },
      "execution_count": null,
      "outputs": []
    },
    {
      "cell_type": "code",
      "source": [
        "for i in range(len(clinical_info)):\n",
        "    # Проверка и заполнение NaN в 'treatment_Radiation'\n",
        "    if pd.isnull(clinical_info.loc[i, 'treatment_Radiation']):\n",
        "        if clinical_info.loc[i, 'treatment_Pharmaceutical'] == 'Yes':\n",
        "            clinical_info.loc[i, 'treatment_Radiation'] = 'No'\n",
        "        else:\n",
        "            clinical_info.loc[i, 'treatment_Radiation'] = 'Yes'\n",
        "\n",
        "    # Проверка и заполнение NaN в 'treatment_Pharmaceutical'\n",
        "    if pd.isnull(clinical_info.loc[i, 'treatment_Pharmaceutical']):\n",
        "        if clinical_info.loc[i, 'treatment_Radiation'] == 'Yes':\n",
        "            clinical_info.loc[i, 'treatment_Pharmaceutical'] = 'No'\n",
        "        else:\n",
        "            clinical_info.loc[i, 'treatment_Pharmaceutical'] = 'Yes'"
      ],
      "metadata": {
        "id": "0cb9Jg6F5Z1r"
      },
      "execution_count": null,
      "outputs": []
    },
    {
      "cell_type": "code",
      "source": [
        "clinical_info.groupby('vital_status')['days_to_death'].value_counts()"
      ],
      "metadata": {
        "id": "9MxH_UIV5dhW"
      },
      "execution_count": null,
      "outputs": []
    },
    {
      "cell_type": "code",
      "source": [
        "clinical_info['days_to_death'] = clinical_info['days_to_death'].fillna(0)"
      ],
      "metadata": {
        "id": "PVMnUBqI5hQW"
      },
      "execution_count": null,
      "outputs": []
    },
    {
      "cell_type": "code",
      "source": [
        "clinical_info.groupby('vital_status')['year_of_death'].value_counts()"
      ],
      "metadata": {
        "id": "uunwNjWY5jd1"
      },
      "execution_count": null,
      "outputs": []
    },
    {
      "cell_type": "markdown",
      "source": [
        "У многих умерших пациентов не заполнен год смерти. Рассчитаем его. Прибавим к году рождения количество дней до смерти в годах."
      ],
      "metadata": {
        "id": "HUTKmlNU5owQ"
      }
    },
    {
      "cell_type": "code",
      "source": [
        "# Преобразование значений столбца 'days_to_birth' в числовой тип\n",
        "clinical_info['year_of_birth'] = pd.to_numeric(clinical_info['year_of_birth'], errors='coerce')\n",
        "clinical_info['days_to_birth'] = pd.to_numeric(clinical_info['days_to_birth'], errors='coerce')"
      ],
      "metadata": {
        "id": "XIPaWKpE5lkT"
      },
      "execution_count": null,
      "outputs": []
    },
    {
      "cell_type": "code",
      "source": [
        "# Для каждой строки, где vital_status = 'Dead' и year_of_death является NaN\n",
        "for i in range(len(clinical_info)):\n",
        "    if clinical_info.loc[i, 'vital_status'] == 'Dead' and pd.isnull(clinical_info.loc[i, 'year_of_death']):\n",
        "        year_of_birth = clinical_info.loc[i, 'year_of_birth']\n",
        "        days_to_death = clinical_info.loc[i, 'days_to_birth']\n",
        "\n",
        "        # Преобразование дней до смерти в годы, взятое по модулю\n",
        "        years = abs(days_to_death) // 365\n",
        "\n",
        "        # Вычисление года смерти\n",
        "        year_of_death = year_of_birth + years\n",
        "\n",
        "        # Заполнение year_of_death\n",
        "        clinical_info.loc[i, 'year_of_death'] = year_of_death"
      ],
      "metadata": {
        "id": "lfJ40Vml5vbO"
      },
      "execution_count": null,
      "outputs": []
    },
    {
      "cell_type": "code",
      "source": [
        "clinical_info.groupby('vital_status')['ann_arbor_b_symptoms'].value_counts()"
      ],
      "metadata": {
        "id": "6ic8eYCV5ygW"
      },
      "execution_count": null,
      "outputs": []
    },
    {
      "cell_type": "code",
      "source": [
        "# Построение гистограммы\n",
        "plt.figure(figsize=(10, 6))\n",
        "sns.histplot(data=clinical_info, x='ann_arbor_b_symptoms', hue='vital_status', multiple='stack', palette='pastel')\n",
        "\n",
        "plt.title('Распределение признака ann_arbor_b_symptoms по категориям vital_status')\n",
        "plt.xlabel('Ann Arbor B Symptoms')\n",
        "plt.ylabel('Количество')"
      ],
      "metadata": {
        "id": "59lIGvSq52XE"
      },
      "execution_count": null,
      "outputs": []
    },
    {
      "cell_type": "code",
      "source": [
        "missing_ann_arbor_b_symptoms = clinical_info[clinical_info['ann_arbor_b_symptoms'].isnull()]\n",
        "\n",
        "print(missing_ann_arbor_b_symptoms['vital_status'])"
      ],
      "metadata": {
        "id": "d_Cl2-j_56N6"
      },
      "execution_count": null,
      "outputs": []
    },
    {
      "cell_type": "code",
      "source": [
        "clinical_info['ann_arbor_b_symptoms'] = clinical_info['ann_arbor_b_symptoms'].fillna('No')"
      ],
      "metadata": {
        "id": "bGXS5Nqn58g3"
      },
      "execution_count": null,
      "outputs": []
    },
    {
      "cell_type": "code",
      "source": [
        "clinical_info.groupby('vital_status')['ann_arbor_clinical_stage'].value_counts()"
      ],
      "metadata": {
        "id": "AtKJYNoB5-cK"
      },
      "execution_count": null,
      "outputs": []
    },
    {
      "cell_type": "code",
      "source": [
        "missing_ann_arbor_clinical_stage = clinical_info[clinical_info['ann_arbor_clinical_stage'].isnull()]\n",
        "print(missing_ann_arbor_clinical_stage['vital_status'])"
      ],
      "metadata": {
        "id": "PRDHNEle6A6a"
      },
      "execution_count": null,
      "outputs": []
    },
    {
      "cell_type": "code",
      "source": [
        "clinical_info.loc[(clinical_info['vital_status'] == 'Dead') & clinical_info['ann_arbor_clinical_stage'].isnull(), 'ann_arbor_clinical_stage'] = 'Stage IV'\n",
        "clinical_info.loc[(clinical_info['vital_status'] == 'Alive') & clinical_info['ann_arbor_clinical_stage'].isnull(), 'ann_arbor_clinical_stage'] = 'Stage II'"
      ],
      "metadata": {
        "id": "JZIuSHqP6Dhg"
      },
      "execution_count": null,
      "outputs": []
    },
    {
      "cell_type": "code",
      "source": [
        "clinical_info.groupby('vital_status')['ann_arbor_extranodal_involvement'].value_counts()"
      ],
      "metadata": {
        "id": "zr9488H76HNU"
      },
      "execution_count": null,
      "outputs": []
    },
    {
      "cell_type": "code",
      "source": [
        "missing_ann_arbor_extranodal_involvement = clinical_info[clinical_info['ann_arbor_extranodal_involvement'].isnull()]\n",
        "print(missing_ann_arbor_extranodal_involvement['vital_status'])"
      ],
      "metadata": {
        "id": "R4d4wySs6JOv"
      },
      "execution_count": null,
      "outputs": []
    },
    {
      "cell_type": "code",
      "source": [
        "clinical_info['ann_arbor_extranodal_involvement'] = clinical_info['ann_arbor_extranodal_involvement'].fillna('No')"
      ],
      "metadata": {
        "id": "G90KTYqO6Li7"
      },
      "execution_count": null,
      "outputs": []
    },
    {
      "cell_type": "code",
      "source": [
        "clinical_info.groupby('vital_status')['days_to_last_follow_up'].value_counts()"
      ],
      "metadata": {
        "id": "ddpaUNuK6PWN"
      },
      "execution_count": null,
      "outputs": []
    },
    {
      "cell_type": "code",
      "source": [
        "missing_days_to_last_follow_up = clinical_info[clinical_info['days_to_last_follow_up'].isnull()]\n",
        "print(missing_days_to_last_follow_up['vital_status'])"
      ],
      "metadata": {
        "id": "al0HVr4Y6RuJ"
      },
      "execution_count": null,
      "outputs": []
    },
    {
      "cell_type": "code",
      "source": [
        "clinical_info['days_to_last_follow_up'] = clinical_info['days_to_last_follow_up'].fillna(927)"
      ],
      "metadata": {
        "id": "gUlhV7sz6qwV"
      },
      "execution_count": null,
      "outputs": []
    },
    {
      "cell_type": "code",
      "source": [
        "clinical_info # очищенный датасет"
      ],
      "metadata": {
        "id": "vaVT8ytF6rcC"
      },
      "execution_count": null,
      "outputs": []
    },
    {
      "cell_type": "markdown",
      "source": [
        "EDA"
      ],
      "metadata": {
        "id": "ILBjGXeA6vyv"
      }
    },
    {
      "cell_type": "markdown",
      "source": [
        "удаление колонок с одним значением во всех строках"
      ],
      "metadata": {
        "id": "tF0HbhdO6wcn"
      }
    },
    {
      "cell_type": "code",
      "source": [
        "clinical_info_lst = [i for i in clinical_info.columns if clinical_info[i].nunique() != 1]\n",
        "clinical_info = clinical_info[clinical_info_lst]"
      ],
      "metadata": {
        "id": "DNubOCi760Ud"
      },
      "execution_count": null,
      "outputs": []
    },
    {
      "cell_type": "markdown",
      "source": [
        "разделение признаков по типам"
      ],
      "metadata": {
        "id": "c0YJqWOu63aV"
      }
    },
    {
      "cell_type": "code",
      "source": [
        "clinical_info.columns"
      ],
      "metadata": {
        "id": "TcZZjjuv61Ed"
      },
      "execution_count": null,
      "outputs": []
    },
    {
      "cell_type": "code",
      "source": [
        "continuous_features = ['age_at_index', 'days_to_birth', 'days_to_death',\n",
        "                       'year_of_birth', 'year_of_death', 'age_at_diagnosis',\n",
        "                       'days_to_last_follow_up', 'year_of_diagnosis']\n",
        "\n",
        "categorical_features = [i for i in clinical_info.columns if i not in continuous_features]"
      ],
      "metadata": {
        "id": "L3oPYQ5D6818"
      },
      "execution_count": null,
      "outputs": []
    },
    {
      "cell_type": "code",
      "source": [
        "for i in continuous_features:\n",
        "    clinical_info[i] = clinical_info[i].astype('float')\n",
        "\n",
        "for i in categorical_features:\n",
        "    clinical_info[i] = clinical_info[i].astype('category')"
      ],
      "metadata": {
        "id": "OWlNBuCR7ABE"
      },
      "execution_count": null,
      "outputs": []
    },
    {
      "cell_type": "markdown",
      "source": [
        "Числовые признаки"
      ],
      "metadata": {
        "id": "8gKIZ_fG7BD-"
      }
    },
    {
      "cell_type": "code",
      "source": [
        "clinical_info[continuous_features].describe()"
      ],
      "metadata": {
        "id": "0GkW2bCR7C0O"
      },
      "execution_count": null,
      "outputs": []
    },
    {
      "cell_type": "code",
      "source": [
        "clinical_info[continuous_features].hist(layout=(-1, 4), figsize=(20, 7), bins=20, edgecolor='b');"
      ],
      "metadata": {
        "id": "q2XCilkD7HAZ"
      },
      "execution_count": null,
      "outputs": []
    },
    {
      "cell_type": "markdown",
      "source": [
        "age at index: возраст пациента при записи в базу данных, распределение стремится к нормальному, есть два пика, пациенты в основном возрастные.\n",
        "\n",
        "days to birth: количество дней от рождения,фактически возраст, отрицательная величина, практически симметричное распределение относительно распределению age at index.\n",
        "\n",
        "days to death: количество дней до смерти, очень разбросанные значения, здесь есть много NaN, т.к. большинство пациентов живы.\n",
        "\n",
        "age at diagnosis: возраст постановки диагноза вычисляется в днях, имеет нормальное распределение.\n",
        "\n",
        "days to last follow up: дни до последнего осмотра, распределение смещено вправо, большинство пациентов чаще ходят на осмотры.\n",
        "\n",
        "year of diagnosis: год постановки диагноза, распределение смещено влево, большинство диагнозов поставлено в последнее время."
      ],
      "metadata": {
        "id": "wdHMWLDo7Xzh"
      }
    },
    {
      "cell_type": "markdown",
      "source": [
        "Масштабирование:"
      ],
      "metadata": {
        "id": "WVil1x5n7eey"
      }
    },
    {
      "cell_type": "markdown",
      "source": [
        "age_at_index"
      ],
      "metadata": {
        "id": "FVDmbS3N7hGO"
      }
    },
    {
      "cell_type": "code",
      "source": [
        "plt.figure(figsize=(5,3))\n",
        "sns.violinplot(clinical_info['age_at_index'], orient='h', color='b')\n",
        "plt.xlabel('age_at_index')"
      ],
      "metadata": {
        "id": "CWrnh1xt7ZXc"
      },
      "execution_count": null,
      "outputs": []
    },
    {
      "cell_type": "markdown",
      "source": [
        "выбросов не наблюдается, распределение нормальное"
      ],
      "metadata": {
        "id": "Zc1VU9Wu7pJE"
      }
    },
    {
      "cell_type": "code",
      "source": [
        "palette = {'Dead': 'blue', 'Alive': 'white'}\n",
        "\n",
        "sns.displot(data=clinical_info,\n",
        "            x='age_at_index',\n",
        "            hue='vital_status',\n",
        "            bins=11,\n",
        "            palette=palette,\n",
        "            kind='hist',\n",
        "            aspect=1.3,\n",
        "            legend=True)"
      ],
      "metadata": {
        "id": "g90M_mYw7nA5"
      },
      "execution_count": null,
      "outputs": []
    },
    {
      "cell_type": "markdown",
      "source": [
        "days_to_birth"
      ],
      "metadata": {
        "id": "r_DYWb6n7tTx"
      }
    },
    {
      "cell_type": "code",
      "source": [
        "plt.figure(figsize=(5,3))\n",
        "sns.violinplot(clinical_info['days_to_birth'], orient='h', color='y')\n",
        "plt.xlabel('days_to_birth')"
      ],
      "metadata": {
        "id": "HbnvLHu-7wDi"
      },
      "execution_count": null,
      "outputs": []
    },
    {
      "cell_type": "markdown",
      "source": [
        "выбросов не наблюдается, распределение нормальное"
      ],
      "metadata": {
        "id": "3bF0KO027yp1"
      }
    },
    {
      "cell_type": "code",
      "source": [
        "palette = {'Dead': 'blue', 'Alive': 'white'}\n",
        "\n",
        "sns.displot(data=clinical_info,\n",
        "            x='days_to_birth',\n",
        "            hue='vital_status',\n",
        "            bins=11,\n",
        "            palette=palette,\n",
        "            kind='hist',\n",
        "            aspect=1.3,\n",
        "            legend=True)"
      ],
      "metadata": {
        "id": "p0Hn0QHx7zU5"
      },
      "execution_count": null,
      "outputs": []
    },
    {
      "cell_type": "markdown",
      "source": [
        "проверим мультиколлениарность между признаками"
      ],
      "metadata": {
        "id": "_N4xznOd73tY"
      }
    },
    {
      "cell_type": "code",
      "source": [
        "# Расчет коэффициента корреляции\n",
        "correlation = clinical_info['age_at_index'].corr(clinical_info['days_to_birth'])\n",
        "\n",
        "# Вывод результата\n",
        "print(f\"Коэффициент корреляции между 'age_at_index' и 'days_to_birth': {correlation}\")"
      ],
      "metadata": {
        "id": "RkMmxlSP74Xc"
      },
      "execution_count": null,
      "outputs": []
    },
    {
      "cell_type": "markdown",
      "source": [
        "признаки практически одинаковые, можно пренебречь одним при обучении модели"
      ],
      "metadata": {
        "id": "qAmI2ZZP793J"
      }
    },
    {
      "cell_type": "markdown",
      "source": [
        "days_to_death"
      ],
      "metadata": {
        "id": "CuedDCJl8A0F"
      }
    },
    {
      "cell_type": "code",
      "source": [
        "plt.figure(figsize=(5,3))\n",
        "sns.boxplot(clinical_info['days_to_death'], orient='h')\n",
        "plt.xlabel('days_to_death');"
      ],
      "metadata": {
        "id": "wYL7rgAc8AU0"
      },
      "execution_count": null,
      "outputs": []
    },
    {
      "cell_type": "markdown",
      "source": [
        "наблюдаются два выброса"
      ],
      "metadata": {
        "id": "2x7Q2ZV88GO6"
      }
    },
    {
      "cell_type": "code",
      "source": [
        "# Фильтрация пациентов, у которых days_to_death > 1000\n",
        "patients_long_lived = clinical_info[clinical_info['days_to_death'] > 1000]\n",
        "\n",
        "# Извлечение года рождения для этих пациентов\n",
        "years_of_birth = patients_long_lived['year_of_birth']\n",
        "\n",
        "print(years_of_birth)"
      ],
      "metadata": {
        "id": "cvhpSn5T8ILl"
      },
      "execution_count": null,
      "outputs": []
    },
    {
      "cell_type": "markdown",
      "source": [
        "скорей всего это реальные данные, исходя из года рождения"
      ],
      "metadata": {
        "id": "41GfYlU_8Li7"
      }
    },
    {
      "cell_type": "code",
      "source": [
        "palette = {'Dead': 'blue', 'Alive': 'white'}\n",
        "\n",
        "sns.displot(data=clinical_info,\n",
        "            x='days_to_death',\n",
        "            hue='vital_status',\n",
        "            bins=20,\n",
        "            palette=palette,\n",
        "            kind='hist',\n",
        "            aspect=1.3,\n",
        "            legend=True)"
      ],
      "metadata": {
        "id": "lMp2nXuc8KiA"
      },
      "execution_count": null,
      "outputs": []
    },
    {
      "cell_type": "code",
      "source": [
        "vital_status_and_days_to_death = clinical_info[['vital_status', 'days_to_death']]\n",
        "\n",
        "print(vital_status_and_days_to_death.to_string())"
      ],
      "metadata": {
        "id": "hWesBJow8QZA"
      },
      "execution_count": null,
      "outputs": []
    },
    {
      "cell_type": "code",
      "source": [
        "clinical_info[(clinical_info['vital_status'] == 'Dead') & (clinical_info['days_to_death'] > 3000)]"
      ],
      "metadata": {
        "id": "MQjupCzj8TkQ"
      },
      "execution_count": null,
      "outputs": []
    },
    {
      "cell_type": "markdown",
      "source": [
        "Два человека с очень большим количеством дней до сметри (17 лет и 9 лет). Вероятно новообразование удалось купировать или удалить. Но произошел рецидив.\n",
        "\n",
        "Общее: оба мужчины, не было лечения с облучением, только фармацевтикой."
      ],
      "metadata": {
        "id": "RSmnBWZT9-BF"
      }
    },
    {
      "cell_type": "markdown",
      "source": [
        "year_of_birth"
      ],
      "metadata": {
        "id": "85zl5V8T-Ogg"
      }
    },
    {
      "cell_type": "code",
      "source": [
        "plt.figure(figsize=(5,3))\n",
        "sns.violinplot(clinical_info['year_of_birth'], orient='h', color='b')\n",
        "plt.xlabel('year_of_birth')"
      ],
      "metadata": {
        "id": "aijNQAwY-Rej"
      },
      "execution_count": null,
      "outputs": []
    },
    {
      "cell_type": "code",
      "source": [
        "palette = {'Dead': 'blue', 'Alive': 'white'}\n",
        "\n",
        "sns.displot(data=clinical_info,\n",
        "            x='year_of_birth',\n",
        "            hue='vital_status',\n",
        "            bins=11,\n",
        "            palette=palette,\n",
        "            kind='hist',\n",
        "            aspect=1.3,\n",
        "            legend=True)"
      ],
      "metadata": {
        "id": "rU8WazEM-UH4"
      },
      "execution_count": null,
      "outputs": []
    },
    {
      "cell_type": "markdown",
      "source": [
        "распределение нормальное"
      ],
      "metadata": {
        "id": "UCAlGdm7-emV"
      }
    },
    {
      "cell_type": "markdown",
      "source": [
        "year_of_death"
      ],
      "metadata": {
        "id": "8iu_FPAi-hfd"
      }
    },
    {
      "cell_type": "code",
      "source": [
        "plt.figure(figsize=(5,3))\n",
        "sns.boxplot(clinical_info['year_of_death'], orient='h')\n",
        "plt.xlabel('year_of_death');"
      ],
      "metadata": {
        "id": "2lPIXgIM-dPl"
      },
      "execution_count": null,
      "outputs": []
    },
    {
      "cell_type": "code",
      "source": [
        "plt.figure(figsize=(5,3))\n",
        "sns.violinplot(clinical_info['year_of_death'], orient='h', color='b')\n",
        "plt.xlabel('year_of_death')"
      ],
      "metadata": {
        "id": "0ZHEBfyp-mtY"
      },
      "execution_count": null,
      "outputs": []
    },
    {
      "cell_type": "markdown",
      "source": [
        "age_at_diagnosis"
      ],
      "metadata": {
        "id": "xRZ742XD-o28"
      }
    },
    {
      "cell_type": "code",
      "source": [
        "plt.figure(figsize=(5,3))\n",
        "sns.boxplot(clinical_info['age_at_diagnosis'], orient='h')\n",
        "plt.xlabel('age_at_diagnosis')"
      ],
      "metadata": {
        "id": "gQmmfMlO-rYO"
      },
      "execution_count": null,
      "outputs": []
    },
    {
      "cell_type": "code",
      "source": [
        "sns.catplot(data=clinical_info,\n",
        "            x=\"gender\",\n",
        "            y=\"age_at_diagnosis\",\n",
        "            hue='vital_status',\n",
        "            kind=\"box\")"
      ],
      "metadata": {
        "id": "WG503kjG-t5f"
      },
      "execution_count": null,
      "outputs": []
    },
    {
      "cell_type": "markdown",
      "source": [
        "Видно, что женщины, которым поставили диагноз от 40 до 50 лет умирают чаще, чем женщины более старшего возраста. От 50 до 60 шансы 50/50. После 60 - вылечиваются. Вероятно, потому что более молодые не проводят регулярную диагностику, чем женщины преклонного возраста.\n",
        "\n",
        "У мужчин наоборот, умирают представители за 60 (шансы 50/50). До 60 - вылечиваются.\n",
        "\n",
        "Женщины заболевают раньше по возрасту."
      ],
      "metadata": {
        "id": "qZGBPCHt_RaL"
      }
    },
    {
      "cell_type": "markdown",
      "source": [
        "days_to_last_follow_up"
      ],
      "metadata": {
        "id": "cwl1kP95_V-h"
      }
    },
    {
      "cell_type": "code",
      "source": [
        "plt.figure(figsize=(5,3))\n",
        "sns.boxplot(clinical_info['days_to_last_follow_up'], orient='h')\n",
        "plt.xlabel('days_to_last_follow_up')"
      ],
      "metadata": {
        "id": "O3H0oeDOA8wQ"
      },
      "execution_count": null,
      "outputs": []
    },
    {
      "cell_type": "code",
      "source": [
        "# Фильтрация пациентов, у которых days_to_death > 1000\n",
        "patients = clinical_info[clinical_info['days_to_last_follow_up'] > 3000]\n",
        "\n",
        "# Извлечение года рождения для этих пациентов\n",
        "days_to_last_follow_up = patients['days_to_last_follow_up']\n",
        "\n",
        "print(days_to_last_follow_up)"
      ],
      "metadata": {
        "id": "OjuEQ6FRA_kt"
      },
      "execution_count": null,
      "outputs": []
    },
    {
      "cell_type": "code",
      "source": [
        "patients"
      ],
      "metadata": {
        "id": "6O9C0XtnBBsN"
      },
      "execution_count": null,
      "outputs": []
    },
    {
      "cell_type": "code",
      "source": [
        "sns.displot(data=clinical_info,\n",
        "            x=clinical_info['days_to_last_follow_up'],\n",
        "            legend=True,\n",
        "            aspect=1.3,\n",
        "            bins=12,\n",
        "            hue=clinical_info['vital_status'],\n",
        "            kind='hist')"
      ],
      "metadata": {
        "id": "DKW1KH5SBGOT"
      },
      "execution_count": null,
      "outputs": []
    },
    {
      "cell_type": "markdown",
      "source": [
        "Большие значения количества дней от последнего осмотра имеют места быть, исходя из года постановки диагноза."
      ],
      "metadata": {
        "id": "9vb1SamfBJ5e"
      }
    },
    {
      "cell_type": "markdown",
      "source": [
        "year_of_diagnosis"
      ],
      "metadata": {
        "id": "E7_gi60eBM8m"
      }
    },
    {
      "cell_type": "code",
      "source": [
        "plt.figure(figsize=(5,3))\n",
        "sns.boxplot(clinical_info['year_of_diagnosis'], orient='h')\n",
        "plt.xlabel('year_of_diagnosis')"
      ],
      "metadata": {
        "id": "yPbdo4tdBK87"
      },
      "execution_count": null,
      "outputs": []
    },
    {
      "cell_type": "code",
      "source": [
        "sns.displot(data=clinical_info,\n",
        "            x=clinical_info['year_of_diagnosis'],\n",
        "            legend=True,\n",
        "            aspect=1.3,\n",
        "            bins=12,\n",
        "            hue=clinical_info['vital_status'],\n",
        "            kind='hist')"
      ],
      "metadata": {
        "id": "1B9k4gnQBReW"
      },
      "execution_count": null,
      "outputs": []
    },
    {
      "cell_type": "markdown",
      "source": [
        "Большинство диагнозов было поставлено в последнее время. Пациенты с \"древними\" диагнозами умерли."
      ],
      "metadata": {
        "id": "7_D-rH-6BWWQ"
      }
    },
    {
      "cell_type": "markdown",
      "source": [
        "Тепловая карта корреляции Пирсона"
      ],
      "metadata": {
        "id": "EB2xp6sMBZSS"
      }
    },
    {
      "cell_type": "code",
      "source": [
        "sns.set_style(\"whitegrid\")\n",
        "\n",
        "mask = np.triu(np.ones_like(clinical_info.corr(numeric_only=True), dtype=bool))\n",
        "\n",
        "heatmap = sns.heatmap(\n",
        "    clinical_info.corr(numeric_only=True).round(4),\n",
        "    annot=True,\n",
        "    square=True,\n",
        "    cmap=\"BrBG\",\n",
        "    cbar_kws={\"fraction\": 0.01},\n",
        "    linewidth=1,\n",
        "\n",
        "    mask=mask,\n",
        ")\n",
        "\n",
        "heatmap.set_title(\n",
        "    \"Тепловая карта корреляции Пирсона\", fontdict={\"fontsize\": 18}, pad=16\n",
        ");"
      ],
      "metadata": {
        "id": "HsC6IoDXBbv_"
      },
      "execution_count": null,
      "outputs": []
    },
    {
      "cell_type": "markdown",
      "source": [
        "Прямая корреляция:\n",
        "\n",
        "1: age_at_diagnosis и age_at_index (неинформативно)\n",
        "\n",
        "0,94: year_of_birth и days_to_birth (неинформативно)\n",
        "\n",
        "0,81: year_of_diagnosis и year_of_death (в большинстве случаев диагноз ставят незадолго до смерти)\n",
        "\n",
        "Обратная корреляция:\n",
        "\n",
        "-1: days_to_birth и age_at_index (неинформативно)\n",
        "\n",
        "-1: age_at_diagnosis и days_to_birth (неинформативно)\n",
        "\n",
        "-0,94: year_of_birth и age_at_index (неинформативно)\n",
        "\n",
        "-0,94: age_at_diagnosis и year_of_birth (старикам ставят диагноз в конце жизни, средний возраст получает диагноз раньше приклонного возраста)"
      ],
      "metadata": {
        "id": "0zarMnaBBfpu"
      }
    },
    {
      "cell_type": "markdown",
      "source": [
        "Категориальные признаки"
      ],
      "metadata": {
        "id": "SziR3BbeBkTS"
      }
    },
    {
      "cell_type": "code",
      "source": [
        "clinical_info.describe(include='category').T"
      ],
      "metadata": {
        "id": "xCkjdOnPBnXI"
      },
      "execution_count": null,
      "outputs": []
    },
    {
      "cell_type": "code",
      "source": [
        "def show_cat_feat(feat, labels=None, title=None, aspect=1, pie=False, h=6, w=4):\n",
        "    plt.figure(figsize=(h,w))\n",
        "\n",
        "    print(f'Наличие пропусков: {clinical_info[feat].isna().any()}')\n",
        "\n",
        "    if pie:\n",
        "        clinical_info[feat].value_counts().plot.pie(autopct = '%1.3f%%', shadow = True,\n",
        "                                                            # labels=labels\n",
        "                                                            ).set(title=title)\n",
        "\n",
        "    sns.displot(data=clinical_info,\n",
        "                x=clinical_info[feat],\n",
        "                legend=True,\n",
        "                aspect=aspect,\n",
        "                hue=clinical_info['vital_status'],\n",
        "                kind='hist').set(title=title)"
      ],
      "metadata": {
        "id": "V0wDsU3MBqw8"
      },
      "execution_count": null,
      "outputs": []
    },
    {
      "cell_type": "markdown",
      "source": [
        "ethnicity"
      ],
      "metadata": {
        "id": "8NPIEJsRBwbC"
      }
    },
    {
      "cell_type": "code",
      "source": [
        "title = \"Этническая принадлежность\"\n",
        "\n",
        "show_cat_feat('ethnicity', title)"
      ],
      "metadata": {
        "id": "S5WqhPHdBzB7"
      },
      "execution_count": null,
      "outputs": []
    },
    {
      "cell_type": "markdown",
      "source": [
        "в пропорции испанцы или латины умирают реже, чем другая этническая группа"
      ],
      "metadata": {
        "id": "BNSzBQDiB2O3"
      }
    },
    {
      "cell_type": "markdown",
      "source": [
        "gender"
      ],
      "metadata": {
        "id": "1E2TmwC4CEnc"
      }
    },
    {
      "cell_type": "code",
      "source": [
        "title = \"Гендер\"\n",
        "\n",
        "show_cat_feat('gender', title)"
      ],
      "metadata": {
        "id": "KTMGCT3VCIWm"
      },
      "execution_count": null,
      "outputs": []
    },
    {
      "cell_type": "markdown",
      "source": [
        "женщины умирают реже, чем мужчины"
      ],
      "metadata": {
        "id": "iMhZoIZaCKjN"
      }
    },
    {
      "cell_type": "markdown",
      "source": [
        "race"
      ],
      "metadata": {
        "id": "tJYJXFGhCNLs"
      }
    },
    {
      "cell_type": "code",
      "source": [
        "title = \"Раса\"\n",
        "\n",
        "show_cat_feat('race', title, aspect=1.3)"
      ],
      "metadata": {
        "id": "H2X9BZiXCP0a"
      },
      "execution_count": null,
      "outputs": []
    },
    {
      "cell_type": "markdown",
      "source": [
        "Шансы выжить у \"белой\" расы выше всех. У негроидной расы нет выживших, это объясняется недостаточным количеством данных."
      ],
      "metadata": {
        "id": "cvzhdQq1CVy6"
      }
    },
    {
      "cell_type": "markdown",
      "source": [
        "ann_arbor_clinical_stage"
      ],
      "metadata": {
        "id": "vBrnOHsvCYD4"
      }
    },
    {
      "cell_type": "code",
      "source": [
        "title = \"Клиническая стадия\"\n",
        "\n",
        "show_cat_feat('ann_arbor_clinical_stage', title, h=10, w=8)"
      ],
      "metadata": {
        "id": "rDx89PW6CZ1F"
      },
      "execution_count": null,
      "outputs": []
    },
    {
      "cell_type": "markdown",
      "source": [
        "На 4-й стадии смертность выше всего, это ожидаемо."
      ],
      "metadata": {
        "id": "23x9pd0ICcci"
      }
    },
    {
      "cell_type": "code",
      "source": [
        "plt.figure(figsize=(6,4))\n",
        "\n",
        "sns.barplot(x='ann_arbor_clinical_stage',\n",
        "            y='age_at_diagnosis',\n",
        "            hue='gender',\n",
        "            data = clinical_info,\n",
        "            palette='winter')\n",
        "plt.title('clinical_stage - age_at_diagnosis')\n",
        "plt.show();"
      ],
      "metadata": {
        "id": "z2fVb9EtCdHp"
      },
      "execution_count": null,
      "outputs": []
    },
    {
      "cell_type": "markdown",
      "source": [
        "диагноз ставят примерно в одном возрасте"
      ],
      "metadata": {
        "id": "Q-rSgB9CCgyq"
      }
    },
    {
      "cell_type": "code",
      "source": [
        "plt.figure(figsize=(6,4))\n",
        "\n",
        "sns.barplot(x='ann_arbor_clinical_stage',\n",
        "            y='days_to_death',\n",
        "            hue='gender',\n",
        "            data = clinical_info,\n",
        "            palette='summer')\n",
        "plt.title('clinical_stage - days_to_death')\n",
        "plt.show();"
      ],
      "metadata": {
        "id": "DtHB69W7Ci3G"
      },
      "execution_count": null,
      "outputs": []
    },
    {
      "cell_type": "markdown",
      "source": [
        "Внезапно, количество дней до смерти (от постановки диагноза до смерти) больше на 3 и 4 стадиях."
      ],
      "metadata": {
        "id": "S-EeEyFjCmyq"
      }
    },
    {
      "cell_type": "markdown",
      "source": [
        "icd_10_code"
      ],
      "metadata": {
        "id": "mEWPuPIvCsCF"
      }
    },
    {
      "cell_type": "code",
      "source": [
        "title = \"Кодировка\"\n",
        "\n",
        "show_cat_feat('icd_10_code', title, aspect=1.3)"
      ],
      "metadata": {
        "id": "0Ked-k8ECuct"
      },
      "execution_count": null,
      "outputs": []
    },
    {
      "cell_type": "markdown",
      "source": [
        "Код C83.3 «Крупноклеточная (диффузная) неходжкинская лимфома»"
      ],
      "metadata": {
        "id": "anGFfDDUC2ZV"
      }
    },
    {
      "cell_type": "markdown",
      "source": [
        "site_of_resection_or_biopsy"
      ],
      "metadata": {
        "id": "ChXOXdjhC4p_"
      }
    },
    {
      "cell_type": "code",
      "source": [
        "his = sns.displot(data=clinical_info,\n",
        "                x=clinical_info['site_of_resection_or_biopsy'],\n",
        "                legend=True,\n",
        "                height=3.5,\n",
        "                aspect=4,\n",
        "                hue=clinical_info['vital_status'],\n",
        "                kind='hist')\n",
        "plt.xticks(rotation=90);"
      ],
      "metadata": {
        "id": "MlZWrf1QC5Yw"
      },
      "execution_count": null,
      "outputs": []
    },
    {
      "cell_type": "markdown",
      "source": [
        "Смертоностные участки биопсии: внутрибрюшные лимфатические узлы, внутригрудные лимфатические узлы, тощая кишка, лимфатические узлы головы, лица и шеи."
      ],
      "metadata": {
        "id": "xaUfut1yC-OH"
      }
    },
    {
      "cell_type": "markdown",
      "source": [
        "V-мера Крамера"
      ],
      "metadata": {
        "id": "UGaoTMEcDAKt"
      }
    },
    {
      "cell_type": "code",
      "source": [
        "cramersv = am.CramersV(clinical_info[categorical_features].drop('case_id', axis=1))\n",
        "cramersv.fit()"
      ],
      "metadata": {
        "id": "N6EVtIgDDCLw"
      },
      "execution_count": null,
      "outputs": []
    },
    {
      "cell_type": "markdown",
      "source": [
        "Повышенная корреляция к практически ко всем признакам у места биопсии и органа происхождения рака."
      ],
      "metadata": {
        "id": "ez7OenaMDEsx"
      }
    },
    {
      "cell_type": "markdown",
      "source": [
        "Целевая переменная vital_status"
      ],
      "metadata": {
        "id": "QLzpRSmbDGm3"
      }
    },
    {
      "cell_type": "code",
      "source": [
        "title = 'Жизненное состояние'\n",
        "clinical_info['vital_status'].value_counts().plot.pie(autopct = '%1.3f%%', shadow=True,\n",
        "                                                            # labels=labels\n",
        "                                                            ).set(title=title);"
      ],
      "metadata": {
        "id": "5rDTaJsPDI1l"
      },
      "execution_count": null,
      "outputs": []
    },
    {
      "cell_type": "markdown",
      "source": [
        "наблюдается дисбаланс классов"
      ],
      "metadata": {
        "id": "wWj01_UcDKxa"
      }
    },
    {
      "cell_type": "markdown",
      "source": [
        "Таблица корреляции"
      ],
      "metadata": {
        "id": "tKqM9y0dDM-Q"
      }
    },
    {
      "cell_type": "code",
      "source": [
        "pip install phik"
      ],
      "metadata": {
        "id": "WsfZr-7wDPHO"
      },
      "execution_count": null,
      "outputs": []
    },
    {
      "cell_type": "code",
      "source": [
        "import phik\n",
        "from phik.report import plot_correlation_matrix"
      ],
      "metadata": {
        "id": "yhOSGoaQDR3N"
      },
      "execution_count": null,
      "outputs": []
    },
    {
      "cell_type": "code",
      "source": [
        "phik_overview = clinical_info.drop('case_id', axis=1).phik_matrix().round(2)\n",
        "\n",
        "phik.report.plot_correlation_matrix(phik_overview.values,\n",
        "                        x_labels=phik_overview.columns,\n",
        "                        y_labels=phik_overview.index,\n",
        "                        vmin=0, vmax=1, color_map=\"Greens\",\n",
        "                        title=r\"correlation\",\n",
        "                        fontsize_factor=0.8, figsize=(11, 6))\n",
        "plt.tight_layout()"
      ],
      "metadata": {
        "id": "3rmq4A8_DT6B"
      },
      "execution_count": null,
      "outputs": []
    },
    {
      "cell_type": "markdown",
      "source": [
        "Высокая корреляция целевого признака с органом происхождения образования, местом биопсии и количеством дней до смерти."
      ],
      "metadata": {
        "id": "lX6s4gxKDX1C"
      }
    },
    {
      "cell_type": "markdown",
      "source": [
        "Гипотезы"
      ],
      "metadata": {
        "id": "jwR_b-KcDZsJ"
      }
    },
    {
      "cell_type": "code",
      "source": [
        "from scipy.stats import chi2_contingency"
      ],
      "metadata": {
        "id": "syk8qYEcDdDF"
      },
      "execution_count": null,
      "outputs": []
    },
    {
      "cell_type": "code",
      "source": [
        "from scipy.stats import fisher_exact"
      ],
      "metadata": {
        "id": "ICtGEE7HDd0F"
      },
      "execution_count": null,
      "outputs": []
    },
    {
      "cell_type": "markdown",
      "source": [
        "Гипотеза 1.\n",
        "\n",
        "Нулевая гипотеза: смертность при раке не зависит от органа происхождения новообразования.\n",
        "\n",
        "Альтернативная гипотеза: смертность при раке зависит от органа происхождения новообразования.\n",
        "\n",
        "Зависимая переменная - смертность.(категориальная)\n",
        "\n",
        "Независимая переменная - орган происхождения рака.(категориальная)"
      ],
      "metadata": {
        "id": "H99Ag-AHDiOG"
      }
    },
    {
      "cell_type": "code",
      "source": [
        "# таблица сопряженности\n",
        "contingency_table = pd.crosstab(clinical_info['tissue_or_organ_of_origin'], clinical_info['vital_status'])\n",
        "contingency_table"
      ],
      "metadata": {
        "id": "V-gGY8TdDk-d"
      },
      "execution_count": null,
      "outputs": []
    },
    {
      "cell_type": "code",
      "source": [
        "# тест хи-квадрат\n",
        "chi2, p, dof, expected = chi2_contingency(contingency_table)\n",
        "print('chi2 =', chi2)\n",
        "print('p =', p)\n",
        "print('dof =', dof)\n",
        "print('expected frequencies:\\n', expected)"
      ],
      "metadata": {
        "id": "QLXyiy7_Dnlo"
      },
      "execution_count": null,
      "outputs": []
    },
    {
      "cell_type": "markdown",
      "source": [
        "Значение p-value = 0.000385338893804148. Это меньше уровня знчимости 0.05. Значит можно отвергать нулевую гипотезу. Смертность при раке зависит от органа происхождения новообразования."
      ],
      "metadata": {
        "id": "AtcMKv2UDrZ1"
      }
    },
    {
      "cell_type": "markdown",
      "source": [
        "Гипотеза 2.\n",
        "\n",
        "Нулевая гипотеза: смертность при раке не зависит от пола пациента.\n",
        "\n",
        "Альтернативная гипотеза: смертность при раке зависит от пола пациента.\n",
        "\n",
        "Зависимая переменная - смертность.(категориальная)\n",
        "\n",
        "Независимая переменная - пол пациента.(категориальная)"
      ],
      "metadata": {
        "id": "u73HBXaVDthB"
      }
    },
    {
      "cell_type": "code",
      "source": [
        "# таблица сопряженности\n",
        "contingency_table = pd.crosstab(clinical_info['gender'], clinical_info['vital_status'])\n",
        "contingency_table"
      ],
      "metadata": {
        "id": "uFu23SIKDwZb"
      },
      "execution_count": null,
      "outputs": []
    },
    {
      "cell_type": "code",
      "source": [
        "# тест Фишера\n",
        "if contingency_table.shape == (2, 2):\n",
        "    oddsratio, p_value = fisher_exact(contingency_table)\n",
        "\n",
        "    # Вывод результатов\n",
        "    print(f\"p-значение: {p_value}\")\n",
        "\n",
        "    # Интерпретация результата\n",
        "    if p_value < 0.05:\n",
        "        print(\"Отвергаем нулевую гипотезу: существует зависимость между полом пациента и смертностью.\")\n",
        "    else:\n",
        "        print(\"Не отвергаем нулевую гипотезу: нет доказательств зависимости между полом пациента и смертностью.\")\n",
        "else:\n",
        "    print(\"Тест Фишера подходит только для 2x2 таблиц.\")"
      ],
      "metadata": {
        "id": "SIvbJktwD0dt"
      },
      "execution_count": null,
      "outputs": []
    }
  ]
}