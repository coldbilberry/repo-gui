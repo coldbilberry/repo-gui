{
  "nbformat": 4,
  "nbformat_minor": 0,
  "metadata": {
    "colab": {
      "name": "Лин.алг.урок2",
      "provenance": [],
      "authorship_tag": "ABX9TyNSx0VqsIRMfrl/oLiSs7sj",
      "include_colab_link": true
    },
    "kernelspec": {
      "name": "python3",
      "display_name": "Python 3"
    },
    "language_info": {
      "name": "python"
    }
  },
  "cells": [
    {
      "cell_type": "markdown",
      "metadata": {
        "id": "view-in-github",
        "colab_type": "text"
      },
      "source": [
        "<a href=\"https://colab.research.google.com/github/coldbilberry/repo-gui/blob/main/%D0%9B%D0%B8%D0%BD_%D0%B0%D0%BB%D0%B3_%D1%83%D1%80%D0%BE%D0%BA2.ipynb\" target=\"_parent\"><img src=\"https://colab.research.google.com/assets/colab-badge.svg\" alt=\"Open In Colab\"/></a>"
      ]
    },
    {
      "cell_type": "code",
      "execution_count": 1,
      "metadata": {
        "id": "PS3u9q2Crpqk"
      },
      "outputs": [],
      "source": [
        "import numpy as np"
      ]
    },
    {
      "cell_type": "markdown",
      "source": [
        "Задание 2.1"
      ],
      "metadata": {
        "id": "3QWERw3NnEAq"
      }
    },
    {
      "cell_type": "code",
      "source": [
        "A = np.matrix([[1, -2],\n",
        "              [3, 0]])\n",
        "B = np.matrix([[4, -1],\n",
        "               [0, 5]])"
      ],
      "metadata": {
        "id": "ZsK4S5aPnLzn"
      },
      "execution_count": 10,
      "outputs": []
    },
    {
      "cell_type": "code",
      "source": [
        "A + B"
      ],
      "metadata": {
        "colab": {
          "base_uri": "https://localhost:8080/"
        },
        "id": "c8vP5mHfn1zS",
        "outputId": "d4c2f38c-c161-4def-855c-518547b1480a"
      },
      "execution_count": 11,
      "outputs": [
        {
          "output_type": "execute_result",
          "data": {
            "text/plain": [
              "matrix([[ 5, -3],\n",
              "        [ 3,  5]])"
            ]
          },
          "metadata": {},
          "execution_count": 11
        }
      ]
    },
    {
      "cell_type": "code",
      "source": [
        "A.dot(B)"
      ],
      "metadata": {
        "colab": {
          "base_uri": "https://localhost:8080/"
        },
        "id": "bXYQQMvLoMg9",
        "outputId": "2c576734-954e-4d4c-f1f5-72c8b3ddcaf7"
      },
      "execution_count": 12,
      "outputs": [
        {
          "output_type": "execute_result",
          "data": {
            "text/plain": [
              "matrix([[  4, -11],\n",
              "        [ 12,  -3]])"
            ]
          },
          "metadata": {},
          "execution_count": 12
        }
      ]
    },
    {
      "cell_type": "markdown",
      "source": [
        "Задание 3.1"
      ],
      "metadata": {
        "id": "j27VPLorpIhI"
      }
    },
    {
      "cell_type": "code",
      "source": [
        "A = np.matrix([[1, 7],\n",
        "               [3, -6]])\n",
        "B = np.matrix([[0, 5],\n",
        "               [2, -1]])\n",
        "C = np.matrix([[2, -4],\n",
        "               [1, -1]])"
      ],
      "metadata": {
        "id": "SbPN2w5spVMe"
      },
      "execution_count": 7,
      "outputs": []
    },
    {
      "cell_type": "code",
      "source": [
        "3*A, 2*B, 4*C"
      ],
      "metadata": {
        "colab": {
          "base_uri": "https://localhost:8080/"
        },
        "id": "_WkYddA_qCX0",
        "outputId": "bdeffa38-1e84-4b91-b3b7-88e071f374b3"
      },
      "execution_count": 8,
      "outputs": [
        {
          "output_type": "execute_result",
          "data": {
            "text/plain": [
              "(matrix([[  3,  21],\n",
              "         [  9, -18]]), matrix([[ 0, 10],\n",
              "         [ 4, -2]]), matrix([[  8, -16],\n",
              "         [  4,  -4]]))"
            ]
          },
          "metadata": {},
          "execution_count": 8
        }
      ]
    },
    {
      "cell_type": "code",
      "source": [
        "3*A - 2*B + 4*C"
      ],
      "metadata": {
        "colab": {
          "base_uri": "https://localhost:8080/"
        },
        "id": "LY23_IpyqRrz",
        "outputId": "0abfba39-4e39-429f-e152-b78a38d1bc6f"
      },
      "execution_count": 9,
      "outputs": [
        {
          "output_type": "execute_result",
          "data": {
            "text/plain": [
              "matrix([[ 11,  -5],\n",
              "        [  9, -20]])"
            ]
          },
          "metadata": {},
          "execution_count": 9
        }
      ]
    },
    {
      "cell_type": "markdown",
      "source": [
        "Задание 4.1"
      ],
      "metadata": {
        "id": "wXbXtq6nqug2"
      }
    },
    {
      "cell_type": "code",
      "source": [
        "A = np.matrix([[4, 1],\n",
        "               [5, -2],\n",
        "               [2, 3]])"
      ],
      "metadata": {
        "id": "3E2DFcvEqx9v"
      },
      "execution_count": 13,
      "outputs": []
    },
    {
      "cell_type": "code",
      "source": [
        "A.T"
      ],
      "metadata": {
        "colab": {
          "base_uri": "https://localhost:8080/"
        },
        "id": "Ox6njrNirFyQ",
        "outputId": "c9287fa7-0ef5-4e9a-c06f-8747e4a4ab88"
      },
      "execution_count": 14,
      "outputs": [
        {
          "output_type": "execute_result",
          "data": {
            "text/plain": [
              "matrix([[ 4,  5,  2],\n",
              "        [ 1, -2,  3]])"
            ]
          },
          "metadata": {},
          "execution_count": 14
        }
      ]
    },
    {
      "cell_type": "code",
      "source": [
        "A.dot(A.T)"
      ],
      "metadata": {
        "colab": {
          "base_uri": "https://localhost:8080/"
        },
        "id": "oAjzPDvsrKJ4",
        "outputId": "48b857ba-2e20-429b-dd16-bf011c26bcc6"
      },
      "execution_count": 16,
      "outputs": [
        {
          "output_type": "execute_result",
          "data": {
            "text/plain": [
              "matrix([[17, 18, 11],\n",
              "        [18, 29,  4],\n",
              "        [11,  4, 13]])"
            ]
          },
          "metadata": {},
          "execution_count": 16
        }
      ]
    },
    {
      "cell_type": "code",
      "source": [
        "A.T.dot(A)"
      ],
      "metadata": {
        "colab": {
          "base_uri": "https://localhost:8080/"
        },
        "id": "D8GLrhxnrTDK",
        "outputId": "55fa722e-b535-45de-bd16-88342fef8e78"
      },
      "execution_count": 17,
      "outputs": [
        {
          "output_type": "execute_result",
          "data": {
            "text/plain": [
              "matrix([[45,  0],\n",
              "        [ 0, 14]])"
            ]
          },
          "metadata": {},
          "execution_count": 17
        }
      ]
    },
    {
      "cell_type": "markdown",
      "source": [
        "Задание 1.2\n",
        "\n",
        "a)\n",
        "\n"
      ],
      "metadata": {
        "id": "g2zbEqCZroV7"
      }
    },
    {
      "cell_type": "code",
      "source": [
        "x = 1\n",
        "A = np.matrix([[np.sin(x), -np.cos(x)],\n",
        "               [np.cos(x), np.sin(x)]])\n",
        "np.linalg.det(A)"
      ],
      "metadata": {
        "colab": {
          "base_uri": "https://localhost:8080/"
        },
        "id": "QUEYDJN2r5gs",
        "outputId": "c106d0ac-89b2-4a83-cda8-8873172f8771"
      },
      "execution_count": 19,
      "outputs": [
        {
          "output_type": "execute_result",
          "data": {
            "text/plain": [
              "1.0"
            ]
          },
          "metadata": {},
          "execution_count": 19
        }
      ]
    },
    {
      "cell_type": "markdown",
      "source": [
        "б)"
      ],
      "metadata": {
        "id": "1InkXgjnuYyI"
      }
    },
    {
      "cell_type": "code",
      "source": [
        "A = np.matrix([[4, 2, 3],\n",
        "               [0, 5, 1],\n",
        "               [0, 0, 9]])\n",
        "np.linalg.det(A)"
      ],
      "metadata": {
        "colab": {
          "base_uri": "https://localhost:8080/"
        },
        "id": "hFotS8oJuam6",
        "outputId": "05b0bbfc-9f60-43ed-d0d9-4e9917d4485a"
      },
      "execution_count": 20,
      "outputs": [
        {
          "output_type": "execute_result",
          "data": {
            "text/plain": [
              "180.0"
            ]
          },
          "metadata": {},
          "execution_count": 20
        }
      ]
    },
    {
      "cell_type": "markdown",
      "source": [
        "в)"
      ],
      "metadata": {
        "id": "TQPtB08KwIF2"
      }
    },
    {
      "cell_type": "code",
      "source": [
        "A = np.matrix([[1, 2, 3],\n",
        "               [4, 5, 6],\n",
        "               [7, 8, 9]])\n",
        "np.linalg.det(A)"
      ],
      "metadata": {
        "colab": {
          "base_uri": "https://localhost:8080/"
        },
        "id": "6hmnaN88wJi7",
        "outputId": "a8335119-68fb-45b0-bb50-a5b7d4b6d7b8"
      },
      "execution_count": 21,
      "outputs": [
        {
          "output_type": "execute_result",
          "data": {
            "text/plain": [
              "0.0"
            ]
          },
          "metadata": {},
          "execution_count": 21
        }
      ]
    },
    {
      "cell_type": "markdown",
      "source": [
        "Задание 4.2\n",
        "\n",
        "а)"
      ],
      "metadata": {
        "id": "7_Dx4nX5wu43"
      }
    },
    {
      "cell_type": "code",
      "source": [
        "A = np.matrix([[1, 2, 3],\n",
        "               [1, 1, 1],\n",
        "               [2, 3, 4]])\n",
        "np.linalg.matrix_rank(A)"
      ],
      "metadata": {
        "colab": {
          "base_uri": "https://localhost:8080/"
        },
        "id": "YkzD1bPDw3Up",
        "outputId": "ff77a987-23f6-4b38-fe69-1ff5aedacb6e"
      },
      "execution_count": 22,
      "outputs": [
        {
          "output_type": "execute_result",
          "data": {
            "text/plain": [
              "2"
            ]
          },
          "metadata": {},
          "execution_count": 22
        }
      ]
    },
    {
      "cell_type": "markdown",
      "source": [
        "б)"
      ],
      "metadata": {
        "id": "RCKiy4PBxPGr"
      }
    },
    {
      "cell_type": "code",
      "source": [
        "A = np.matrix([[0, 0, 2, 1],\n",
        "               [0, 0, 2, 2],\n",
        "               [2, 3, 5, 6]])\n",
        "np.linalg.matrix_rank(A)"
      ],
      "metadata": {
        "colab": {
          "base_uri": "https://localhost:8080/"
        },
        "id": "I88gZBDDxSnz",
        "outputId": "2d069afa-8577-4d80-d20f-5176986c08e5"
      },
      "execution_count": 23,
      "outputs": [
        {
          "output_type": "execute_result",
          "data": {
            "text/plain": [
              "3"
            ]
          },
          "metadata": {},
          "execution_count": 23
        }
      ]
    }
  ]
}