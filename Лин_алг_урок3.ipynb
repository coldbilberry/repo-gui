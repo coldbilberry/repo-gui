{
  "nbformat": 4,
  "nbformat_minor": 0,
  "metadata": {
    "colab": {
      "name": "Лин.алг. урок3",
      "provenance": [],
      "authorship_tag": "ABX9TyO6NlbK55lOk87YU/vs/X0Y",
      "include_colab_link": true
    },
    "kernelspec": {
      "name": "python3",
      "display_name": "Python 3"
    },
    "language_info": {
      "name": "python"
    }
  },
  "cells": [
    {
      "cell_type": "markdown",
      "metadata": {
        "id": "view-in-github",
        "colab_type": "text"
      },
      "source": [
        "<a href=\"https://colab.research.google.com/github/coldbilberry/repo-gui/blob/main/%D0%9B%D0%B8%D0%BD_%D0%B0%D0%BB%D0%B3_%D1%83%D1%80%D0%BE%D0%BA3.ipynb\" target=\"_parent\"><img src=\"https://colab.research.google.com/assets/colab-badge.svg\" alt=\"Open In Colab\"/></a>"
      ]
    },
    {
      "cell_type": "markdown",
      "source": [
        "Задание 1"
      ],
      "metadata": {
        "id": "AyjyfEebEJ7M"
      }
    },
    {
      "cell_type": "code",
      "source": [
        "import numpy as np\n",
        "np.set_printoptions(precision=2, suppress=True)"
      ],
      "metadata": {
        "id": "pxqeg2U9EX8n"
      },
      "execution_count": 1,
      "outputs": []
    },
    {
      "cell_type": "code",
      "source": [
        "a = np.array([[-1, -6], [2, 6]])\n",
        "w, v = np.linalg.eig(a)\n",
        "print(f'Матрица A: \\n{a}')\n",
        "print(f'Собственные значения: \\n{w}')\n",
        "print(f'Собственные значения: \\n{v}')"
      ],
      "metadata": {
        "colab": {
          "base_uri": "https://localhost:8080/"
        },
        "id": "3VDRQ0BJE6EU",
        "outputId": "34ddd615-0318-41e3-bd5c-a4f3b2ca433e"
      },
      "execution_count": 2,
      "outputs": [
        {
          "output_type": "stream",
          "name": "stdout",
          "text": [
            "Матрица A: \n",
            "[[-1 -6]\n",
            " [ 2  6]]\n",
            "Собственные значения: \n",
            "[2. 3.]\n",
            "Собственные значения: \n",
            "[[-0.89  0.83]\n",
            " [ 0.45 -0.55]]\n"
          ]
        }
      ]
    }
  ]
}