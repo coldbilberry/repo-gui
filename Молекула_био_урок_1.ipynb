{
  "nbformat": 4,
  "nbformat_minor": 0,
  "metadata": {
    "colab": {
      "provenance": [],
      "authorship_tag": "ABX9TyNOnhQmxDa/VUvCR6EK1e7F",
      "include_colab_link": true
    },
    "kernelspec": {
      "name": "python3",
      "display_name": "Python 3"
    },
    "language_info": {
      "name": "python"
    }
  },
  "cells": [
    {
      "cell_type": "markdown",
      "metadata": {
        "id": "view-in-github",
        "colab_type": "text"
      },
      "source": [
        "<a href=\"https://colab.research.google.com/github/coldbilberry/repo-gui/blob/main/%D0%9C%D0%BE%D0%BB%D0%B5%D0%BA%D1%83%D0%BB%D0%B0_%D0%B1%D0%B8%D0%BE_%D1%83%D1%80%D0%BE%D0%BA_1.ipynb\" target=\"_parent\"><img src=\"https://colab.research.google.com/assets/colab-badge.svg\" alt=\"Open In Colab\"/></a>"
      ]
    },
    {
      "cell_type": "code",
      "execution_count": null,
      "metadata": {
        "id": "K34Pm920MuT8"
      },
      "outputs": [],
      "source": [
        "!pip install biopython"
      ]
    },
    {
      "cell_type": "code",
      "source": [
        "from Bio import Entrez"
      ],
      "metadata": {
        "id": "aGRFOdsGNUwh"
      },
      "execution_count": null,
      "outputs": []
    },
    {
      "cell_type": "code",
      "source": [
        "from Bio import SeqIO"
      ],
      "metadata": {
        "id": "pK4f6EDRNXDf"
      },
      "execution_count": null,
      "outputs": []
    },
    {
      "cell_type": "code",
      "source": [
        "Entrez.email=\"A.N.Other@example.com\""
      ],
      "metadata": {
        "id": "R5_JV4QRNaFa"
      },
      "execution_count": null,
      "outputs": []
    },
    {
      "cell_type": "code",
      "source": [
        "import pandas as pd\n",
        "import io\n",
        "import xml.etree.ElementTree as ET"
      ],
      "metadata": {
        "id": "ym7AtTE9NcHh"
      },
      "execution_count": null,
      "outputs": []
    },
    {
      "cell_type": "code",
      "source": [
        "from google.colab import files\n",
        "uploaded = files.upload()"
      ],
      "metadata": {
        "id": "rDZyBUf-NeW6"
      },
      "execution_count": null,
      "outputs": []
    },
    {
      "cell_type": "code",
      "source": [
        "dis = pd.read_table(io.BytesIO(uploaded['gene_disease_associations.tsv']))\n",
        "dis.head(10)"
      ],
      "metadata": {
        "id": "UWeYzmXtNhF5"
      },
      "execution_count": null,
      "outputs": []
    },
    {
      "cell_type": "code",
      "source": [
        "diseaseName=pd.unique(dis['diseaseName'])"
      ],
      "metadata": {
        "id": "a4IVWbQTNiyV"
      },
      "execution_count": null,
      "outputs": []
    },
    {
      "cell_type": "code",
      "source": [
        "print(diseaseName)"
      ],
      "metadata": {
        "id": "N-0S2ClMNna0"
      },
      "execution_count": null,
      "outputs": []
    },
    {
      "cell_type": "code",
      "source": [
        "dis.shape"
      ],
      "metadata": {
        "id": "A93gP4W-NoI8"
      },
      "execution_count": null,
      "outputs": []
    },
    {
      "cell_type": "code",
      "source": [
        "dis['diseaseName'].value_counts()"
      ],
      "metadata": {
        "id": "EiOpF3W4Nqdi"
      },
      "execution_count": null,
      "outputs": []
    },
    {
      "cell_type": "code",
      "source": [
        "liver=dis.loc[dis['diseaseName'] == 'Liver Cirrhosis, Experimental']\n",
        "liver # выбираем заболевание для работы - Liver Cirrhosis, Experimental (Цирроз печени, экспериментальный)"
      ],
      "metadata": {
        "id": "vDXkiMMiNvvK"
      },
      "execution_count": null,
      "outputs": []
    },
    {
      "cell_type": "code",
      "source": [
        "# анализируем ген A2M, ID = 2\n",
        "handle=Entrez.efetch(db='gene',id='2',rettype='xml')\n",
        "gene_locus=ET.parse(handle).getroot().find('Entrezgene/Entrezgene_locus')\n",
        "region=gene_locus.find(\"Gene-commentary/Gene-commentary_seqs/Seq-loc/Seq-loc_int/Seq-interval\")\n",
        "gene_locus.find(\"Gene-commentary/Gene-commentary_seqs/Seq-loc/Seq-loc_int/Seq-interval\")\n",
        "start=int(region.find(\"Seq-interval_from\").text)+1\n",
        "end=int(region.find(\"Seq-interval_to\").text)+1\n",
        "gi_id=region.find(\"Seq-interval_id/Seq-id/Seq-id_gi\").text\n",
        "strand=region.find(\"Seq-interval_strand/Na-strand\").get(\"value\")\n",
        "print(\"start: \",start,\"end: \",end,\"id: \",gi_id,\"нить: \",strand)"
      ],
      "metadata": {
        "id": "KIHopTvaNwYa"
      },
      "execution_count": null,
      "outputs": []
    },
    {
      "cell_type": "code",
      "source": [
        "handle=Entrez.esummary(db=\"gene\", id=2, rettype=\"xml\")\n",
        "record = Entrez.read(handle)\n",
        "record['DocumentSummarySet']['DocumentSummary'][0]['Name']"
      ],
      "metadata": {
        "id": "C6m2CiRBNzR1"
      },
      "execution_count": null,
      "outputs": []
    },
    {
      "cell_type": "code",
      "source": [
        "id_chrom = record['DocumentSummarySet']['DocumentSummary'][0]['GenomicInfo'][0]['ChrAccVer']\n",
        "id_chrom"
      ],
      "metadata": {
        "id": "FNI5K3oJN23y"
      },
      "execution_count": null,
      "outputs": []
    },
    {
      "cell_type": "code",
      "source": [
        "handle = Entrez.esummary(db=\"gene\", id=2, rettype = 'xml')\n",
        "record = Entrez.read(handle)"
      ],
      "metadata": {
        "id": "g4rXjwUKN41E"
      },
      "execution_count": null,
      "outputs": []
    },
    {
      "cell_type": "code",
      "source": [
        "chrom_num = record['DocumentSummarySet']['DocumentSummary'][0]['Chromosome']\n",
        "chrom_num"
      ],
      "metadata": {
        "id": "E_NzibxVN78K"
      },
      "execution_count": null,
      "outputs": []
    },
    {
      "cell_type": "code",
      "source": [
        "handle = Entrez.efetch(db=\"nucleotide\",\n",
        "                       id=\"NC_000012.12\",\n",
        "                       rettype = 'fasta',\n",
        "                       retmode = 'text')\n",
        "#загружаем\n",
        "chromosome = SeqIO.read(handle, 'fasta')"
      ],
      "metadata": {
        "id": "--tjs8XrN_AJ"
      },
      "execution_count": null,
      "outputs": []
    },
    {
      "cell_type": "code",
      "source": [
        "chromosome"
      ],
      "metadata": {
        "id": "m1_ElPBEOBdx"
      },
      "execution_count": null,
      "outputs": []
    },
    {
      "cell_type": "code",
      "source": [
        "chromosome.description"
      ],
      "metadata": {
        "id": "s4hRLIVJODnZ"
      },
      "execution_count": null,
      "outputs": []
    },
    {
      "cell_type": "code",
      "source": [
        "geneA2M = chromosome.seq[9067708:9116229]\n",
        "print(geneA2M)\n",
        "len(geneA2M)"
      ],
      "metadata": {
        "id": "wFFLUprhOFm-"
      },
      "execution_count": null,
      "outputs": []
    },
    {
      "cell_type": "code",
      "source": [
        "liver_cirrhosis_db = dis.loc[dis['diseaseName'] == \"Liver Cirrhosis, Experimental\"]\n",
        "liver_cirrhosis_db"
      ],
      "metadata": {
        "id": "ohYOOxhaON4c"
      },
      "execution_count": null,
      "outputs": []
    },
    {
      "cell_type": "code",
      "source": [
        "gene_id_lst=liver_cirrhosis_db['geneId'].tolist()\n",
        "gene_id_lst"
      ],
      "metadata": {
        "id": "E_wzDWrQOO0Q"
      },
      "execution_count": null,
      "outputs": []
    },
    {
      "cell_type": "code",
      "source": [
        "gene_info = liver_cirrhosis_db[['geneId','geneSymbol']]\n",
        "gene_info"
      ],
      "metadata": {
        "id": "Zuq8YVuvORS6"
      },
      "execution_count": null,
      "outputs": []
    },
    {
      "cell_type": "code",
      "source": [
        "gene_info_10=gene_info.head(10)"
      ],
      "metadata": {
        "id": "9PXyyRDrOWgF"
      },
      "execution_count": null,
      "outputs": []
    },
    {
      "cell_type": "code",
      "source": [
        "# функция сборки информации для каждого гена болезни Liver Cirrhosis\n",
        "\n",
        "def get_gene_info(row):\n",
        "  gene_id = row['geneId']\n",
        "  handle = Entrez.efetch(db=\"gene\", id=gene_id, rettype = 'xml')\n",
        "  gene_locus=ET.parse(handle).getroot().find('Entrezgene/Entrezgene_locus')\n",
        "  region=gene_locus.find(\"Gene-commentary/Gene-commentary_seqs/Seq-loc/Seq-loc_int/Seq-interval\")\n",
        "  gene_locus.find(\"Gene-commentary/Gene-commentary_seqs/Seq-loc/Seq-loc_int/Seq-interval\")\n",
        "  start=int(region.find(\"Seq-interval_from\").text)+1\n",
        "  end=int(region.find(\"Seq-interval_to\").text)+1\n",
        "  gi_id=region.find(\"Seq-interval_id/Seq-id/Seq-id_gi\").text\n",
        "  strand=region.find(\"Seq-interval_strand/Na-strand\").get(\"value\")\n",
        "\n",
        "  handle = Entrez.esummary(db=\"gene\", id=gene_id, rettype = 'xml')\n",
        "  record = Entrez.read(handle)\n",
        "  chrom_num = record['DocumentSummarySet']['DocumentSummary'][0]['Chromosome']\n",
        "  mapLoc = record['DocumentSummarySet']['DocumentSummary'][0]['MapLocation']\n",
        "  ID_chr = record['DocumentSummarySet']['DocumentSummary'][0]['GenomicInfo'][0]['ChrAccVer']\n",
        "\n",
        "  handle = Entrez.efetch(db=\"nucleotide\",\n",
        "                       id=ID_chr,\n",
        "                       rettype = 'fasta',\n",
        "                       retmode = 'text')\n",
        "\n",
        "  chromosome = SeqIO.read(handle, 'fasta')\n",
        "  gene = chromosome.seq[start: end]\n",
        "\n",
        "  row['start'], row['end'], row['gi_id'], row['strand'], row['chrom_num'],\\\n",
        "  row['mapLoc'], row['ID chromosome'], row['gene lenght'], row['gene'] = start, end, gi_id, strand, chrom_num, mapLoc, ID_chr, len(gene), gene\n",
        "\n",
        "  return row\n"
      ],
      "metadata": {
        "id": "duiA2Sd0Oa1R"
      },
      "execution_count": null,
      "outputs": []
    },
    {
      "cell_type": "code",
      "source": [
        "gene_info_10 = gene_info.apply(get_gene_info, axis=1)\n",
        "gene_info_10"
      ],
      "metadata": {
        "id": "0i2xbe_2Obd-"
      },
      "execution_count": null,
      "outputs": []
    }
  ]
}