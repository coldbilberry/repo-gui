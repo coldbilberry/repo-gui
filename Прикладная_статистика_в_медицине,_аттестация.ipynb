{
  "nbformat": 4,
  "nbformat_minor": 0,
  "metadata": {
    "colab": {
      "provenance": [],
      "authorship_tag": "ABX9TyMzWUHeV0S33V+9E4j37377",
      "include_colab_link": true
    },
    "kernelspec": {
      "name": "python3",
      "display_name": "Python 3"
    },
    "language_info": {
      "name": "python"
    }
  },
  "cells": [
    {
      "cell_type": "markdown",
      "metadata": {
        "id": "view-in-github",
        "colab_type": "text"
      },
      "source": [
        "<a href=\"https://colab.research.google.com/github/coldbilberry/repo-gui/blob/main/%D0%9F%D1%80%D0%B8%D0%BA%D0%BB%D0%B0%D0%B4%D0%BD%D0%B0%D1%8F_%D1%81%D1%82%D0%B0%D1%82%D0%B8%D1%81%D1%82%D0%B8%D0%BA%D0%B0_%D0%B2_%D0%BC%D0%B5%D0%B4%D0%B8%D1%86%D0%B8%D0%BD%D0%B5%2C_%D0%B0%D1%82%D1%82%D0%B5%D1%81%D1%82%D0%B0%D1%86%D0%B8%D1%8F.ipynb\" target=\"_parent\"><img src=\"https://colab.research.google.com/assets/colab-badge.svg\" alt=\"Open In Colab\"/></a>"
      ]
    },
    {
      "cell_type": "code",
      "execution_count": 1,
      "metadata": {
        "colab": {
          "base_uri": "https://localhost:8080/",
          "height": 139
        },
        "id": "VozPPhz99HG5",
        "outputId": "da3cc587-0011-42cf-9d0a-8f05fdd43834"
      },
      "outputs": [
        {
          "output_type": "error",
          "ename": "NameError",
          "evalue": "name 'install' is not defined",
          "traceback": [
            "\u001b[0;31m---------------------------------------------------------------------------\u001b[0m",
            "\u001b[0;31mNameError\u001b[0m                                 Traceback (most recent call last)",
            "\u001b[0;32m<ipython-input-1-fa948ecf8fee>\u001b[0m in \u001b[0;36m<cell line: 1>\u001b[0;34m()\u001b[0m\n\u001b[0;32m----> 1\u001b[0;31m \u001b[0minstall\u001b[0m\u001b[0;34m.\u001b[0m\u001b[0mpackages\u001b[0m\u001b[0;34m(\u001b[0m\u001b[0;34m'tidyverse'\u001b[0m\u001b[0;34m)\u001b[0m\u001b[0;34m\u001b[0m\u001b[0;34m\u001b[0m\u001b[0m\n\u001b[0m",
            "\u001b[0;31mNameError\u001b[0m: name 'install' is not defined"
          ]
        }
      ],
      "source": [
        "install.packages('tidyverse')"
      ]
    },
    {
      "cell_type": "code",
      "source": [
        "library(tidyverse)"
      ],
      "metadata": {
        "id": "nKvVr5MBC3iB"
      },
      "execution_count": null,
      "outputs": []
    },
    {
      "cell_type": "code",
      "source": [
        "installed.packages('readr')\n",
        "library(readr)"
      ],
      "metadata": {
        "id": "1IqepZxFC6N3"
      },
      "execution_count": null,
      "outputs": []
    },
    {
      "cell_type": "code",
      "source": [
        "install.packages('survival')\n",
        "library(survival)"
      ],
      "metadata": {
        "id": "8hJoblPdDJam"
      },
      "execution_count": null,
      "outputs": []
    },
    {
      "cell_type": "code",
      "source": [
        "install.packages('gtsummary')\n",
        "library(gtsummary)"
      ],
      "metadata": {
        "id": "9sqRjlg3DKSi"
      },
      "execution_count": null,
      "outputs": []
    },
    {
      "cell_type": "code",
      "source": [
        "install.packages('tidycmprsk')\n",
        "library(tidycmprsk)"
      ],
      "metadata": {
        "id": "KQxWoxb2DMnt"
      },
      "execution_count": null,
      "outputs": []
    },
    {
      "cell_type": "code",
      "source": [
        "install.packages('condsurv')\n",
        "#library(condsurv)"
      ],
      "metadata": {
        "id": "ddSstebiDOcx"
      },
      "execution_count": null,
      "outputs": []
    },
    {
      "cell_type": "code",
      "source": [
        "install.packages('lubridate')\n",
        "library(lubridate)"
      ],
      "metadata": {
        "id": "VxQyxlOnDQrR"
      },
      "execution_count": null,
      "outputs": []
    },
    {
      "cell_type": "code",
      "source": [
        "install.packages(\"survminer\")\n",
        "library(survminer)"
      ],
      "metadata": {
        "id": "wsM93p3TDTs8"
      },
      "execution_count": null,
      "outputs": []
    },
    {
      "cell_type": "code",
      "source": [
        "install.packages('sm')\n",
        "library(sm)"
      ],
      "metadata": {
        "id": "JkZzkhPIDV59"
      },
      "execution_count": null,
      "outputs": []
    },
    {
      "cell_type": "code",
      "source": [
        "from google.colab import files\n",
        "uploaded = files.upload()"
      ],
      "metadata": {
        "id": "qxXXHvNCDeGx"
      },
      "execution_count": null,
      "outputs": []
    },
    {
      "cell_type": "code",
      "source": [
        "library(tidyverse)"
      ],
      "metadata": {
        "id": "o8HZN-ieDesC"
      },
      "execution_count": null,
      "outputs": []
    },
    {
      "cell_type": "code",
      "source": [
        "clinical <- read_tsv(\"/content/clinical.tsv\") %>%\n",
        "  mutate_all(na_if,\"\\'--\")"
      ],
      "metadata": {
        "id": "00FCRvR5Dg3C"
      },
      "execution_count": null,
      "outputs": []
    },
    {
      "cell_type": "code",
      "source": [
        "exposure <- read_tsv(\"/content/exposure.tsv\") %>%\n",
        "  mutate_all(na_if,\"\\'--\")"
      ],
      "metadata": {
        "id": "aInjr0jRDi9B"
      },
      "execution_count": null,
      "outputs": []
    },
    {
      "cell_type": "code",
      "source": [
        "family_history <- read_tsv(\"/content/family_history.tsv\") %>%\n",
        "  mutate_all(na_if,\"\\'--\")"
      ],
      "metadata": {
        "id": "6uyg4YjdDm3y"
      },
      "execution_count": null,
      "outputs": []
    },
    {
      "cell_type": "code",
      "source": [
        "follow_up <- read_tsv(\"/content/follow_up.tsv\") %>%\n",
        "  mutate_all(na_if,\"\\'--\")"
      ],
      "metadata": {
        "id": "NojO-HIrDov2"
      },
      "execution_count": null,
      "outputs": []
    },
    {
      "cell_type": "code",
      "source": [
        "pathology_detail <- read_tsv(\"/content/pathology_detail.tsv\") %>%\n",
        "  mutate_all(na_if,\"\\'--\")"
      ],
      "metadata": {
        "id": "w0CnkPDIDqt2"
      },
      "execution_count": null,
      "outputs": []
    },
    {
      "cell_type": "markdown",
      "source": [
        "Препроцессинг данных"
      ],
      "metadata": {
        "id": "MKb638SBDtzR"
      }
    },
    {
      "cell_type": "code",
      "source": [
        "install.packages(\"janitor\")"
      ],
      "metadata": {
        "id": "ul2P__znDugT"
      },
      "execution_count": null,
      "outputs": []
    },
    {
      "cell_type": "code",
      "source": [
        "library(janitor)"
      ],
      "metadata": {
        "id": "E9JFNNuYDx4L"
      },
      "execution_count": null,
      "outputs": []
    },
    {
      "cell_type": "code",
      "source": [
        "clinical <- remove_empty(clinical, which = c(\"rows\", \"cols\"), cutoff = 1, quiet = TRUE)"
      ],
      "metadata": {
        "id": "K9dEeuiPD1jg"
      },
      "execution_count": null,
      "outputs": []
    },
    {
      "cell_type": "code",
      "source": [
        "dim(clinical)"
      ],
      "metadata": {
        "id": "t76KaW97D2HA"
      },
      "execution_count": null,
      "outputs": []
    },
    {
      "cell_type": "code",
      "source": [
        "exposure <- remove_empty(exposure, which = c(\"rows\", \"cols\"), cutoff = 1, quiet = TRUE)"
      ],
      "metadata": {
        "id": "BR3T2tisD31v"
      },
      "execution_count": null,
      "outputs": []
    },
    {
      "cell_type": "code",
      "source": [
        "dim(exposure)"
      ],
      "metadata": {
        "id": "R-WHWYUOD6I-"
      },
      "execution_count": null,
      "outputs": []
    },
    {
      "cell_type": "code",
      "source": [
        "family_history <- remove_empty(family_history, which = c(\"rows\", \"cols\"), cutoff = 1, quiet = TRUE)"
      ],
      "metadata": {
        "id": "ZF_Apq6sD7uH"
      },
      "execution_count": null,
      "outputs": []
    },
    {
      "cell_type": "code",
      "source": [
        "dim(family_history)"
      ],
      "metadata": {
        "id": "z-7q5FPHD_jQ"
      },
      "execution_count": null,
      "outputs": []
    },
    {
      "cell_type": "code",
      "source": [
        "follow_up <- remove_empty(follow_up, which = c(\"rows\", \"cols\"), cutoff = 1, quiet = TRUE)"
      ],
      "metadata": {
        "id": "lpq3AZphEC3e"
      },
      "execution_count": null,
      "outputs": []
    },
    {
      "cell_type": "code",
      "source": [
        "dim(follow_up)"
      ],
      "metadata": {
        "id": "IO1DVVF7EEws"
      },
      "execution_count": null,
      "outputs": []
    },
    {
      "cell_type": "code",
      "source": [
        "pathology_detail <- remove_empty(pathology_detail, which = c(\"rows\", \"cols\"), cutoff = 1, quiet = TRUE)"
      ],
      "metadata": {
        "id": "5lx406xYEFUc"
      },
      "execution_count": null,
      "outputs": []
    },
    {
      "cell_type": "code",
      "source": [
        "dim(pathology_detail)"
      ],
      "metadata": {
        "id": "R7TYG8urEH1y"
      },
      "execution_count": null,
      "outputs": []
    },
    {
      "cell_type": "code",
      "source": [
        "data <- full_join(clinical, exposure, pathology_detail, by = c('case_id', 'case_submitter_id'))"
      ],
      "metadata": {
        "id": "zuGO5qUQELW4"
      },
      "execution_count": null,
      "outputs": []
    },
    {
      "cell_type": "code",
      "source": [
        "data <- full_join(data, pathology_detail, follow_up, by = c('case_id', 'case_submitter_id'))"
      ],
      "metadata": {
        "id": "9zFXruFyEOaL"
      },
      "execution_count": null,
      "outputs": []
    },
    {
      "cell_type": "code",
      "source": [
        "dim(data)"
      ],
      "metadata": {
        "id": "hv_E_IK9ERAg"
      },
      "execution_count": null,
      "outputs": []
    },
    {
      "cell_type": "code",
      "source": [
        "data <- data %>%\n",
        "  select(-case_id, -case_submitter_id, -project_id.x, -project_id.y, -project_id, -diagnosis_id, -diagnosis_submitter_id, -pathology_detail_id, -pathology_detail_submitter_id)"
      ],
      "metadata": {
        "id": "k4Bx4eZMEVKD"
      },
      "execution_count": null,
      "outputs": []
    },
    {
      "cell_type": "code",
      "source": [
        "attr(data$age_at_index, \"label\") <- \"Возраст на момент индексации данных\"\n",
        "attr(data$days_to_death, \"label\") <- \"Количество дней до смерти\"\n",
        "attr(data$year_of_birth, \"label\") <- \"Год рождения\"\n",
        "attr(data$year_of_death, \"label\") <- \"Год смерти\"\n",
        "attr(data$age_at_diagnosis, \"label\") <- \"Возраст на момент диагностики\"\n",
        "attr(data$days_to_diagnosis, \"label\") <- \"Дни до диагностики\"\n",
        "attr(data$days_to_last_follow_up, \"label\") <- \"Дни до последнего наблюдения\""
      ],
      "metadata": {
        "id": "I1sMEH9-EXp9"
      },
      "execution_count": null,
      "outputs": []
    },
    {
      "cell_type": "code",
      "source": [
        "data <- data %>%\n",
        "    mutate(age_is_obfuscated = as.factor(age_is_obfuscated)) %>%\n",
        "    mutate(cause_of_death = as.factor(cause_of_death)) %>%\n",
        "    mutate(ethnicity = as.factor(ethnicity)) %>%\n",
        "    mutate(gender = as.factor(gender)) %>%\n",
        "    mutate(race = as.factor(race)) %>%\n",
        "    mutate(vital_status = as.factor(vital_status)) %>%\n",
        "    mutate(ajcc_clinical_m = as.factor(ajcc_clinical_m)) %>%\n",
        "    mutate(ajcc_clinical_stage = as.factor(ajcc_clinical_stage)) %>%\n",
        "    mutate(ajcc_pathologic_m = as.factor(ajcc_pathologic_m)) %>%\n",
        "    mutate(ajcc_pathologic_n = as.factor(ajcc_pathologic_n)) %>%\n",
        "    mutate(ajcc_pathologic_stage = as.factor(ajcc_pathologic_stage)) %>%\n",
        "    mutate(ajcc_pathologic_t = as.factor(ajcc_pathologic_t)) %>%\n",
        "    mutate(ajcc_staging_system_edition = as.factor(ajcc_staging_system_edition)) %>%\n",
        "    mutate(best_overall_response = as.factor(best_overall_response)) %>%\n",
        "    mutate(classification_of_tumor = as.factor(classification_of_tumor)) %>%\n",
        "    mutate(icd_10_code = as.factor(icd_10_code)) %>%\n",
        "    mutate(last_known_disease_status = as.factor(last_known_disease_status)) %>%\n",
        "    mutate(metastasis_at_diagnosis = as.factor(metastasis_at_diagnosis)) %>%\n",
        "    mutate(morphology = as.factor(morphology)) %>%\n",
        "    mutate(primary_diagnosis = as.factor(primary_diagnosis)) %>%\n",
        "    mutate(prior_malignancy = as.factor(prior_malignancy)) %>%\n",
        "    mutate(prior_treatment = as.factor(prior_treatment)) %>%\n",
        "    mutate(progression_or_recurrence = as.factor(progression_or_recurrence)) %>%\n",
        "    mutate(residual_disease...118 = as.factor(residual_disease...118)) %>%\n",
        "    mutate(site_of_resection_or_biopsy = as.factor(site_of_resection_or_biopsy)) %>%\n",
        "    mutate(synchronous_malignancy = as.factor(synchronous_malignancy)) %>%\n",
        "    mutate(tissue_or_organ_of_origin = as.factor(tissue_or_organ_of_origin)) %>%\n",
        "    mutate(tumor_focality = as.factor(tumor_focality)) %>%\n",
        "    mutate(tumor_grade = as.factor(tumor_grade)) %>%\n",
        "    mutate(initial_disease_status = as.factor(initial_disease_status)) %>%\n",
        "    mutate(regimen_or_line_of_therapy = as.factor(regimen_or_line_of_therapy)) %>%\n",
        "    mutate(residual_disease...189 = as.factor(residual_disease...189)) %>%\n",
        "    mutate(therapeutic_agents = as.factor(therapeutic_agents)) %>%\n",
        "    mutate(treatment_intent_type = as.factor(treatment_intent_type)) %>%\n",
        "    mutate(treatment_or_therapy = as.factor(treatment_or_therapy)) %>%\n",
        "    mutate(treatment_outcome = as.factor(treatment_outcome)) %>%\n",
        "    mutate(treatment_type = as.factor(treatment_type)) %>%\n",
        "    mutate(alcohol_history = as.factor(alcohol_history)) %>%\n",
        "    mutate(alcohol_intensity = as.factor(alcohol_intensity)) %>%\n",
        "    mutate(exposure_type = as.factor(exposure_type)) %>%\n",
        "    mutate(secondhand_smoke_as_child = as.factor(secondhand_smoke_as_child)) %>%\n",
        "    mutate(tobacco_smoking_status = as.factor(tobacco_smoking_status)) %>%\n",
        "    mutate(type_of_smoke_exposure = as.factor(type_of_smoke_exposure)) %>%\n",
        "    mutate(lymph_nodes_positive = as.factor(lymph_nodes_positive)) %>%\n",
        "    mutate(peripancreatic_lymph_nodes_positive = as.factor(peripancreatic_lymph_nodes_positive))"
      ],
      "metadata": {
        "id": "JEN0rzcVEalH"
      },
      "execution_count": null,
      "outputs": []
    },
    {
      "cell_type": "code",
      "source": [
        "data <- data %>%\n",
        "    mutate(age_at_index = as.numeric(age_at_index)) %>%\n",
        "    mutate(days_to_birth = as.numeric(days_to_birth)) %>%\n",
        "    mutate(days_to_death = as.numeric(days_to_death)) %>%\n",
        "    mutate(year_of_birth = as.numeric(year_of_birth)) %>%\n",
        "    mutate(year_of_death = as.numeric(year_of_death)) %>%\n",
        "    mutate(age_at_diagnosis = as.numeric(age_at_diagnosis)) %>%\n",
        "    mutate(days_to_best_overall_response = as.numeric(days_to_best_overall_response)) %>%\n",
        "    mutate(days_to_diagnosis = as.numeric(days_to_diagnosis)) %>%\n",
        "    mutate(days_to_last_follow_up = as.numeric(days_to_last_follow_up)) %>%\n",
        "    mutate(days_to_last_known_disease_status = as.numeric(days_to_last_known_disease_status)) %>%\n",
        "    mutate(days_to_recurrence = as.numeric(days_to_recurrence)) %>%\n",
        "    mutate(year_of_diagnosis = as.numeric(year_of_diagnosis)) %>%\n",
        "    mutate(days_to_treatment_end = as.numeric(days_to_treatment_end)) %>%\n",
        "    mutate(days_to_treatment_start = as.numeric(days_to_treatment_start)) %>%\n",
        "    mutate(alcohol_days_per_week = as.numeric(alcohol_days_per_week)) %>%\n",
        "    mutate(cigarettes_per_day = as.numeric(cigarettes_per_day)) %>%\n",
        "    mutate(exposure_duration_years = as.numeric(exposure_duration_years)) %>%\n",
        "    mutate(pack_years_smoked = as.numeric(pack_years_smoked)) %>%\n",
        "    mutate(tobacco_smoking_onset_year = as.numeric(tobacco_smoking_onset_year)) %>%\n",
        "    mutate(tobacco_smoking_quit_year = as.numeric(tobacco_smoking_quit_year)) %>%\n",
        "    mutate(years_smoked = as.numeric(years_smoked)) %>%\n",
        "    mutate(peripancreatic_lymph_nodes_tested = as.numeric(peripancreatic_lymph_nodes_tested)) %>%\n",
        "    mutate(tumor_largest_dimension_diameter = as.numeric(tumor_largest_dimension_diameter))"
      ],
      "metadata": {
        "id": "6qDWPLSbEbVc"
      },
      "execution_count": null,
      "outputs": []
    },
    {
      "cell_type": "code",
      "source": [
        "str(data)"
      ],
      "metadata": {
        "id": "oLMWqEswEeYU"
      },
      "execution_count": null,
      "outputs": []
    },
    {
      "cell_type": "code",
      "source": [
        "install.packages('writexl')"
      ],
      "metadata": {
        "id": "b_pVPB4gEg3H"
      },
      "execution_count": null,
      "outputs": []
    },
    {
      "cell_type": "code",
      "source": [
        "library(writexl)"
      ],
      "metadata": {
        "id": "JRnMFJRFElBk"
      },
      "execution_count": null,
      "outputs": []
    },
    {
      "cell_type": "code",
      "source": [
        "write_rds(data, \"data.rds\")"
      ],
      "metadata": {
        "id": "tJzUMDgVEljX"
      },
      "execution_count": null,
      "outputs": []
    },
    {
      "cell_type": "markdown",
      "source": [
        "Описательная статистика"
      ],
      "metadata": {
        "id": "3gPAXaH9Ep-D"
      }
    },
    {
      "cell_type": "code",
      "source": [
        "install.packages('skimr')"
      ],
      "metadata": {
        "id": "0y7ymHKdEnpd"
      },
      "execution_count": null,
      "outputs": []
    },
    {
      "cell_type": "code",
      "source": [
        "library(skimr)"
      ],
      "metadata": {
        "id": "olIXxhdzEtWX"
      },
      "execution_count": null,
      "outputs": []
    },
    {
      "cell_type": "code",
      "source": [
        "# по категориальным переменным\n",
        "skimr::skim(select(data, where(is.factor)))"
      ],
      "metadata": {
        "id": "PQnV6b0vEvM8"
      },
      "execution_count": null,
      "outputs": []
    },
    {
      "cell_type": "code",
      "source": [
        "# удаление неинформативных колонок\n",
        "data <- data %>%\n",
        "  select(-age_is_obfuscated, -synchronous_malignancy, -treatment_outcome, -exposure_type, -secondhand_smoke_as_child, -type_of_smoke_exposure)"
      ],
      "metadata": {
        "id": "9kwNePoJEz9o"
      },
      "execution_count": null,
      "outputs": []
    },
    {
      "cell_type": "code",
      "source": [
        "# по количественным переменным\n",
        "skimr::skim(select(data, where(is.numeric)))"
      ],
      "metadata": {
        "id": "HHanuGKHE09S"
      },
      "execution_count": null,
      "outputs": []
    },
    {
      "cell_type": "code",
      "source": [
        "install.packages(\"ggcorrplot\")"
      ],
      "metadata": {
        "id": "Q-foa1wLE3mh"
      },
      "execution_count": null,
      "outputs": []
    },
    {
      "cell_type": "code",
      "source": [
        "library(ggcorrplot)"
      ],
      "metadata": {
        "id": "iuoDpcIFE69S"
      },
      "execution_count": null,
      "outputs": []
    },
    {
      "cell_type": "code",
      "source": [
        "data_corr <- data[lapply(data,class)!=\"factor\"]"
      ],
      "metadata": {
        "id": "iwrePxDBE84I"
      },
      "execution_count": null,
      "outputs": []
    },
    {
      "cell_type": "code",
      "source": [
        "ggcorrplot(cor(data_corr)) # корреляционная матрица не показывает зависимости, т.к. много пропущенных значений"
      ],
      "metadata": {
        "id": "g-QpdaUeFAr2"
      },
      "execution_count": null,
      "outputs": []
    },
    {
      "cell_type": "markdown",
      "source": [
        "Группировки"
      ],
      "metadata": {
        "id": "5p6W7O5wFDe5"
      }
    },
    {
      "cell_type": "code",
      "source": [
        "install.packages('psych')"
      ],
      "metadata": {
        "id": "tgv_1G1FFBTw"
      },
      "execution_count": null,
      "outputs": []
    },
    {
      "cell_type": "code",
      "source": [
        "library(psych)"
      ],
      "metadata": {
        "id": "BoCoyYObFGwE"
      },
      "execution_count": null,
      "outputs": []
    },
    {
      "cell_type": "code",
      "source": [
        "# группировка количества дней до смерти по диагнозу\n",
        "primary_diagnosis_group_days_to_death <- data %>%\n",
        "  group_by(primary_diagnosis) %>%\n",
        "  summarise(psych::describe(days_to_death))"
      ],
      "metadata": {
        "id": "KlgBgm-IFIh7"
      },
      "execution_count": null,
      "outputs": []
    },
    {
      "cell_type": "code",
      "source": [
        "primary_diagnosis_group_days_to_death"
      ],
      "metadata": {
        "id": "2dYhht_BFLBM"
      },
      "execution_count": null,
      "outputs": []
    },
    {
      "cell_type": "code",
      "source": [
        "# группировка диаметра опухоли по статусу жизни\n",
        "vital_status_group_tumor_largest_dimension_diameter <- data %>%\n",
        "  group_by(vital_status) %>%\n",
        "  summarise(psych::describe(tumor_largest_dimension_diameter))"
      ],
      "metadata": {
        "id": "rmiRufwuFNA6"
      },
      "execution_count": null,
      "outputs": []
    },
    {
      "cell_type": "code",
      "source": [
        "vital_status_group_tumor_largest_dimension_diameter"
      ],
      "metadata": {
        "id": "3YiDJZFbFPWg"
      },
      "execution_count": null,
      "outputs": []
    },
    {
      "cell_type": "code",
      "source": [
        "# группировка количества дней до смерти по виду опухоли\n",
        "tumor_grade_group_days_to_death <- data %>%\n",
        "  group_by(tumor_grade) %>%\n",
        "  summarise(psych::describe(days_to_death))"
      ],
      "metadata": {
        "id": "tXR-C5KSFR4H"
      },
      "execution_count": null,
      "outputs": []
    },
    {
      "cell_type": "code",
      "source": [
        "tumor_grade_group_days_to_death"
      ],
      "metadata": {
        "id": "-92qMjDSFVtI"
      },
      "execution_count": null,
      "outputs": []
    },
    {
      "cell_type": "markdown",
      "source": [
        "Гистограммы распределений"
      ],
      "metadata": {
        "id": "MaMwzRPwFZlw"
      }
    },
    {
      "cell_type": "code",
      "source": [
        "ggplot(data, aes(peripancreatic_lymph_nodes_tested)) +\n",
        "  geom_histogram(color='black', fill='lightblue') +\n",
        "  ggtitle(\"Распределение перипанкреатических лимфатических узлов\") +\n",
        "  scale_x_log10(name = \"peripancreatic_lymph_nodes_tested\") +\n",
        "  scale_y_continuous(name = \"frequency\")\n",
        "# нормальное распределение"
      ],
      "metadata": {
        "id": "NM288g_9FWXv"
      },
      "execution_count": null,
      "outputs": []
    },
    {
      "cell_type": "code",
      "source": [
        "ggplot(data, aes(alcohol_days_per_week)) +\n",
        "  geom_histogram(color='black', fill='lightblue') +\n",
        "  ggtitle(\"Распределение количества алкоголя в неделю\") +\n",
        "  scale_y_continuous(name = \"frequency\")\n",
        "# биномиальное распределение"
      ],
      "metadata": {
        "id": "JvOICRy6FdhV"
      },
      "execution_count": null,
      "outputs": []
    },
    {
      "cell_type": "code",
      "source": [
        "ggplot(data, aes(log(days_to_death))) +\n",
        "  geom_histogram(color='black', fill='lightblue') +\n",
        "  ggtitle(\"Распределение количества дней до смерти\") +\n",
        "  scale_x_log10(name = \"days_to_death\") +\n",
        "  scale_y_continuous(name = \"frequency\")\n",
        "# асимметричное распределение (Бета-распределение)"
      ],
      "metadata": {
        "id": "Q6yteGQaFjmi"
      },
      "execution_count": null,
      "outputs": []
    },
    {
      "cell_type": "code",
      "source": [
        "ggplot(data, aes(days_to_last_follow_up)) +\n",
        "  geom_histogram(color='black', fill='lightblue') +\n",
        "  ggtitle(\"Распределение количества дней до последнего наблюдения\") +\n",
        "  scale_x_log10(name = \"days_to_last_follow_up\") +\n",
        "  scale_y_continuous(name = \"frequency\")\n",
        "# асимметричное распределение (Бета-распределение)"
      ],
      "metadata": {
        "id": "h_zpFWHLFkuQ"
      },
      "execution_count": null,
      "outputs": []
    },
    {
      "cell_type": "code",
      "source": [
        "ggplot(data, aes(age_at_diagnosis)) +\n",
        "  geom_histogram(color='black', fill='lightblue') +\n",
        "  ggtitle(\"Распределение количества дней до диагностики\") +\n",
        "  scale_x_log10(name = \"age_at_diagnosis\") +\n",
        "  scale_y_continuous(name = \"frequency\")\n",
        "# асимметричное распределение (Бета-распределение)"
      ],
      "metadata": {
        "id": "MQjsA3P5FnE_"
      },
      "execution_count": null,
      "outputs": []
    },
    {
      "cell_type": "markdown",
      "source": [
        "Типы переменных\n",
        "\n",
        "В датасете есть два типа переменных: количественные (дискретные), категориальные (факторы)."
      ],
      "metadata": {
        "id": "xwCqNK-aFtMJ"
      }
    },
    {
      "cell_type": "code",
      "source": [
        "str(data)"
      ],
      "metadata": {
        "id": "SdRSLlGTFpNx"
      },
      "execution_count": null,
      "outputs": []
    },
    {
      "cell_type": "markdown",
      "source": [
        "Статистические тесты\n",
        "\n",
        "Тест Пирсона"
      ],
      "metadata": {
        "id": "0yFzrDlrF1Ow"
      }
    },
    {
      "cell_type": "code",
      "source": [
        "cor.test(data$tumor_largest_dimension_diameter, data$days_to_recurrence)"
      ],
      "metadata": {
        "id": "KnKnS4bLFyiQ"
      },
      "execution_count": null,
      "outputs": []
    },
    {
      "cell_type": "code",
      "source": [
        "cor.test(data$days_to_birth, data$age_at_diagnosis)"
      ],
      "metadata": {
        "id": "yZGuYI2YF4_G"
      },
      "execution_count": null,
      "outputs": []
    },
    {
      "cell_type": "markdown",
      "source": [
        "Хи-квадрат\n",
        "\n",
        "Эмпирическая гипотеза: влияет ли пол пациента на источник опухоли?\n",
        "\n",
        "Н0 - пол не влияет на источник опухоли.\n",
        "\n",
        "Н1 - пол влияет на источник опухоли.\n",
        "\n",
        "ЗП - категориальная\n",
        "\n",
        "НП - категориальная"
      ],
      "metadata": {
        "id": "hq09khgmGAe6"
      }
    },
    {
      "cell_type": "code",
      "source": [
        "# таблица сопряженности\n",
        "ctable <- data %>%\n",
        "  dplyr::select(tissue_or_organ_of_origin, gender) %>%\n",
        "  table()\n",
        "ctable"
      ],
      "metadata": {
        "id": "z_j91wKUGDFY"
      },
      "execution_count": null,
      "outputs": []
    },
    {
      "cell_type": "code",
      "source": [
        "wilcox.test(ctable, exact = TRUE, paired = FALSE)"
      ],
      "metadata": {
        "id": "GCg5zy95GFlM"
      },
      "execution_count": null,
      "outputs": []
    },
    {
      "cell_type": "code",
      "source": [
        "# таблица сопряженности\n",
        "ctable <- data %>%\n",
        "  dplyr::select(ajcc_pathologic_stage, gender) %>%\n",
        "  table()\n",
        "ctable"
      ],
      "metadata": {
        "id": "RcSBN1C8GICT"
      },
      "execution_count": null,
      "outputs": []
    },
    {
      "cell_type": "code",
      "source": [
        "wilcox.test(ctable, exact = TRUE, paired = FALSE)"
      ],
      "metadata": {
        "id": "4G9B5Q8DGKGI"
      },
      "execution_count": null,
      "outputs": []
    },
    {
      "cell_type": "markdown",
      "source": [
        "Однофакторная ANOVA\n",
        "\n",
        "Гипотеза: влияет ли количество лет курения на лимфатические узлы?\n",
        "\n",
        "H0 - количество лет курения не влияет на лимфатические узлы\n",
        "\n",
        "H1 - количество лет курения влияет на лимфатические узлы\n",
        "\n",
        "ЗП - количество лет курения (pack_years_smoked), количественная, непрерывная\n",
        "\n",
        "НП - измененные лимфатические узлы (lymph_nodes_positive), категориальная, дискретная\n",
        "\n",
        "Выборки независимые."
      ],
      "metadata": {
        "id": "0S76m7neGOFk"
      }
    },
    {
      "cell_type": "code",
      "source": [
        "model <- aov(pack_years_smoked ~ lymph_nodes_positive, data = data)\n",
        "summary(model)"
      ],
      "metadata": {
        "id": "hxav03dKGPnT"
      },
      "execution_count": null,
      "outputs": []
    },
    {
      "cell_type": "code",
      "source": [
        "plot(model)"
      ],
      "metadata": {
        "id": "Qx75ltmFGSOG"
      },
      "execution_count": null,
      "outputs": []
    },
    {
      "cell_type": "markdown",
      "source": [
        "ANCOVA\n",
        "\n",
        "НП - progression_or_recurrence (прогрессирование или рецидив)\n",
        "\n",
        "ЗП - days_to_death (дни до смерти)\n",
        "\n",
        "Ковариата - years_smoked (количество лет курения)"
      ],
      "metadata": {
        "id": "qQWxnNtIGXuH"
      }
    },
    {
      "cell_type": "code",
      "source": [
        "model <- aov(days_to_death ~ progression_or_recurrence * years_smoked, data = data)\n",
        "summary(model)"
      ],
      "metadata": {
        "id": "PAI-akScGavA"
      },
      "execution_count": null,
      "outputs": []
    },
    {
      "cell_type": "markdown",
      "source": [
        "MANOVA\n",
        "\n",
        "ЗП - days_to_death\n",
        "\n",
        "ЗП - tumor_largest_dimension_diameter\n",
        "\n",
        "НП - tumor_grade (фактор)"
      ],
      "metadata": {
        "id": "luQ3XOkAGdrd"
      }
    },
    {
      "cell_type": "code",
      "source": [
        "model <- aov(days_to_death * tumor_largest_dimension_diameter ~ tumor_grade, data = data)\n",
        "summary(model)"
      ],
      "metadata": {
        "id": "yTU8gUbEGfSt"
      },
      "execution_count": null,
      "outputs": []
    },
    {
      "cell_type": "markdown",
      "source": [
        "post-hoc"
      ],
      "metadata": {
        "id": "aqiJW2iMGjAF"
      }
    },
    {
      "cell_type": "code",
      "source": [
        "TukeyHSD(model)"
      ],
      "metadata": {
        "id": "wJFvLF3fGjqa"
      },
      "execution_count": null,
      "outputs": []
    },
    {
      "cell_type": "markdown",
      "source": [
        "Тест Краскела - Уоллиса"
      ],
      "metadata": {
        "id": "TUxKTL83Gnqi"
      }
    },
    {
      "cell_type": "code",
      "source": [
        "install.packages('rstatix')"
      ],
      "metadata": {
        "id": "0JKOhDJ-Glkl"
      },
      "execution_count": null,
      "outputs": []
    },
    {
      "cell_type": "code",
      "source": [
        "library(rstatix)"
      ],
      "metadata": {
        "id": "VC6URkncGqTA"
      },
      "execution_count": null,
      "outputs": []
    },
    {
      "cell_type": "code",
      "source": [
        "model <- kruskal.test(days_to_last_follow_up ~ interaction(tumor_grade, tissue_or_organ_of_origin), data = data)\n",
        "model"
      ],
      "metadata": {
        "id": "KJALv_isGs1c"
      },
      "execution_count": null,
      "outputs": []
    },
    {
      "cell_type": "markdown",
      "source": [
        "Критерий Данна"
      ],
      "metadata": {
        "id": "EhWWvZh8GxrE"
      }
    },
    {
      "cell_type": "code",
      "source": [
        "install.packages('FSA')"
      ],
      "metadata": {
        "id": "HRLV67ujGvMf"
      },
      "execution_count": null,
      "outputs": []
    },
    {
      "cell_type": "code",
      "source": [
        "library(FSA)"
      ],
      "metadata": {
        "id": "8ncpGB5tG139"
      },
      "execution_count": null,
      "outputs": []
    },
    {
      "cell_type": "code",
      "source": [
        "dunnTest(days_to_last_follow_up ~ interaction(tumor_grade, tissue_or_organ_of_origin),\n",
        " data=data,\n",
        " method=\"holm\")"
      ],
      "metadata": {
        "id": "ReQHFc80G2zO"
      },
      "execution_count": null,
      "outputs": []
    },
    {
      "cell_type": "markdown",
      "source": [
        "Логистическая регрессия\n",
        "\n",
        "Гипотеза: влияет ли степень злокачественности опухоли на количество дней до смерти?\n",
        "\n",
        "H0 - степень злокачественности опухоли не влияет на количество дней до смерти.\n",
        "\n",
        "H1 - степень злокачественности опухоли влияет на количество дней до смерти.\n",
        "\n",
        "НП - days_to_death - количественная\n",
        "\n",
        "ЗП - tumor_grade - качественная"
      ],
      "metadata": {
        "id": "QGK--VGgHCrv"
      }
    },
    {
      "cell_type": "code",
      "source": [
        "data_glm <- glm(tumor_grade  ~ days_to_death, data, family = binomial())\n",
        "summary(data_glm)"
      ],
      "metadata": {
        "id": "RuCTEXdTHEsa"
      },
      "execution_count": null,
      "outputs": []
    },
    {
      "cell_type": "code",
      "source": [
        "ggplot(data = data, aes(x = tumor_grade, y = days_to_death)) +\n",
        "  geom_point(alpha = 0.3) +\n",
        "  geom_abline(slope = data_glm$coefficients[2], intercept = data_glm$coefficients[1]) +\n",
        "  geom_smooth()"
      ],
      "metadata": {
        "id": "EAbaK_2GHInj"
      },
      "execution_count": null,
      "outputs": []
    },
    {
      "cell_type": "code",
      "source": [
        "plot(data_glm)"
      ],
      "metadata": {
        "id": "hwZNji7RHJaE"
      },
      "execution_count": null,
      "outputs": []
    },
    {
      "cell_type": "markdown",
      "source": [
        "Пуассоновская регрессия\n",
        "\n",
        "Гипотеза: влияет ли степень злокачественности опухоли на количество дней до сметрти?\n",
        "\n",
        "H0 - степень злокачественности опухоли не влияет на количество дней до сметрти.\n",
        "\n",
        "H1 - степень злокачественности опухоли влияет на количество дней до сметрти.\n",
        "\n",
        "ЗП - days_to_death - дискретная (разбили по группам, посчитали количество)\n",
        "\n",
        "НП - tumor_grade - категориальная"
      ],
      "metadata": {
        "id": "iuIGMOTQHOGI"
      }
    },
    {
      "cell_type": "code",
      "source": [
        "# создаем группы\n",
        "data <- data %>%\n",
        "  mutate(days_to_death_group = factor(case_when(days_to_death <= 250 ~ '1',\n",
        "                               days_to_death <= 500 ~ '2',\n",
        "                               days_to_death <= 750 ~ '3',\n",
        "                               .default = '4')),\n",
        "         count = sample(x = 1:1787, size  = nrow(data)))"
      ],
      "metadata": {
        "id": "cnk94idgHP3a"
      },
      "execution_count": null,
      "outputs": []
    },
    {
      "cell_type": "code",
      "source": [
        "data %>%\n",
        "  group_by(days_to_death_group) %>%\n",
        "  summarise(mean_count = mean(count))"
      ],
      "metadata": {
        "id": "tZx0bVeiHT2q"
      },
      "execution_count": null,
      "outputs": []
    },
    {
      "cell_type": "code",
      "source": [
        "ggplot(data, aes(count, fill = days_to_death_group)) +\n",
        "  geom_histogram(binwidth = 2000, position = \"dodge\")"
      ],
      "metadata": {
        "id": "ye-vdcLSHWS9"
      },
      "execution_count": null,
      "outputs": []
    },
    {
      "cell_type": "code",
      "source": [
        "model <- glm(count ~ days_to_death_group + tumor_grade, family = \"poisson\" ,\n",
        "             data = data)"
      ],
      "metadata": {
        "id": "3GkrT56dHYoP"
      },
      "execution_count": null,
      "outputs": []
    },
    {
      "cell_type": "code",
      "source": [
        "summary(model)"
      ],
      "metadata": {
        "id": "AaVDcMbwHbP-"
      },
      "execution_count": null,
      "outputs": []
    },
    {
      "cell_type": "markdown",
      "source": [
        "Анализ выживаемости\n",
        "\n",
        "Чистка колонки vital_status"
      ],
      "metadata": {
        "id": "2xTt_cRWHeTs"
      }
    },
    {
      "cell_type": "code",
      "source": [
        "data <- data[data$vital_status %in% c('Dead', 'Alive'), ]"
      ],
      "metadata": {
        "id": "eMy7xqFHHgU4"
      },
      "execution_count": null,
      "outputs": []
    },
    {
      "cell_type": "code",
      "source": [
        "data$time <- with (data, ifelse(vital_status == \"Alive\", days_to_last_follow_up, days_to_death))\n",
        "# если пациент жив, в колонке time будет количество дней до последнего наблюдения,\n",
        "#если пациент мертв - количество дней до смерти"
      ],
      "metadata": {
        "id": "CtpfEqlrHiSN"
      },
      "execution_count": null,
      "outputs": []
    },
    {
      "cell_type": "code",
      "source": [
        "data$status <- with (data, ifelse(days_to_death == days_to_last_follow_up | days_to_last_follow_up == 0, 0, 1))\n",
        "# status = 0 -> цензурирование (количество дней до смерти = количеству дней до последнего наблюдения или days_to_last_follow_up=0)\n",
        "# status = 1 -> смерть (количество дней до смерти != количеству дней до последнего наблюдения)"
      ],
      "metadata": {
        "id": "Q4pfWbwwHk9p"
      },
      "execution_count": null,
      "outputs": []
    },
    {
      "cell_type": "code",
      "source": [
        "data <- data %>%\n",
        "    mutate(status = as.factor(status))"
      ],
      "metadata": {
        "id": "ubV6cwCXHnIu"
      },
      "execution_count": null,
      "outputs": []
    },
    {
      "cell_type": "markdown",
      "source": [
        "Метод Каплана-Майера"
      ],
      "metadata": {
        "id": "y0cvQxTmHsZ7"
      }
    },
    {
      "cell_type": "code",
      "source": [
        "install.packages('survival')\n",
        "library(survival)"
      ],
      "metadata": {
        "id": "Zgtt5cdgHp6G"
      },
      "execution_count": null,
      "outputs": []
    },
    {
      "cell_type": "code",
      "source": [
        "# рассчитанное время до события\n",
        "Surv(data$time, data$status)[1:10]"
      ],
      "metadata": {
        "id": "P8Eno8OdHvPg"
      },
      "execution_count": null,
      "outputs": []
    },
    {
      "cell_type": "code",
      "source": [
        "# кривая Каплана-Майера\n",
        "s1 <- survfit(Surv(time, status==1) ~ 1, data = data)\n",
        "str(s1)"
      ],
      "metadata": {
        "id": "Kdav3QCqHxHP"
      },
      "execution_count": null,
      "outputs": []
    },
    {
      "cell_type": "code",
      "source": [
        "s1"
      ],
      "metadata": {
        "id": "KCWdZ4AsH0qL"
      },
      "execution_count": null,
      "outputs": []
    },
    {
      "cell_type": "code",
      "source": [
        "install.packages(\"survminer\")\n",
        "library(survminer)"
      ],
      "metadata": {
        "id": "Y7mBpe50H1Ov"
      },
      "execution_count": null,
      "outputs": []
    },
    {
      "cell_type": "code",
      "source": [
        "# кривая Каплана-Майера\n",
        "\n",
        "ggsurvplot(s1, data = data, Risk.table = TRUE, ggtheme = theme_minimal(), title = 'кривая Каплана-Майера', xlab = 'время', ylab = 'вероятность выживания')"
      ],
      "metadata": {
        "id": "dfp4TTV8H5aS"
      },
      "execution_count": null,
      "outputs": []
    },
    {
      "cell_type": "code",
      "source": [
        "# выживаемость в точке 1 год = 74%\n",
        "summary(s1, time = 365.25)"
      ],
      "metadata": {
        "id": "sOdnEbqIH7q2"
      },
      "execution_count": null,
      "outputs": []
    },
    {
      "cell_type": "markdown",
      "source": [
        "Регрессия конкурирующих рисков"
      ],
      "metadata": {
        "id": "1rOgq9YRH_Vv"
      }
    },
    {
      "cell_type": "code",
      "source": [
        "crr(Surv(time, status) ~ gender + tumor_largest_dimension_diameter, data = data)"
      ],
      "metadata": {
        "id": "rZdQy5X5H8TN"
      },
      "execution_count": null,
      "outputs": []
    },
    {
      "cell_type": "markdown",
      "source": [
        "Лонг-Ранг тест"
      ],
      "metadata": {
        "id": "NGhBupH8ICrp"
      }
    },
    {
      "cell_type": "code",
      "source": [
        "survdiff(Surv(time, status==1) ~ tumor_grade, data=data)"
      ],
      "metadata": {
        "id": "EJZYig9xIE18"
      },
      "execution_count": null,
      "outputs": []
    },
    {
      "cell_type": "code",
      "source": [
        "fit <- survfit(Surv(time, status == 1) ~ tumor_grade, data=data)"
      ],
      "metadata": {
        "id": "zrvNMsm-IJKr"
      },
      "execution_count": null,
      "outputs": []
    },
    {
      "cell_type": "code",
      "source": [
        "survminer::ggsurvplot(fit, data = data,  pval = TRUE, pval.method = TRUE)"
      ],
      "metadata": {
        "id": "r-fUJO1oIMsc"
      },
      "execution_count": null,
      "outputs": []
    },
    {
      "cell_type": "code",
      "source": [
        "fit <- survfit(Surv(time, status==1) ~ morphology, data=data)"
      ],
      "metadata": {
        "id": "DltZmN5QIO6e"
      },
      "execution_count": null,
      "outputs": []
    },
    {
      "cell_type": "code",
      "source": [
        "survminer::ggsurvplot(fit, data = data,  pval = TRUE, pval.method = TRUE)"
      ],
      "metadata": {
        "id": "P9T7T28tIRXb"
      },
      "execution_count": null,
      "outputs": []
    },
    {
      "cell_type": "code",
      "source": [
        "fit <- survfit(Surv(time, status==1) ~ lymph_nodes_positive, data=data)"
      ],
      "metadata": {
        "id": "xDPYavdGIVSe"
      },
      "execution_count": null,
      "outputs": []
    },
    {
      "cell_type": "code",
      "source": [
        "survminer::ggsurvplot(fit, data = data,  pval = TRUE, pval.method = TRUE)"
      ],
      "metadata": {
        "id": "M0wVjGB_IWIf"
      },
      "execution_count": null,
      "outputs": []
    },
    {
      "cell_type": "markdown",
      "source": [
        "Множественная группировка"
      ],
      "metadata": {
        "id": "2uYvsIw0IZnz"
      }
    },
    {
      "cell_type": "code",
      "source": [
        "df <- data"
      ],
      "metadata": {
        "id": "efxl2XE_Iabd"
      },
      "execution_count": null,
      "outputs": []
    },
    {
      "cell_type": "code",
      "source": [
        "s3 <- survfit(Surv(time, status==1) ~ ethnicity + gender + race, data = df)"
      ],
      "metadata": {
        "id": "-f2oxpP1IcdU"
      },
      "execution_count": null,
      "outputs": []
    },
    {
      "cell_type": "code",
      "source": [
        "# кумулята риска\n",
        "ggsurv <- ggsurvplot(s3, fun = 'event', conf.int = TRUE, ggtheme = theme_classic())\n",
        "ggsurv$plot + theme(legend.position = \"right\") + facet_grid(ethnicity ~ race)"
      ],
      "metadata": {
        "id": "PLsVv_1jIgOU"
      },
      "execution_count": null,
      "outputs": []
    }
  ]
}