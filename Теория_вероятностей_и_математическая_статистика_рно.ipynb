{
  "nbformat": 4,
  "nbformat_minor": 0,
  "metadata": {
    "colab": {
      "name": "Теория вероятностей и математическая статистика рно.ipynb",
      "provenance": [],
      "authorship_tag": "ABX9TyMmZkLKxv7rr6tgr/LvvF2o",
      "include_colab_link": true
    },
    "kernelspec": {
      "name": "python3",
      "display_name": "Python 3"
    },
    "language_info": {
      "name": "python"
    }
  },
  "cells": [
    {
      "cell_type": "markdown",
      "metadata": {
        "id": "view-in-github",
        "colab_type": "text"
      },
      "source": [
        "<a href=\"https://colab.research.google.com/github/coldbilberry/repo-gui/blob/main/%D0%A2%D0%B5%D0%BE%D1%80%D0%B8%D1%8F_%D0%B2%D0%B5%D1%80%D0%BE%D1%8F%D1%82%D0%BD%D0%BE%D1%81%D1%82%D0%B5%D0%B9_%D0%B8_%D0%BC%D0%B0%D1%82%D0%B5%D0%BC%D0%B0%D1%82%D0%B8%D1%87%D0%B5%D1%81%D0%BA%D0%B0%D1%8F_%D1%81%D1%82%D0%B0%D1%82%D0%B8%D1%81%D1%82%D0%B8%D0%BA%D0%B0_%D1%80%D0%BD%D0%BE.ipynb\" target=\"_parent\"><img src=\"https://colab.research.google.com/assets/colab-badge.svg\" alt=\"Open In Colab\"/></a>"
      ]
    },
    {
      "cell_type": "markdown",
      "source": [
        "      Урок 1 задача 1\n",
        "Из колоды в 52 карты извлекаются случайным образом 4 карты. a) Найти вероятность того, что все карты – крести. б) Найти вероятность, что среди 4-х карт окажется хотя бы один туз"
      ],
      "metadata": {
        "id": "VlSpyubrTH3p"
      }
    },
    {
      "cell_type": "code",
      "source": [
        "from math import factorial"
      ],
      "metadata": {
        "id": "uAvHDhf-TRlZ"
      },
      "execution_count": null,
      "outputs": []
    },
    {
      "cell_type": "markdown",
      "source": [
        "А - в выбранных четырех картах, все карты - крести\n",
        "\n",
        "n = сочетание 4 из 52 m = сочетание 4 из 13"
      ],
      "metadata": {
        "id": "L1zGlixPThxv"
      }
    },
    {
      "cell_type": "code",
      "source": [
        "n = factorial(52) / (factorial(4)*factorial(52 - 4))\n",
        "m = factorial(13) / (factorial(4)*factorial(13 - 4))\n",
        "print(f'Вероятность того, что все карты - крести = {m/n :.4f}')"
      ],
      "metadata": {
        "colab": {
          "base_uri": "https://localhost:8080/"
        },
        "id": "2D1IzuAfTk_Q",
        "outputId": "48cd5b66-f630-4752-8bf2-b3262ead5906"
      },
      "execution_count": null,
      "outputs": [
        {
          "output_type": "stream",
          "name": "stdout",
          "text": [
            "Вероятность того, что все карты - крести = 0.0026\n"
          ]
        }
      ]
    },
    {
      "cell_type": "markdown",
      "source": [
        "А - среди выбранных карт хотя бы один туз\n",
        "\n",
        "А = А1 + А2 + А3 + А4\n",
        "\n",
        "А1 - среди выбранных один туз\n",
        "\n",
        "А2 - среди выбранных два туза\n",
        "\n",
        "А3 - среди выбранных три туза\n",
        "\n",
        "А4 - среди выбранных четыре туза\n",
        "\n",
        "n - сочетание 4 из 52\n",
        "\n",
        "m1 = (сочетание 1 из 4 ) * (сочетание 3 из 48)\n",
        "\n",
        "m2 = (сочетание 2 из 4 ) * (сочетание 2 из 48)\n",
        "\n",
        "m3 = (сочетание 3 из 4 ) * (сочетание 1 из 48)\n",
        "\n",
        "m4 = сочетание 4 из 4"
      ],
      "metadata": {
        "id": "KP0h0QudTvpo"
      }
    },
    {
      "cell_type": "code",
      "source": [
        "P1 = (factorial(4) / (factorial(1)*factorial(4 - 1))) * (factorial(48) / (factorial(3)*factorial(48 - 3))) / n\n",
        "P2 = (factorial(4) / (factorial(2)*factorial(4 - 2))) * (factorial(48) / (factorial(2)*factorial(48 - 2))) / n\n",
        "P3 = (factorial(4) / (factorial(3)*factorial(4 - 3))) * (factorial(48) / (factorial(1)*factorial(48 - 1))) / n\n",
        "P4 = factorial(4) / (factorial(4)*factorial(4 - 4)) / n\n",
        "P = P1 + P2 + P3 + P4\n",
        "print(f'Вероятность того, что из 4 вытащенных из колоды хотя бы один туз = {P :.2f}')"
      ],
      "metadata": {
        "colab": {
          "base_uri": "https://localhost:8080/"
        },
        "id": "0ZKnfCE5TzkS",
        "outputId": "1bcf7124-0b46-40c8-ad19-39c3668d0711"
      },
      "execution_count": null,
      "outputs": [
        {
          "output_type": "stream",
          "name": "stdout",
          "text": [
            "Вероятность того, что из 4 вытащенных из колоды хотя бы один туз = 0.28\n"
          ]
        }
      ]
    },
    {
      "cell_type": "markdown",
      "source": [
        "      Урок 1 задача 4\n",
        "В лотерее 100 билетов. Из них 2 выигрышных. Какова вероятность того, что 2 приобретенных билета окажутся выигрышными?"
      ],
      "metadata": {
        "id": "3plhZNDOfLOa"
      }
    },
    {
      "cell_type": "markdown",
      "source": [
        "А - два приобретенных билета выигрышные\n",
        "\n",
        "n - сочетание 2 из 100\n",
        "\n",
        "m - сочетание 2 из 2"
      ],
      "metadata": {
        "id": "0ZZYWycKfa42"
      }
    },
    {
      "cell_type": "code",
      "source": [
        "P = (factorial(2) / (factorial(2)*factorial(2 - 2))) / (factorial(100) / (factorial(2)*factorial(100 - 2)))\n",
        "print(f'Вероятность того, что оба билета выигрышные = {P :.5f}')\n"
      ],
      "metadata": {
        "colab": {
          "base_uri": "https://localhost:8080/"
        },
        "id": "Ss_3uWhHfdk_",
        "outputId": "e92477f9-a959-4137-caed-3da8fb349208"
      },
      "execution_count": null,
      "outputs": [
        {
          "output_type": "stream",
          "name": "stdout",
          "text": [
            "Вероятность того, что оба билета выигрышные = 0.00020\n"
          ]
        }
      ]
    },
    {
      "cell_type": "markdown",
      "source": [
        "      Урок 3 задача 2\n",
        "В первом ящике находится 8 мячей, из которых 5 - белые. Во втором ящике - 12 мячей, из которых 5 белых. Из первого ящика вытаскивают случайным образом два мяча, из второго - 4. Какова вероятность того, что 3 мяча белые?"
      ],
      "metadata": {
        "id": "pFfG9cBPfvI0"
      }
    },
    {
      "cell_type": "markdown",
      "source": [
        "А11 - из первого ящика вынули два белых мяча\n",
        "\n",
        "А12 - из второго ящика вынули один белый мяч\n",
        "\n",
        "А21 - из первого ящика вынули один белый мяч\n",
        "\n",
        "А22 - из второго ящика вынули два белых мяча\n",
        "\n",
        "А31 - из первого ящика вынули ноль белых мячей\n",
        "\n",
        "А32 - из второго ящика вынули три белых мяча\n",
        "\n",
        "А - из ящиков вынули три белых мяча\n",
        "\n",
        "А = А11 А12 + А21 А22 + А31* А32"
      ],
      "metadata": {
        "id": "1k8LJ5P_f1ps"
      }
    },
    {
      "cell_type": "code",
      "source": [
        "import pandas as pd\n",
        "import numpy as np\n",
        "from math import factorial as fl"
      ],
      "metadata": {
        "id": "MEChcaA8gEsI"
      },
      "execution_count": null,
      "outputs": []
    },
    {
      "cell_type": "code",
      "source": [
        "PA11 = (fl(5) / (fl(2) * fl(5 - 2))) * (fl(3) / (fl(0) * fl(3 - 0))) / (fl(8) / (fl(2) * fl(8 - 2)))\n",
        "PA12 = (fl(5) / (fl(1) * fl(5 - 1))) * (fl(7) / (fl(3) * fl(7 - 3))) / (fl(12) / (fl(4) * fl(12 - 4)))\n",
        "PA21 = (fl(5) / (fl(1) * fl(5 - 1))) * (fl(3) / (fl(1) * fl(3 - 1))) / (fl(8) / (fl(2) * fl(8 - 2)))\n",
        "PА22 = (fl(5) / (fl(2) * fl(5 - 2))) * (fl(7) / (fl(2) * fl(7 - 2))) / (fl(12) / (fl(4) * fl(12 - 4)))\n",
        "PA31 = (fl(5) / (fl(0) * fl(5 - 0))) * (fl(3) / (fl(2) * fl(3 - 2))) / (fl(8) / (fl(2) * fl(8 - 2)))\n",
        "PA32 = (fl(5) / (fl(3) * fl(5 - 3))) * (fl(7) / (fl(1) * fl(7 - 1))) / (fl(12) / (fl(4) * fl(12 - 4)))\n",
        "PA = PA11 * PA12 + PA21 * PА22 + PA31 * PA32\n",
        "PA"
      ],
      "metadata": {
        "colab": {
          "base_uri": "https://localhost:8080/"
        },
        "id": "0tByi6IKf32w",
        "outputId": "f368b361-add5-4a70-934e-508a94d50132"
      },
      "execution_count": null,
      "outputs": [
        {
          "output_type": "execute_result",
          "data": {
            "text/plain": [
              "0.3686868686868687"
            ]
          },
          "metadata": {},
          "execution_count": 7
        }
      ]
    },
    {
      "cell_type": "markdown",
      "source": [
        "      Урок 3 задача 5\n",
        "Устройство состоит из трех деталей. Для первой детали вероятность выйти из строя в первый месяц равна 0.1, для второй - 0.2, для третьей - 0.25. Какова вероятность того, что в первый месяц выйдут из строя: а). все детали б). только две детали в). хотя бы одна деталь г). от одной до двух деталей?"
      ],
      "metadata": {
        "id": "2p-dGX_EgR50"
      }
    },
    {
      "cell_type": "markdown",
      "source": [
        "А - из строя вышли все детали"
      ],
      "metadata": {
        "id": "VkZmsWxSgYvA"
      }
    },
    {
      "cell_type": "code",
      "source": [
        "PA = 0.1 * 0.2 * 0.25\n",
        "PA"
      ],
      "metadata": {
        "colab": {
          "base_uri": "https://localhost:8080/"
        },
        "id": "vvJJz2ROgdla",
        "outputId": "c983781e-4df1-4559-9047-db57da0a7a40"
      },
      "execution_count": null,
      "outputs": [
        {
          "output_type": "execute_result",
          "data": {
            "text/plain": [
              "0.005000000000000001"
            ]
          },
          "metadata": {},
          "execution_count": 8
        }
      ]
    },
    {
      "cell_type": "markdown",
      "source": [
        "B1 - из строя вышли первая и вторая деталь, но не вышла третья\n",
        "\n",
        "B2 - из строя вышла первая и третья деталь, но не вышла вторая\n",
        "\n",
        "B3 - из строя вышла вторая и третья деталь, но не вышла первая\n",
        "\n",
        "В = B1 + B2 + B3 - из строя вышло только две детали"
      ],
      "metadata": {
        "id": "lrH9ZZM6hFo3"
      }
    },
    {
      "cell_type": "code",
      "source": [
        "PB = 0.1 * 0.2 * 0.75 + 0.1 * 0.8 * 0.25 + 0.9 * 0.2 * 0.25\n",
        "PB"
      ],
      "metadata": {
        "colab": {
          "base_uri": "https://localhost:8080/"
        },
        "id": "-fSPu0DwhH6H",
        "outputId": "7c3c706b-ee4a-4dbf-df31-5ad022232275"
      },
      "execution_count": null,
      "outputs": [
        {
          "output_type": "execute_result",
          "data": {
            "text/plain": [
              "0.08000000000000002"
            ]
          },
          "metadata": {},
          "execution_count": 9
        }
      ]
    },
    {
      "cell_type": "markdown",
      "source": [
        "C - из строя вышла хотя бы одна деталь"
      ],
      "metadata": {
        "id": "WVVZogAKhUdD"
      }
    },
    {
      "cell_type": "code",
      "source": [
        "PC = 1 - 0.9 * 0.8 * 0.75\n",
        "PC"
      ],
      "metadata": {
        "colab": {
          "base_uri": "https://localhost:8080/"
        },
        "id": "xSMfIuzchVg4",
        "outputId": "6b8a39ed-5f1a-4667-f9ef-6eb6a9996239"
      },
      "execution_count": null,
      "outputs": [
        {
          "output_type": "execute_result",
          "data": {
            "text/plain": [
              "0.45999999999999996"
            ]
          },
          "metadata": {},
          "execution_count": 10
        }
      ]
    },
    {
      "cell_type": "markdown",
      "source": [
        "D1 - из строя вышла первая деталь\n",
        "\n",
        "D2 - из строя вышла вторая деталь\n",
        "\n",
        "D3 - из строя вышла третья деталь\n",
        "\n",
        "D - из строя вышла одна деталь\n",
        "\n",
        "Е = В + D - из строя вышло от одной до двух деталей"
      ],
      "metadata": {
        "id": "bdrdbM2bhbiT"
      }
    },
    {
      "cell_type": "code",
      "source": [
        "PD = 0.9 * 0.2 * 0.25 + 0.1 * 0.8 * 0.25 + 0.1 * 0.2 * 0.75\n",
        "PD"
      ],
      "metadata": {
        "colab": {
          "base_uri": "https://localhost:8080/"
        },
        "id": "9qfdkdiCheEv",
        "outputId": "4ee95d5a-469e-480e-ad7d-33e61b742c08"
      },
      "execution_count": null,
      "outputs": [
        {
          "output_type": "execute_result",
          "data": {
            "text/plain": [
              "0.08"
            ]
          },
          "metadata": {},
          "execution_count": 11
        }
      ]
    },
    {
      "cell_type": "code",
      "source": [
        "PE = PB + PD\n",
        "PE"
      ],
      "metadata": {
        "colab": {
          "base_uri": "https://localhost:8080/"
        },
        "id": "oYN8vgjdhjmY",
        "outputId": "aea9f792-1bb7-4c74-a2b1-5692027161df"
      },
      "execution_count": null,
      "outputs": [
        {
          "output_type": "execute_result",
          "data": {
            "text/plain": [
              "0.16000000000000003"
            ]
          },
          "metadata": {},
          "execution_count": 12
        }
      ]
    },
    {
      "cell_type": "markdown",
      "source": [
        "      Урок 5 задача 2\n",
        "В результате 10 независимых измерений некоторой величины X, выполненных с одинаковой точностью,\n",
        "получены опытные данные:\n",
        "6.9, 6.1, 6.2, 6.8, 7.5, 6.3, 6.4, 6.9, 6.7, 6.1\n",
        "Предполагая, что результаты измерений подчинены нормальному закону распределения вероятностей,\n",
        "оценить истинное значение величины X при помощи доверительного интервала, покрывающего это\n",
        "значение с доверительной вероятностью 0,95."
      ],
      "metadata": {
        "id": "Tum7wpIYiE1G"
      }
    },
    {
      "cell_type": "code",
      "source": [
        "import pandas as pd\n",
        "import numpy as np\n",
        "from statsmodels.stats.weightstats import _tconfint_generic as t_stat\n",
        "from scipy.stats import norm \n",
        "import math"
      ],
      "metadata": {
        "colab": {
          "base_uri": "https://localhost:8080/"
        },
        "id": "Vt2Yq0Hhidem",
        "outputId": "87a59d49-14df-4f7c-9214-173e30296666"
      },
      "execution_count": null,
      "outputs": [
        {
          "output_type": "stream",
          "name": "stderr",
          "text": [
            "/usr/local/lib/python3.7/dist-packages/statsmodels/tools/_testing.py:19: FutureWarning: pandas.util.testing is deprecated. Use the functions in the public API at pandas.testing instead.\n",
            "  import pandas.util.testing as tm\n"
          ]
        }
      ]
    },
    {
      "cell_type": "code",
      "source": [
        "X = np.array([6.9, 6.1, 6.2, 6.8, 7.5, 6.3, 6.4, 6.9, 6.7, 6.1])\n",
        "mean_X = X.mean()\n",
        "std_X = X.std(ddof=1)\n",
        "mean_std_X = std_X / (np.sqrt(len(X)))\n",
        "t_stat(mean_X, mean_std_X,len(X) - 1, 0.05, 'two-sided')"
      ],
      "metadata": {
        "colab": {
          "base_uri": "https://localhost:8080/"
        },
        "id": "WuMPsGJ8ikS_",
        "outputId": "2200ec6c-6952-4a02-bcff-4101aba20dd4"
      },
      "execution_count": null,
      "outputs": [
        {
          "output_type": "execute_result",
          "data": {
            "text/plain": [
              "(6.267515851415713, 6.912484148584288)"
            ]
          },
          "metadata": {},
          "execution_count": 14
        }
      ]
    },
    {
      "cell_type": "markdown",
      "source": [
        "      Урок 5 задача 3\n",
        "Утверждается, что шарики для подшипников, изготовленные автоматическим станком, имеют средний диаметр 17 мм.\n",
        "Используя односторонний критерий с α=0,05, проверить эту гипотезу, если в выборке из n=100 шариков средний диаметр\n",
        "оказался равным 17.5 мм, а дисперсия известна и равна 4 кв. мм."
      ],
      "metadata": {
        "id": "WB8W3Ek6iy72"
      }
    },
    {
      "cell_type": "markdown",
      "source": [
        "H0: M = 7\n",
        "\n",
        "H1: M > 17"
      ],
      "metadata": {
        "id": "FkiUHOxNjBd3"
      }
    },
    {
      "cell_type": "code",
      "source": [
        "U_fact = (17.5 - 17) / 4 * np.sqrt(100)\n",
        "U_fact"
      ],
      "metadata": {
        "colab": {
          "base_uri": "https://localhost:8080/"
        },
        "id": "mh7J_RW-jD1e",
        "outputId": "51bcc07b-7d54-4920-bad5-aa9c3305972e"
      },
      "execution_count": null,
      "outputs": [
        {
          "output_type": "execute_result",
          "data": {
            "text/plain": [
              "1.25"
            ]
          },
          "metadata": {},
          "execution_count": 15
        }
      ]
    },
    {
      "cell_type": "code",
      "source": [
        "Ф(U_cr) = 1.645"
      ],
      "metadata": {
        "id": "_3vdIk8DjSwH"
      },
      "execution_count": null,
      "outputs": []
    },
    {
      "cell_type": "markdown",
      "source": [
        "т.к. U_fact < U_cr Нулевая гипотеза принимается"
      ],
      "metadata": {
        "id": "LElrJ5CSjVeJ"
      }
    },
    {
      "cell_type": "markdown",
      "source": [
        "      Урок 5 задача 4\n",
        "Продавец утверждает, что средний вес пачки печенья составляет 200 г.\n",
        "Из партии извлечена выборка из 10 пачек. Вес каждой пачки составляет:\n",
        "202, 203, 199, 197, 195, 201, 200, 204, 194, 190.\n",
        "Известно, что их веса распределены нормально.\n",
        "Верно ли утверждение продавца, если учитывать, что доверительная вероятность равна 99%?"
      ],
      "metadata": {
        "id": "AI3I_V-TjXqv"
      }
    },
    {
      "cell_type": "markdown",
      "source": [
        "H0: M = 200\n",
        "\n",
        "H1: M != 200"
      ],
      "metadata": {
        "id": "9jOo-N_KjiIO"
      }
    },
    {
      "cell_type": "code",
      "source": [
        "X = np.array([202, 203, 199, 197, 195, 201, 200, 204, 194, 190])\n",
        "mean_X = X.mean()\n",
        "std_X = X.std(ddof=1)\n",
        "t_fact = (mean_X - 200) / std_X * np.sqrt(10)\n",
        "t_fact"
      ],
      "metadata": {
        "colab": {
          "base_uri": "https://localhost:8080/"
        },
        "id": "7EU5yvafjmXH",
        "outputId": "6f988b02-168f-4832-a07f-2f6937ac6b94"
      },
      "execution_count": null,
      "outputs": [
        {
          "output_type": "execute_result",
          "data": {
            "text/plain": [
              "-1.0651074037450896"
            ]
          },
          "metadata": {},
          "execution_count": 16
        }
      ]
    },
    {
      "cell_type": "code",
      "source": [
        "t_cr = 3.25"
      ],
      "metadata": {
        "id": "SD6mF9TmjuL_"
      },
      "execution_count": null,
      "outputs": []
    },
    {
      "cell_type": "markdown",
      "source": [
        "т.к. abs(t_fact) < t_cr нулевая гипотеза принимается"
      ],
      "metadata": {
        "id": "OzQ5yBn9jxsV"
      }
    }
  ]
}