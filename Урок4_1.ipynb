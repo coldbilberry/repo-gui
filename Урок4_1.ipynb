{
  "nbformat": 4,
  "nbformat_minor": 0,
  "metadata": {
    "colab": {
      "name": "Урок4_1.ipynb",
      "provenance": [],
      "authorship_tag": "ABX9TyPqAhQnI1J+lOf9rDAB6Pei",
      "include_colab_link": true
    },
    "kernelspec": {
      "name": "python3",
      "display_name": "Python 3"
    },
    "language_info": {
      "name": "python"
    }
  },
  "cells": [
    {
      "cell_type": "markdown",
      "metadata": {
        "id": "view-in-github",
        "colab_type": "text"
      },
      "source": [
        "<a href=\"https://colab.research.google.com/github/coldbilberry/repo-gui/blob/main/%D0%A3%D1%80%D0%BE%D0%BA4_1.ipynb\" target=\"_parent\"><img src=\"https://colab.research.google.com/assets/colab-badge.svg\" alt=\"Open In Colab\"/></a>"
      ]
    },
    {
      "cell_type": "code",
      "execution_count": 1,
      "metadata": {
        "id": "EpqjZG1Tv4Fd"
      },
      "outputs": [],
      "source": [
        "import numpy as np"
      ]
    },
    {
      "cell_type": "markdown",
      "source": [
        "Задание 2\n",
        "a)"
      ],
      "metadata": {
        "id": "UtdniUvFwNLH"
      }
    },
    {
      "cell_type": "code",
      "source": [
        "A = np.array([[3, -1, 1],\n",
        "             [2, -5, -3],\n",
        "             [1, 1, -1]])\n",
        "\n",
        "A_ext = np.array([[3, -1, 1, 4],\n",
        "                  [2, -5, -3, -17],\n",
        "                  [1, 1, -1, 0]])"
      ],
      "metadata": {
        "id": "7ePp1HwjwPD6"
      },
      "execution_count": 3,
      "outputs": []
    },
    {
      "cell_type": "code",
      "source": [
        "print(f'Ранг матрицы = {np.linalg.matrix_rank(A)}')\n",
        "print(f'Ранг расширенной матрицы = {np.linalg.matrix_rank(A_ext)}')"
      ],
      "metadata": {
        "colab": {
          "base_uri": "https://localhost:8080/"
        },
        "id": "LyQgE-ZGxEvG",
        "outputId": "a98c37aa-2d5d-48cc-e168-04b2a8c767a1"
      },
      "execution_count": 4,
      "outputs": [
        {
          "output_type": "stream",
          "name": "stdout",
          "text": [
            "Ранг матрицы = 3\n",
            "Ранг расширенной матрицы = 3\n"
          ]
        }
      ]
    },
    {
      "cell_type": "markdown",
      "source": [
        "б)"
      ],
      "metadata": {
        "id": "wRIxLZrqxnbm"
      }
    },
    {
      "cell_type": "code",
      "source": [
        "A = np.array([[2, -4, 6],\n",
        "              [1, -2, 3],\n",
        "              [3, -6, 9]])\n",
        "\n",
        "A_ext = np.array([[2, -4, 6, 4],\n",
        "                  [1, -2, 3, -17],\n",
        "                  [3, -6, 9, 0]])"
      ],
      "metadata": {
        "id": "S1zR7YXgxpWn"
      },
      "execution_count": 5,
      "outputs": []
    },
    {
      "cell_type": "code",
      "source": [
        "print(f'Ранг матрицы = {np.linalg.matrix_rank(A)}')\n",
        "print(f'Ранг расширенной матрицы = {np.linalg.matrix_rank(A_ext)}')"
      ],
      "metadata": {
        "colab": {
          "base_uri": "https://localhost:8080/"
        },
        "id": "RuHXfXkLyzor",
        "outputId": "b19dc961-bcba-4475-d460-df190700ef4c"
      },
      "execution_count": 6,
      "outputs": [
        {
          "output_type": "stream",
          "name": "stdout",
          "text": [
            "Ранг матрицы = 1\n",
            "Ранг расширенной матрицы = 2\n"
          ]
        }
      ]
    },
    {
      "cell_type": "markdown",
      "source": [
        "Ранг матрицы меньше ранга расширенной матрицы, значит система несовместна"
      ],
      "metadata": {
        "id": "2q1SbkUxziYi"
      }
    },
    {
      "cell_type": "markdown",
      "source": [
        "в)"
      ],
      "metadata": {
        "id": "Cl16ofcLzqT2"
      }
    },
    {
      "cell_type": "code",
      "source": [
        "A = np.array([[1, 2, 5],\n",
        "              [3, 1, -8]])\n",
        "\n",
        "A_ext = np.array([[1, 2, 5, 4],\n",
        "                  [3, 1, -8, -2]])"
      ],
      "metadata": {
        "id": "gzV5nPG-zscZ"
      },
      "execution_count": 7,
      "outputs": []
    },
    {
      "cell_type": "code",
      "source": [
        "print(f'Ранг матрицы = {np.linalg.matrix_rank(A)}')\n",
        "print(f'Ранг расширенной матрицы = {np.linalg.matrix_rank(A_ext)}')"
      ],
      "metadata": {
        "colab": {
          "base_uri": "https://localhost:8080/"
        },
        "id": "JdVn9l0X1o2O",
        "outputId": "8f1c2dfb-d9c1-4106-9ce6-38cb1718fd2c"
      },
      "execution_count": 9,
      "outputs": [
        {
          "output_type": "stream",
          "name": "stdout",
          "text": [
            "Ранг матрицы = 2\n",
            "Ранг расширенной матрицы = 2\n"
          ]
        }
      ]
    },
    {
      "cell_type": "markdown",
      "source": [
        "Ранг матрицы равен рангу расширенной матрицы и меньше числа неизвестных, значит система имеет бесконечное количество решений."
      ],
      "metadata": {
        "id": "9aNu6Klj27E8"
      }
    },
    {
      "cell_type": "markdown",
      "source": [
        "Задание 3"
      ],
      "metadata": {
        "id": "zolU59Va3MoP"
      }
    },
    {
      "cell_type": "code",
      "source": [
        "A = np.array([[1, 3, -2, 4],\n",
        "              [0, 5, 0, 1],\n",
        "              [0, 0, 3, 0],\n",
        "              [0, 0, 0, 2]])\n",
        "\n",
        "A_ext = np.array([[1, 3, -2, 4, 3],\n",
        "                  [0, 5, 0, 1, 2],\n",
        "                  [0, 0, 3, 0, 4],\n",
        "                  [0, 0, 0, 2, 1]])"
      ],
      "metadata": {
        "id": "sAvNC4qA3S8c"
      },
      "execution_count": 10,
      "outputs": []
    },
    {
      "cell_type": "code",
      "source": [
        "print(f'Ранг матрицы = {np.linalg.matrix_rank(A)}')\n",
        "print(f'Ранг расширенной матрицы = {np.linalg.matrix_rank(A_ext)}')"
      ],
      "metadata": {
        "colab": {
          "base_uri": "https://localhost:8080/"
        },
        "id": "FB5Xd7cl3-wh",
        "outputId": "a219e4e3-1ccb-45dc-fdb6-6021c2c1aa9d"
      },
      "execution_count": 11,
      "outputs": [
        {
          "output_type": "stream",
          "name": "stdout",
          "text": [
            "Ранг матрицы = 4\n",
            "Ранг расширенной матрицы = 4\n"
          ]
        }
      ]
    },
    {
      "cell_type": "markdown",
      "source": [
        "Ранг матрицы равен рангу расширенной матрицы и равен числу неизвестных, значит система имеет единственное решение."
      ],
      "metadata": {
        "id": "hmuHHT1-4mL6"
      }
    }
  ]
}