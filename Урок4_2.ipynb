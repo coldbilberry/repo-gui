{
  "nbformat": 4,
  "nbformat_minor": 0,
  "metadata": {
    "colab": {
      "name": "Урок4_2.ipynb",
      "provenance": [],
      "authorship_tag": "ABX9TyNx/4PhtL4kwdd67yR8+MWd",
      "include_colab_link": true
    },
    "kernelspec": {
      "name": "python3",
      "display_name": "Python 3"
    },
    "language_info": {
      "name": "python"
    }
  },
  "cells": [
    {
      "cell_type": "markdown",
      "metadata": {
        "id": "view-in-github",
        "colab_type": "text"
      },
      "source": [
        "<a href=\"https://colab.research.google.com/github/coldbilberry/repo-gui/blob/main/%D0%A3%D1%80%D0%BE%D0%BA4_2.ipynb\" target=\"_parent\"><img src=\"https://colab.research.google.com/assets/colab-badge.svg\" alt=\"Open In Colab\"/></a>"
      ]
    },
    {
      "cell_type": "code",
      "execution_count": 4,
      "metadata": {
        "id": "a97Vq9JS5aQY"
      },
      "outputs": [],
      "source": [
        "import numpy as np\n",
        "import scipy as sp"
      ]
    },
    {
      "cell_type": "markdown",
      "source": [
        "Задание 1"
      ],
      "metadata": {
        "id": "lu9p3RotISHH"
      }
    },
    {
      "cell_type": "markdown",
      "source": [
        "a)"
      ],
      "metadata": {
        "id": "mMhNAXqmJr8L"
      }
    },
    {
      "cell_type": "code",
      "source": [
        "A = np.array([[1, -2], [3, -4]])"
      ],
      "metadata": {
        "id": "U_2Mj_fQIUEE"
      },
      "execution_count": null,
      "outputs": []
    },
    {
      "cell_type": "code",
      "source": [
        "np.linalg.det(A)"
      ],
      "metadata": {
        "colab": {
          "base_uri": "https://localhost:8080/"
        },
        "id": "l0QiHWRgIdDk",
        "outputId": "f634397a-48f4-4987-c008-2bbce5cd4e9f"
      },
      "execution_count": null,
      "outputs": [
        {
          "output_type": "execute_result",
          "data": {
            "text/plain": [
              "2.0000000000000004"
            ]
          },
          "metadata": {},
          "execution_count": 3
        }
      ]
    },
    {
      "cell_type": "code",
      "source": [
        "A1 = np.array([[1, 7], [3, -4]])\n",
        "A2 = np.array([[1, -2], [1, 7]])"
      ],
      "metadata": {
        "id": "X0gXfbPwIimK"
      },
      "execution_count": null,
      "outputs": []
    },
    {
      "cell_type": "code",
      "source": [
        "x1 = np.linalg.det(A1) / np.linalg.det(A)\n",
        "x2 = np.linalg.det(A2) / np.linalg.det(A)"
      ],
      "metadata": {
        "id": "0O7hL1LmI5ww"
      },
      "execution_count": null,
      "outputs": []
    },
    {
      "cell_type": "code",
      "source": [
        "print(f'x1 = {x1}\\nx2 = {x2}\\n')"
      ],
      "metadata": {
        "colab": {
          "base_uri": "https://localhost:8080/"
        },
        "id": "JkZZRtwXJayt",
        "outputId": "ea43f9e0-8805-45ae-a611-f497b5e1a668"
      },
      "execution_count": null,
      "outputs": [
        {
          "output_type": "stream",
          "name": "stdout",
          "text": [
            "x1 = -12.5\n",
            "x2 = 4.5\n",
            "\n"
          ]
        }
      ]
    },
    {
      "cell_type": "markdown",
      "source": [
        "б)"
      ],
      "metadata": {
        "id": "yRklX84PJvLx"
      }
    },
    {
      "cell_type": "code",
      "source": [
        "A = np.array([[2, -1, 5], [1, -1, -3], [2, 4, 1]])"
      ],
      "metadata": {
        "id": "iXmLZhXuJw2n"
      },
      "execution_count": null,
      "outputs": []
    },
    {
      "cell_type": "code",
      "source": [
        "np.linalg.det(A)"
      ],
      "metadata": {
        "colab": {
          "base_uri": "https://localhost:8080/"
        },
        "id": "ZwgiLX2OKENy",
        "outputId": "b30d30f5-2b7e-4bed-bb8e-e679715ce6db"
      },
      "execution_count": null,
      "outputs": [
        {
          "output_type": "execute_result",
          "data": {
            "text/plain": [
              "58.999999999999964"
            ]
          },
          "metadata": {},
          "execution_count": 8
        }
      ]
    },
    {
      "cell_type": "code",
      "source": [
        "A1 = np.array([[10, -2, 1], [1, -1, -3], [2, 4, 1]])\n",
        "A2 = np.array([[2, -1, 5], [10, -2, 1], [2, 4, 1]])\n",
        "A3 = np.array([[2, -1, 5], [1, -1, -3], [10, -2, 1]])"
      ],
      "metadata": {
        "id": "zpr6lJnFKJ27"
      },
      "execution_count": null,
      "outputs": []
    },
    {
      "cell_type": "code",
      "source": [
        "np.linalg.det(A1)"
      ],
      "metadata": {
        "colab": {
          "base_uri": "https://localhost:8080/"
        },
        "id": "Z7DGSP-1LBZQ",
        "outputId": "f3fac4e8-c2e0-4680-c5e9-d731b32bab8d"
      },
      "execution_count": null,
      "outputs": [
        {
          "output_type": "execute_result",
          "data": {
            "text/plain": [
              "130.00000000000009"
            ]
          },
          "metadata": {},
          "execution_count": 10
        }
      ]
    },
    {
      "cell_type": "code",
      "source": [
        "x1 = np.linalg.det(A1) / np.linalg.det(A)\n",
        "x2 = np.linalg.det(A2) / np.linalg.det(A)\n",
        "x3 = np.linalg.det(A3) / np.linalg.det(A)"
      ],
      "metadata": {
        "id": "83N2ID3QLI_Y"
      },
      "execution_count": null,
      "outputs": []
    },
    {
      "cell_type": "code",
      "source": [
        "print(f'x1 = {x1}\\nx2 = {x2}\\nx3 = {x3}')"
      ],
      "metadata": {
        "colab": {
          "base_uri": "https://localhost:8080/"
        },
        "id": "h5-i2i9lLm5W",
        "outputId": "05197644-69de-4cca-ca95-a5ddb5de50b7"
      },
      "execution_count": null,
      "outputs": [
        {
          "output_type": "stream",
          "name": "stdout",
          "text": [
            "x1 = 2.203389830508477\n",
            "x2 = 3.6610169491525455\n",
            "x3 = 0.966101694915255\n"
          ]
        }
      ]
    },
    {
      "cell_type": "markdown",
      "source": [
        "Задание 2"
      ],
      "metadata": {
        "id": "JAkXv_zyNAx9"
      }
    },
    {
      "cell_type": "code",
      "source": [
        "from scipy.linalg import lu"
      ],
      "metadata": {
        "id": "527ejXagNF08"
      },
      "execution_count": 1,
      "outputs": []
    },
    {
      "cell_type": "code",
      "source": [
        "A = np.array([[1, 2, 4,], [2, 9, 12], [3, 26, 30]])\n",
        "A"
      ],
      "metadata": {
        "id": "vfOucd-XNN2w",
        "colab": {
          "base_uri": "https://localhost:8080/"
        },
        "outputId": "2c0ca093-041d-40c0-821e-2bfdd9ed2df9"
      },
      "execution_count": 8,
      "outputs": [
        {
          "output_type": "execute_result",
          "data": {
            "text/plain": [
              "array([[ 1,  2,  4],\n",
              "       [ 2,  9, 12],\n",
              "       [ 3, 26, 30]])"
            ]
          },
          "metadata": {},
          "execution_count": 8
        }
      ]
    },
    {
      "cell_type": "code",
      "source": [
        "print(f'L = \\n\\n{lu(A)[1]}')"
      ],
      "metadata": {
        "colab": {
          "base_uri": "https://localhost:8080/"
        },
        "id": "lSUOtS-O4HWa",
        "outputId": "cc829e32-88a6-434b-c88b-fb3c118dd5f7"
      },
      "execution_count": 9,
      "outputs": [
        {
          "output_type": "stream",
          "name": "stdout",
          "text": [
            "L = \n",
            "\n",
            "[[1.         0.         0.        ]\n",
            " [0.66666667 1.         0.        ]\n",
            " [0.33333333 0.8        1.        ]]\n"
          ]
        }
      ]
    },
    {
      "cell_type": "markdown",
      "source": [
        "б)"
      ],
      "metadata": {
        "id": "1vsO5PbY4UXf"
      }
    },
    {
      "cell_type": "code",
      "source": [
        "A = np.array([[1, 1, 2, 4], [2, 5, 8, 9], [3, 18, 29, 18], [4, 22, 53, 33]])\n",
        "A"
      ],
      "metadata": {
        "colab": {
          "base_uri": "https://localhost:8080/"
        },
        "id": "ltMzix4I4WDl",
        "outputId": "f28e275a-b156-457f-f3fc-d4ef651a1f74"
      },
      "execution_count": 11,
      "outputs": [
        {
          "output_type": "execute_result",
          "data": {
            "text/plain": [
              "array([[ 1,  1,  2,  4],\n",
              "       [ 2,  5,  8,  9],\n",
              "       [ 3, 18, 29, 18],\n",
              "       [ 4, 22, 53, 33]])"
            ]
          },
          "metadata": {},
          "execution_count": 11
        }
      ]
    },
    {
      "cell_type": "code",
      "source": [
        "print(f'L = \\n\\n{lu(A)[1]}')"
      ],
      "metadata": {
        "colab": {
          "base_uri": "https://localhost:8080/"
        },
        "id": "ExJAfoEt49_l",
        "outputId": "c50535b1-da66-4105-8372-0e123aef7a33"
      },
      "execution_count": 12,
      "outputs": [
        {
          "output_type": "stream",
          "name": "stdout",
          "text": [
            "L = \n",
            "\n",
            "[[ 1.          0.          0.          0.        ]\n",
            " [ 0.5         1.          0.          0.        ]\n",
            " [ 0.75       -0.25        1.          0.        ]\n",
            " [ 0.25        0.75       -0.17073171  1.        ]]\n"
          ]
        }
      ]
    },
    {
      "cell_type": "markdown",
      "source": [
        "Задание 3"
      ],
      "metadata": {
        "id": "ispCW4g45N75"
      }
    },
    {
      "cell_type": "code",
      "source": [
        "from scipy.linalg import lu_factor, lu_solve"
      ],
      "metadata": {
        "id": "8SuJ-BKt5SLI"
      },
      "execution_count": 14,
      "outputs": []
    },
    {
      "cell_type": "code",
      "source": [
        "A = np.array([[2, 1, 3], [11, 7, 5], [9, 8, 4]])\n",
        "A"
      ],
      "metadata": {
        "colab": {
          "base_uri": "https://localhost:8080/"
        },
        "id": "oewS6Nf_5gv5",
        "outputId": "9abe8956-4465-4886-9206-b8f5acdeeaab"
      },
      "execution_count": 15,
      "outputs": [
        {
          "output_type": "execute_result",
          "data": {
            "text/plain": [
              "array([[ 2,  1,  3],\n",
              "       [11,  7,  5],\n",
              "       [ 9,  8,  4]])"
            ]
          },
          "metadata": {},
          "execution_count": 15
        }
      ]
    },
    {
      "cell_type": "code",
      "source": [
        "b = np.array([1, -6, -5])"
      ],
      "metadata": {
        "id": "Dxd4actn5zpk"
      },
      "execution_count": 16,
      "outputs": []
    },
    {
      "cell_type": "code",
      "source": [
        "lu, piv = lu_factor(A)"
      ],
      "metadata": {
        "id": "K-uNRSYb58me"
      },
      "execution_count": 17,
      "outputs": []
    },
    {
      "cell_type": "code",
      "source": [
        "x = lu_solve((lu, piv), b)"
      ],
      "metadata": {
        "id": "jQJEiDgD6C_U"
      },
      "execution_count": 18,
      "outputs": []
    },
    {
      "cell_type": "code",
      "source": [
        "print(f'x1 = {x[0]}\\nx2 = {x[1]}\\nx3 = {x[2]}')"
      ],
      "metadata": {
        "colab": {
          "base_uri": "https://localhost:8080/"
        },
        "id": "CBkOvMor6L6d",
        "outputId": "13afa1c9-b5d5-4446-f583-fde3f529c269"
      },
      "execution_count": 20,
      "outputs": [
        {
          "output_type": "stream",
          "name": "stdout",
          "text": [
            "x1 = -1.0\n",
            "x2 = 0.0\n",
            "x3 = 1.0\n"
          ]
        }
      ]
    },
    {
      "cell_type": "markdown",
      "source": [
        "Задание 4"
      ],
      "metadata": {
        "id": "2LCyPT966mKL"
      }
    },
    {
      "cell_type": "code",
      "source": [
        "from scipy.linalg import cho_factor, cho_solve, cholesky"
      ],
      "metadata": {
        "id": "oAkIYhy16p3y"
      },
      "execution_count": 21,
      "outputs": []
    },
    {
      "cell_type": "code",
      "source": [
        "A = ([[81, -45, 45], [-45, 50, -15], [45, -15, 38]])\n",
        "A"
      ],
      "metadata": {
        "colab": {
          "base_uri": "https://localhost:8080/"
        },
        "id": "kry26i1y67By",
        "outputId": "8717965b-feec-4197-f0f0-e9fd0ee3a59c"
      },
      "execution_count": 22,
      "outputs": [
        {
          "output_type": "execute_result",
          "data": {
            "text/plain": [
              "[[81, -45, 45], [-45, 50, -15], [45, -15, 38]]"
            ]
          },
          "metadata": {},
          "execution_count": 22
        }
      ]
    },
    {
      "cell_type": "code",
      "source": [
        "b = np.array([531, -460, 193])"
      ],
      "metadata": {
        "id": "n-Xd7xl17OK8"
      },
      "execution_count": 23,
      "outputs": []
    },
    {
      "cell_type": "code",
      "source": [
        "c, low = cho_factor(A)"
      ],
      "metadata": {
        "id": "9dBIFap87ZDl"
      },
      "execution_count": 24,
      "outputs": []
    },
    {
      "cell_type": "code",
      "source": [
        "x = cho_solve((c, low), b)"
      ],
      "metadata": {
        "id": "IMV7viPE7eZE"
      },
      "execution_count": 25,
      "outputs": []
    },
    {
      "cell_type": "code",
      "source": [
        "print(f'x1 = {x[0]}\\nx2 = {x[1]}\\nx3 = {x[2]}')"
      ],
      "metadata": {
        "colab": {
          "base_uri": "https://localhost:8080/"
        },
        "id": "n6k40BPa7mT6",
        "outputId": "8186d5cb-92a9-4acc-8c62-b587ec41726f"
      },
      "execution_count": 26,
      "outputs": [
        {
          "output_type": "stream",
          "name": "stdout",
          "text": [
            "x1 = 6.0\n",
            "x2 = -5.0\n",
            "x3 = -4.0\n"
          ]
        }
      ]
    }
  ]
}