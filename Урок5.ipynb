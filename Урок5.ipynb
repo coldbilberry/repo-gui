{
  "nbformat": 4,
  "nbformat_minor": 0,
  "metadata": {
    "colab": {
      "name": "Урок5.ipynb",
      "provenance": [],
      "authorship_tag": "ABX9TyNjhxSqK58+s1uds0b0r45k",
      "include_colab_link": true
    },
    "kernelspec": {
      "name": "python3",
      "display_name": "Python 3"
    },
    "language_info": {
      "name": "python"
    }
  },
  "cells": [
    {
      "cell_type": "markdown",
      "metadata": {
        "id": "view-in-github",
        "colab_type": "text"
      },
      "source": [
        "<a href=\"https://colab.research.google.com/github/coldbilberry/repo-gui/blob/main/%D0%A3%D1%80%D0%BE%D0%BA5.ipynb\" target=\"_parent\"><img src=\"https://colab.research.google.com/assets/colab-badge.svg\" alt=\"Open In Colab\"/></a>"
      ]
    },
    {
      "cell_type": "code",
      "execution_count": 1,
      "metadata": {
        "id": "54mJgyh39xww"
      },
      "outputs": [],
      "source": [
        "import numpy as np"
      ]
    },
    {
      "cell_type": "code",
      "source": [
        "A = np.array([[1, 2, 0], \n",
        "              [0, 0, 5],\n",
        "              [3, -4, 2],\n",
        "              [1, 6, 5],\n",
        "              [0, 1, 0]])"
      ],
      "metadata": {
        "id": "6LOmSx9G-mkr"
      },
      "execution_count": 2,
      "outputs": []
    },
    {
      "cell_type": "code",
      "source": [
        "U, D, V = np.linalg.svd(A)"
      ],
      "metadata": {
        "id": "zNJysfRt-9A2"
      },
      "execution_count": 3,
      "outputs": []
    },
    {
      "cell_type": "code",
      "source": [
        "U"
      ],
      "metadata": {
        "colab": {
          "base_uri": "https://localhost:8080/"
        },
        "id": "UFiv35zm_Fcu",
        "outputId": "8094c276-0b61-41c4-fc5a-05c324deeeb6"
      },
      "execution_count": 4,
      "outputs": [
        {
          "output_type": "execute_result",
          "data": {
            "text/plain": [
              "array([[ 0.17056501,  0.15680918, -0.53077508, -0.79905375, -0.16158397],\n",
              "       [ 0.39287016, -0.52933945,  0.6134793 , -0.43375771,  0.03082495],\n",
              "       [-0.14366152, -0.82449256, -0.52379105,  0.14049848,  0.07400343],\n",
              "       [ 0.88843702,  0.06074346, -0.24655277,  0.37755832, -0.06042632],\n",
              "       [ 0.08125046,  0.10831843, -0.08231425, -0.10524851,  0.98173958]])"
            ]
          },
          "metadata": {},
          "execution_count": 4
        }
      ]
    },
    {
      "cell_type": "code",
      "source": [
        "D"
      ],
      "metadata": {
        "colab": {
          "base_uri": "https://localhost:8080/"
        },
        "id": "-s-D2b8V_KV9",
        "outputId": "3771e70a-0adf-493d-889d-35d21258c87e"
      },
      "execution_count": 5,
      "outputs": [
        {
          "output_type": "execute_result",
          "data": {
            "text/plain": [
              "array([8.82486885, 6.14060608, 2.53271528])"
            ]
          },
          "metadata": {},
          "execution_count": 5
        }
      ]
    },
    {
      "cell_type": "code",
      "source": [
        "V"
      ],
      "metadata": {
        "colab": {
          "base_uri": "https://localhost:8080/"
        },
        "id": "fvJs-pEW_ME1",
        "outputId": "052d2496-91dc-4ed4-8e0b-d5439c24decc"
      },
      "execution_count": 6,
      "outputs": [
        {
          "output_type": "execute_result",
          "data": {
            "text/plain": [
              "array([[ 0.07116451,  0.71702467,  0.69340553],\n",
              "       [-0.36737824,  0.66514082, -0.65009301],\n",
              "       [-0.92734505, -0.20847855,  0.31075368]])"
            ]
          },
          "metadata": {},
          "execution_count": 6
        }
      ]
    },
    {
      "cell_type": "markdown",
      "source": [
        "1)Евклидова норма:"
      ],
      "metadata": {
        "id": "O3YTTNQu_PhO"
      }
    },
    {
      "cell_type": "code",
      "source": [
        "np.linalg.norm(A, ord = 2)"
      ],
      "metadata": {
        "colab": {
          "base_uri": "https://localhost:8080/"
        },
        "id": "662V2tu__VaQ",
        "outputId": "f1f62476-a0fd-43c1-e94c-8d83f2dfef9c"
      },
      "execution_count": 7,
      "outputs": [
        {
          "output_type": "execute_result",
          "data": {
            "text/plain": [
              "8.824868854820444"
            ]
          },
          "metadata": {},
          "execution_count": 7
        }
      ]
    },
    {
      "cell_type": "markdown",
      "source": [
        "2)Норма Фробениуса:"
      ],
      "metadata": {
        "id": "3PG-Idss_elr"
      }
    },
    {
      "cell_type": "code",
      "source": [
        "np.linalg.norm(A, ord = 'fro')"
      ],
      "metadata": {
        "colab": {
          "base_uri": "https://localhost:8080/"
        },
        "id": "HZ6Ritt9_k_J",
        "outputId": "550920bc-0689-4fec-a04b-30dda3e43af9"
      },
      "execution_count": 8,
      "outputs": [
        {
          "output_type": "execute_result",
          "data": {
            "text/plain": [
              "11.045361017187261"
            ]
          },
          "metadata": {},
          "execution_count": 8
        }
      ]
    }
  ]
}