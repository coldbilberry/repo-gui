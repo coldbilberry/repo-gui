{
  "nbformat": 4,
  "nbformat_minor": 0,
  "metadata": {
    "colab": {
      "provenance": [],
      "authorship_tag": "ABX9TyNOPkfByZ7AKGx2Fva7vJOI",
      "include_colab_link": true
    },
    "kernelspec": {
      "name": "python3",
      "display_name": "Python 3"
    },
    "language_info": {
      "name": "python"
    }
  },
  "cells": [
    {
      "cell_type": "markdown",
      "metadata": {
        "id": "view-in-github",
        "colab_type": "text"
      },
      "source": [
        "<a href=\"https://colab.research.google.com/github/coldbilberry/repo-gui/blob/main/%D0%A3%D1%80%D0%BE%D0%BA_16_%D0%A1%D0%BE%D0%B7%D0%B4%D0%B0%D0%BD%D0%B8%D0%B5_%D1%87%D0%B0%D1%82_%D0%B1%D0%BE%D1%82%D0%B0_%D0%B2_Telegram.ipynb\" target=\"_parent\"><img src=\"https://colab.research.google.com/assets/colab-badge.svg\" alt=\"Open In Colab\"/></a>"
      ]
    },
    {
      "cell_type": "code",
      "execution_count": 1,
      "metadata": {
        "colab": {
          "base_uri": "https://localhost:8080/"
        },
        "id": "KJQ1mhloEqJu",
        "outputId": "928d7ef5-c2d6-4d0c-ac38-6137c8171287"
      },
      "outputs": [
        {
          "output_type": "stream",
          "name": "stdout",
          "text": [
            "Requirement already satisfied: transformers in /usr/local/lib/python3.10/dist-packages (4.38.2)\n",
            "Requirement already satisfied: filelock in /usr/local/lib/python3.10/dist-packages (from transformers) (3.13.3)\n",
            "Requirement already satisfied: huggingface-hub<1.0,>=0.19.3 in /usr/local/lib/python3.10/dist-packages (from transformers) (0.20.3)\n",
            "Requirement already satisfied: numpy>=1.17 in /usr/local/lib/python3.10/dist-packages (from transformers) (1.25.2)\n",
            "Requirement already satisfied: packaging>=20.0 in /usr/local/lib/python3.10/dist-packages (from transformers) (24.0)\n",
            "Requirement already satisfied: pyyaml>=5.1 in /usr/local/lib/python3.10/dist-packages (from transformers) (6.0.1)\n",
            "Requirement already satisfied: regex!=2019.12.17 in /usr/local/lib/python3.10/dist-packages (from transformers) (2023.12.25)\n",
            "Requirement already satisfied: requests in /usr/local/lib/python3.10/dist-packages (from transformers) (2.31.0)\n",
            "Requirement already satisfied: tokenizers<0.19,>=0.14 in /usr/local/lib/python3.10/dist-packages (from transformers) (0.15.2)\n",
            "Requirement already satisfied: safetensors>=0.4.1 in /usr/local/lib/python3.10/dist-packages (from transformers) (0.4.2)\n",
            "Requirement already satisfied: tqdm>=4.27 in /usr/local/lib/python3.10/dist-packages (from transformers) (4.66.2)\n",
            "Requirement already satisfied: fsspec>=2023.5.0 in /usr/local/lib/python3.10/dist-packages (from huggingface-hub<1.0,>=0.19.3->transformers) (2023.6.0)\n",
            "Requirement already satisfied: typing-extensions>=3.7.4.3 in /usr/local/lib/python3.10/dist-packages (from huggingface-hub<1.0,>=0.19.3->transformers) (4.10.0)\n",
            "Requirement already satisfied: charset-normalizer<4,>=2 in /usr/local/lib/python3.10/dist-packages (from requests->transformers) (3.3.2)\n",
            "Requirement already satisfied: idna<4,>=2.5 in /usr/local/lib/python3.10/dist-packages (from requests->transformers) (3.6)\n",
            "Requirement already satisfied: urllib3<3,>=1.21.1 in /usr/local/lib/python3.10/dist-packages (from requests->transformers) (2.0.7)\n",
            "Requirement already satisfied: certifi>=2017.4.17 in /usr/local/lib/python3.10/dist-packages (from requests->transformers) (2024.2.2)\n",
            "Collecting pyTelegramBotAPI\n",
            "  Downloading pytelegrambotapi-4.16.1-py3-none-any.whl (232 kB)\n",
            "\u001b[2K     \u001b[90m━━━━━━━━━━━━━━━━━━━━━━━━━━━━━━━━━━━━━━━━\u001b[0m \u001b[32m232.2/232.2 kB\u001b[0m \u001b[31m4.0 MB/s\u001b[0m eta \u001b[36m0:00:00\u001b[0m\n",
            "\u001b[?25hRequirement already satisfied: requests in /usr/local/lib/python3.10/dist-packages (from pyTelegramBotAPI) (2.31.0)\n",
            "Requirement already satisfied: charset-normalizer<4,>=2 in /usr/local/lib/python3.10/dist-packages (from requests->pyTelegramBotAPI) (3.3.2)\n",
            "Requirement already satisfied: idna<4,>=2.5 in /usr/local/lib/python3.10/dist-packages (from requests->pyTelegramBotAPI) (3.6)\n",
            "Requirement already satisfied: urllib3<3,>=1.21.1 in /usr/local/lib/python3.10/dist-packages (from requests->pyTelegramBotAPI) (2.0.7)\n",
            "Requirement already satisfied: certifi>=2017.4.17 in /usr/local/lib/python3.10/dist-packages (from requests->pyTelegramBotAPI) (2024.2.2)\n",
            "Installing collected packages: pyTelegramBotAPI\n",
            "Successfully installed pyTelegramBotAPI-4.16.1\n",
            "Collecting pygismeteo\n",
            "  Downloading pygismeteo-6.1.0-py3-none-any.whl (8.4 kB)\n",
            "Collecting pygismeteo-base<6.0,>=5.1 (from pygismeteo)\n",
            "  Downloading pygismeteo_base-5.1.0-py3-none-any.whl (15 kB)\n",
            "Requirement already satisfied: requests>=2.26 in /usr/local/lib/python3.10/dist-packages (from pygismeteo) (2.31.0)\n",
            "Requirement already satisfied: typing-extensions>=4.4 in /usr/local/lib/python3.10/dist-packages (from pygismeteo) (4.10.0)\n",
            "Requirement already satisfied: annotated-types>=0.2 in /usr/local/lib/python3.10/dist-packages (from pygismeteo-base<6.0,>=5.1->pygismeteo) (0.6.0)\n",
            "Requirement already satisfied: pydantic>=2 in /usr/local/lib/python3.10/dist-packages (from pygismeteo-base<6.0,>=5.1->pygismeteo) (2.6.4)\n",
            "Requirement already satisfied: charset-normalizer<4,>=2 in /usr/local/lib/python3.10/dist-packages (from requests>=2.26->pygismeteo) (3.3.2)\n",
            "Requirement already satisfied: idna<4,>=2.5 in /usr/local/lib/python3.10/dist-packages (from requests>=2.26->pygismeteo) (3.6)\n",
            "Requirement already satisfied: urllib3<3,>=1.21.1 in /usr/local/lib/python3.10/dist-packages (from requests>=2.26->pygismeteo) (2.0.7)\n",
            "Requirement already satisfied: certifi>=2017.4.17 in /usr/local/lib/python3.10/dist-packages (from requests>=2.26->pygismeteo) (2024.2.2)\n",
            "Requirement already satisfied: pydantic-core==2.16.3 in /usr/local/lib/python3.10/dist-packages (from pydantic>=2->pygismeteo-base<6.0,>=5.1->pygismeteo) (2.16.3)\n",
            "Installing collected packages: pygismeteo-base, pygismeteo\n",
            "Successfully installed pygismeteo-6.1.0 pygismeteo-base-5.1.0\n",
            "Requirement already satisfied: geopy in /usr/local/lib/python3.10/dist-packages (2.3.0)\n",
            "Requirement already satisfied: geographiclib<3,>=1.52 in /usr/local/lib/python3.10/dist-packages (from geopy) (2.0)\n",
            "Collecting tzwhere\n",
            "  Downloading tzwhere-3.0.3.tar.gz (23.7 MB)\n",
            "\u001b[2K     \u001b[90m━━━━━━━━━━━━━━━━━━━━━━━━━━━━━━━━━━━━━━━━\u001b[0m \u001b[32m23.7/23.7 MB\u001b[0m \u001b[31m37.4 MB/s\u001b[0m eta \u001b[36m0:00:00\u001b[0m\n",
            "\u001b[?25h  Preparing metadata (setup.py) ... \u001b[?25l\u001b[?25hdone\n",
            "Requirement already satisfied: shapely in /usr/local/lib/python3.10/dist-packages (from tzwhere) (2.0.3)\n",
            "Requirement already satisfied: numpy<2,>=1.14 in /usr/local/lib/python3.10/dist-packages (from shapely->tzwhere) (1.25.2)\n",
            "Building wheels for collected packages: tzwhere\n",
            "  Building wheel for tzwhere (setup.py) ... \u001b[?25l\u001b[?25hdone\n",
            "  Created wheel for tzwhere: filename=tzwhere-3.0.3-py3-none-any.whl size=23742581 sha256=ec60a39636c4ca2e48d42809dc45fd1638729ddc48399709cb49215d2072bcd5\n",
            "  Stored in directory: /root/.cache/pip/wheels/fc/41/05/71acea338ac02030bc7d7cae140be7b033faaafab96a6dfdc2\n",
            "Successfully built tzwhere\n",
            "Installing collected packages: tzwhere\n",
            "Successfully installed tzwhere-3.0.3\n",
            "Requirement already satisfied: pytz in /usr/local/lib/python3.10/dist-packages (2023.4)\n"
          ]
        }
      ],
      "source": [
        "!pip install transformers\n",
        "!pip install pyTelegramBotAPI\n",
        "!pip install pygismeteo\n",
        "!pip install geopy\n",
        "!pip install tzwhere\n",
        "!pip install pytz"
      ]
    },
    {
      "cell_type": "code",
      "source": [
        "import telebot\n",
        "import requests\n",
        "from config import TOKEN_API\n",
        "from worker import get_weather, get_time\n",
        "from telebot import types\n",
        "from transformers import AutoTokenizer, AutoModelWithLMHead, AutoModelForCausalLM, AutoModelForSeq2SeqLM, pipeline"
      ],
      "metadata": {
        "id": "mBMqAv8aFl0R"
      },
      "execution_count": null,
      "outputs": []
    },
    {
      "cell_type": "code",
      "source": [
        "#tokenizer = AutoTokenizer.from_pretrained(\"Den4ikAI/rubert_large_squad_2\")\n",
        "#model = AutoModelForCausalLM.from_pretrained(\"Den4ikAI/rubert_large_squad_2\")\n",
        "\n",
        "###############################\n",
        "\n",
        "#tokenizer = AutoTokenizer.from_pretrained(\"DeepPavlov/nllb-200-distilled-600M-ru-persona-chat\")\n",
        "#model = AutoModelWithLMHead.from_pretrained(\"DeepPavlov/nllb-200-distilled-600M-ru-persona-chat\")\n",
        "tokenizer = AutoTokenizer.from_pretrained(\"DeepPavlov/mbart-large-50-ru-persona-chat\")\n",
        "model = AutoModelForSeq2SeqLM.from_pretrained(\"DeepPavlov/mbart-large-50-ru-persona-chat\")\n",
        "###############################\n",
        "token = TOKEN_API\n",
        "bot = telebot.TeleBot(token)\n",
        "text_infile = open('my_file.txt', 'r', encoding='utf-8').read()\n",
        "qa_pipeline = pipeline(\n",
        "     \"question-answering\",\n",
        "     model=\"Den4ikAI/rubert_large_squad_2\",\n",
        "     tokenizer=\"Den4ikAI/rubert_large_squad_2\")\n",
        "@bot.message_handler(commands=['start'])\n",
        "def start_message(message):\n",
        "    bot.send_message(message.chat.id, 'Привет, я бот!\\nЯ умею разговаривать, сообщать погоду и время. Также могу немного разбираюсь в медецине. \\nНапиши свой запрос в сообщении ниже. \\n Погода или время или еще какую байду. \\n Если хочешь поговорить про медициу, то напиши запрос с пометкой \"med\"')\n",
        "###############################\n",
        "@bot.message_handler(content_types=['text'])\n",
        "def repeat_all_messages(message): # Название функции не играет никакой роли\n",
        "    if \"med\" in message.text.lower() or \" med\" in message.text.lower():\n",
        "        msg = str(message.text.lower()).replace('med', '')\n",
        "        predictions = qa_pipeline({\n",
        "            'context': text_infile,\n",
        "            'question': msg\n",
        "        })\n",
        "        bot.send_message(message.chat.id, predictions['answer'])\n",
        "    elif \"погод\" in message.text.lower() or \" погод\" in message.text.lower():\n",
        "        bot.send_message(message.chat.id, 'Введи название своего города и я скажу какая погода')\n",
        "        bot.register_next_step_handler(message, weather_reply)\n",
        "    elif \"врем\" in message.text.lower() or \" врем\" in message.text.lower():\n",
        "        bot.send_message(message.chat.id, 'Введи название своего города и я скажу время')\n",
        "        bot.register_next_step_handler(message, time_reply)\n",
        "    else:\n",
        "        prompt = message.text\n",
        "        tokenized_prompt = tokenizer.encode(prompt, return_tensors=\"pt\")\n",
        "        generated_response = model.generate(tokenized_prompt, max_length=50)\n",
        "        generated_response_text = tokenizer.decode(generated_response[0], skip_special_tokens=True)\n",
        "        bot.send_message(message.chat.id, str(generated_response_text))\n",
        "###############################\n",
        "def weather_reply(message):\n",
        "    city = message.text\n",
        "    bot.send_message(message.chat.id, str(get_weather(city)))\n",
        "\n",
        "def time_reply(message):\n",
        "    city = message.text\n",
        "    bot.send_message(message.chat.id, str(get_time(city)))\n",
        "###############################\n",
        "if __name__ == '__main__':\n",
        "     bot.infinity_polling()"
      ],
      "metadata": {
        "id": "-Oc0W3ydFzPE"
      },
      "execution_count": null,
      "outputs": []
    }
  ]
}