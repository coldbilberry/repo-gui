{
  "nbformat": 4,
  "nbformat_minor": 0,
  "metadata": {
    "colab": {
      "name": "Урок 1 Линейная регрессия.ipynb",
      "provenance": [],
      "authorship_tag": "ABX9TyO/jNfInYHwkZDduG3obkSm",
      "include_colab_link": true
    },
    "kernelspec": {
      "name": "python3",
      "display_name": "Python 3"
    },
    "language_info": {
      "name": "python"
    }
  },
  "cells": [
    {
      "cell_type": "markdown",
      "metadata": {
        "id": "view-in-github",
        "colab_type": "text"
      },
      "source": [
        "<a href=\"https://colab.research.google.com/github/coldbilberry/repo-gui/blob/main/%D0%A3%D1%80%D0%BE%D0%BA_1_%D0%9B%D0%B8%D0%BD%D0%B5%D0%B9%D0%BD%D0%B0%D1%8F_%D1%80%D0%B5%D0%B3%D1%80%D0%B5%D1%81%D1%81%D0%B8%D1%8F.ipynb\" target=\"_parent\"><img src=\"https://colab.research.google.com/assets/colab-badge.svg\" alt=\"Open In Colab\"/></a>"
      ]
    },
    {
      "cell_type": "markdown",
      "source": [
        "Задание 1"
      ],
      "metadata": {
        "id": "aLR0C6wghDyu"
      }
    },
    {
      "cell_type": "code",
      "source": [
        "import numpy as np"
      ],
      "metadata": {
        "id": "7J1QsGWfAAfB"
      },
      "execution_count": 42,
      "outputs": []
    },
    {
      "cell_type": "code",
      "source": [
        "X = np.array([[1, 1, 1, 1, 1, 1, 1, 1, 1, 1],\n",
        "              [1, 1, 2, 5, 3, 0, 5, 10, 1, 2]])\n",
        "y = [45, 55, 50, 55, 60, 35, 75, 80, 50, 60]"
      ],
      "metadata": {
        "id": "DYNJ_HS2AFRC"
      },
      "execution_count": 43,
      "outputs": []
    },
    {
      "cell_type": "code",
      "source": [
        "def calc_mae(y, y_pred):\n",
        "    err = np.mean(np.abs(y - y_pred))\n",
        "    return err\n",
        "\n",
        "def calc_mse(y, y_pred):\n",
        "    err = np.mean((y - y_pred)**2) # <=> 1/n * np.sum((y_pred - y)**2)\n",
        "    return err"
      ],
      "metadata": {
        "id": "xl6cFY9bAI02"
      },
      "execution_count": 44,
      "outputs": []
    },
    {
      "cell_type": "code",
      "source": [
        "n = X.shape[1]\n",
        "alpha = 0.04\n",
        "W = np.array([1, np.random.normal(0, 0.01)])\n",
        "print(f'Number of objects = {n} \\\n",
        "       \\nLearning rate = {alpha} \\\n",
        "       \\nInitial weights = {W} \\n')"
      ],
      "metadata": {
        "colab": {
          "base_uri": "https://localhost:8080/"
        },
        "id": "Pq3ON8WVALjd",
        "outputId": "e9efe6b9-29be-46f3-f51d-de1e679dd468"
      },
      "execution_count": 45,
      "outputs": [
        {
          "output_type": "stream",
          "name": "stdout",
          "text": [
            "Number of objects = 10        \n",
            "Learning rate = 0.04        \n",
            "Initial weights = [1.         0.00120197] \n",
            "\n"
          ]
        }
      ]
    },
    {
      "cell_type": "code",
      "source": [
        "for i in range(150):\n",
        "    y_pred = np.dot(W, X)\n",
        "    err = calc_mse(y, y_pred)\n",
        "    for k in range(W.shape[0]):\n",
        "        W[k] -= alpha * (1/n * 2 * np.sum(X[k] * (y_pred - y)))\n",
        "    if i % 10 == 0:\n",
        "        print(f'Iteration #{i}: W_new = {W}, MSE = {round(err, 2)}')\n"
      ],
      "metadata": {
        "colab": {
          "base_uri": "https://localhost:8080/"
        },
        "id": "K4cWxGmdAOdV",
        "outputId": "d45ba6ab-2463-4c74-84e1-ea92d609bb64"
      },
      "execution_count": 46,
      "outputs": [
        {
          "output_type": "stream",
          "name": "stdout",
          "text": [
            "Iteration #0: W_new = [ 5.43971153 15.75956729], MSE = 3240.03\n",
            "Iteration #10: W_new = [17.16145293  8.87246977], MSE = 438.91\n",
            "Iteration #20: W_new = [25.8213653   7.30158318], MSE = 231.79\n",
            "Iteration #30: W_new = [31.7934641   6.21863507], MSE = 133.29\n",
            "Iteration #40: W_new = [35.91193189  5.47181444], MSE = 86.45\n",
            "Iteration #50: W_new = [38.75210207  4.95679337], MSE = 64.17\n",
            "Iteration #60: W_new = [40.71073499  4.60162549], MSE = 53.58\n",
            "Iteration #70: W_new = [42.06144383  4.35669527], MSE = 48.54\n",
            "Iteration #80: W_new = [42.99291717  4.18778694], MSE = 46.14\n",
            "Iteration #90: W_new = [43.6352781   4.07130469], MSE = 45.0\n",
            "Iteration #100: W_new = [44.07826186  3.99097641], MSE = 44.46\n",
            "Iteration #110: W_new = [44.3837515   3.93558057], MSE = 44.2\n",
            "Iteration #120: W_new = [44.59442271  3.8973786 ], MSE = 44.08\n",
            "Iteration #130: W_new = [44.7397054   3.87103382], MSE = 44.02\n",
            "Iteration #140: W_new = [44.83989498  3.85286599], MSE = 43.99\n"
          ]
        }
      ]
    },
    {
      "cell_type": "code",
      "source": [
        "n = X.shape[1]\n",
        "alpha = 0.04\n",
        "W = np.array([1, np.random.normal(0, 0.01)])\n",
        "print(f'Number of objects = {n} \\\n",
        "       \\nLearning rate = {alpha} \\\n",
        "       \\nInitial weights = {W} \\n')\n"
      ],
      "metadata": {
        "colab": {
          "base_uri": "https://localhost:8080/"
        },
        "id": "vgZaDDNSBEaL",
        "outputId": "03714d57-4587-455a-9785-f913fccdfe6f"
      },
      "execution_count": 47,
      "outputs": [
        {
          "output_type": "stream",
          "name": "stdout",
          "text": [
            "Number of objects = 10        \n",
            "Learning rate = 0.04        \n",
            "Initial weights = [ 1.         -0.00266905] \n",
            "\n"
          ]
        }
      ]
    },
    {
      "cell_type": "code",
      "source": [
        "for i in range(150):\n",
        "    y_pred = np.dot(W, X)\n",
        "    err = calc_mse(y, y_pred)\n",
        "#     for k in range(W.shape[0]):\n",
        "#         W[k] -= alpha * (1/n * 2 * np.sum(X[k] * (y_pred - y)))\n",
        "    W -= alpha * (1/n * 2 * (X @ (y_pred - y)))\n",
        "    if i % 10 == 0:\n",
        "        print(f'Iteration #{i}: W_new = {W}, MSE = {round(err,2)}')"
      ],
      "metadata": {
        "colab": {
          "base_uri": "https://localhost:8080/"
        },
        "id": "h5ZK9AisBRfu",
        "outputId": "0e8f5088-3ca9-4481-b1aa-19407eaa9c87"
      },
      "execution_count": 48,
      "outputs": [
        {
          "output_type": "stream",
          "name": "stdout",
          "text": [
            "Iteration #0: W_new = [ 5.44064057 15.76096086], MSE = 3241.55\n",
            "Iteration #10: W_new = [17.16190453  8.87238806], MSE = 438.9\n",
            "Iteration #20: W_new = [25.82167672  7.30152671], MSE = 231.79\n",
            "Iteration #30: W_new = [31.79367886  6.21859613], MSE = 133.29\n",
            "Iteration #40: W_new = [35.91207999  5.47178759], MSE = 86.45\n",
            "Iteration #50: W_new = [38.7522042   4.95677485], MSE = 64.17\n",
            "Iteration #60: W_new = [40.71080543  4.60161272], MSE = 53.58\n",
            "Iteration #70: W_new = [42.0614924   4.35668646], MSE = 48.54\n",
            "Iteration #80: W_new = [42.99295066  4.18778086], MSE = 46.14\n",
            "Iteration #90: W_new = [43.6353012  4.0713005], MSE = 45.0\n",
            "Iteration #100: W_new = [44.07827779  3.99097352], MSE = 44.46\n",
            "Iteration #110: W_new = [44.38376249  3.93557858], MSE = 44.2\n",
            "Iteration #120: W_new = [44.59443029  3.89737723], MSE = 44.08\n",
            "Iteration #130: W_new = [44.73971063  3.87103288], MSE = 44.02\n",
            "Iteration #140: W_new = [44.83989859  3.85286533], MSE = 43.99\n"
          ]
        }
      ]
    },
    {
      "cell_type": "markdown",
      "source": [
        "Задание 3"
      ],
      "metadata": {
        "id": "QNE26-8RBhwL"
      }
    },
    {
      "cell_type": "code",
      "source": [
        "n = X.shape[1]\n",
        "alpha = 0.04\n",
        "tol = 0.01\n",
        "W = np.array([1, np.random.normal(0, 0.01)])\n",
        "print(f'Number of objects = {n} \\\n",
        "       \\nLearning rate = {alpha} \\\n",
        "       \\nTolerance = {tol} \\\n",
        "       \\nInitial weights = {W} \\n')"
      ],
      "metadata": {
        "colab": {
          "base_uri": "https://localhost:8080/"
        },
        "id": "W4B17LX0BlE2",
        "outputId": "08085e2c-f9ce-43b7-cd4d-9521919936ae"
      },
      "execution_count": 50,
      "outputs": [
        {
          "output_type": "stream",
          "name": "stdout",
          "text": [
            "Number of objects = 10        \n",
            "Learning rate = 0.04        \n",
            "Tolerance = 0.01        \n",
            "Initial weights = [ 1.         -0.00208981] \n",
            "\n"
          ]
        }
      ]
    },
    {
      "cell_type": "code",
      "source": [
        "i = 0\n",
        "prev_err = np.inf\n",
        "while 1:\n",
        "    y_pred = np.dot(W, X)\n",
        "    err = calc_mse(y, y_pred)\n",
        "    diff = np.abs(err - prev_err)\n",
        "    prev_err = err\n",
        "    W -= alpha * (1/n * 2 * (X @ (y_pred - y)))\n",
        "    if i % 10 == 0:\n",
        "        print(f'Iteration #{i}: W_new = {W}, MSE = {round(err,2)}')\n",
        "    i += 1\n",
        "    if diff/err < tol:\n",
        "        break\n",
        "\n",
        "print(f'\\nIterations: {i}: W_new = {W}, MSE = {round(err,2)}')\n"
      ],
      "metadata": {
        "colab": {
          "base_uri": "https://localhost:8080/"
        },
        "id": "Wi0l6YQcBqbK",
        "outputId": "faaf2466-77b3-4619-855d-dd75b4e2fde8"
      },
      "execution_count": 51,
      "outputs": [
        {
          "output_type": "stream",
          "name": "stdout",
          "text": [
            "Iteration #0: W_new = [ 5.44050155 15.76075233], MSE = 3241.32\n",
            "Iteration #10: W_new = [17.16183696  8.87240028], MSE = 438.9\n",
            "Iteration #20: W_new = [25.82163012  7.30153516], MSE = 231.79\n",
            "Iteration #30: W_new = [31.79364672  6.21860196], MSE = 133.29\n",
            "Iteration #40: W_new = [35.91205783  5.4717916 ], MSE = 86.45\n",
            "Iteration #50: W_new = [38.75218892  4.95677762], MSE = 64.17\n",
            "Iteration #60: W_new = [40.71079489  4.60161463], MSE = 53.58\n",
            "\n",
            "Iterations: 67: W_new = [41.58053283  4.44390106], MSE = 50.12\n"
          ]
        }
      ]
    }
  ]
}