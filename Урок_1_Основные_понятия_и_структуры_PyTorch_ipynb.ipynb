{
  "nbformat": 4,
  "nbformat_minor": 0,
  "metadata": {
    "colab": {
      "provenance": [],
      "authorship_tag": "ABX9TyPC1oBMDEQQU+B6NE56dVCc"
    },
    "kernelspec": {
      "name": "python3",
      "display_name": "Python 3"
    },
    "language_info": {
      "name": "python"
    }
  },
  "cells": [
    {
      "cell_type": "code",
      "execution_count": 1,
      "metadata": {
        "id": "t3C7Ohxv0D6b"
      },
      "outputs": [],
      "source": [
        "import torch"
      ]
    },
    {
      "cell_type": "code",
      "source": [
        "float_tensor = torch.randn(3, 4, 5).float()\n",
        "float_tensor"
      ],
      "metadata": {
        "colab": {
          "base_uri": "https://localhost:8080/"
        },
        "id": "ZiALzeLc0tpb",
        "outputId": "c9cc6877-e5d6-47f1-a4da-c8ef1ac3555b"
      },
      "execution_count": 2,
      "outputs": [
        {
          "output_type": "execute_result",
          "data": {
            "text/plain": [
              "tensor([[[ 0.8040, -0.2667, -0.6851,  0.9533,  0.5229],\n",
              "         [-0.6453, -0.8575,  0.9305, -0.4348,  0.6981],\n",
              "         [-1.0953, -0.0470,  1.4930,  0.6138,  1.9125],\n",
              "         [-0.7216, -0.2286,  0.9756, -1.6038,  1.0932]],\n",
              "\n",
              "        [[-1.2503,  0.2824,  2.1230, -1.6451,  0.2218],\n",
              "         [ 1.7807, -0.7512, -1.1283,  1.8010,  0.1822],\n",
              "         [-0.6313,  0.5952,  1.2716,  1.3894, -1.1944],\n",
              "         [ 1.2623,  1.0014,  0.6662, -0.1170,  0.7069]],\n",
              "\n",
              "        [[ 1.2023, -0.5731, -1.4844,  0.5724,  0.2819],\n",
              "         [-0.9629,  1.1292,  1.1355, -0.0940, -0.5612],\n",
              "         [ 1.0840,  0.2294, -0.5911,  0.0276,  0.3364],\n",
              "         [-0.7263,  0.4304, -1.0646,  0.2920,  0.1704]]])"
            ]
          },
          "metadata": {},
          "execution_count": 2
        }
      ]
    },
    {
      "cell_type": "code",
      "source": [
        "float_tensor.shape"
      ],
      "metadata": {
        "colab": {
          "base_uri": "https://localhost:8080/"
        },
        "id": "4PKUjAig1GL_",
        "outputId": "2c320c74-7902-44dd-fbac-2fd03c409028"
      },
      "execution_count": 3,
      "outputs": [
        {
          "output_type": "execute_result",
          "data": {
            "text/plain": [
              "torch.Size([3, 4, 5])"
            ]
          },
          "metadata": {},
          "execution_count": 3
        }
      ]
    },
    {
      "cell_type": "code",
      "source": [
        "float_tensor = float_tensor.reshape(6, 10)\n",
        "float_tensor.size()"
      ],
      "metadata": {
        "colab": {
          "base_uri": "https://localhost:8080/"
        },
        "id": "v-dgR2Zu1OzQ",
        "outputId": "9648ee17-9cea-4de1-8c35-f930c9a38b66"
      },
      "execution_count": 5,
      "outputs": [
        {
          "output_type": "execute_result",
          "data": {
            "text/plain": [
              "torch.Size([6, 10])"
            ]
          },
          "metadata": {},
          "execution_count": 5
        }
      ]
    },
    {
      "cell_type": "code",
      "source": [
        "int_tensor = torch.randn(10).int()\n",
        "int_tensor"
      ],
      "metadata": {
        "colab": {
          "base_uri": "https://localhost:8080/"
        },
        "id": "kN31t3hR1nW5",
        "outputId": "6855620e-ea8b-4556-e38d-4f6ff8494f0d"
      },
      "execution_count": 6,
      "outputs": [
        {
          "output_type": "execute_result",
          "data": {
            "text/plain": [
              "tensor([ 0, -3,  1,  0,  0,  0,  0,  0,  0,  2], dtype=torch.int32)"
            ]
          },
          "metadata": {},
          "execution_count": 6
        }
      ]
    },
    {
      "cell_type": "code",
      "source": [
        "float_tensor * int_tensor"
      ],
      "metadata": {
        "colab": {
          "base_uri": "https://localhost:8080/"
        },
        "id": "Y3jw7uPe15OX",
        "outputId": "1064f9c9-3917-44a8-ae2a-82302a217bfb"
      },
      "execution_count": 7,
      "outputs": [
        {
          "output_type": "execute_result",
          "data": {
            "text/plain": [
              "tensor([[ 0.0000,  0.8002, -0.6851,  0.0000,  0.0000, -0.0000, -0.0000,  0.0000,\n",
              "         -0.0000,  1.3963],\n",
              "        [-0.0000,  0.1409,  1.4930,  0.0000,  0.0000, -0.0000, -0.0000,  0.0000,\n",
              "         -0.0000,  2.1864],\n",
              "        [-0.0000, -0.8472,  2.1230, -0.0000,  0.0000,  0.0000, -0.0000, -0.0000,\n",
              "          0.0000,  0.3644],\n",
              "        [-0.0000, -1.7856,  1.2716,  0.0000, -0.0000,  0.0000,  0.0000,  0.0000,\n",
              "         -0.0000,  1.4137],\n",
              "        [ 0.0000,  1.7194, -1.4844,  0.0000,  0.0000, -0.0000,  0.0000,  0.0000,\n",
              "         -0.0000, -1.1225],\n",
              "        [ 0.0000, -0.6882, -0.5911,  0.0000,  0.0000, -0.0000,  0.0000, -0.0000,\n",
              "          0.0000,  0.3407]])"
            ]
          },
          "metadata": {},
          "execution_count": 7
        }
      ]
    },
    {
      "cell_type": "code",
      "source": [
        "mm_tensor = float_tensor.mm(float_tensor.T)\n",
        "mm_tensor.shape"
      ],
      "metadata": {
        "colab": {
          "base_uri": "https://localhost:8080/"
        },
        "id": "avEx9_Yi2ES1",
        "outputId": "8409c619-2da4-4146-9ce0-8de16d2b2481"
      },
      "execution_count": 8,
      "outputs": [
        {
          "output_type": "execute_result",
          "data": {
            "text/plain": [
              "torch.Size([6, 6])"
            ]
          },
          "metadata": {},
          "execution_count": 8
        }
      ]
    },
    {
      "cell_type": "code",
      "source": [
        "x = torch.tensor([1.0], requires_grad=True)\n",
        "z = torch.tensor([0.5], requires_grad=True)\n",
        "t = torch.tensor([2.0], requires_grad=True)\n",
        "\n",
        "y = (x**3) + z - 75 * t\n",
        "y.backward()\n",
        "x.grad, z.grad, t.grad"
      ],
      "metadata": {
        "colab": {
          "base_uri": "https://localhost:8080/"
        },
        "id": "ib8WMmCM245c",
        "outputId": "382d5a55-336b-44b0-c822-144f3ef85871"
      },
      "execution_count": 9,
      "outputs": [
        {
          "output_type": "execute_result",
          "data": {
            "text/plain": [
              "(tensor([3.]), tensor([1.]), tensor([-75.]))"
            ]
          },
          "metadata": {},
          "execution_count": 9
        }
      ]
    },
    {
      "cell_type": "code",
      "source": [
        "nm_tensor = torch.randn(5, 6)"
      ],
      "metadata": {
        "id": "1oPTMgwQ4i1o"
      },
      "execution_count": 10,
      "outputs": []
    },
    {
      "cell_type": "code",
      "source": [
        "nm_tensor.numpy()"
      ],
      "metadata": {
        "colab": {
          "base_uri": "https://localhost:8080/"
        },
        "id": "k7Avf8d94umY",
        "outputId": "140a3998-600d-4c99-f97a-746fd9b89be4"
      },
      "execution_count": 11,
      "outputs": [
        {
          "output_type": "execute_result",
          "data": {
            "text/plain": [
              "array([[-0.41840145, -0.09671415,  1.0270312 ,  0.350005  , -0.1661472 ,\n",
              "        -1.9732461 ],\n",
              "       [-0.58211434, -0.20337272, -0.16452348, -0.30767843, -0.87950706,\n",
              "         1.0869808 ],\n",
              "       [-0.06159718,  1.7104483 , -0.14320713,  0.1687928 ,  0.04371179,\n",
              "        -0.15635161],\n",
              "       [ 1.3758911 , -2.7237659 ,  0.15666479,  0.6283014 ,  0.41169742,\n",
              "         0.34513214],\n",
              "       [-1.3362918 , -0.02792919,  0.98655707, -0.14102428, -0.41896558,\n",
              "         0.31942388]], dtype=float32)"
            ]
          },
          "metadata": {},
          "execution_count": 11
        }
      ]
    }
  ]
}