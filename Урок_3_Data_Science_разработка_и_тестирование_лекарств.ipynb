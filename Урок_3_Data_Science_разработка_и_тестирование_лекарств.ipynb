{
  "nbformat": 4,
  "nbformat_minor": 0,
  "metadata": {
    "colab": {
      "provenance": [],
      "authorship_tag": "ABX9TyMZVn5ajVEQN7u+yuw03uDU",
      "include_colab_link": true
    },
    "kernelspec": {
      "name": "python3",
      "display_name": "Python 3"
    },
    "language_info": {
      "name": "python"
    }
  },
  "cells": [
    {
      "cell_type": "markdown",
      "metadata": {
        "id": "view-in-github",
        "colab_type": "text"
      },
      "source": [
        "<a href=\"https://colab.research.google.com/github/coldbilberry/repo-gui/blob/main/%D0%A3%D1%80%D0%BE%D0%BA_3_Data_Science_%D1%80%D0%B0%D0%B7%D1%80%D0%B0%D0%B1%D0%BE%D1%82%D0%BA%D0%B0_%D0%B8_%D1%82%D0%B5%D1%81%D1%82%D0%B8%D1%80%D0%BE%D0%B2%D0%B0%D0%BD%D0%B8%D0%B5_%D0%BB%D0%B5%D0%BA%D0%B0%D1%80%D1%81%D1%82%D0%B2.ipynb\" target=\"_parent\"><img src=\"https://colab.research.google.com/assets/colab-badge.svg\" alt=\"Open In Colab\"/></a>"
      ]
    },
    {
      "cell_type": "code",
      "execution_count": 1,
      "metadata": {
        "id": "IuZ5cofyUmh8"
      },
      "outputs": [],
      "source": [
        "import pandas as pd\n",
        "import numpy as np\n",
        "import os\n",
        "# import tarfile\n",
        "import pprint\n",
        "import seaborn as sns\n",
        "import matplotlib.pyplot as plt\n",
        "%matplotlib inline"
      ]
    },
    {
      "cell_type": "code",
      "source": [
        "!chcp 65001"
      ],
      "metadata": {
        "colab": {
          "base_uri": "https://localhost:8080/"
        },
        "id": "i2FqmJEksl8_",
        "outputId": "f8580017-c072-49b4-912c-9836a5cae02a"
      },
      "execution_count": 2,
      "outputs": [
        {
          "output_type": "stream",
          "name": "stdout",
          "text": [
            "/bin/bash: line 1: chcp: command not found\n"
          ]
        }
      ]
    },
    {
      "cell_type": "code",
      "source": [
        "os.listdir('20_3_files')"
      ],
      "metadata": {
        "id": "YUMkNlr9syku"
      },
      "execution_count": null,
      "outputs": []
    },
    {
      "cell_type": "code",
      "source": [
        "stp = pd.read_csv('20_3_files/SwissTargetPrediction.csv', sep=',')\n",
        "stp"
      ],
      "metadata": {
        "id": "S7OuLATas1Bk"
      },
      "execution_count": null,
      "outputs": []
    },
    {
      "cell_type": "code",
      "source": [
        "stp.describe()"
      ],
      "metadata": {
        "id": "UhToUD2Ns385"
      },
      "execution_count": null,
      "outputs": []
    },
    {
      "cell_type": "code",
      "source": [
        "pd.set_option('display.max_rows', None)"
      ],
      "metadata": {
        "id": "I7UgUwW5s6aK"
      },
      "execution_count": null,
      "outputs": []
    },
    {
      "cell_type": "code",
      "source": [
        "stp['Target'].value_counts()"
      ],
      "metadata": {
        "id": "s-TU72Kks8pU"
      },
      "execution_count": null,
      "outputs": []
    },
    {
      "cell_type": "code",
      "source": [
        "stp['Target Class'].value_counts()"
      ],
      "metadata": {
        "id": "51eLK14-s-gr"
      },
      "execution_count": null,
      "outputs": []
    },
    {
      "cell_type": "code",
      "source": [
        "stp.sort_values(by='Target Class')"
      ],
      "metadata": {
        "id": "bh1Ji_QotDBo"
      },
      "execution_count": null,
      "outputs": []
    },
    {
      "cell_type": "markdown",
      "source": [
        "Результаты Super-PRED"
      ],
      "metadata": {
        "id": "YAEAue8stJnM"
      }
    },
    {
      "cell_type": "code",
      "source": [
        "sp_trg = pd.read_csv('20_3_files/Targets.csv', sep=',')\n",
        "sp_trg"
      ],
      "metadata": {
        "id": "RNYWcX3rtI9B"
      },
      "execution_count": null,
      "outputs": []
    },
    {
      "cell_type": "code",
      "source": [
        "sp_trg.describe()"
      ],
      "metadata": {
        "id": "OnBxvtoftMe3"
      },
      "execution_count": null,
      "outputs": []
    },
    {
      "cell_type": "code",
      "source": [
        "sp_ind = pd.read_csv('20_3_files/Indications.csv', sep=',')\n",
        "sp_ind"
      ],
      "metadata": {
        "id": "r9ABNqrqtQ7O"
      },
      "execution_count": null,
      "outputs": []
    },
    {
      "cell_type": "code",
      "source": [
        "sp_ind.describe()"
      ],
      "metadata": {
        "id": "4Lbs1GPctVO-"
      },
      "execution_count": null,
      "outputs": []
    },
    {
      "cell_type": "code",
      "source": [
        "sp_ind['Target Name'].value_counts()"
      ],
      "metadata": {
        "id": "j4e7SHaqta4X"
      },
      "execution_count": null,
      "outputs": []
    },
    {
      "cell_type": "markdown",
      "source": [
        "В модели \"Показания предсказанных мишеней\" наиболее часто (n=33 из 460) встречаются рецептор тромбоцитарного фактора роста (PDGFR) и серин-треониновая протеинкиназа мишень Рапамицина млекопитающих (mTOR). Оба белка участвуют во внутриклеточных сигнальных путях при различных видах рака. В качестве наиболее вероятной (Probability=91,51%%; Model accuracy=98,95%) указана мишень Катепсин D, относящаяся к лизосомальным аспартил протеазам."
      ],
      "metadata": {
        "id": "0nBiiY2qtofX"
      }
    }
  ]
}