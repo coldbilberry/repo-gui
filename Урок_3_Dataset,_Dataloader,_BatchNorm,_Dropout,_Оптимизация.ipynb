{
  "nbformat": 4,
  "nbformat_minor": 0,
  "metadata": {
    "colab": {
      "provenance": [],
      "authorship_tag": "ABX9TyPvcaSYUHIdirWqPH2qJ+LL",
      "include_colab_link": true
    },
    "kernelspec": {
      "name": "python3",
      "display_name": "Python 3"
    },
    "language_info": {
      "name": "python"
    }
  },
  "cells": [
    {
      "cell_type": "markdown",
      "metadata": {
        "id": "view-in-github",
        "colab_type": "text"
      },
      "source": [
        "<a href=\"https://colab.research.google.com/github/coldbilberry/repo-gui/blob/main/%D0%A3%D1%80%D0%BE%D0%BA_3_Dataset%2C_Dataloader%2C_BatchNorm%2C_Dropout%2C_%D0%9E%D0%BF%D1%82%D0%B8%D0%BC%D0%B8%D0%B7%D0%B0%D1%86%D0%B8%D1%8F.ipynb\" target=\"_parent\"><img src=\"https://colab.research.google.com/assets/colab-badge.svg\" alt=\"Open In Colab\"/></a>"
      ]
    },
    {
      "cell_type": "code",
      "execution_count": 67,
      "metadata": {
        "id": "iE8P-6LAaI7k"
      },
      "outputs": [],
      "source": [
        "import numpy as np\n",
        "import pandas as pd\n",
        "import matplotlib.pyplot as plt\n",
        "\n",
        "import torch\n",
        "import torch.nn as nn\n",
        "from torch.utils.data import Dataset, DataLoader\n",
        "\n",
        "from sklearn import preprocessing\n",
        "from sklearn.model_selection import train_test_split\n",
        "\n",
        "import datetime as dt\n",
        "from scipy import stats"
      ]
    },
    {
      "cell_type": "code",
      "source": [
        "from sklearn.datasets import fetch_california_housing\n",
        "\n",
        "california_housing = fetch_california_housing(as_frame = True)"
      ],
      "metadata": {
        "id": "QYfIfZu70h5K"
      },
      "execution_count": 68,
      "outputs": []
    },
    {
      "cell_type": "code",
      "source": [
        "rng = np.random.RandomState(0)\n",
        "indices = rng.choice(np.arange(california_housing.frame.shape[0]), size = 500,\n",
        "                     replace = False)\n",
        "columns_drop = ['Longitude', 'Latitude']\n",
        "df = california_housing.frame.iloc[indices].drop(columns = columns_drop)\n",
        "train_y = df['MedHouseVal'].values\n",
        "df = df.drop(['MedHouseVal'], axis = 1)"
      ],
      "metadata": {
        "id": "8m2Dapcp70ei"
      },
      "execution_count": 69,
      "outputs": []
    },
    {
      "cell_type": "code",
      "source": [
        "df.head()"
      ],
      "metadata": {
        "colab": {
          "base_uri": "https://localhost:8080/",
          "height": 204
        },
        "id": "kpA-PdOAB-7M",
        "outputId": "923e8cd0-a986-40d3-aa65-202502eec517"
      },
      "execution_count": 70,
      "outputs": [
        {
          "output_type": "execute_result",
          "data": {
            "text/plain": [
              "       MedInc  HouseAge  AveRooms  AveBedrms  Population  AveOccup\n",
              "14740  4.1518      22.0  5.663073   1.075472      1551.0  4.180593\n",
              "10101  5.7796      32.0  6.107226   0.927739      1296.0  3.020979\n",
              "20566  4.3487      29.0  5.930712   1.026217      1554.0  2.910112\n",
              "2670   2.4511      37.0  4.992958   1.316901       390.0  2.746479\n",
              "15709  5.0049      25.0  4.319261   1.039578       649.0  1.712401"
            ],
            "text/html": [
              "\n",
              "\n",
              "  <div id=\"df-81756de2-180e-4979-a647-2cf6112237d5\">\n",
              "    <div class=\"colab-df-container\">\n",
              "      <div>\n",
              "<style scoped>\n",
              "    .dataframe tbody tr th:only-of-type {\n",
              "        vertical-align: middle;\n",
              "    }\n",
              "\n",
              "    .dataframe tbody tr th {\n",
              "        vertical-align: top;\n",
              "    }\n",
              "\n",
              "    .dataframe thead th {\n",
              "        text-align: right;\n",
              "    }\n",
              "</style>\n",
              "<table border=\"1\" class=\"dataframe\">\n",
              "  <thead>\n",
              "    <tr style=\"text-align: right;\">\n",
              "      <th></th>\n",
              "      <th>MedInc</th>\n",
              "      <th>HouseAge</th>\n",
              "      <th>AveRooms</th>\n",
              "      <th>AveBedrms</th>\n",
              "      <th>Population</th>\n",
              "      <th>AveOccup</th>\n",
              "    </tr>\n",
              "  </thead>\n",
              "  <tbody>\n",
              "    <tr>\n",
              "      <th>14740</th>\n",
              "      <td>4.1518</td>\n",
              "      <td>22.0</td>\n",
              "      <td>5.663073</td>\n",
              "      <td>1.075472</td>\n",
              "      <td>1551.0</td>\n",
              "      <td>4.180593</td>\n",
              "    </tr>\n",
              "    <tr>\n",
              "      <th>10101</th>\n",
              "      <td>5.7796</td>\n",
              "      <td>32.0</td>\n",
              "      <td>6.107226</td>\n",
              "      <td>0.927739</td>\n",
              "      <td>1296.0</td>\n",
              "      <td>3.020979</td>\n",
              "    </tr>\n",
              "    <tr>\n",
              "      <th>20566</th>\n",
              "      <td>4.3487</td>\n",
              "      <td>29.0</td>\n",
              "      <td>5.930712</td>\n",
              "      <td>1.026217</td>\n",
              "      <td>1554.0</td>\n",
              "      <td>2.910112</td>\n",
              "    </tr>\n",
              "    <tr>\n",
              "      <th>2670</th>\n",
              "      <td>2.4511</td>\n",
              "      <td>37.0</td>\n",
              "      <td>4.992958</td>\n",
              "      <td>1.316901</td>\n",
              "      <td>390.0</td>\n",
              "      <td>2.746479</td>\n",
              "    </tr>\n",
              "    <tr>\n",
              "      <th>15709</th>\n",
              "      <td>5.0049</td>\n",
              "      <td>25.0</td>\n",
              "      <td>4.319261</td>\n",
              "      <td>1.039578</td>\n",
              "      <td>649.0</td>\n",
              "      <td>1.712401</td>\n",
              "    </tr>\n",
              "  </tbody>\n",
              "</table>\n",
              "</div>\n",
              "      <button class=\"colab-df-convert\" onclick=\"convertToInteractive('df-81756de2-180e-4979-a647-2cf6112237d5')\"\n",
              "              title=\"Convert this dataframe to an interactive table.\"\n",
              "              style=\"display:none;\">\n",
              "\n",
              "  <svg xmlns=\"http://www.w3.org/2000/svg\" height=\"24px\"viewBox=\"0 0 24 24\"\n",
              "       width=\"24px\">\n",
              "    <path d=\"M0 0h24v24H0V0z\" fill=\"none\"/>\n",
              "    <path d=\"M18.56 5.44l.94 2.06.94-2.06 2.06-.94-2.06-.94-.94-2.06-.94 2.06-2.06.94zm-11 1L8.5 8.5l.94-2.06 2.06-.94-2.06-.94L8.5 2.5l-.94 2.06-2.06.94zm10 10l.94 2.06.94-2.06 2.06-.94-2.06-.94-.94-2.06-.94 2.06-2.06.94z\"/><path d=\"M17.41 7.96l-1.37-1.37c-.4-.4-.92-.59-1.43-.59-.52 0-1.04.2-1.43.59L10.3 9.45l-7.72 7.72c-.78.78-.78 2.05 0 2.83L4 21.41c.39.39.9.59 1.41.59.51 0 1.02-.2 1.41-.59l7.78-7.78 2.81-2.81c.8-.78.8-2.07 0-2.86zM5.41 20L4 18.59l7.72-7.72 1.47 1.35L5.41 20z\"/>\n",
              "  </svg>\n",
              "      </button>\n",
              "\n",
              "\n",
              "\n",
              "    <div id=\"df-6428e217-3f86-4ecb-9236-bfb62fc29a2d\">\n",
              "      <button class=\"colab-df-quickchart\" onclick=\"quickchart('df-6428e217-3f86-4ecb-9236-bfb62fc29a2d')\"\n",
              "              title=\"Suggest charts.\"\n",
              "              style=\"display:none;\">\n",
              "\n",
              "<svg xmlns=\"http://www.w3.org/2000/svg\" height=\"24px\"viewBox=\"0 0 24 24\"\n",
              "     width=\"24px\">\n",
              "    <g>\n",
              "        <path d=\"M19 3H5c-1.1 0-2 .9-2 2v14c0 1.1.9 2 2 2h14c1.1 0 2-.9 2-2V5c0-1.1-.9-2-2-2zM9 17H7v-7h2v7zm4 0h-2V7h2v10zm4 0h-2v-4h2v4z\"/>\n",
              "    </g>\n",
              "</svg>\n",
              "      </button>\n",
              "    </div>\n",
              "\n",
              "<style>\n",
              "  .colab-df-quickchart {\n",
              "    background-color: #E8F0FE;\n",
              "    border: none;\n",
              "    border-radius: 50%;\n",
              "    cursor: pointer;\n",
              "    display: none;\n",
              "    fill: #1967D2;\n",
              "    height: 32px;\n",
              "    padding: 0 0 0 0;\n",
              "    width: 32px;\n",
              "  }\n",
              "\n",
              "  .colab-df-quickchart:hover {\n",
              "    background-color: #E2EBFA;\n",
              "    box-shadow: 0px 1px 2px rgba(60, 64, 67, 0.3), 0px 1px 3px 1px rgba(60, 64, 67, 0.15);\n",
              "    fill: #174EA6;\n",
              "  }\n",
              "\n",
              "  [theme=dark] .colab-df-quickchart {\n",
              "    background-color: #3B4455;\n",
              "    fill: #D2E3FC;\n",
              "  }\n",
              "\n",
              "  [theme=dark] .colab-df-quickchart:hover {\n",
              "    background-color: #434B5C;\n",
              "    box-shadow: 0px 1px 3px 1px rgba(0, 0, 0, 0.15);\n",
              "    filter: drop-shadow(0px 1px 2px rgba(0, 0, 0, 0.3));\n",
              "    fill: #FFFFFF;\n",
              "  }\n",
              "</style>\n",
              "\n",
              "    <script>\n",
              "      async function quickchart(key) {\n",
              "        const containerElement = document.querySelector('#' + key);\n",
              "        const charts = await google.colab.kernel.invokeFunction(\n",
              "            'suggestCharts', [key], {});\n",
              "      }\n",
              "    </script>\n",
              "\n",
              "      <script>\n",
              "\n",
              "function displayQuickchartButton(domScope) {\n",
              "  let quickchartButtonEl =\n",
              "    domScope.querySelector('#df-6428e217-3f86-4ecb-9236-bfb62fc29a2d button.colab-df-quickchart');\n",
              "  quickchartButtonEl.style.display =\n",
              "    google.colab.kernel.accessAllowed ? 'block' : 'none';\n",
              "}\n",
              "\n",
              "        displayQuickchartButton(document);\n",
              "      </script>\n",
              "      <style>\n",
              "    .colab-df-container {\n",
              "      display:flex;\n",
              "      flex-wrap:wrap;\n",
              "      gap: 12px;\n",
              "    }\n",
              "\n",
              "    .colab-df-convert {\n",
              "      background-color: #E8F0FE;\n",
              "      border: none;\n",
              "      border-radius: 50%;\n",
              "      cursor: pointer;\n",
              "      display: none;\n",
              "      fill: #1967D2;\n",
              "      height: 32px;\n",
              "      padding: 0 0 0 0;\n",
              "      width: 32px;\n",
              "    }\n",
              "\n",
              "    .colab-df-convert:hover {\n",
              "      background-color: #E2EBFA;\n",
              "      box-shadow: 0px 1px 2px rgba(60, 64, 67, 0.3), 0px 1px 3px 1px rgba(60, 64, 67, 0.15);\n",
              "      fill: #174EA6;\n",
              "    }\n",
              "\n",
              "    [theme=dark] .colab-df-convert {\n",
              "      background-color: #3B4455;\n",
              "      fill: #D2E3FC;\n",
              "    }\n",
              "\n",
              "    [theme=dark] .colab-df-convert:hover {\n",
              "      background-color: #434B5C;\n",
              "      box-shadow: 0px 1px 3px 1px rgba(0, 0, 0, 0.15);\n",
              "      filter: drop-shadow(0px 1px 2px rgba(0, 0, 0, 0.3));\n",
              "      fill: #FFFFFF;\n",
              "    }\n",
              "  </style>\n",
              "\n",
              "      <script>\n",
              "        const buttonEl =\n",
              "          document.querySelector('#df-81756de2-180e-4979-a647-2cf6112237d5 button.colab-df-convert');\n",
              "        buttonEl.style.display =\n",
              "          google.colab.kernel.accessAllowed ? 'block' : 'none';\n",
              "\n",
              "        async function convertToInteractive(key) {\n",
              "          const element = document.querySelector('#df-81756de2-180e-4979-a647-2cf6112237d5');\n",
              "          const dataTable =\n",
              "            await google.colab.kernel.invokeFunction('convertToInteractive',\n",
              "                                                     [key], {});\n",
              "          if (!dataTable) return;\n",
              "\n",
              "          const docLinkHtml = 'Like what you see? Visit the ' +\n",
              "            '<a target=\"_blank\" href=https://colab.research.google.com/notebooks/data_table.ipynb>data table notebook</a>'\n",
              "            + ' to learn more about interactive tables.';\n",
              "          element.innerHTML = '';\n",
              "          dataTable['output_type'] = 'display_data';\n",
              "          await google.colab.output.renderOutput(dataTable, element);\n",
              "          const docLink = document.createElement('div');\n",
              "          docLink.innerHTML = docLinkHtml;\n",
              "          element.appendChild(docLink);\n",
              "        }\n",
              "      </script>\n",
              "    </div>\n",
              "  </div>\n"
            ]
          },
          "metadata": {},
          "execution_count": 70
        }
      ]
    },
    {
      "cell_type": "code",
      "source": [
        "df.info"
      ],
      "metadata": {
        "colab": {
          "base_uri": "https://localhost:8080/"
        },
        "id": "veLLz6ePCFEF",
        "outputId": "1a54370f-fc9a-4521-fd7c-946d69c358e6"
      },
      "execution_count": 71,
      "outputs": [
        {
          "output_type": "execute_result",
          "data": {
            "text/plain": [
              "<bound method DataFrame.info of        MedInc  HouseAge  AveRooms  AveBedrms  Population  AveOccup\n",
              "14740  4.1518      22.0  5.663073   1.075472      1551.0  4.180593\n",
              "10101  5.7796      32.0  6.107226   0.927739      1296.0  3.020979\n",
              "20566  4.3487      29.0  5.930712   1.026217      1554.0  2.910112\n",
              "2670   2.4511      37.0  4.992958   1.316901       390.0  2.746479\n",
              "15709  5.0049      25.0  4.319261   1.039578       649.0  1.712401\n",
              "...       ...       ...       ...        ...         ...       ...\n",
              "11807  3.0321      21.0  4.731083   1.013970      1847.0  2.150175\n",
              "2594   2.5667      12.0  4.764840   0.968037      1603.0  3.659817\n",
              "9609   1.7600      29.0  3.664336   1.062937      1697.0  3.955711\n",
              "13527  1.8750      30.0  5.668950   1.308219      1172.0  2.675799\n",
              "3263   2.2188      20.0  5.739796   1.178571       521.0  2.658163\n",
              "\n",
              "[500 rows x 6 columns]>"
            ]
          },
          "metadata": {},
          "execution_count": 71
        }
      ]
    },
    {
      "cell_type": "code",
      "source": [
        "X_train, X_test, y_train, y_test = train_test_split(df, train_y, test_size = 0.25, random_state = 13)"
      ],
      "metadata": {
        "id": "mFjnPKc9Ci5v"
      },
      "execution_count": 50,
      "outputs": []
    },
    {
      "cell_type": "code",
      "source": [
        "class MyDataset(torch.utils.data.Dataset):\n",
        "\n",
        "  def __init__(self, X, y):\n",
        "    self.X = torch.Tensor(X)\n",
        "    self.y = torch.from_numpy(y).float()\n",
        "\n",
        "  def __len__(self):\n",
        "    return self.X.shape[0]\n",
        "\n",
        "  def __getitem__(self, index):\n",
        "    return(self.X[index], self.y[index])\n",
        "\n",
        "class Perceptron(nn.Module):\n",
        "\n",
        "  def __init__(self, input_dim, output_dim, activation = \"relu\"):\n",
        "    super(Perceptron, self).__init__()\n",
        "    self.fc = nn.Linear(input_dim, output_dim)\n",
        "    self.activation = activation\n",
        "\n",
        "  def forward(self, x):\n",
        "    x = self.fc(x)\n",
        "    if self.activation == \"relu\":\n",
        "      return torch.relu(x)\n",
        "    if self.activation == \"sigmoid\":\n",
        "      return torch.sigmoid(x)\n",
        "    raise RuntimeError\n"
      ],
      "metadata": {
        "id": "a5PZfzNREtKY"
      },
      "execution_count": 64,
      "outputs": []
    },
    {
      "cell_type": "code",
      "source": [
        "class FeedForward(nn.Module):\n",
        "  def __init__(self, input_dim, hidden_dim):\n",
        "    super(FeedForward, self).__init__()\n",
        "    self.bn1 = nn.BatchNorm1d(input_dim)\n",
        "    self.fc1 = Perceptron(input_dim, hidden_dim)\n",
        "    self.bn2 = nn.BathNorm1d(hidden_dim)\n",
        "    self.dp = nn.Dropout(0.25)\n",
        "    self.fc2 = Perceptron(hidden_dim, 1, \"sigmoid\")\n",
        "\n",
        "  def forward(self, x):\n",
        "    x = self.bn1(x)\n",
        "    x = self.fc1(x)\n",
        "    x = self.dp(x)\n",
        "    x = self.fc2(x)\n",
        "    return x.view(-1)"
      ],
      "metadata": {
        "id": "bwx2JUnNMd1Q"
      },
      "execution_count": 72,
      "outputs": []
    },
    {
      "cell_type": "code",
      "source": [
        "net = FeedForward(len(X_train[0]), 50)"
      ],
      "metadata": {
        "id": "lfBMFZI-o59I"
      },
      "execution_count": null,
      "outputs": []
    },
    {
      "cell_type": "code",
      "source": [],
      "metadata": {
        "id": "zdcsTWkD-hOi"
      },
      "execution_count": null,
      "outputs": []
    },
    {
      "cell_type": "code",
      "source": [
        "from os import sched_getscheduler\n",
        "class Trainer():\n",
        "\n",
        "  def __init__(self, dataset, net, loss_f, learning_rate=1e-3,\n",
        "               epoch_amount=10, batch_size=12,\n",
        "               max_batches_per_epoch=None,\n",
        "               device='cpu', early_stopping=10,\n",
        "               optim=torch.optim.Adam,\n",
        "               sheduler=None, permutate=True):\n",
        "\n",
        "    self.loss_f = loss_f\n",
        "    self.learning_rate = learning_rate\n",
        "    self.epoch_amount = epoch_amount\n",
        "    self.batch_size = batch_size\n",
        "    self.max_batches_per_epoch = max.max_batches_per_epoch\n",
        "    self.device = device\n",
        "    self.early_stopping = early_stopping\n",
        "    self.optim = optim\n",
        "    self.scheduler = scheduler\n",
        "    self.permutate = permutate\n",
        "    self.dataset = dataset\n",
        "    self.start_model = net\n",
        "    self.best_model = net\n",
        "\n",
        "    self.train_loss = []\n",
        "    self.val_loss = []\n",
        "\n",
        "  def predict(self, X):\n",
        "    return self.best_model(X)\n",
        "\n",
        "  def fit(self, X_train, X_test, y_train, y_test):\n",
        "\n",
        "    Net = self.start_model\n",
        "\n",
        "    device = torch.device(self.device)\n",
        "\n",
        "    Net.to(self.device)\n",
        "\n",
        "    optimizer = self.optim(Net.parameters(), lr=self.learning_rate)\n",
        "\n",
        "    if self.shceduler is not None:\n",
        "      scheduler = self.scheduler(optimizer)\n",
        "\n",
        "    train = self.dataset(X_train, y_train)\n",
        "    val = self.dataset(X_test, y_test)\n",
        "\n",
        "    train = DataLoader(train, batch_size=self.batch_size, shuffle=self.permutate)\n",
        "    val = DataLoader(val, batch_size=self.batch_size, shuffle=False)\n",
        "\n",
        "    best_val_loss = float('inf')\n",
        "    best_ep = 0\n",
        "\n",
        "    for epoch in range(self.epoch_amount):\n",
        "      start = dt.datetime.now()\n",
        "      print(f'Эпоха: {epoch}', end='')\n",
        "      Net.train()\n",
        "      mean_loss = 0\n",
        "      batch_n = 0\n",
        "\n",
        "      for batch_X, target in train:\n",
        "        if self.max_batches_per_epoch is not None:\n",
        "          if batch_n >= self.max_batches_per_epoch:\n",
        "            break\n",
        "        optimizer.zero_grad()\n",
        "\n",
        "        batch_X = batch_X.to(self.device)\n",
        "        target = target.to(self.device)\n",
        "\n",
        "        predicted_values = Net(batch_X)\n",
        "        loss = self.loss_f(predicted_values, target)\n",
        "        loss.backward()\n",
        "        optimizer.step()\n",
        "\n",
        "        mean_loss += float(loss)\n",
        "        batch_n += 1\n",
        "\n",
        "      mean_loss /= batch_n\n",
        "      self.train_loss.append(mean_loss)\n",
        "      print(f'Loss_train: {mean_loss}, {dt.datetime.now() - start} cек')\n",
        "\n",
        "      Net.eval()\n",
        "      mean_loss = 0\n",
        "      batch_n = 0\n",
        "\n",
        "      with torch.no_grad():\n",
        "        for batch_X, target in val:\n",
        "          if self.max_batches_per_epoch is not None:\n",
        "            if batch_n >= self.max_batches_per_epoch:\n",
        "              break\n",
        "        batch_X = batch_X.to(self.device)\n",
        "        target = target.to(self.device)\n",
        "\n",
        "        predicted_values = Net(batch_X)\n",
        "        loss = self.loss_f(predicted_values, target)\n",
        "\n",
        "        mean_loss += float(loss)\n",
        "        batch_n += 1\n",
        "\n",
        "      mean_loss /= batch_n\n",
        "      self.val_loss.append(mean_loss)\n",
        "      print(f'Loss_val: {mean_loss}')\n",
        "\n",
        "      if mean_loss < best_val_loss:\n",
        "        self.best_model = Net\n",
        "        best_val_loss = mean_loss\n",
        "        best_ep = epoch\n",
        "      elif epoch - best_ep > self.early_stopping:\n",
        "        print(f'{self.early_stopping} без улучшений. Прекращаем обучение...')\n",
        "        break\n",
        "      if self.scheduler is not None:\n",
        "        scheduler.step()\n",
        "      print()"
      ],
      "metadata": {
        "id": "kz6YpvgcTKR6"
      },
      "execution_count": 42,
      "outputs": []
    },
    {
      "cell_type": "code",
      "source": [
        "class RMSELoss(nn.Module):\n",
        "  def __init__(self):\n",
        "    super().__init__()\n",
        "    self.mse = nn.MSELoss()\n",
        "\n",
        "  def forward(self, yhat, y):\n",
        "    return torch.sqrt(self.mse(yhat, y))"
      ],
      "metadata": {
        "id": "-721ueTj5awj"
      },
      "execution_count": 43,
      "outputs": []
    },
    {
      "cell_type": "code",
      "source": [
        "params = {\n",
        "    'dataset': MyDataset,\n",
        "    'net': net,\n",
        "    'batch_size': 1000,\n",
        "    'epoch_amount': 100,\n",
        "    'learning_rate': 1e-2,\n",
        "    'early_stopping': 10,\n",
        "    'loss_f': RMSELoss(),\n",
        "    'optim': torch.optim.SGD,\n",
        "}"
      ],
      "metadata": {
        "id": "G-Tbh_bS6LTQ"
      },
      "execution_count": null,
      "outputs": []
    },
    {
      "cell_type": "code",
      "source": [
        "clf = Trainer(**params)\n",
        "clf.fit(X_train, X_test, y_train, y_test)"
      ],
      "metadata": {
        "id": "6jJgiUlZ-pnl"
      },
      "execution_count": null,
      "outputs": []
    },
    {
      "cell_type": "code",
      "source": [
        "from torch.optim.adam import Adam\n",
        "net1 = FeedForward(len(X_train[0]), 50)\n",
        "\n",
        "params = {\n",
        "    'dataset': MyDataset,\n",
        "    'net': net1,\n",
        "    'batch_size': 1000,\n",
        "    'epoch_amount': 100,\n",
        "    'learning_rate': 1e-2,\n",
        "    'early_stopping': 10,\n",
        "    'loss_f': RMSELoss(),\n",
        "    'optim': torch.optim.Adam,\n",
        "}\n",
        "\n",
        "clf1 = Trainer(**params)\n",
        "clf1.fit(X_train, X_test, y_train, y_test)"
      ],
      "metadata": {
        "id": "gh57ZynY_HrJ"
      },
      "execution_count": null,
      "outputs": []
    },
    {
      "cell_type": "code",
      "source": [
        "net2 = FeedForward(len(X_train[0]), 50)\n",
        "\n",
        "params = {\n",
        "    'dataset': MyDataset,\n",
        "    'net': net1,\n",
        "    'batch_size': 1000,\n",
        "    'epoch_amount': 1000,\n",
        "    'learning_rate': 1e-2,\n",
        "    'early_stopping': 10,\n",
        "    'loss_f': RMSELoss(),\n",
        "    'optim':torch.optim.RMSprop,\n",
        "}\n",
        "\n",
        "clf2 = Trainer(**params)\n",
        "clf2.fit(X_train, X_test, y_train, y_test)"
      ],
      "metadata": {
        "id": "jALEZ9J1DVQN"
      },
      "execution_count": null,
      "outputs": []
    },
    {
      "cell_type": "markdown",
      "source": [
        "Операторы показывают примерно равную эффективность"
      ],
      "metadata": {
        "id": "ZRFPRGBCE7qU"
      }
    }
  ]
}