{
  "nbformat": 4,
  "nbformat_minor": 0,
  "metadata": {
    "colab": {
      "provenance": [],
      "authorship_tag": "ABX9TyN/WTG0/iO97g9B3fMOG47I",
      "include_colab_link": true
    },
    "kernelspec": {
      "name": "python3",
      "display_name": "Python 3"
    },
    "language_info": {
      "name": "python"
    }
  },
  "cells": [
    {
      "cell_type": "markdown",
      "metadata": {
        "id": "view-in-github",
        "colab_type": "text"
      },
      "source": [
        "<a href=\"https://colab.research.google.com/github/coldbilberry/repo-gui/blob/main/%D0%A3%D1%80%D0%BE%D0%BA_3_%D0%9F%D0%BE%D1%81%D1%82%D1%80%D0%BE%D0%B5%D0%BD%D0%B8%D0%B5_%D0%BC%D0%BE%D0%B4%D0%B5%D0%BB%D0%B8_%D0%BA%D0%BB%D0%B0%D1%81%D1%81%D0%B8%D1%84%D0%B8%D0%BA%D0%B0%D1%86%D0%B8%D0%B8.ipynb\" target=\"_parent\"><img src=\"https://colab.research.google.com/assets/colab-badge.svg\" alt=\"Open In Colab\"/></a>"
      ]
    },
    {
      "cell_type": "markdown",
      "source": [
        "1. Для чего и в каких случаях полезны различные варианты усреднения для метрик качества классификации: micro, macro, weighted?"
      ],
      "metadata": {
        "id": "PvGAYTnBTGmK"
      }
    },
    {
      "cell_type": "markdown",
      "source": [
        "Ответ:\n",
        "\n",
        "1. micro вычисляет метрику глобально по всем объектам, не учитывает разбалансировку классов\n",
        "\n",
        "2. macro вычисляет метрику для каждого объекта и потом находит их невзвешенное срежнее, не учитывает разбалансировку классов\n",
        "\n",
        "3. weighted делает то же самое что и macro, но дополнительно учитывает диcбаланс классов"
      ],
      "metadata": {
        "id": "2xRyJtD5TQQN"
      }
    },
    {
      "cell_type": "markdown",
      "source": [
        "2. В чём разница между моделями xgboost, lightgbm и catboost или какие их основные особенности?"
      ],
      "metadata": {
        "id": "TzcuyygATbVu"
      }
    },
    {
      "cell_type": "markdown",
      "source": [
        "Ответ:\n",
        "\n",
        "1) LightGBM использует технику односторонней выборки на основе градиента (GOSS) для фильтрации экземпляров данных для нахождения значения разделения.\n",
        "\n",
        "2) XGBoost использует предварительную сортировку и с помощью алгоритма на базе гистограммы вычисляет наилучшие разделения.\n",
        "\n",
        "3) CatBoost обладает гибкостью, позволяя задавать индексы категориальных столбцов, есть динамический интерфейс.\n",
        "\n",
        "4) LightGBM также может обрабатывать категориальные признаки, но перед построением набора данных для LGBM необходимо преобразовать категориальные признаки в тип int.\n",
        "\n",
        "5) XGBoost не может обрабатывать категориальные функции сам по себе, он принимает только числовые значения, подобные случайному лесу. Поэтому перед подачей категориальных данных в XGBoost необходимо выполнить различные кодировки, такие как кодирование меток, среднее кодирование или однократное кодирование."
      ],
      "metadata": {
        "id": "3N76kHuxTgcn"
      }
    }
  ]
}