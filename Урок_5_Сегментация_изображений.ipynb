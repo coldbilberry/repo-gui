{
  "nbformat": 4,
  "nbformat_minor": 0,
  "metadata": {
    "colab": {
      "provenance": [],
      "authorship_tag": "ABX9TyMLN3HlqjJ4/28GwvX6KiB4",
      "include_colab_link": true
    },
    "kernelspec": {
      "name": "python3",
      "display_name": "Python 3"
    },
    "language_info": {
      "name": "python"
    }
  },
  "cells": [
    {
      "cell_type": "markdown",
      "metadata": {
        "id": "view-in-github",
        "colab_type": "text"
      },
      "source": [
        "<a href=\"https://colab.research.google.com/github/coldbilberry/repo-gui/blob/main/%D0%A3%D1%80%D0%BE%D0%BA_5_%D0%A1%D0%B5%D0%B3%D0%BC%D0%B5%D0%BD%D1%82%D0%B0%D1%86%D0%B8%D1%8F_%D0%B8%D0%B7%D0%BE%D0%B1%D1%80%D0%B0%D0%B6%D0%B5%D0%BD%D0%B8%D0%B9.ipynb\" target=\"_parent\"><img src=\"https://colab.research.google.com/assets/colab-badge.svg\" alt=\"Open In Colab\"/></a>"
      ]
    },
    {
      "cell_type": "code",
      "execution_count": 1,
      "metadata": {
        "id": "3jTEPu_eoG49"
      },
      "outputs": [],
      "source": [
        "import numpy as np\n",
        "import pandas as pd\n",
        "import os\n",
        "import cv2\n",
        "import matplotlib.pyplot as plt\n",
        "import torch\n",
        "from torch import nn\n",
        "from torch.utils.data import Dataset, DataLoader\n",
        "\n",
        "import torchvision.transforms as transforms\n",
        "\n",
        "from PIL import Image\n",
        "from torch.nn import functional as F\n",
        "\n",
        "from sklearn.model_selection import train_test_split"
      ]
    },
    {
      "cell_type": "code",
      "source": [
        "from google.colab import drive\n",
        "drive.mount('/content/drive')"
      ],
      "metadata": {
        "colab": {
          "base_uri": "https://localhost:8080/"
        },
        "id": "IHGthC3ttqmO",
        "outputId": "0bb4f8f7-bb00-4d09-a69e-57cb6db83140"
      },
      "execution_count": 2,
      "outputs": [
        {
          "output_type": "stream",
          "name": "stdout",
          "text": [
            "Mounted at /content/drive\n"
          ]
        }
      ]
    },
    {
      "cell_type": "code",
      "source": [
        "csv_path = '/content/drive/My\\ Drive/set-lipstick-original/list.csv'\n",
        "img_path = '/content/drive/My\\ Drive/set-lipstick-original/720p/'\n",
        "mask_path = '/content/drive/My\\ Drive/set-lipstick-original/mask/'"
      ],
      "metadata": {
        "id": "DhPCM7fgvdrN"
      },
      "execution_count": 3,
      "outputs": []
    },
    {
      "cell_type": "code",
      "source": [
        "class CustomDatasetFromImages(Dataset):\n",
        "    def __init__(self, data_info: pd.DataFrame, img_path, mask_path, transform=None):\n",
        "        self.data_info = data_info\n",
        "        self.data_info['filename'] = self.data_info['filename'].apply(lambda f: os.path.join(img_path, f) if os.path.exists(os.path.join(img_path, f)) else np.NaN)\n",
        "        self.data_info['mask'] = self.data_info['mask'].apply(lambda f: os.path.join(mask_path, f) if os.path.join(mask_path, f) else np.NaN)\n",
        "        self.data_info.dropna(axis=0, inplace=True)\n",
        "\n",
        "        self.img_path = [os.path.join(img_path, image_id) for image_id in sorted(os.listdir(img_path))]\n",
        "        self.mask_path = [os.path.join(mask_path, image_id) for image_id in sorted(os.listdir(mask_path))]\n",
        "        self.data_len = len(self.data_info)\n",
        "        self.transform = transform\n",
        "\n",
        "    def __getitem__(self, index):\n",
        "\n",
        "        # read images and masks\n",
        "        image = cv2.cvtColor(cv2.imread(str(self.data_info.iloc[index]['filename'])), cv2.COLOR_BGR2RGB)\n",
        "        mask = cv2.cvtColor(cv2.imread(str(self.data_info.iloc[index]['mask'])), cv2.COLOR_BGR2RGB)\n",
        "\n",
        "        image = cv2.resize(image, (256, 256))\n",
        "        mask = cv2.resize(mask, (256, 256))\n",
        "        mask = mask / 255\n",
        "\n",
        "        image = image.astype('float32')\n",
        "        mask = mask.astype('float32')\n",
        "\n",
        "        if self.transform:\n",
        "            image, mask = self.transform(image, mask)\n",
        "\n",
        "        return transforms.ToTensor()(image.astype('float32')), transforms.ToTensor()(mask.astype('float32'))\n",
        "\n",
        "    def __len__(self):\n",
        "        return self.data_len"
      ],
      "metadata": {
        "id": "Z1LRb65HxEaY"
      },
      "execution_count": 4,
      "outputs": []
    },
    {
      "cell_type": "code",
      "source": [
        "X_train, X_test = train_test_split(df,test_size=0.3)\n",
        "\n",
        "X_train.reset_index(drop=True,inplace=True)\n",
        "X_test.reset_index(drop=True,inplace=True)\n",
        "\n",
        "train_data = CustomDatasetFromImages(X_train,img_path,mask_path)\n",
        "test_data = CustomDatasetFromImages(X_test,img_path,mask_path)"
      ],
      "metadata": {
        "id": "4IfXZZOcxHto"
      },
      "execution_count": null,
      "outputs": []
    },
    {
      "cell_type": "code",
      "source": [
        "train_data_loader = DataLoader(train_data,batch_size=1,shuffle = True)\n",
        "test_data_loader = DataLoader(test_data,batch_size=1,shuffle = False)\n",
        "\n",
        "for img, mask in train_data_loader:\n",
        "    print(img.shape)\n",
        "    print(mask.shape)\n",
        "    plt.imshow(np.array(img[0].permute(1,2,0),np.int32))\n",
        "    plt.show()\n",
        "    plt.imshow(mask[0].permute(1,2,0))\n",
        "    plt.show()\n",
        "\n",
        "    break"
      ],
      "metadata": {
        "id": "rmm7h5AUyagR"
      },
      "execution_count": null,
      "outputs": []
    },
    {
      "cell_type": "code",
      "source": [
        "data = next(iter(train_data_loader))\n",
        "print(data[0].mean(), data[0].std(), data[0].shape)"
      ],
      "metadata": {
        "id": "3cjWr173ykrc"
      },
      "execution_count": null,
      "outputs": []
    },
    {
      "cell_type": "code",
      "source": [
        "device = torch.device('cuda:0' if torch.cuda.is_available() else 'cpu')\n",
        "device"
      ],
      "metadata": {
        "colab": {
          "base_uri": "https://localhost:8080/"
        },
        "id": "F84uvMb7zJJH",
        "outputId": "8d7e7178-5337-466f-f41a-ba6bb68c9571"
      },
      "execution_count": 10,
      "outputs": [
        {
          "output_type": "execute_result",
          "data": {
            "text/plain": [
              "device(type='cpu')"
            ]
          },
          "metadata": {},
          "execution_count": 10
        }
      ]
    },
    {
      "cell_type": "code",
      "source": [
        "!pip install segmentation_models_pytorch > /dev/null"
      ],
      "metadata": {
        "id": "e2lHgwLRzNtM"
      },
      "execution_count": 11,
      "outputs": []
    },
    {
      "cell_type": "code",
      "source": [
        "import segmentation_models_pytorch as smp\n",
        "from segmentation_models_pytorch import Linknet\n",
        "\n",
        "model = Linknet(encoder_name='resnet50',\n",
        "               encoder_weights='imagenet',\n",
        "               classes=1,\n",
        "               activation='sigmoid').to(device)"
      ],
      "metadata": {
        "colab": {
          "base_uri": "https://localhost:8080/"
        },
        "id": "sVTGeHA2zUTO",
        "outputId": "ae9eb2b5-60b5-4e5b-f03b-654309b55d34"
      },
      "execution_count": 12,
      "outputs": [
        {
          "output_type": "stream",
          "name": "stderr",
          "text": [
            "Downloading: \"https://download.pytorch.org/models/resnet50-19c8e357.pth\" to /root/.cache/torch/hub/checkpoints/resnet50-19c8e357.pth\n",
            "100%|██████████| 97.8M/97.8M [00:03<00:00, 28.4MB/s]\n"
          ]
        }
      ]
    },
    {
      "cell_type": "code",
      "source": [
        "optimizer = torch.optim.Adam(params=model.parameters(), lr=0.005)\n",
        "\n",
        "criterion = smp.utils.losses.DiceLoss()\n",
        "metric = [smp.utils.metrics.IoU(),]"
      ],
      "metadata": {
        "id": "LGeBavKaz3Ot"
      },
      "execution_count": null,
      "outputs": []
    },
    {
      "cell_type": "code",
      "source": [
        "import segmentation_models_pytorch.utils as smp_utils\n",
        "\n",
        "train_epoch = smp_utils.train.TrainEpoch(model=model,\n",
        "                                         loss=criterion,\n",
        "                                         metrics=metric,\n",
        "                                         optimizer=optimizer,\n",
        "                                         device=device,\n",
        "                                         verbose=True)\n",
        "\n",
        "valid_epoch = smp_utils.train.ValidEpoch(model=model,\n",
        "                                         loss=criterion,\n",
        "                                         metrics=metric,\n",
        "                                         device=device)"
      ],
      "metadata": {
        "id": "CFThiO2jz7S7"
      },
      "execution_count": null,
      "outputs": []
    },
    {
      "cell_type": "code",
      "source": [
        "epochs = 3\n",
        "max_score = 0\n",
        "PATH_MODEL = './best_model.pth'\n",
        "PATH_WEIGHTS = './best_weights.pth'\n",
        "score_break_value = 0.9\n",
        "\n",
        "for epoch in range(1,epochs+1):\n",
        "    print(f'Current epoch - {epoch} from {epochs}')\n",
        "    train_score = train_epoch.run(train_data_loader)\n",
        "    valid_score = valid_epoch.run(test_data_loader)\n",
        "    print(f'Next step.\\n\\n')\n",
        "\n",
        "    if max_score < valid_score['iou_score']:\n",
        "        max_score = valid_score['iou_score']\n",
        "        torch.save(model.state_dict(), PATH_WEIGHTS)\n",
        "        torch.save(model, PATH_MODEL)\n",
        "        print('Модель сохранена!')\n",
        "\n",
        "    if max_score > score_break_value:\n",
        "        break"
      ],
      "metadata": {
        "colab": {
          "base_uri": "https://localhost:8080/",
          "height": 283
        },
        "id": "Y1pm_QHez_dd",
        "outputId": "8a4bf16b-08e6-4f6e-a481-6e159f64df5e"
      },
      "execution_count": 15,
      "outputs": [
        {
          "output_type": "stream",
          "name": "stdout",
          "text": [
            "Current epoch - 1 from 3\n"
          ]
        },
        {
          "output_type": "error",
          "ename": "NameError",
          "evalue": "ignored",
          "traceback": [
            "\u001b[0;31m---------------------------------------------------------------------------\u001b[0m",
            "\u001b[0;31mNameError\u001b[0m                                 Traceback (most recent call last)",
            "\u001b[0;32m<ipython-input-15-4dd6d601caf0>\u001b[0m in \u001b[0;36m<cell line: 7>\u001b[0;34m()\u001b[0m\n\u001b[1;32m      7\u001b[0m \u001b[0;32mfor\u001b[0m \u001b[0mepoch\u001b[0m \u001b[0;32min\u001b[0m \u001b[0mrange\u001b[0m\u001b[0;34m(\u001b[0m\u001b[0;36m1\u001b[0m\u001b[0;34m,\u001b[0m\u001b[0mepochs\u001b[0m\u001b[0;34m+\u001b[0m\u001b[0;36m1\u001b[0m\u001b[0;34m)\u001b[0m\u001b[0;34m:\u001b[0m\u001b[0;34m\u001b[0m\u001b[0;34m\u001b[0m\u001b[0m\n\u001b[1;32m      8\u001b[0m     \u001b[0mprint\u001b[0m\u001b[0;34m(\u001b[0m\u001b[0;34mf'Current epoch - {epoch} from {epochs}'\u001b[0m\u001b[0;34m)\u001b[0m\u001b[0;34m\u001b[0m\u001b[0;34m\u001b[0m\u001b[0m\n\u001b[0;32m----> 9\u001b[0;31m     \u001b[0mtrain_score\u001b[0m \u001b[0;34m=\u001b[0m \u001b[0mtrain_epoch\u001b[0m\u001b[0;34m.\u001b[0m\u001b[0mrun\u001b[0m\u001b[0;34m(\u001b[0m\u001b[0mtrain_data_loader\u001b[0m\u001b[0;34m)\u001b[0m\u001b[0;34m\u001b[0m\u001b[0;34m\u001b[0m\u001b[0m\n\u001b[0m\u001b[1;32m     10\u001b[0m     \u001b[0mvalid_score\u001b[0m \u001b[0;34m=\u001b[0m \u001b[0mvalid_epoch\u001b[0m\u001b[0;34m.\u001b[0m\u001b[0mrun\u001b[0m\u001b[0;34m(\u001b[0m\u001b[0mtest_data_loader\u001b[0m\u001b[0;34m)\u001b[0m\u001b[0;34m\u001b[0m\u001b[0;34m\u001b[0m\u001b[0m\n\u001b[1;32m     11\u001b[0m     \u001b[0mprint\u001b[0m\u001b[0;34m(\u001b[0m\u001b[0;34mf'Next step.\\n\\n'\u001b[0m\u001b[0;34m)\u001b[0m\u001b[0;34m\u001b[0m\u001b[0;34m\u001b[0m\u001b[0m\n",
            "\u001b[0;31mNameError\u001b[0m: name 'train_epoch' is not defined"
          ]
        }
      ]
    }
  ]
}