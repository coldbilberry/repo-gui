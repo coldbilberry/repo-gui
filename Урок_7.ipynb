{
  "nbformat": 4,
  "nbformat_minor": 0,
  "metadata": {
    "colab": {
      "name": "Урок 7.ipynb",
      "provenance": [],
      "authorship_tag": "ABX9TyPHuRU91HM8xallB0y/v2Yb",
      "include_colab_link": true
    },
    "kernelspec": {
      "name": "python3",
      "display_name": "Python 3"
    },
    "language_info": {
      "name": "python"
    }
  },
  "cells": [
    {
      "cell_type": "markdown",
      "metadata": {
        "id": "view-in-github",
        "colab_type": "text"
      },
      "source": [
        "<a href=\"https://colab.research.google.com/github/coldbilberry/repo-gui/blob/main/%D0%A3%D1%80%D0%BE%D0%BA_7.ipynb\" target=\"_parent\"><img src=\"https://colab.research.google.com/assets/colab-badge.svg\" alt=\"Open In Colab\"/></a>"
      ]
    },
    {
      "cell_type": "code",
      "execution_count": 1,
      "metadata": {
        "id": "Rfi_w_qPHYwd"
      },
      "outputs": [],
      "source": [
        "import pandas as pd\n",
        "import numpy as np\n",
        "import matplotlib.pyplot as plt\n",
        "%matplotlib inline"
      ]
    },
    {
      "cell_type": "markdown",
      "source": [
        "Даны значения величины заработной платы заемщиков банка (zp) и значения их поведенческого кредитного скоринга (ks): zp = [35, 45, 190, 200, 40, 70, 54, 150, 120, 110], ks = [401, 574, 874, 919, 459, 739, 653, 902, 746, 832]. Используя математические операции, посчитать коэффициенты линейной регрессии, приняв за X заработную плату (то есть, zp - признак), а за y - значения скорингового балла (то есть, ks - целевая переменная). Произвести расчет как с использованием intercept, так и без."
      ],
      "metadata": {
        "id": "Viplqo8BcBTF"
      }
    },
    {
      "cell_type": "code",
      "source": [
        "zp = np.array([35, 45, 190, 200, 40, 70, 54, 150, 120, 110])\n",
        "ks = np.array([401, 574, 874, 919, 459, 739, 653, 902, 746, 832])\n",
        "b = ((zp * ks).mean() - zp.mean() * ks.mean()) / ((zp ** 2).mean() - (zp.mean() ** 2))\n",
        "b"
      ],
      "metadata": {
        "colab": {
          "base_uri": "https://localhost:8080/"
        },
        "id": "g9s0QfGNcMSg",
        "outputId": "f24ff2dd-d9b5-4ba8-ecd6-83b408e0243d"
      },
      "execution_count": 2,
      "outputs": [
        {
          "output_type": "execute_result",
          "data": {
            "text/plain": [
              "2.620538882402765"
            ]
          },
          "metadata": {},
          "execution_count": 2
        }
      ]
    },
    {
      "cell_type": "code",
      "source": [
        "a = ks.mean() - b * zp.mean()\n",
        "a"
      ],
      "metadata": {
        "colab": {
          "base_uri": "https://localhost:8080/"
        },
        "id": "Y0Mh6iAQckaK",
        "outputId": "ed4fdc72-1636-4d91-f5cb-32c6cabea203"
      },
      "execution_count": 3,
      "outputs": [
        {
          "output_type": "execute_result",
          "data": {
            "text/plain": [
              "444.1773573243596"
            ]
          },
          "metadata": {},
          "execution_count": 3
        }
      ]
    },
    {
      "cell_type": "code",
      "source": [
        "plt.scatter(zp, ks)\n",
        "plt.plot(zp, a + b * zp)"
      ],
      "metadata": {
        "colab": {
          "base_uri": "https://localhost:8080/",
          "height": 282
        },
        "id": "pvX0wNj9crqe",
        "outputId": "6f0d468e-bf0c-427a-fc49-87f42192fe0a"
      },
      "execution_count": 4,
      "outputs": [
        {
          "output_type": "execute_result",
          "data": {
            "text/plain": [
              "[<matplotlib.lines.Line2D at 0x7f96c6417dd0>]"
            ]
          },
          "metadata": {},
          "execution_count": 4
        },
        {
          "output_type": "display_data",
          "data": {
            "image/png": "[encoded data removed]",
            "text/plain": [
              "<Figure size 432x288 with 1 Axes>"
            ]
          },
          "metadata": {
            "needs_background": "light"
          }
        }
      ]
    },
    {
      "cell_type": "code",
      "source": [
        "mse_ = np.sum(((a + b * zp) - ks) ** 2 / 10)\n",
        "mse_\n"
      ],
      "metadata": {
        "colab": {
          "base_uri": "https://localhost:8080/"
        },
        "id": "KUlJSRGsczFr",
        "outputId": "3a1766fc-bd38-48dd-c6ae-cc09a9ef03cb"
      },
      "execution_count": 5,
      "outputs": [
        {
          "output_type": "execute_result",
          "data": {
            "text/plain": [
              "6470.414201176659"
            ]
          },
          "metadata": {},
          "execution_count": 5
        }
      ]
    },
    {
      "cell_type": "markdown",
      "source": [
        "без interсept"
      ],
      "metadata": {
        "id": "HIwBko1AdP7W"
      }
    },
    {
      "cell_type": "code",
      "source": [
        "zp = zp.reshape(1, len(zp))\n",
        "ks = ks.reshape(1, len(ks))\n",
        "np.dot(np.dot(np.linalg.inv(np.dot(zp, zp.T)), zp), ks.T)"
      ],
      "metadata": {
        "colab": {
          "base_uri": "https://localhost:8080/"
        },
        "id": "zVmvbEXNdSdC",
        "outputId": "c6d36e04-617f-4b96-8096-4ec631f15dd1"
      },
      "execution_count": 6,
      "outputs": [
        {
          "output_type": "execute_result",
          "data": {
            "text/plain": [
              "array([[5.88982042]])"
            ]
          },
          "metadata": {},
          "execution_count": 6
        }
      ]
    },
    {
      "cell_type": "code",
      "source": [
        "mse_ = np.sum(((0 + 5.88982042 * zp) - ks) ** 2 / 10)\n",
        "mse_\n"
      ],
      "metadata": {
        "colab": {
          "base_uri": "https://localhost:8080/"
        },
        "id": "9w3zABX9dbAY",
        "outputId": "0e5a1fe4-deaf-4ff5-8b0f-cbce04b03d91"
      },
      "execution_count": 7,
      "outputs": [
        {
          "output_type": "execute_result",
          "data": {
            "text/plain": [
              "56516.85841571942"
            ]
          },
          "metadata": {},
          "execution_count": 7
        }
      ]
    },
    {
      "cell_type": "code",
      "source": [
        "def mse_(w1, y=ks, X=zp, n=10):\n",
        "    return np.sum((w1 * X - y) ** 2) / n\n",
        "mse_(5.88982042)"
      ],
      "metadata": {
        "colab": {
          "base_uri": "https://localhost:8080/"
        },
        "id": "-6QBwGl2denH",
        "outputId": "1e2e169a-ed9c-4c77-b7f6-a64ea576ee24"
      },
      "execution_count": 8,
      "outputs": [
        {
          "output_type": "execute_result",
          "data": {
            "text/plain": [
              "56516.85841571943"
            ]
          },
          "metadata": {},
          "execution_count": 8
        }
      ]
    },
    {
      "cell_type": "markdown",
      "source": [
        "С intercept"
      ],
      "metadata": {
        "id": "SF4wN9tmdmpK"
      }
    },
    {
      "cell_type": "code",
      "source": [
        "zp = np.vstack([np.ones((1, 10)), zp])\n",
        "np.dot(np.dot(np.linalg.inv(np.dot(zp, zp.T)), zp), ks.T)"
      ],
      "metadata": {
        "colab": {
          "base_uri": "https://localhost:8080/"
        },
        "id": "lZwFIuc4doDh",
        "outputId": "31f68848-caf9-4e87-f70c-05ee2b6368c6"
      },
      "execution_count": 9,
      "outputs": [
        {
          "output_type": "execute_result",
          "data": {
            "text/plain": [
              "array([[444.17735732],\n",
              "       [  2.62053888]])"
            ]
          },
          "metadata": {},
          "execution_count": 9
        }
      ]
    },
    {
      "cell_type": "markdown",
      "source": [
        "Посчитать коэффициент линейной регрессии при заработной плате (zp), используя градиентный спуск (без intercept)"
      ],
      "metadata": {
        "id": "W62CWbIqdxAb"
      }
    },
    {
      "cell_type": "code",
      "source": [
        "zp = np.array([35, 45, 190, 200, 40, 70, 54, 150, 120, 110])\n",
        "ks = np.array([401, 574, 874, 919, 459, 739, 653, 902, 746, 832])\n",
        "\n",
        "alpha = 1e-6\n",
        "\n",
        "w1 = 0.1\n",
        "\n",
        "def mse_(w1, y=ks, X=zp, n=10):\n",
        "    return np.sum((w1 * X - y) ** 2) / n\n",
        "\n",
        "for i in range(1000):\n",
        "    fp = (1 / 10) * np.sum(2 * (w1 * zp - ks) * zp)\n",
        "    w1 -= alpha * fp\n",
        "    if i % 100 == 0:\n",
        "        print(f'iteration: {i}, w1 : {w1}, mse: {mse_(w1) }')"
      ],
      "metadata": {
        "colab": {
          "base_uri": "https://localhost:8080/"
        },
        "id": "GuXVruE2dx9N",
        "outputId": "cee686be-ef59-4f3e-a10e-f98d88e3055f"
      },
      "execution_count": 10,
      "outputs": [
        {
          "output_type": "stream",
          "name": "stdout",
          "text": [
            "iteration: 0, w1 : 0.25952808000000005, mse: 493237.7212546963\n",
            "iteration: 100, w1 : 5.54537842245223, mse: 58151.31823171113\n",
            "iteration: 200, w1 : 5.868748638669329, mse: 56522.97550129376\n",
            "iteration: 300, w1 : 5.888531320728348, mse: 56516.88130936019\n",
            "iteration: 400, w1 : 5.8897415574471985, mse: 56516.85850140053\n",
            "iteration: 500, w1 : 5.889815595583751, mse: 56516.858416040064\n",
            "iteration: 600, w1 : 5.889820124983314, mse: 56516.85841572062\n",
            "iteration: 700, w1 : 5.889820402076462, mse: 56516.85841571941\n",
            "iteration: 800, w1 : 5.88982041902807, mse: 56516.8584157194\n",
            "iteration: 900, w1 : 5.889820420065112, mse: 56516.85841571941\n"
          ]
        }
      ]
    }
  ]
}