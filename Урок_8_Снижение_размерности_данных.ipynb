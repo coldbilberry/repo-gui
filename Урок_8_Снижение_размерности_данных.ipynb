{
  "nbformat": 4,
  "nbformat_minor": 0,
  "metadata": {
    "colab": {
      "name": "Урок 8. Снижение размерности данных.ipynb",
      "provenance": [],
      "authorship_tag": "ABX9TyNK4p3v4atl+0N6YwJnjAfy",
      "include_colab_link": true
    },
    "kernelspec": {
      "name": "python3",
      "display_name": "Python 3"
    },
    "language_info": {
      "name": "python"
    }
  },
  "cells": [
    {
      "cell_type": "markdown",
      "metadata": {
        "id": "view-in-github",
        "colab_type": "text"
      },
      "source": [
        "<a href=\"https://colab.research.google.com/github/coldbilberry/repo-gui/blob/main/%D0%A3%D1%80%D0%BE%D0%BA_8_%D0%A1%D0%BD%D0%B8%D0%B6%D0%B5%D0%BD%D0%B8%D0%B5_%D1%80%D0%B0%D0%B7%D0%BC%D0%B5%D1%80%D0%BD%D0%BE%D1%81%D1%82%D0%B8_%D0%B4%D0%B0%D0%BD%D0%BD%D1%8B%D1%85.ipynb\" target=\"_parent\"><img src=\"https://colab.research.google.com/assets/colab-badge.svg\" alt=\"Open In Colab\"/></a>"
      ]
    },
    {
      "cell_type": "code",
      "execution_count": 6,
      "metadata": {
        "id": "cpcoqzXnaWFr"
      },
      "outputs": [],
      "source": [
        "import numpy as np\n",
        "from sklearn import datasets\n",
        "import matplotlib.pyplot as plt\n",
        "from sklearn import model_selection\n",
        "from matplotlib.colors import ListedColormap"
      ]
    },
    {
      "cell_type": "code",
      "source": [
        "iris = datasets.load_iris()\n",
        "X = iris.data\n",
        "X.shape"
      ],
      "metadata": {
        "colab": {
          "base_uri": "https://localhost:8080/"
        },
        "id": "FgBJdaqbbOwH",
        "outputId": "af8af05f-79e4-455e-e3f3-ea0220316c42"
      },
      "execution_count": 7,
      "outputs": [
        {
          "output_type": "execute_result",
          "data": {
            "text/plain": [
              "(150, 4)"
            ]
          },
          "metadata": {},
          "execution_count": 7
        }
      ]
    },
    {
      "cell_type": "code",
      "source": [
        "X_ = X.astype(float)\n",
        "\n",
        "rows, cols = X_.shape\n",
        "\n",
        "means = X_.mean(0)\n",
        "for i in range(rows):\n",
        "    for j in range(cols):\n",
        "        X_[i, j] -= means[j]\n",
        "        \n",
        "std = np.std(X_, axis=0)\n",
        "for i in range(cols):\n",
        "    for j in range(rows):\n",
        "        X_[j][i] /= std[i]"
      ],
      "metadata": {
        "id": "upPvVInwdDQA"
      },
      "execution_count": 12,
      "outputs": []
    },
    {
      "cell_type": "code",
      "source": [
        "covariance_matrix = np.dot(X_.T, X_)\n",
        "\n",
        "eig_values, eig_vectors = np.linalg.eig(covariance_matrix)\n",
        "\n",
        "eig_pairs = [(np.abs(eig_values[i]), eig_vectors[:, i]) for i in range(len(eig_values))]"
      ],
      "metadata": {
        "id": "v7ZHxpyBdFqk"
      },
      "execution_count": 13,
      "outputs": []
    },
    {
      "cell_type": "code",
      "source": [
        "covariance_matrix"
      ],
      "metadata": {
        "colab": {
          "base_uri": "https://localhost:8080/"
        },
        "id": "52ErmEuadJ8f",
        "outputId": "2ffdc05b-b44e-40f7-d54f-a258f24758e3"
      },
      "execution_count": 14,
      "outputs": [
        {
          "output_type": "execute_result",
          "data": {
            "text/plain": [
              "array([[150.        , -17.63546762, 130.76306638, 122.69116894],\n",
              "       [-17.63546762, 150.        , -64.26601565, -54.91888988],\n",
              "       [130.76306638, -64.26601565, 150.        , 144.42981471],\n",
              "       [122.69116894, -54.91888988, 144.42981471, 150.        ]])"
            ]
          },
          "metadata": {},
          "execution_count": 14
        }
      ]
    },
    {
      "cell_type": "code",
      "source": [
        "eig_pairs.sort(key=lambda x: x[0], reverse=True)\n",
        "\n",
        "for i in eig_pairs:\n",
        "    print(i[0])"
      ],
      "metadata": {
        "colab": {
          "base_uri": "https://localhost:8080/"
        },
        "id": "Bdhvh8SgdPql",
        "outputId": "465abfa5-3ec8-4477-f1f4-056fc8c879be"
      },
      "execution_count": 15,
      "outputs": [
        {
          "output_type": "stream",
          "name": "stdout",
          "text": [
            "437.77467247979905\n",
            "137.10457072021032\n",
            "22.01353133569723\n",
            "3.107225464292853\n"
          ]
        }
      ]
    },
    {
      "cell_type": "code",
      "source": [
        "var_exp = [(i/sum(eig_values))*100 for i in sorted(eig_values, reverse=True)]\n",
        "cum_var_exp = np.cumsum(var_exp)"
      ],
      "metadata": {
        "id": "SmE_jSVkdVbP"
      },
      "execution_count": 16,
      "outputs": []
    },
    {
      "cell_type": "code",
      "source": [
        "var_exp"
      ],
      "metadata": {
        "colab": {
          "base_uri": "https://localhost:8080/"
        },
        "id": "Jak22MwUdanm",
        "outputId": "697733a3-b4b3-473a-9429-2015983c5542"
      },
      "execution_count": 17,
      "outputs": [
        {
          "output_type": "execute_result",
          "data": {
            "text/plain": [
              "[72.96244541329992, 22.850761786701742, 3.668921889282875, 0.517870910715476]"
            ]
          },
          "metadata": {},
          "execution_count": 17
        }
      ]
    },
    {
      "cell_type": "code",
      "source": [
        "cum_var_exp"
      ],
      "metadata": {
        "colab": {
          "base_uri": "https://localhost:8080/"
        },
        "id": "lGT6_RxOde16",
        "outputId": "e4c5a3dc-2032-4da2-a79a-dfcdde15d71a"
      },
      "execution_count": 18,
      "outputs": [
        {
          "output_type": "execute_result",
          "data": {
            "text/plain": [
              "array([ 72.96244541,  95.8132072 ,  99.48212909, 100.        ])"
            ]
          },
          "metadata": {},
          "execution_count": 18
        }
      ]
    },
    {
      "cell_type": "code",
      "source": [
        "W = np.hstack((eig_pairs[0][1].reshape(4,1), eig_pairs[1][1].reshape(4,1)))"
      ],
      "metadata": {
        "id": "I94g0iUgdjA7"
      },
      "execution_count": 19,
      "outputs": []
    },
    {
      "cell_type": "code",
      "source": [
        "W"
      ],
      "metadata": {
        "colab": {
          "base_uri": "https://localhost:8080/"
        },
        "id": "-8ZwzLe_dn6F",
        "outputId": "5459a109-643e-42b3-d31f-92d6447aa515"
      },
      "execution_count": 20,
      "outputs": [
        {
          "output_type": "execute_result",
          "data": {
            "text/plain": [
              "array([[ 0.52106591, -0.37741762],\n",
              "       [-0.26934744, -0.92329566],\n",
              "       [ 0.5804131 , -0.02449161],\n",
              "       [ 0.56485654, -0.06694199]])"
            ]
          },
          "metadata": {},
          "execution_count": 20
        }
      ]
    },
    {
      "cell_type": "code",
      "source": [
        "Z = X_.dot(W)"
      ],
      "metadata": {
        "id": "m-3H40jLdtnD"
      },
      "execution_count": 21,
      "outputs": []
    },
    {
      "cell_type": "code",
      "source": [
        "X_[:5]"
      ],
      "metadata": {
        "colab": {
          "base_uri": "https://localhost:8080/"
        },
        "id": "MRA74Q1Cdxsd",
        "outputId": "84619892-54e6-4940-ce4b-e80863f09dd3"
      },
      "execution_count": 22,
      "outputs": [
        {
          "output_type": "execute_result",
          "data": {
            "text/plain": [
              "array([[-0.90068117,  1.01900435, -1.34022653, -1.3154443 ],\n",
              "       [-1.14301691, -0.13197948, -1.34022653, -1.3154443 ],\n",
              "       [-1.38535265,  0.32841405, -1.39706395, -1.3154443 ],\n",
              "       [-1.50652052,  0.09821729, -1.2833891 , -1.3154443 ],\n",
              "       [-1.02184904,  1.24920112, -1.34022653, -1.3154443 ]])"
            ]
          },
          "metadata": {},
          "execution_count": 22
        }
      ]
    },
    {
      "cell_type": "code",
      "source": [
        "Z[:5]"
      ],
      "metadata": {
        "colab": {
          "base_uri": "https://localhost:8080/"
        },
        "id": "dLTxkzFjd16c",
        "outputId": "b78226ee-eb00-4649-e4aa-a0faaff3f9de"
      },
      "execution_count": 23,
      "outputs": [
        {
          "output_type": "execute_result",
          "data": {
            "text/plain": [
              "array([[-2.26470281, -0.4800266 ],\n",
              "       [-2.08096115,  0.67413356],\n",
              "       [-2.36422905,  0.34190802],\n",
              "       [-2.29938422,  0.59739451],\n",
              "       [-2.38984217, -0.64683538]])"
            ]
          },
          "metadata": {},
          "execution_count": 23
        }
      ]
    },
    {
      "cell_type": "code",
      "source": [
        "plt.figure()\n",
        "y = iris.target\n",
        "for c, i in zip(\"rgb\", [0, 1, 2]):\n",
        "    plt.scatter(Z[y==i, 0], Z[y==i, 1], c=c)\n",
        "plt.xlabel('Главная компонента 1')\n",
        "plt.ylabel('Главная компонента 2')\n",
        "plt.title('PCA датасета IRIS')\n",
        "plt.show()"
      ],
      "metadata": {
        "colab": {
          "base_uri": "https://localhost:8080/",
          "height": 295
        },
        "id": "uL-v0ncmd6U8",
        "outputId": "bf10c9ed-2680-4f5b-a0ab-9e831a3ca3c2"
      },
      "execution_count": 24,
      "outputs": [
        {
          "output_type": "display_data",
          "data": {
            "text/plain": [
              "<Figure size 432x288 with 1 Axes>"
            ],
            "image/png": "[encoded data removed]"
          },
          "metadata": {
            "needs_background": "light"
          }
        }
      ]
    },
    {
      "cell_type": "code",
      "source": [
        "from sklearn import model_selection\n",
        "from matplotlib.colors import ListedColormap"
      ],
      "metadata": {
        "id": "eQdLsCh6d85K"
      },
      "execution_count": 25,
      "outputs": []
    },
    {
      "cell_type": "code",
      "source": [
        "def e_metrics(x1, x2):\n",
        "    \n",
        "    distance = 0\n",
        "    for i in range(len(x1)):\n",
        "        distance += np.square(x1[i] - x2[i])\n",
        "    \n",
        "    return np.sqrt(distance)\n",
        "\n",
        "\n",
        "\n",
        "def knn(x_train, y_train, x_test, k):\n",
        "    \n",
        "    answers = []\n",
        "    for x in x_test:\n",
        "        test_distances = []\n",
        "        \n",
        "        for i in range(len(x_train)):\n",
        "            distance = e_metrics(x, x_train[i])\n",
        "            \n",
        "            test_distances.append((distance, y_train[i]))\n",
        "        \n",
        "        classes = {class_item: 0 for class_item in set(y_train)}\n",
        "        \n",
        "        for d in sorted(test_distances)[:k]:\n",
        "            classes[d[1]] += 1\n",
        "            \n",
        "        answers.append(sorted(classes, key=classes.get)[-1])\n",
        "        \n",
        "    return answers\n",
        "\n",
        "\n",
        "\n",
        "def accuracy(pred, y):\n",
        "    return (sum(pred==y)/len(y))\n",
        "\n",
        "\n",
        "\n",
        "def get_graph(X_train, y_train, k):\n",
        "    \n",
        "    cmap_light = ListedColormap(['#FFAAAA', '#AAFFAA','#00AAFF'])\n",
        "\n",
        "    h = 0.02\n",
        "\n",
        "    # Расчет пределов графика\n",
        "    x_min, x_max = X_train[:, 0].min() - 1, X_train[:, 0].max() + 1\n",
        "    y_min, y_max = X_train[:, 1].min() - 1, X_train[:, 1].max() + 1\n",
        "    xx, yy = np.meshgrid(np.arange(x_min, x_max, h), np.arange(y_min, y_max, h))\n",
        "\n",
        "    # Получим предсказания для всех точек\n",
        "    Z = knn(X_train, y_train, np.c_[xx.ravel(), yy.ravel()], k)\n",
        "\n",
        "    # Построим график\n",
        "    Z = np.array(Z).reshape(xx.shape)\n",
        "    plt.figure(figsize=(7,7))\n",
        "    plt.pcolormesh(xx, yy, Z, cmap=cmap_light)\n",
        "\n",
        "    # Добавим на график обучающую выборку\n",
        "    plt.scatter(X_train[:, 0], X_train[:, 1], c=y_train, cmap=cmap)\n",
        "    plt.xlim(xx.min(), xx.max())\n",
        "    plt.ylim(yy.min(), yy.max())\n",
        "    plt.title(f\"Трехклассовая kNN классификация при k = {k}\")\n",
        "    plt.show()"
      ],
      "metadata": {
        "id": "Q6fs3_a3eGaE"
      },
      "execution_count": 26,
      "outputs": []
    },
    {
      "cell_type": "code",
      "source": [
        "n, _ = X.shape\n",
        "# Compute covariance matrix\n",
        "covariance_matrix = np.dot(X.T, X) / (n-1)\n",
        "print(covariance_matrix)\n",
        "\n",
        "\n",
        "# Eigen decomposition\n",
        "eigen_vals, eigen_vecs = np.linalg.eig(covariance_matrix)\n",
        "\n",
        "\n",
        "# SVD\n",
        "U, Sigma, Vh = np.linalg.svd(X, full_matrices=False, compute_uv=True)\n",
        "\n",
        "# Relationship between singular values and eigen values:\n",
        "print(np.allclose(np.square(Sigma) / (n - 1), eigen_vals)) # True"
      ],
      "metadata": {
        "colab": {
          "base_uri": "https://localhost:8080/"
        },
        "id": "VzlfbeW7eNnt",
        "outputId": "1e615d2a-a135-4b04-8562-7ba93b7c3b1d"
      },
      "execution_count": 27,
      "outputs": [
        {
          "output_type": "stream",
          "name": "stdout",
          "text": [
            "[[35.05939597 17.94248322 23.3809396   7.5714094 ]\n",
            " [17.94248322  9.6        11.23691275  3.56973154]\n",
            " [23.3809396  11.23691275 17.33362416  5.83295302]\n",
            " [ 7.5714094   3.56973154  5.83295302  2.0290604 ]]\n",
            "True\n"
          ]
        }
      ]
    },
    {
      "cell_type": "code",
      "source": [
        "W = np.hstack((Vh[0].reshape(4,1), Vh[1].reshape(4,1)))\n",
        "Z = X.dot(W)"
      ],
      "metadata": {
        "id": "Q2cz6Jj1eSiV"
      },
      "execution_count": 28,
      "outputs": []
    },
    {
      "cell_type": "code",
      "source": [
        "Z[:3]"
      ],
      "metadata": {
        "colab": {
          "base_uri": "https://localhost:8080/"
        },
        "id": "JlzQtYGueYdP",
        "outputId": "4bf26001-7765-44b0-dc1f-2232eed44ddc"
      },
      "execution_count": 29,
      "outputs": [
        {
          "output_type": "execute_result",
          "data": {
            "text/plain": [
              "array([[-5.91274714,  2.30203322],\n",
              "       [-5.57248242,  1.97182599],\n",
              "       [-5.44697714,  2.09520636]])"
            ]
          },
          "metadata": {},
          "execution_count": 29
        }
      ]
    },
    {
      "cell_type": "code",
      "source": [
        "cmap = ListedColormap(['red', 'green', 'blue'])\n",
        "plt.figure(figsize=(7, 7))\n",
        "plt.scatter(Z[:, 0], Z[:, 1], c=y, cmap=cmap)\n",
        "plt.xlabel('Главная компонента 1')\n",
        "plt.ylabel('Главная компонента 2')\n",
        "plt.title('PCA датасета IRIS')"
      ],
      "metadata": {
        "colab": {
          "base_uri": "https://localhost:8080/",
          "height": 475
        },
        "id": "eu7Tdgk0eabp",
        "outputId": "de1d1df8-1288-4002-bdc1-c0f86bb657c8"
      },
      "execution_count": 30,
      "outputs": [
        {
          "output_type": "execute_result",
          "data": {
            "text/plain": [
              "Text(0.5, 1.0, 'PCA датасета IRIS')"
            ]
          },
          "metadata": {},
          "execution_count": 30
        },
        {
          "output_type": "display_data",
          "data": {
            "text/plain": [
              "<Figure size 504x504 with 1 Axes>"
            ],
            "image/png": "[encoded data removed]"
          },
          "metadata": {
            "needs_background": "light"
          }
        }
      ]
    },
    {
      "cell_type": "code",
      "source": [
        "Z_train, Z_test, y_train, y_test = model_selection.train_test_split(Z, y, test_size=0.2, random_state=42)"
      ],
      "metadata": {
        "id": "Zqu4YyCBeej0"
      },
      "execution_count": 31,
      "outputs": []
    },
    {
      "cell_type": "code",
      "source": [
        "Z_train[:3]"
      ],
      "metadata": {
        "colab": {
          "base_uri": "https://localhost:8080/"
        },
        "id": "DEG6xSDJei9V",
        "outputId": "a90f16b8-81fd-47c3-d778-cd0e690ba574"
      },
      "execution_count": 32,
      "outputs": [
        {
          "output_type": "execute_result",
          "data": {
            "text/plain": [
              "array([[-5.36999813e+00,  2.49808604e+00],\n",
              "       [-6.79037199e+00,  2.82500759e+00],\n",
              "       [-8.70300135e+00, -3.83374315e-04]])"
            ]
          },
          "metadata": {},
          "execution_count": 32
        }
      ]
    },
    {
      "cell_type": "code",
      "source": [
        "k=3\n",
        "\n",
        "y_pred = knn(Z_train, y_train, Z_train, k)\n",
        "print(f'Точность на train knn при k = {k}: {round(accuracy(y_pred, y_train), 3)}')"
      ],
      "metadata": {
        "colab": {
          "base_uri": "https://localhost:8080/"
        },
        "id": "QzxnmIuIepBS",
        "outputId": "3795b92a-5221-465a-922b-dc757bb08ee7"
      },
      "execution_count": 33,
      "outputs": [
        {
          "output_type": "stream",
          "name": "stdout",
          "text": [
            "Точность на train knn при k = 3: 0.975\n"
          ]
        }
      ]
    },
    {
      "cell_type": "code",
      "source": [
        "get_graph(Z_train, y_train, 3)"
      ],
      "metadata": {
        "colab": {
          "base_uri": "https://localhost:8080/",
          "height": 444
        },
        "id": "xk07A-5xeq_b",
        "outputId": "5452a93f-7576-4621-97ed-c1d7acf285d8"
      },
      "execution_count": 34,
      "outputs": [
        {
          "output_type": "display_data",
          "data": {
            "text/plain": [
              "<Figure size 504x504 with 1 Axes>"
            ],
            "image/png": "[encoded data removed]"
          },
          "metadata": {
            "needs_background": "light"
          }
        }
      ]
    },
    {
      "cell_type": "code",
      "source": [
        "iris = datasets.load_iris()\n",
        "X = iris.data\n",
        "X.shape\n",
        "X_train, X_test, y_train, y_test = model_selection.train_test_split(X, y, test_size=0.2, random_state=42)"
      ],
      "metadata": {
        "id": "mia3reBijXZ1"
      },
      "execution_count": 35,
      "outputs": []
    },
    {
      "cell_type": "code",
      "source": [
        "cmap = ListedColormap(['red', 'green', 'blue'])\n",
        "plt.figure(figsize=(7, 7))\n",
        "plt.scatter(X[:, 0], X[:, 1], c=y, cmap=cmap)"
      ],
      "metadata": {
        "colab": {
          "base_uri": "https://localhost:8080/",
          "height": 447
        },
        "id": "U8qUp3D1jele",
        "outputId": "fc12b6a0-28e9-48be-d805-f7b4361d15e3"
      },
      "execution_count": 36,
      "outputs": [
        {
          "output_type": "execute_result",
          "data": {
            "text/plain": [
              "<matplotlib.collections.PathCollection at 0x7fb93e807f10>"
            ]
          },
          "metadata": {},
          "execution_count": 36
        },
        {
          "output_type": "display_data",
          "data": {
            "text/plain": [
              "<Figure size 504x504 with 1 Axes>"
            ],
            "image/png": "[encoded data removed]"
          },
          "metadata": {
            "needs_background": "light"
          }
        }
      ]
    },
    {
      "cell_type": "code",
      "source": [
        "get_graph(X_train, y_train, 3)"
      ],
      "metadata": {
        "colab": {
          "base_uri": "https://localhost:8080/",
          "height": 444
        },
        "id": "lFwKJ4EwjwaW",
        "outputId": "d7f2292c-fe76-4a44-d508-65630352b8ea"
      },
      "execution_count": 37,
      "outputs": [
        {
          "output_type": "display_data",
          "data": {
            "text/plain": [
              "<Figure size 504x504 with 1 Axes>"
            ],
            "image/png": "[encoded data removed]"
          },
          "metadata": {
            "needs_background": "light"
          }
        }
      ]
    },
    {
      "cell_type": "code",
      "source": [
        "k=3\n",
        "\n",
        "y_pred = knn(X_train, y_train, X_train, k)\n",
        "print(f'Точность на train knn при k = {k}: {round(accuracy(y_pred, y_train), 3)}')"
      ],
      "metadata": {
        "colab": {
          "base_uri": "https://localhost:8080/"
        },
        "id": "ffQ91PpNkC1q",
        "outputId": "020cc366-da14-4781-af83-25ed25df6fa0"
      },
      "execution_count": 38,
      "outputs": [
        {
          "output_type": "stream",
          "name": "stdout",
          "text": [
            "Точность на train knn при k = 3: 0.95\n"
          ]
        }
      ]
    },
    {
      "cell_type": "code",
      "source": [
        "X_ = np.concatenate((X_train, X_test))\n",
        "X_.shape"
      ],
      "metadata": {
        "colab": {
          "base_uri": "https://localhost:8080/"
        },
        "id": "mHz8HNfmkZWN",
        "outputId": "3a7b0cfa-ff28-4495-e0d5-87cad8b1e778"
      },
      "execution_count": 39,
      "outputs": [
        {
          "output_type": "execute_result",
          "data": {
            "text/plain": [
              "(150, 4)"
            ]
          },
          "metadata": {},
          "execution_count": 39
        }
      ]
    },
    {
      "cell_type": "code",
      "source": [
        "# X_ = X.astype(float)\n",
        "\n",
        "rows, cols = X_.shape\n",
        "\n",
        "means = X_.mean(0)\n",
        "for i in range(rows):\n",
        "    for j in range(cols):\n",
        "        X_[i, j] -= means[j]\n",
        "        \n",
        "std = np.std(X_, axis=0)\n",
        "for i in range(cols):\n",
        "    for j in range(rows):\n",
        "        X_[j][i] /= std[i]\n",
        "        \n",
        "covariance_matrix = np.dot(X_.T, X_)\n",
        "print(covariance_matrix)\n",
        "\n",
        "eig_values, eig_vectors = np.linalg.eig(covariance_matrix)\n",
        "eig_pairs = [(np.abs(eig_values[i]), eig_vectors[:, i]) for i in range(len(eig_values))]"
      ],
      "metadata": {
        "colab": {
          "base_uri": "https://localhost:8080/"
        },
        "id": "E412Ot3JkbUU",
        "outputId": "8572a579-8a2c-43a3-8d86-cfa413c5d790"
      },
      "execution_count": 40,
      "outputs": [
        {
          "output_type": "stream",
          "name": "stdout",
          "text": [
            "[[150.         -17.63546762 130.76306638 122.69116894]\n",
            " [-17.63546762 150.         -64.26601565 -54.91888988]\n",
            " [130.76306638 -64.26601565 150.         144.42981471]\n",
            " [122.69116894 -54.91888988 144.42981471 150.        ]]\n"
          ]
        }
      ]
    },
    {
      "cell_type": "code",
      "source": [
        "eig_pairs.sort(key=lambda x: x[0], reverse=True)\n",
        "\n",
        "for i in eig_pairs:\n",
        "    print(i[0])"
      ],
      "metadata": {
        "colab": {
          "base_uri": "https://localhost:8080/"
        },
        "id": "gKsysBs7lUo0",
        "outputId": "7b23e76e-c2ed-43d9-ff97-82dab8a3d54f"
      },
      "execution_count": 41,
      "outputs": [
        {
          "output_type": "stream",
          "name": "stdout",
          "text": [
            "437.7746724797995\n",
            "137.1045707202104\n",
            "22.013531335697245\n",
            "3.107225464292882\n"
          ]
        }
      ]
    },
    {
      "cell_type": "code",
      "source": [
        "var_exp = [(i/sum(eig_values))*100 for i in sorted(eig_values, reverse=True)]\n",
        "cum_var_exp = np.cumsum(var_exp)"
      ],
      "metadata": {
        "id": "4rrHUwJLlYrT"
      },
      "execution_count": 42,
      "outputs": []
    },
    {
      "cell_type": "code",
      "source": [
        "W = np.hstack((eig_pairs[0][1].reshape(4,1), eig_pairs[1][1].reshape(4,1)))"
      ],
      "metadata": {
        "id": "PvZsGye2la1e"
      },
      "execution_count": 43,
      "outputs": []
    },
    {
      "cell_type": "code",
      "source": [
        "Z = X_.dot(W)"
      ],
      "metadata": {
        "id": "1LR_KY2dld3M"
      },
      "execution_count": 44,
      "outputs": []
    },
    {
      "cell_type": "code",
      "source": [
        "print(X.shape)\n",
        "Z.shape"
      ],
      "metadata": {
        "colab": {
          "base_uri": "https://localhost:8080/"
        },
        "id": "RBcJ3oBBlk3U",
        "outputId": "c2ddaeaa-f27f-4851-f7d5-a2e223f8acc2"
      },
      "execution_count": 45,
      "outputs": [
        {
          "output_type": "stream",
          "name": "stdout",
          "text": [
            "(150, 4)\n"
          ]
        },
        {
          "output_type": "execute_result",
          "data": {
            "text/plain": [
              "(150, 2)"
            ]
          },
          "metadata": {},
          "execution_count": 45
        }
      ]
    },
    {
      "cell_type": "code",
      "source": [
        "#Z_train, Z_test, y_train, y_test = model_selection.train_test_split(Z, y, test_size=0.2, random_state=42)"
      ],
      "metadata": {
        "id": "t8zj5TOYlpsC"
      },
      "execution_count": 46,
      "outputs": []
    },
    {
      "cell_type": "code",
      "source": [
        "k=3\n",
        "\n",
        "y_pred = knn(Z_train, y_train, Z_train, k)\n",
        "print(f'Точность на train knn при k = {k}: {round(accuracy(y_pred, y_train), 3)}')"
      ],
      "metadata": {
        "colab": {
          "base_uri": "https://localhost:8080/"
        },
        "id": "yofnbhzHlt5s",
        "outputId": "801dd1c6-8def-4bb3-e523-bd72ba2a86c8"
      },
      "execution_count": 47,
      "outputs": [
        {
          "output_type": "stream",
          "name": "stdout",
          "text": [
            "Точность на train knn при k = 3: 0.975\n"
          ]
        }
      ]
    },
    {
      "cell_type": "code",
      "source": [
        "get_graph(Z_train, y_train, 3)"
      ],
      "metadata": {
        "colab": {
          "base_uri": "https://localhost:8080/",
          "height": 444
        },
        "id": "rTUzCGKrlv8b",
        "outputId": "a2e92f7e-be16-4815-ff0e-ec40f43c4761"
      },
      "execution_count": 48,
      "outputs": [
        {
          "output_type": "display_data",
          "data": {
            "text/plain": [
              "<Figure size 504x504 with 1 Axes>"
            ],
            "image/png": "[encoded data removed]"
          },
          "metadata": {
            "needs_background": "light"
          }
        }
      ]
    },
    {
      "cell_type": "markdown",
      "source": [
        "При сокращении признаков с 4-х до 2-х точность предсказания поднялась на 0.025."
      ],
      "metadata": {
        "id": "sA3fOFk8nTnw"
      }
    }
  ]
}