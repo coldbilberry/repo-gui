{
  "nbformat": 4,
  "nbformat_minor": 0,
  "metadata": {
    "colab": {
      "provenance": [],
      "authorship_tag": "ABX9TyM7wnWA+3kRr+iHPnxNJWB6",
      "include_colab_link": true
    },
    "kernelspec": {
      "name": "python3",
      "display_name": "Python 3"
    },
    "language_info": {
      "name": "python"
    }
  },
  "cells": [
    {
      "cell_type": "markdown",
      "metadata": {
        "id": "view-in-github",
        "colab_type": "text"
      },
      "source": [
        "<a href=\"https://colab.research.google.com/github/coldbilberry/repo-gui/blob/main/%D0%A3%D1%80%D0%BE%D0%BA_9_%D0%98%D0%BD%D1%82%D0%B5%D0%B3%D1%80%D0%B0%D1%86%D0%B8%D1%8F_%D0%98%D1%82%D0%BE%D0%B3%D0%BE%D0%B2%D1%8B%D0%B9_%D0%BF%D1%80%D0%BE%D0%B5%D0%BA%D1%82.ipynb\" target=\"_parent\"><img src=\"https://colab.research.google.com/assets/colab-badge.svg\" alt=\"Open In Colab\"/></a>"
      ]
    },
    {
      "cell_type": "code",
      "source": [
        "import numpy as np\n",
        "import pandas as pd\n",
        "import dill\n",
        "# from datetime import datetime\n",
        "\n",
        "from sklearn.preprocessing import StandardScaler\n",
        "from sklearn.metrics import precision_recall_curve, roc_curve, roc_auc_score, confusion_matrix\n",
        "from sklearn.linear_model import LogisticRegression\n",
        "from sklearn.model_selection import cross_val_score, train_test_split\n",
        "from scipy.sparse import hstack\n",
        "from sklearn.pipeline import Pipeline, make_pipeline\n",
        "from sklearn.base import BaseEstimator, TransformerMixin\n",
        "import seaborn as sns\n",
        "import itertools\n",
        "import matplotlib.pyplot as plt\n",
        "from matplotlib import rcParams\n",
        "%matplotlib inline"
      ],
      "metadata": {
        "id": "4bquQfuE3SyK"
      },
      "execution_count": null,
      "outputs": []
    },
    {
      "cell_type": "code",
      "source": [
        "!pip install catboost"
      ],
      "metadata": {
        "colab": {
          "base_uri": "https://localhost:8080/"
        },
        "id": "uHo-0HOU3X6p",
        "outputId": "0bf4703d-3d3f-4232-888f-f800044a108c"
      },
      "execution_count": 4,
      "outputs": [
        {
          "output_type": "stream",
          "name": "stdout",
          "text": [
            "Collecting catboost\n",
            "  Downloading catboost-1.2.3-cp310-cp310-manylinux2014_x86_64.whl (98.5 MB)\n",
            "\u001b[2K     \u001b[90m━━━━━━━━━━━━━━━━━━━━━━━━━━━━━━━━━━━━━━━━\u001b[0m \u001b[32m98.5/98.5 MB\u001b[0m \u001b[31m1.1 MB/s\u001b[0m eta \u001b[36m0:00:00\u001b[0m\n",
            "\u001b[?25hRequirement already satisfied: graphviz in /usr/local/lib/python3.10/dist-packages (from catboost) (0.20.3)\n",
            "Requirement already satisfied: matplotlib in /usr/local/lib/python3.10/dist-packages (from catboost) (3.7.1)\n",
            "Requirement already satisfied: numpy>=1.16.0 in /usr/local/lib/python3.10/dist-packages (from catboost) (1.25.2)\n",
            "Requirement already satisfied: pandas>=0.24 in /usr/local/lib/python3.10/dist-packages (from catboost) (2.0.3)\n",
            "Requirement already satisfied: scipy in /usr/local/lib/python3.10/dist-packages (from catboost) (1.11.4)\n",
            "Requirement already satisfied: plotly in /usr/local/lib/python3.10/dist-packages (from catboost) (5.15.0)\n",
            "Requirement already satisfied: six in /usr/local/lib/python3.10/dist-packages (from catboost) (1.16.0)\n",
            "Requirement already satisfied: python-dateutil>=2.8.2 in /usr/local/lib/python3.10/dist-packages (from pandas>=0.24->catboost) (2.8.2)\n",
            "Requirement already satisfied: pytz>=2020.1 in /usr/local/lib/python3.10/dist-packages (from pandas>=0.24->catboost) (2023.4)\n",
            "Requirement already satisfied: tzdata>=2022.1 in /usr/local/lib/python3.10/dist-packages (from pandas>=0.24->catboost) (2024.1)\n",
            "Requirement already satisfied: contourpy>=1.0.1 in /usr/local/lib/python3.10/dist-packages (from matplotlib->catboost) (1.2.1)\n",
            "Requirement already satisfied: cycler>=0.10 in /usr/local/lib/python3.10/dist-packages (from matplotlib->catboost) (0.12.1)\n",
            "Requirement already satisfied: fonttools>=4.22.0 in /usr/local/lib/python3.10/dist-packages (from matplotlib->catboost) (4.50.0)\n",
            "Requirement already satisfied: kiwisolver>=1.0.1 in /usr/local/lib/python3.10/dist-packages (from matplotlib->catboost) (1.4.5)\n",
            "Requirement already satisfied: packaging>=20.0 in /usr/local/lib/python3.10/dist-packages (from matplotlib->catboost) (24.0)\n",
            "Requirement already satisfied: pillow>=6.2.0 in /usr/local/lib/python3.10/dist-packages (from matplotlib->catboost) (9.4.0)\n",
            "Requirement already satisfied: pyparsing>=2.3.1 in /usr/local/lib/python3.10/dist-packages (from matplotlib->catboost) (3.1.2)\n",
            "Requirement already satisfied: tenacity>=6.2.0 in /usr/local/lib/python3.10/dist-packages (from plotly->catboost) (8.2.3)\n",
            "Installing collected packages: catboost\n",
            "Successfully installed catboost-1.2.3\n"
          ]
        }
      ]
    },
    {
      "cell_type": "code",
      "source": [
        "!python --version"
      ],
      "metadata": {
        "colab": {
          "base_uri": "https://localhost:8080/"
        },
        "id": "zNi_1cIU3ctk",
        "outputId": "90b2d24e-e8e9-497d-99b2-68b46a82270c"
      },
      "execution_count": 5,
      "outputs": [
        {
          "output_type": "stream",
          "name": "stdout",
          "text": [
            "Python 3.10.12\n"
          ]
        }
      ]
    },
    {
      "cell_type": "code",
      "source": [
        "#install python 3.9\n",
        "!sudo apt-get update -y\n",
        "!sudo apt-get install python3.9\n",
        "\n",
        "#change alternatives\n",
        "!sudo update-alternatives --install /usr/bin/python3 python3 /usr/bin/python3.7 1\n",
        "!sudo update-alternatives --install /usr/bin/python3 python3 /usr/bin/python3.9 2\n",
        "\n",
        "#check python version\n",
        "!python --version\n",
        "#3.9.6"
      ],
      "metadata": {
        "colab": {
          "base_uri": "https://localhost:8080/"
        },
        "id": "iWyB71Cf3etR",
        "outputId": "12d9d12a-1458-4035-e487-23b8f986ea62"
      },
      "execution_count": 6,
      "outputs": [
        {
          "output_type": "stream",
          "name": "stdout",
          "text": [
            "\r0% [Working]\r            \rGet:1 http://security.ubuntu.com/ubuntu jammy-security InRelease [110 kB]\n",
            "\r0% [Connecting to archive.ubuntu.com] [1 InRelease 14.2 kB/110 kB 13%] [Waiting\r                                                                               \rGet:2 https://cloud.r-project.org/bin/linux/ubuntu jammy-cran40/ InRelease [3,626 B]\n",
            "Hit:3 https://developer.download.nvidia.com/compute/cuda/repos/ubuntu2204/x86_64  InRelease\n",
            "Hit:4 http://archive.ubuntu.com/ubuntu jammy InRelease\n",
            "Get:5 http://archive.ubuntu.com/ubuntu jammy-updates InRelease [119 kB]\n",
            "Hit:6 https://ppa.launchpadcontent.net/c2d4u.team/c2d4u4.0+/ubuntu jammy InRelease\n",
            "Get:7 https://ppa.launchpadcontent.net/deadsnakes/ppa/ubuntu jammy InRelease [18.1 kB]\n",
            "Hit:8 https://ppa.launchpadcontent.net/graphics-drivers/ppa/ubuntu jammy InRelease\n",
            "Hit:9 http://archive.ubuntu.com/ubuntu jammy-backports InRelease\n",
            "Hit:10 https://ppa.launchpadcontent.net/ubuntugis/ppa/ubuntu jammy InRelease\n",
            "Get:11 https://ppa.launchpadcontent.net/deadsnakes/ppa/ubuntu jammy/main amd64 Packages [27.7 kB]\n",
            "Get:12 http://archive.ubuntu.com/ubuntu jammy-updates/universe amd64 Packages [1,357 kB]\n",
            "Get:13 http://archive.ubuntu.com/ubuntu jammy-updates/main amd64 Packages [1,966 kB]\n",
            "Get:14 http://archive.ubuntu.com/ubuntu jammy-updates/restricted amd64 Packages [2,161 kB]\n",
            "Fetched 5,764 kB in 2s (2,556 kB/s)\n",
            "Reading package lists... Done\n",
            "Reading package lists... Done\n",
            "Building dependency tree... Done\n",
            "Reading state information... Done\n",
            "The following additional packages will be installed:\n",
            "  libpython3.9-minimal libpython3.9-stdlib mailcap mime-support\n",
            "  python3.9-minimal\n",
            "Suggested packages:\n",
            "  python3.9-venv binfmt-support\n",
            "The following NEW packages will be installed:\n",
            "  libpython3.9-minimal libpython3.9-stdlib mailcap mime-support python3.9\n",
            "  python3.9-minimal\n",
            "0 upgraded, 6 newly installed, 0 to remove and 46 not upgraded.\n",
            "Need to get 5,275 kB of archives.\n",
            "After this operation, 19.4 MB of additional disk space will be used.\n",
            "Get:1 http://archive.ubuntu.com/ubuntu jammy/main amd64 mailcap all 3.70+nmu1ubuntu1 [23.8 kB]\n",
            "Get:2 http://archive.ubuntu.com/ubuntu jammy/main amd64 mime-support all 3.66 [3,696 B]\n",
            "Get:3 https://ppa.launchpadcontent.net/deadsnakes/ppa/ubuntu jammy/main amd64 libpython3.9-minimal amd64 3.9.19-1+jammy1 [835 kB]\n",
            "Get:4 https://ppa.launchpadcontent.net/deadsnakes/ppa/ubuntu jammy/main amd64 python3.9-minimal amd64 3.9.19-1+jammy1 [2,073 kB]\n",
            "Get:5 https://ppa.launchpadcontent.net/deadsnakes/ppa/ubuntu jammy/main amd64 libpython3.9-stdlib amd64 3.9.19-1+jammy1 [1,842 kB]\n",
            "Get:6 https://ppa.launchpadcontent.net/deadsnakes/ppa/ubuntu jammy/main amd64 python3.9 amd64 3.9.19-1+jammy1 [497 kB]\n",
            "Fetched 5,275 kB in 7s (798 kB/s)\n",
            "debconf: unable to initialize frontend: Dialog\n",
            "debconf: (No usable dialog-like program is installed, so the dialog based frontend cannot be used. at /usr/share/perl5/Debconf/FrontEnd/Dialog.pm line 78, <> line 6.)\n",
            "debconf: falling back to frontend: Readline\n",
            "debconf: unable to initialize frontend: Readline\n",
            "debconf: (This frontend requires a controlling tty.)\n",
            "debconf: falling back to frontend: Teletype\n",
            "dpkg-preconfigure: unable to re-open stdin: \n",
            "Selecting previously unselected package libpython3.9-minimal:amd64.\n",
            "(Reading database ... 121753 files and directories currently installed.)\n",
            "Preparing to unpack .../0-libpython3.9-minimal_3.9.19-1+jammy1_amd64.deb ...\n",
            "Unpacking libpython3.9-minimal:amd64 (3.9.19-1+jammy1) ...\n",
            "Selecting previously unselected package python3.9-minimal.\n",
            "Preparing to unpack .../1-python3.9-minimal_3.9.19-1+jammy1_amd64.deb ...\n",
            "Unpacking python3.9-minimal (3.9.19-1+jammy1) ...\n",
            "Selecting previously unselected package mailcap.\n",
            "Preparing to unpack .../2-mailcap_3.70+nmu1ubuntu1_all.deb ...\n",
            "Unpacking mailcap (3.70+nmu1ubuntu1) ...\n",
            "Selecting previously unselected package mime-support.\n",
            "Preparing to unpack .../3-mime-support_3.66_all.deb ...\n",
            "Unpacking mime-support (3.66) ...\n",
            "Selecting previously unselected package libpython3.9-stdlib:amd64.\n",
            "Preparing to unpack .../4-libpython3.9-stdlib_3.9.19-1+jammy1_amd64.deb ...\n",
            "Unpacking libpython3.9-stdlib:amd64 (3.9.19-1+jammy1) ...\n",
            "Selecting previously unselected package python3.9.\n",
            "Preparing to unpack .../5-python3.9_3.9.19-1+jammy1_amd64.deb ...\n",
            "Unpacking python3.9 (3.9.19-1+jammy1) ...\n",
            "Setting up libpython3.9-minimal:amd64 (3.9.19-1+jammy1) ...\n",
            "Setting up python3.9-minimal (3.9.19-1+jammy1) ...\n",
            "Setting up mailcap (3.70+nmu1ubuntu1) ...\n",
            "Setting up mime-support (3.66) ...\n",
            "Setting up libpython3.9-stdlib:amd64 (3.9.19-1+jammy1) ...\n",
            "Setting up python3.9 (3.9.19-1+jammy1) ...\n",
            "Processing triggers for man-db (2.10.2-1) ...\n",
            "update-alternatives: error: alternative path /usr/bin/python3.7 doesn't exist\n",
            "update-alternatives: using /usr/bin/python3.9 to provide /usr/bin/python3 (python3) in auto mode\n",
            "Python 3.9.19\n"
          ]
        }
      ]
    },
    {
      "cell_type": "code",
      "source": [
        "from google.colab import drive\n",
        "drive.mount('/content/drive')"
      ],
      "metadata": {
        "id": "ljA381Tb3gtK"
      },
      "execution_count": null,
      "outputs": []
    },
    {
      "cell_type": "code",
      "source": [
        "%cd /content/drive/MyDrive/Colab Notebooks/ML в бизнесе/lesson3/"
      ],
      "metadata": {
        "colab": {
          "base_uri": "https://localhost:8080/"
        },
        "id": "qgDjCgdx3ji1",
        "outputId": "8c388449-48df-48b1-c805-7a9b30ef3013"
      },
      "execution_count": 8,
      "outputs": [
        {
          "output_type": "stream",
          "name": "stdout",
          "text": [
            "[Errno 2] No such file or directory: '/content/drive/MyDrive/Colab Notebooks/ML в бизнесе/lesson3/'\n",
            "/content\n"
          ]
        }
      ]
    },
    {
      "cell_type": "code",
      "source": [
        "def plot_confusion_matrix(cm, classes,\n",
        "                          normalize=False,\n",
        "                          title='Confusion matrix',\n",
        "                          cmap=plt.cm.Blues):\n",
        "    \"\"\"\n",
        "    This function prints and plots the confusion matrix.\n",
        "    Normalization can be applied by setting `normalize=True`.\n",
        "    \"\"\"\n",
        "    plt.imshow(cm, interpolation='nearest', cmap=cmap)\n",
        "    plt.title(title)\n",
        "    plt.colorbar()\n",
        "    tick_marks = np.arange(len(classes))\n",
        "    plt.xticks(tick_marks, classes, rotation=45)\n",
        "    plt.yticks(tick_marks, classes)\n",
        "\n",
        "    if normalize:\n",
        "        cm = cm.astype('float') / cm.sum(axis=1)[:, np.newaxis]\n",
        "        print(\"Normalized confusion matrix\")\n",
        "    else:\n",
        "        print('Confusion matrix, without normalization')\n",
        "\n",
        "    print(cm)\n",
        "\n",
        "    thresh = cm.max() / 2.\n",
        "    for i, j in itertools.product(range(cm.shape[0]), range(cm.shape[1])):\n",
        "        plt.text(j, i, cm[i, j],\n",
        "                 horizontalalignment=\"center\",\n",
        "                 color=\"white\" if cm[i, j] > thresh else \"black\")\n",
        "\n",
        "    plt.tight_layout()\n",
        "    plt.ylabel('True label')\n",
        "    plt.xlabel('Predicted label')"
      ],
      "metadata": {
        "id": "_8KCZDm83nw2"
      },
      "execution_count": null,
      "outputs": []
    },
    {
      "cell_type": "markdown",
      "source": [
        "Описание задачи датасета\n",
        "Определение вероятности наличия сердечно-сосудистых заболеваний по данным первичного осмотра. Нужно предсказать наличие сердечно-сосудистых заболеваний по результатам классического врачебного осмотра. Датасет сформирован из 70.000 реальных клинических анализов, и в нём используются признаки, которые можно разбить на 3 группы:\n",
        "\n",
        "\n",
        "Объективные признаки:\n",
        "\n",
        "\n",
        "Возраст\n",
        "\n",
        "Рост\n",
        "\n",
        "Вес\n",
        "\n",
        "Пол\n",
        "\n",
        "Результаты измерения:\n",
        "\n",
        "Артериальное давление верхнее и нижнее\n",
        "\n",
        "Холестерин\n",
        "\n",
        "Глюкоза\n",
        "\n",
        "Субъективные признаки:\n",
        "\n",
        "Курение\n",
        "\n",
        "Употребление Алкоголя\n",
        "\n",
        "Физическая активность\n",
        "\n",
        "Возраст дан в днях. Значения показателей холестерина и глюкозы представлены одним из трех классов: норма, выше нормы, значительно выше нормы. Значения субъективных признаков — бинарны.\n",
        "\n",
        "\n",
        "Все показатели даны на момент осмотра.\n",
        "\n",
        "\n",
        "Таргет - наличие сердечно-сосудистых заболеваний (ССЗ)"
      ],
      "metadata": {
        "id": "dNZupICR3sLX"
      }
    },
    {
      "cell_type": "code",
      "source": [
        "data = pd.read_csv('train_case2.csv', ';')\n",
        "data.head(3)"
      ],
      "metadata": {
        "id": "788nQ8rR3oof"
      },
      "execution_count": null,
      "outputs": []
    },
    {
      "cell_type": "code",
      "source": [
        "df = data.copy()"
      ],
      "metadata": {
        "id": "9kWvXZ4N376q"
      },
      "execution_count": null,
      "outputs": []
    },
    {
      "cell_type": "code",
      "source": [
        "df.info()"
      ],
      "metadata": {
        "id": "KRDogE8j3_Me"
      },
      "execution_count": null,
      "outputs": []
    },
    {
      "cell_type": "code",
      "source": [
        "df['age_years'] = round(df['age'] / 365).astype(int)"
      ],
      "metadata": {
        "id": "vQ1Q4Y4l4BHN"
      },
      "execution_count": null,
      "outputs": []
    },
    {
      "cell_type": "code",
      "source": [
        "df.head()"
      ],
      "metadata": {
        "id": "PwwzA47r4DFM"
      },
      "execution_count": null,
      "outputs": []
    },
    {
      "cell_type": "code",
      "source": [
        "df.describe().T"
      ],
      "metadata": {
        "id": "MbknmDrL4Eru"
      },
      "execution_count": null,
      "outputs": []
    },
    {
      "cell_type": "code",
      "source": [
        "for col in ['height', 'weight', 'ap_hi', 'ap_lo']:\n",
        "\n",
        "  plt.hist(df[col])\n",
        "  plt.title(col)\n",
        "  plt.show()"
      ],
      "metadata": {
        "id": "kZji4AKR4eyi"
      },
      "execution_count": null,
      "outputs": []
    },
    {
      "cell_type": "code",
      "source": [
        "for col in ['smoke', 'alco', 'active']:\n",
        "  sns.countplot(x=col, hue='cardio', data=df)\n",
        "  plt.title(f'{col} and cardiovascular disease')\n",
        "  plt.show()"
      ],
      "metadata": {
        "id": "5afpexKn4jFU"
      },
      "execution_count": null,
      "outputs": []
    },
    {
      "cell_type": "code",
      "source": [
        "rcParams['figure.figsize'] = 11, 8\n",
        "sns.countplot(x='age_years', hue='cardio', data = df, palette=\"Set2\");"
      ],
      "metadata": {
        "id": "LbJFoLTs4l0p"
      },
      "execution_count": null,
      "outputs": []
    },
    {
      "cell_type": "code",
      "source": [
        "df_categorical = df.loc[:,['cholesterol','gluc', 'smoke', 'alco', 'active']]\n",
        "sns.countplot(x=\"variable\", hue=\"value\",data= pd.melt(df_categorical));"
      ],
      "metadata": {
        "id": "6M5h9GEO4obn"
      },
      "execution_count": null,
      "outputs": []
    },
    {
      "cell_type": "code",
      "source": [
        "df_long = pd.melt(df, id_vars=['cardio'], value_vars=['cholesterol','gluc', 'smoke', 'alco', 'active'])\n",
        "sns.catplot(x=\"variable\", hue=\"value\", col=\"cardio\",\n",
        "                data=df_long, kind=\"count\");"
      ],
      "metadata": {
        "id": "upUYNc9w4uHL"
      },
      "execution_count": null,
      "outputs": []
    },
    {
      "cell_type": "code",
      "source": [
        "# gender 1 - man, 2 - woman"
      ],
      "metadata": {
        "id": "6NP2XMpZ4yDX"
      },
      "execution_count": null,
      "outputs": []
    },
    {
      "cell_type": "code",
      "source": [
        "df.groupby('gender')['alco'].sum()"
      ],
      "metadata": {
        "id": "7eBE1X194y7e"
      },
      "execution_count": null,
      "outputs": []
    },
    {
      "cell_type": "code",
      "source": [
        "df['cardio'].value_counts(normalize=True)"
      ],
      "metadata": {
        "id": "nU9UJDy642wL"
      },
      "execution_count": null,
      "outputs": []
    },
    {
      "cell_type": "code",
      "source": [
        "pd.crosstab(df['cardio'],df['gender'],normalize=True)"
      ],
      "metadata": {
        "id": "mq-wBFTZ44qH"
      },
      "execution_count": null,
      "outputs": []
    },
    {
      "cell_type": "code",
      "source": [
        "df['gluc'].value_counts()"
      ],
      "metadata": {
        "id": "WCr_uLsD46cT"
      },
      "execution_count": null,
      "outputs": []
    },
    {
      "cell_type": "code",
      "source": [
        "df['cholesterol'].value_counts()"
      ],
      "metadata": {
        "id": "2pxoEJ5L48rJ"
      },
      "execution_count": null,
      "outputs": []
    },
    {
      "cell_type": "code",
      "source": [
        "df.loc[df['weight'] < 40, 'weight'].count()"
      ],
      "metadata": {
        "id": "mHlFZqLb4_Hc"
      },
      "execution_count": null,
      "outputs": []
    },
    {
      "cell_type": "code",
      "source": [
        "df.loc[df['weight'] > 170, 'weight'].count()"
      ],
      "metadata": {
        "id": "yc8z8HHF5A3z"
      },
      "execution_count": null,
      "outputs": []
    },
    {
      "cell_type": "code",
      "source": [
        "print(df.loc[df['ap_hi'] > 220, 'ap_hi'].count())\n",
        "print(df.loc[df['ap_hi'] < 80, 'ap_hi'].count())"
      ],
      "metadata": {
        "id": "wGR9ZzrT5Dvk"
      },
      "execution_count": null,
      "outputs": []
    },
    {
      "cell_type": "code",
      "source": [
        "df['ap_hi'].quantile([0.05, 0.25, 0.5, 0.75, 0.95])"
      ],
      "metadata": {
        "id": "OX7gGiTX5GQs"
      },
      "execution_count": null,
      "outputs": []
    },
    {
      "cell_type": "code",
      "source": [
        "print(df.loc[df['ap_lo'] > 110, 'ap_lo'].count())\n",
        "print(df.loc[df['ap_lo'] < 55, 'ap_lo'].count())"
      ],
      "metadata": {
        "id": "qMbGJd0w5ISX"
      },
      "execution_count": null,
      "outputs": []
    },
    {
      "cell_type": "code",
      "source": [
        "df['ap_lo'].quantile([0.05, 0.25, 0.5, 0.75, 0.95])"
      ],
      "metadata": {
        "id": "q4Bf-rVA5KR6"
      },
      "execution_count": null,
      "outputs": []
    },
    {
      "cell_type": "code",
      "source": [
        "df.drop(df[(df['height'] > df['height'].quantile(0.975)) | (df['height'] < df['height'].quantile(0.025))].index,inplace=True)\n",
        "df.drop(df[(df['weight'] > df['weight'].quantile(0.975)) | (df['weight'] < df['weight'].quantile(0.025))].index,inplace=True)"
      ],
      "metadata": {
        "id": "xMhx-Hfw5M2C"
      },
      "execution_count": null,
      "outputs": []
    },
    {
      "cell_type": "code",
      "source": [
        "print(\"Diastilic pressure is higher than systolic one in {0} cases\".format(df[df['ap_lo']> df['ap_hi']].shape[0]))"
      ],
      "metadata": {
        "id": "vYkrVBT15OJw"
      },
      "execution_count": null,
      "outputs": []
    },
    {
      "cell_type": "code",
      "source": [
        "df.drop(df[(df['ap_hi'] > 220) | (df['ap_hi'] < 80)].index,inplace=True)\n",
        "df.drop(df[(df['ap_lo'] > 110) | (df['ap_lo'] < 55)].index,inplace=True)"
      ],
      "metadata": {
        "id": "gWIGahEx5QqX"
      },
      "execution_count": null,
      "outputs": []
    },
    {
      "cell_type": "code",
      "source": [
        "df['pulse_pressure'] = round((df['ap_hi'] - df['ap_lo']) / df['ap_hi'], 2)"
      ],
      "metadata": {
        "id": "OdJpvHo05Tqd"
      },
      "execution_count": null,
      "outputs": []
    },
    {
      "cell_type": "code",
      "source": [
        "df.loc[df['pulse_pressure'] < 0.25, 'pulse_pressure'].value_counts()"
      ],
      "metadata": {
        "id": "bBrtFihA5asO"
      },
      "execution_count": null,
      "outputs": []
    },
    {
      "cell_type": "code",
      "source": [
        "df.drop(df[df['pulse_pressure'] < 0.25].index,inplace=True)"
      ],
      "metadata": {
        "id": "67KfGf8H5cu6"
      },
      "execution_count": null,
      "outputs": []
    },
    {
      "cell_type": "code",
      "source": [
        "blood_pressure = df.loc[:,['ap_lo','ap_hi']]\n",
        "sns.boxplot(x = 'variable',y = 'value',data = blood_pressure.melt())\n",
        "print(\"Diastilic pressure is higher than systolic one in {0} cases\".format(df[df['ap_lo']> df['ap_hi']].shape[0]))"
      ],
      "metadata": {
        "id": "cCZGUdTp5gFn"
      },
      "execution_count": null,
      "outputs": []
    },
    {
      "cell_type": "code",
      "source": [
        "df['bmi'] = round(df['weight']/((df['height']/100)**2), 2)\n",
        "sns.catplot(x=\"gender\", y=\"bmi\", hue=\"alco\", col=\"cardio\", data=df, color = \"yellow\",kind=\"box\", height=10, aspect=.7);"
      ],
      "metadata": {
        "id": "m1iXwRte5ipE"
      },
      "execution_count": null,
      "outputs": []
    },
    {
      "cell_type": "code",
      "source": [
        "corr = df.iloc[:, 1::] .corr()\n",
        "cmap = sns.diverging_palette(220, 10, as_cmap=True)\n",
        "# Generate a mask for the upper triangle\n",
        "mask = np.zeros_like(corr, dtype=np.bool)\n",
        "mask[np.triu_indices_from(mask)] = True\n",
        "\n",
        "# Set up the matplotlib figure\n",
        "f, ax = plt.subplots(figsize=(11, 9))\n",
        "# Draw the heatmap with the mask and correct aspect ratio\n",
        "sns.heatmap(corr, mask=mask, cmap=cmap, vmax=.3, center=0,annot = True,\n",
        "            square=True, linewidths=.5, cbar_kws={\"shrink\": .5});"
      ],
      "metadata": {
        "id": "iZMcc1T65o9i"
      },
      "execution_count": null,
      "outputs": []
    },
    {
      "cell_type": "code",
      "source": [
        "#разделим данные на train/test\n",
        "X_train, X_test, y_train, y_test = train_test_split(df.drop('cardio', 1),\n",
        "                                                    df['cardio'], random_state=0)"
      ],
      "metadata": {
        "id": "cVn6LDT85pBT"
      },
      "execution_count": null,
      "outputs": []
    },
    {
      "cell_type": "code",
      "source": [
        "df.columns"
      ],
      "metadata": {
        "id": "r8PgFma25viG"
      },
      "execution_count": null,
      "outputs": []
    },
    {
      "cell_type": "code",
      "source": [
        "# Заполнение пропусков\n",
        "class TextImputer(BaseEstimator, TransformerMixin):\n",
        "    def __init__(self, key, value):\n",
        "        self.key = key\n",
        "        self.value = value\n",
        "    def fit(self, X, y=None):\n",
        "        return self\n",
        "    def transform(self, X):\n",
        "        X[self.key] = X[self.key].fillna(self.value)\n",
        "        return X\n",
        "\n",
        "\n",
        "class BMI(BaseEstimator, TransformerMixin):\n",
        "    def __init__(self, height, weight):\n",
        "        self.height = height\n",
        "        self.weight = weight\n",
        "        self.col = []\n",
        "\n",
        "    def fit(self, X, y=None):\n",
        "        self.col = 'bmi'\n",
        "        return self\n",
        "\n",
        "    def transform(self, X):\n",
        "        X[self.col] = X[self.weight].values.reshape(-1,1) / ((X[self.height].values.reshape(-1,1) / 100) ** 2)\n",
        "        # X_bmi = X[self.weight].values.reshape(-1,1) / ((X[self.height].values.reshape(-1,1) / 100) ** 2)\n",
        "        # B = pd.DataFrame(data = X_bmi, index = X.index, columns = [self.col])\n",
        "        return X[self.col].values.reshape(-1,1)\n",
        "\n",
        "\n",
        "class PulsePressure(BaseEstimator, TransformerMixin):\n",
        "    def __init__(self, ap_hi, ap_lo):\n",
        "        self.ap_hi = ap_hi\n",
        "        self.ap_lo = ap_lo\n",
        "        self.col = []\n",
        "\n",
        "    def fit(self, X, y=None):\n",
        "        self.col = 'pulse_pressure'\n",
        "        return self\n",
        "\n",
        "    def transform(self, X):\n",
        "        X[self.col] = (X[self.ap_hi].values.reshape(-1,1) - X[self.ap_lo].values.reshape(-1,1)) / X[self.ap_hi].values.reshape(-1,1)\n",
        "        # X_bmi = X[self.weight].values.reshape(-1,1) / ((X[self.height].values.reshape(-1,1) / 100) ** 2)\n",
        "        # B = pd.DataFrame(data = X_bmi, index = X.index, columns = [self.col])\n",
        "        return X[self.col].values.reshape(-1,1)\n",
        "\n",
        "\n",
        "class ColumnSelector(BaseEstimator, TransformerMixin):\n",
        "    \"\"\"\n",
        "    Transformer to select a single column from the data frame to perform additional transformations on\n",
        "    \"\"\"\n",
        "    def __init__(self, key):\n",
        "        self.key = key\n",
        "\n",
        "    def fit(self, X, y=None):\n",
        "        return self\n",
        "\n",
        "    def transform(self, X):\n",
        "        return X[self.key]\n",
        "\n",
        "class NumberSelector(BaseEstimator, TransformerMixin):\n",
        "    \"\"\"\n",
        "    Transformer to select a single column from the data frame to perform additional transformations on\n",
        "    Use on numeric columns in the data\n",
        "    \"\"\"\n",
        "    def __init__(self, key):\n",
        "        self.key = key\n",
        "\n",
        "    def fit(self, X, y=None):\n",
        "        return self\n",
        "\n",
        "    def transform(self, X):\n",
        "        return X[[self.key]]\n",
        "\n",
        "class OHEEncoder(BaseEstimator, TransformerMixin):\n",
        "    def __init__(self, key):\n",
        "        self.key = key\n",
        "        self.columns = []\n",
        "\n",
        "    def fit(self, X, y=None):\n",
        "        self.columns = [col for col in pd.get_dummies(X, prefix=self.key).columns]\n",
        "        return self\n",
        "\n",
        "    def transform(self, X):\n",
        "        X = pd.get_dummies(X, prefix=self.key)\n",
        "        test_columns = [col for col in X.columns]\n",
        "        for col_ in self.columns:\n",
        "            if col_ not in test_columns:\n",
        "                X[col_] = 0\n",
        "        return X[self.columns]\n",
        "\n",
        "\n",
        "class OHEEncoderBin(BaseEstimator, TransformerMixin):\n",
        "    def __init__(self, key):\n",
        "        self.key = key\n",
        "        self.columns = []\n",
        "\n",
        "    def fit(self, X, y=None):\n",
        "        B = [col for col in pd.get_dummies(X, prefix=self.key).columns]\n",
        "        self.columns = B[:1]\n",
        "        return self\n",
        "\n",
        "    def transform(self, X):\n",
        "        X = pd.get_dummies(X, prefix=self.key)\n",
        "        return X[self.columns]"
      ],
      "metadata": {
        "id": "CPrWFbH750iA"
      },
      "execution_count": null,
      "outputs": []
    },
    {
      "cell_type": "code",
      "source": [
        "gluc = Pipeline([\n",
        "                ('imputer', TextImputer('gluc', '')),\n",
        "                # ('selector', ColumnSelector(key='gluc')),\n",
        "                ('selector', NumberSelector(key='gluc')),\n",
        "                ('standard', StandardScaler())\n",
        "                # ('ohe', OHEEncoder(key='gluc'))\n",
        "])\n",
        "gluc.fit(X_train)\n",
        "gluc.transform(X_test)"
      ],
      "metadata": {
        "id": "ce6SxKPW53Sk"
      },
      "execution_count": null,
      "outputs": []
    },
    {
      "cell_type": "code",
      "source": [
        "gender = Pipeline([\n",
        "                ('selector', ColumnSelector(key='gender')),\n",
        "                ('ohe', OHEEncoderBin(key='gender'))\n",
        "            ])\n",
        "gender.fit(X_train)\n",
        "gender.transform(X_test).head(3)"
      ],
      "metadata": {
        "id": "lXWfPxua55JO"
      },
      "execution_count": null,
      "outputs": []
    },
    {
      "cell_type": "code",
      "source": [
        "age =  Pipeline([\n",
        "                ('imputer', TextImputer('age_years', '')),\n",
        "                ('selector', NumberSelector(key='age_years')),\n",
        "                ('standard', StandardScaler())\n",
        "            ])\n",
        "age.fit(X_train)\n",
        "age.transform(X_test)"
      ],
      "metadata": {
        "id": "aslhZUl557eW"
      },
      "execution_count": null,
      "outputs": []
    },
    {
      "cell_type": "code",
      "source": [
        "bmi =  Pipeline([\n",
        "                ('bmi', BMI('height', 'weight')),\n",
        "                ('standard', StandardScaler())\n",
        "            ])\n",
        "bmi.fit(df)\n",
        "bmi.transform(X_test)"
      ],
      "metadata": {
        "id": "EbPCVDGn59xE"
      },
      "execution_count": null,
      "outputs": []
    },
    {
      "cell_type": "code",
      "source": [
        "pulse_pressure =  Pipeline([\n",
        "                ('pulse', BMI('ap_hi', 'ap_lo')),\n",
        "                ('standard', StandardScaler())\n",
        "            ])\n",
        "pulse_pressure.fit(df)\n",
        "pulse_pressure.transform(X_test)"
      ],
      "metadata": {
        "id": "hO2ezZzICPq2"
      },
      "execution_count": null,
      "outputs": []
    },
    {
      "cell_type": "code",
      "source": [
        "continuos_cols = ['age_years', 'ap_hi', 'ap_lo', 'height'] # ['age_years', 'ap_hi', 'ap_lo', 'height', 'weight'] #\n",
        "cat_cols = ['gluc', 'cholesterol']\n",
        "base_cols = ['alco', 'active', 'smoke', 'gender']\n",
        "\n",
        "continuos_transformers = []\n",
        "cat_transformers = []\n",
        "base_transformers = []\n",
        "\n",
        "for cont_col in continuos_cols:\n",
        "    transfomer =  Pipeline([\n",
        "                ('imputer', TextImputer(cont_col, 0)),\n",
        "                ('selector', NumberSelector(key=cont_col)),\n",
        "                ('standard', StandardScaler())\n",
        "            ])\n",
        "    continuos_transformers.append((cont_col, transfomer))\n",
        "\n",
        "for cat_col in cat_cols:\n",
        "    cat_transformer = Pipeline([\n",
        "                ('imputer', TextImputer(cat_col, 0)),\n",
        "                ('selector', NumberSelector(key=cont_col)),\n",
        "                ('standard', StandardScaler())\n",
        "            ])\n",
        "    cat_transformers.append((cat_col, cat_transformer))\n",
        "\n",
        "for base_col in base_cols:\n",
        "    base_transformer = Pipeline([\n",
        "                ('imputer', TextImputer(base_col, 0)),\n",
        "                ('selector', NumberSelector(key=base_col)),\n",
        "                ('one', OHEEncoderBin(key=base_col))\n",
        "            ])\n",
        "    base_transformers.append((base_col, base_transformer))\n",
        "\n",
        "bmi =  Pipeline([\n",
        "                ('bmi', BMI('height', 'weight')),\n",
        "                ('standard', StandardScaler())\n",
        "            ])\n",
        "continuos_transformers.append(('bmi', bmi))\n",
        "\n",
        "pulse_pressure =  Pipeline([\n",
        "                ('pulse', BMI('ap_hi', 'ap_lo')),\n",
        "                ('standard', StandardScaler())\n",
        "            ])\n",
        "continuos_transformers.append(('pulse_pressure', pulse_pressure))"
      ],
      "metadata": {
        "id": "Py2nedS0CTCZ"
      },
      "execution_count": null,
      "outputs": []
    },
    {
      "cell_type": "code",
      "source": [
        "from sklearn.pipeline import FeatureUnion\n",
        "\n",
        "feats = FeatureUnion(continuos_transformers+cat_transformers+base_transformers)\n",
        "feature_processing = Pipeline([('feats', feats)])\n",
        "\n",
        "feature_processing.fit_transform(X_train).shape"
      ],
      "metadata": {
        "id": "sG0kkxNOCVMv"
      },
      "execution_count": null,
      "outputs": []
    },
    {
      "cell_type": "code",
      "source": [
        "import random\n",
        "from sklearn.linear_model import LogisticRegression\n",
        "import xgboost as xgb\n",
        "from catboost import CatBoostClassifier"
      ],
      "metadata": {
        "id": "P5hmidPeCXRT"
      },
      "execution_count": null,
      "outputs": []
    },
    {
      "cell_type": "code",
      "source": [
        "random.seed(0)\n",
        "models =  [xgb.XGBClassifier(), LogisticRegression(), CatBoostClassifier(verbose=0)]"
      ],
      "metadata": {
        "id": "6VAkV7ckCZfr"
      },
      "execution_count": null,
      "outputs": []
    },
    {
      "cell_type": "code",
      "source": [
        "preds = []\n",
        "for model in models:\n",
        "  pipeline = Pipeline([\n",
        "    ('features',feats),\n",
        "    ('classifier', model)\n",
        "    ])\n",
        "  pipeline.fit(X_train, y_train)\n",
        "  preds.append(pipeline.predict_proba(X_test)[:, 1])"
      ],
      "metadata": {
        "id": "VFBIMxWQCcud"
      },
      "execution_count": null,
      "outputs": []
    },
    {
      "cell_type": "code",
      "source": [
        "#наши прогнозы для тестовой выборки\n",
        "preds"
      ],
      "metadata": {
        "id": "aMdHEWFYCl24"
      },
      "execution_count": null,
      "outputs": []
    },
    {
      "cell_type": "code",
      "source": [
        "result = {\n",
        "    'model': [],\n",
        "    'Best Threshold': [],\n",
        "    'F-Score': [],\n",
        "    'Precision': [],\n",
        "    'Recall': []\n",
        "}"
      ],
      "metadata": {
        "id": "FX_AuHwXCrAZ"
      },
      "execution_count": null,
      "outputs": []
    },
    {
      "cell_type": "code",
      "source": [
        "fscore = []\n",
        "ix = []\n",
        "thresholds = []\n",
        "for i in range(len(preds)):\n",
        "  precision, recall, threshold = precision_recall_curve(y_test, preds[i])\n",
        "  thresholds.append(threshold)\n",
        "  fscore.append((2 * precision * recall) / (precision + recall))\n",
        "  # locate the index of the largest f score\n",
        "  ix.append(np.argmax(fscore[i]))\n",
        "  print('Best params for ', models[i], ': Threshold=%f, F-Score=%.3f, Precision=%.3f, Recall=%.3f' % (thresholds[i][ix[i]],\n",
        "                                                                          fscore[i][ix[i]],\n",
        "                                                                          precision[ix[i]],\n",
        "                                                                          recall[ix[i]]))\n",
        "  result['model'].append(models[i])\n",
        "  result['Best Threshold'].append(thresholds[i][ix[i]])\n",
        "  result['F-Score'].append(fscore[i][ix[i]])\n",
        "  result['Precision'].append(precision[ix[i]])\n",
        "  result['Recall'].append(recall[ix[i]])"
      ],
      "metadata": {
        "id": "gkQ_QOBNCtml"
      },
      "execution_count": null,
      "outputs": []
    },
    {
      "cell_type": "code",
      "source": [
        "result = pd.DataFrame(data=result).sort_values('F-Score', ascending=False)\n",
        "result"
      ],
      "metadata": {
        "id": "QqXVUW8GCugi"
      },
      "execution_count": null,
      "outputs": []
    },
    {
      "cell_type": "code",
      "source": [
        "def plot_roc_curve(y_test, y_score):\n",
        "  sns.set(font_scale=1.5)\n",
        "  sns.set_color_codes(\"muted\")\n",
        "\n",
        "  plt.figure(figsize=(10, 8))\n",
        "  fpr, tpr, thresholds_ = roc_curve(y_test, y_score, pos_label=1)\n",
        "  lw = 2\n",
        "  plt.plot(fpr, tpr, lw=lw, label='ROC curve ')\n",
        "  plt.plot([0, 1], [0, 1])\n",
        "  plt.xlim([0.0, 1.0])\n",
        "  plt.ylim([0.0, 1.05])\n",
        "  plt.xlabel('False Positive Rate')\n",
        "  plt.ylabel('True Positive Rate')\n",
        "  plt.title('ROC curve')\n",
        "  plt.savefig(\"ROC.png\")\n",
        "  plt.show()"
      ],
      "metadata": {
        "id": "hFPK5UnZCyJ5"
      },
      "execution_count": null,
      "outputs": []
    },
    {
      "cell_type": "code",
      "source": [
        "plot_roc_curve(y_test, preds[0])"
      ],
      "metadata": {
        "id": "-R8fOKXPC0Nl"
      },
      "execution_count": null,
      "outputs": []
    },
    {
      "cell_type": "code",
      "source": [
        "from sklearn.metrics import roc_auc_score, log_loss\n",
        "for i, m in enumerate(preds):\n",
        "  roc_auc_scor = roc_auc_score(y_true=y_test, y_score=preds[i])\n",
        "  print(models[i], ':')\n",
        "  print(\"roc auc score: {}\".format(roc_auc_score(y_true=y_test, y_score=preds[i])))\n",
        "  print(\"log loss score: {}\".format(log_loss(y_true=y_test, y_pred=preds[i])))\n",
        "  print('_________________________________________________________________')"
      ],
      "metadata": {
        "id": "z3zJ4myGC2YN"
      },
      "execution_count": null,
      "outputs": []
    },
    {
      "cell_type": "code",
      "source": [
        "#мы уже нашли ранее \"оптимальный\" порог, когда максимизировали f_score\n",
        "font = {'size' : 15}\n",
        "\n",
        "plt.rc('font', **font)\n",
        "\n",
        "for i in range(len(preds)):\n",
        "  cnf_matrix = confusion_matrix(y_test, preds[i]>thresholds[i][ix[i]])\n",
        "  plt.figure(figsize=(10, 8))\n",
        "  plot_confusion_matrix(cnf_matrix, classes=['cardio_0', 'cardio_1'],\n",
        "                      title='Confusion matrix ' + str(models[i]))\n",
        "# plt.savefig(\"conf_matrix.png\")\n",
        "  plt.show()"
      ],
      "metadata": {
        "id": "KcLqObWBC4Ch"
      },
      "execution_count": null,
      "outputs": []
    },
    {
      "cell_type": "code",
      "source": [
        "pipeline = Pipeline([\n",
        "    ('features',feats),\n",
        "    ('classifier', CatBoostClassifier(verbose=0))\n",
        "    ])\n",
        "pipeline.fit(X_train, y_train)\n",
        "preds = pipeline.predict_proba(X_test)[:, 1]"
      ],
      "metadata": {
        "id": "mCPH3SVTC90N"
      },
      "execution_count": null,
      "outputs": []
    },
    {
      "cell_type": "code",
      "source": [
        "b=1\n",
        "precision, recall, thresholds = precision_recall_curve(y_test.values, preds)\n",
        "fscore = (1+b**2)*(precision * recall) / (b**2*precision + recall)\n",
        "# locate the index of the largest f score\n",
        "ix = np.argmax(fscore)\n",
        "print('Best Threshold=%f, F-Score=%.3f, Precision=%.3f, Recall=%.3f' % (thresholds[ix],\n",
        "                                                                        fscore[ix],\n",
        "                                                                        precision[ix],\n",
        "                                                                        recall[ix]))"
      ],
      "metadata": {
        "id": "NTUBN7oeDBAM"
      },
      "execution_count": null,
      "outputs": []
    },
    {
      "cell_type": "code",
      "source": [
        "plot_roc_curve(y_test, preds)"
      ],
      "metadata": {
        "id": "2srI19D1DEvj"
      },
      "execution_count": null,
      "outputs": []
    },
    {
      "cell_type": "code",
      "source": [
        "font = {'size' : 15}\n",
        "\n",
        "plt.rc('font', **font)\n",
        "\n",
        "cnf_matrix = confusion_matrix(y_test, preds>thresholds[ix])\n",
        "plt.figure(figsize=(10, 8))\n",
        "plot_confusion_matrix(cnf_matrix, classes=['cardio_0', 'cardio_1'],\n",
        "                      title='Confusion matrix')\n",
        "plt.savefig(\"conf_matrix.png\")\n",
        "plt.show()"
      ],
      "metadata": {
        "id": "N7yxwX3LDK97"
      },
      "execution_count": null,
      "outputs": []
    },
    {
      "cell_type": "code",
      "source": [
        "# pipeline.get_params()"
      ],
      "metadata": {
        "id": "xNlJ8xKyDM6K"
      },
      "execution_count": null,
      "outputs": []
    },
    {
      "cell_type": "code",
      "source": [
        "with open(\"Catboost_pipeline.dill\", \"wb\") as f:\n",
        "    dill.dump(pipeline, f)"
      ],
      "metadata": {
        "id": "bKjrRkD9DPZJ"
      },
      "execution_count": null,
      "outputs": []
    },
    {
      "cell_type": "code",
      "source": [
        "import dill as pickle\n",
        "with open(\"Catboost_pipeline.pkl\", 'wb') as file:\n",
        "    pickle.dump(pipeline, file)"
      ],
      "metadata": {
        "id": "srniSxLlDRDL"
      },
      "execution_count": null,
      "outputs": []
    },
    {
      "cell_type": "code",
      "source": [
        "model = pickle.load(open('Catboost_pipeline.pkl', 'rb'))"
      ],
      "metadata": {
        "id": "waMF3dFsDTLm"
      },
      "execution_count": null,
      "outputs": []
    },
    {
      "cell_type": "code",
      "source": [
        "x = pd.DataFrame({\"age_years\": [55, 66, 33],\n",
        "                                  'gender': [2, 2, 1],\n",
        "                                  'height': [180, 140, 170],\n",
        "                                  'weight': [110, 50, 80],\n",
        "                                  'ap_hi': [160, 120, 120],\n",
        "                                  'ap_lo': [120, 80, 80],\n",
        "                                  'cholesterol': [2, 2, 1],\n",
        "                                  'gluc': [1, 2, 3],\n",
        "                                  'smoke': [1, 1, 1],\n",
        "                                  'alco': [1, 1, 1],\n",
        "                                  'active': [1, 1, 1]\n",
        "                        })\n",
        "x"
      ],
      "metadata": {
        "id": "sTzLn9puDVJC"
      },
      "execution_count": null,
      "outputs": []
    },
    {
      "cell_type": "code",
      "source": [
        "model.predict_proba(x)"
      ],
      "metadata": {
        "id": "4CdVpD_0DW1S"
      },
      "execution_count": null,
      "outputs": []
    }
  ]
}