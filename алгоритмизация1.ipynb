{
  "nbformat": 4,
  "nbformat_minor": 0,
  "metadata": {
    "colab": {
      "name": "алгоритмизация1.ipynb",
      "provenance": [],
      "authorship_tag": "ABX9TyOb3uE55tP2dz0KgZUh/mUc",
      "include_colab_link": true
    },
    "kernelspec": {
      "name": "python3",
      "display_name": "Python 3"
    },
    "language_info": {
      "name": "python"
    }
  },
  "cells": [
    {
      "cell_type": "markdown",
      "metadata": {
        "id": "view-in-github",
        "colab_type": "text"
      },
      "source": [
        "<a href=\"https://colab.research.google.com/github/coldbilberry/repo-gui/blob/main/%D0%B0%D0%BB%D0%B3%D0%BE%D1%80%D0%B8%D1%82%D0%BC%D0%B8%D0%B7%D0%B0%D1%86%D0%B8%D1%8F1.ipynb\" target=\"_parent\"><img src=\"https://colab.research.google.com/assets/colab-badge.svg\" alt=\"Open In Colab\"/></a>"
      ]
    },
    {
      "cell_type": "code",
      "execution_count": 2,
      "metadata": {
        "colab": {
          "base_uri": "https://localhost:8080/"
        },
        "id": "BWzlrhblLx8n",
        "outputId": "1023d68f-23d6-44c1-a6ff-ef5486ccb3d1"
      },
      "outputs": [
        {
          "output_type": "stream",
          "name": "stdout",
          "text": [
            "Введите два числа\n",
            "Введите первое число:154\n",
            "Введите второе число:89\n",
            "Частное равно 1.7303370786516854\n"
          ]
        }
      ],
      "source": [
        "print ('Введите два числа')\n",
        "a = int(input('Введите первое число:'))\n",
        "b = int(input('Введите второе число:'))\n",
        "if b > 0:\n",
        "  c = a/b\n",
        "  print ('Частное равно', c)\n",
        "else:\n",
        "  print ('Решений нет')"
      ]
    },
    {
      "cell_type": "code",
      "source": [
        "print ('Введите три числа')\n",
        "a = int(input('Введите первое число: '))\n",
        "b = int(input('Введите второе число: '))\n",
        "c = int(input('Введите третье число: '))\n",
        "if c > 0:\n",
        "  d = (a + b) / c\n",
        "  print ('Результат', d)\n",
        "else:\n",
        "  print ('Решений нет')"
      ],
      "metadata": {
        "colab": {
          "base_uri": "https://localhost:8080/"
        },
        "id": "vC9dj4gF7sWw",
        "outputId": "b8b13d93-2e04-4fb2-9c25-d1ecfbb4afcd"
      },
      "execution_count": 8,
      "outputs": [
        {
          "output_type": "stream",
          "name": "stdout",
          "text": [
            "Введите три числа\n",
            "Введите первое число: 2\n",
            "Введите второе число: 4\n",
            "Введите третье число: 3\n",
            "Результат 2.0\n"
          ]
        }
      ]
    },
    {
      "cell_type": "code",
      "source": [
        "print ('Введите три числа')\n",
        "a = int(input('Введите первое число: '))\n",
        "b = int(input('Введите второе число: '))\n",
        "c = int(input('Введите третье число: '))\n",
        "if c > 0:\n",
        "  d = (a^2 + b) / c\n",
        "  print ('Результат' , d)\n",
        "else:\n",
        "  print ('Решение не найдено')"
      ],
      "metadata": {
        "colab": {
          "base_uri": "https://localhost:8080/"
        },
        "id": "Q7mvx-3MO0qT",
        "outputId": "12e047b8-55ad-457f-aa59-77876aec4942"
      },
      "execution_count": 10,
      "outputs": [
        {
          "output_type": "stream",
          "name": "stdout",
          "text": [
            "Введите три числа\n",
            "Введите первое число: 2\n",
            "Введите второе число: 6\n",
            "Введите третье число: 5\n",
            "Результат 2.0\n"
          ]
        }
      ]
    },
    {
      "cell_type": "code",
      "source": [
        "print ('Введите три числа')\n",
        "a = int(input('Введите первое число: '))\n",
        "b = int(input('Введите второе число: '))\n",
        "c = int(input('Введите третье число: '))\n",
        "d = int(input('Введите четвёртое число: '))\n",
        "if (c + d) > 0:\n",
        "  e = (a^2 + b) / (c + d)\n",
        "  print ('Результат' , e)\n",
        "elif (c - d) > 0:\n",
        "  e = (a^2 + b) / (c - d)\n",
        "  print ('Результат' , e)\n",
        "else:\n",
        "  print ('Решение не найдено')"
      ],
      "metadata": {
        "colab": {
          "base_uri": "https://localhost:8080/"
        },
        "id": "JC_OxbbNRFqZ",
        "outputId": "d9a2326f-fb97-463f-ad25-d16544e25200"
      },
      "execution_count": 12,
      "outputs": [
        {
          "output_type": "stream",
          "name": "stdout",
          "text": [
            "Введите три числа\n",
            "Введите первое число: 2\n",
            "Введите второе число: 2\n",
            "Введите третье число: -1\n",
            "Введите четвёртое число: 1\n",
            "Решение не найдено\n"
          ]
        }
      ]
    }
  ]
}