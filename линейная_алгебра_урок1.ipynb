{
  "nbformat": 4,
  "nbformat_minor": 0,
  "metadata": {
    "colab": {
      "name": "линейная алгебра урок1.ipynb",
      "provenance": [],
      "authorship_tag": "ABX9TyOV6b1bC5P5oqAkDQGHD85n",
      "include_colab_link": true
    },
    "kernelspec": {
      "name": "python3",
      "display_name": "Python 3"
    },
    "language_info": {
      "name": "python"
    }
  },
  "cells": [
    {
      "cell_type": "markdown",
      "metadata": {
        "id": "view-in-github",
        "colab_type": "text"
      },
      "source": [
        "<a href=\"https://colab.research.google.com/github/coldbilberry/repo-gui/blob/main/%D0%BB%D0%B8%D0%BD%D0%B5%D0%B9%D0%BD%D0%B0%D1%8F_%D0%B0%D0%BB%D0%B3%D0%B5%D0%B1%D1%80%D0%B0_%D1%83%D1%80%D0%BE%D0%BA1.ipynb\" target=\"_parent\"><img src=\"https://colab.research.google.com/assets/colab-badge.svg\" alt=\"Open In Colab\"/></a>"
      ]
    },
    {
      "cell_type": "markdown",
      "source": [
        "задание 1\n",
        "a)"
      ],
      "metadata": {
        "id": "PRMKtyfQ6o9a"
      }
    },
    {
      "cell_type": "code",
      "source": [
        "import numpy as np"
      ],
      "metadata": {
        "id": "bK1YErlI6r42"
      },
      "execution_count": 1,
      "outputs": []
    },
    {
      "cell_type": "code",
      "source": [
        "x = np.array([0, -3, 6])\n",
        "y = np.array([-4, 7, 9])\n",
        "print(f'Скалярное произведение x и y: \\n{np.dot(x, y)}')"
      ],
      "metadata": {
        "colab": {
          "base_uri": "https://localhost:8080/"
        },
        "id": "0pfQWztX6wk2",
        "outputId": "60a3ceaa-e287-43df-8136-739ced856c78"
      },
      "execution_count": 2,
      "outputs": [
        {
          "output_type": "stream",
          "name": "stdout",
          "text": [
            "Скалярное произведение x и y: \n",
            "33\n"
          ]
        }
      ]
    },
    {
      "cell_type": "markdown",
      "source": [
        "b)"
      ],
      "metadata": {
        "id": "jf0_Azrc7ueL"
      }
    },
    {
      "cell_type": "code",
      "source": [
        "x = np.array([7, -4, 0, 1])\n",
        "y = np.array([-3, 1, 11, 2])\n",
        "print(f'Скалярное произведение x и y: \\n{np.dot(x, y)}')"
      ],
      "metadata": {
        "colab": {
          "base_uri": "https://localhost:8080/"
        },
        "id": "aR_3BfEN7wik",
        "outputId": "bab6c3c2-fadc-4ac6-b3ae-a7a241fc61a9"
      },
      "execution_count": 3,
      "outputs": [
        {
          "output_type": "stream",
          "name": "stdout",
          "text": [
            "Скалярное произведение x и y: \n",
            "-23\n"
          ]
        }
      ]
    },
    {
      "cell_type": "markdown",
      "source": [
        "Задание 2"
      ],
      "metadata": {
        "id": "AWOCyL2T8vBw"
      }
    },
    {
      "cell_type": "code",
      "source": [
        "from numpy.linalg import norm"
      ],
      "metadata": {
        "id": "pwcxXn-H8yC_"
      },
      "execution_count": 4,
      "outputs": []
    },
    {
      "cell_type": "code",
      "source": [
        "a = np.array([4, 2, 4])\n",
        "b = np.array([12, 3, 4])\n",
        "print(f'Манхэттенская норма вектора a: {norm(a, ord = 1)}')\n",
        "print(f'Манхэттенская норма вектора b: {norm(b, ord = 1)}')\n",
        "print(f'Евклидова норма вектора a: {norm(a, ord = 2)}')\n",
        "print(f'Евклидова норма вектора b: {norm(b, ord = 2)} \\n')\n",
        "print(f'Скалярное произведение a и b: {np.dot(a, b)} \\n')\n",
        "\n",
        "cos_phi = np.dot(a, b) / norm(a) / norm(b)\n",
        "print(f'Косинус угла между a и b: {cos_phi:.3f}')\n",
        "print(f'Угол между a и b: {np.arccos(cos_phi):.3f}')"
      ],
      "metadata": {
        "colab": {
          "base_uri": "https://localhost:8080/"
        },
        "id": "HG5LToDh89WB",
        "outputId": "e27a26ba-d6b3-4d4b-d3ef-f54423e70c1d"
      },
      "execution_count": 5,
      "outputs": [
        {
          "output_type": "stream",
          "name": "stdout",
          "text": [
            "Манхэттенская норма вектора a: 10.0\n",
            "Манхэттенская норма вектора b: 19.0\n",
            "Евклидова норма вектора a: 6.0\n",
            "Евклидова норма вектора b: 13.0 \n",
            "\n",
            "Скалярное произведение a и b: 70 \n",
            "\n",
            "Косинус угла между a и b: 0.897\n",
            "Угол между a и b: 0.457\n"
          ]
        }
      ]
    }
  ]
}