{
  "nbformat": 4,
  "nbformat_minor": 0,
  "metadata": {
    "colab": {
      "provenance": [],
      "authorship_tag": "ABX9TyNVsUqdCRveLAhgwuO0UX3b",
      "include_colab_link": true
    },
    "kernelspec": {
      "name": "python3",
      "display_name": "Python 3"
    },
    "language_info": {
      "name": "python"
    }
  },
  "cells": [
    {
      "cell_type": "markdown",
      "metadata": {
        "id": "view-in-github",
        "colab_type": "text"
      },
      "source": [
        "<a href=\"https://colab.research.google.com/github/coldbilberry/repo-gui/blob/main/%D0%BC%D0%BE%D0%BB%D0%B5%D0%BA%D1%83%D0%BB_%D0%B1%D0%B8%D0%BE_6.ipynb\" target=\"_parent\"><img src=\"https://colab.research.google.com/assets/colab-badge.svg\" alt=\"Open In Colab\"/></a>"
      ]
    },
    {
      "cell_type": "code",
      "execution_count": null,
      "metadata": {
        "id": "ltZQbJOvSdo5"
      },
      "outputs": [],
      "source": [
        "from google.colab import drive\n",
        "drive.mount('/content/drive')"
      ]
    },
    {
      "cell_type": "code",
      "source": [
        "reads = '/content/drive/MyDrive/BIO/SRR12905311.fastq'\n",
        "ref = '/content/drive/MyDrive/BIO/GCF_000006765.1_ASM676v1_genomic.fna'\n",
        "ann = '/content/drive/MyDrive/BIO/genomic1.gtf'"
      ],
      "metadata": {
        "id": "HvpfPJE1WL5n"
      },
      "execution_count": null,
      "outputs": []
    },
    {
      "cell_type": "code",
      "source": [
        "!pip install -q condacolab\n",
        "import condacolab\n",
        "condacolab.install()"
      ],
      "metadata": {
        "id": "2CZXVEETWOWk"
      },
      "execution_count": null,
      "outputs": []
    },
    {
      "cell_type": "code",
      "source": [
        "!conda install -c bioconda fastqc bwa samtools bcftools star"
      ],
      "metadata": {
        "id": "fgyvF4yvWQx9"
      },
      "execution_count": null,
      "outputs": []
    },
    {
      "cell_type": "code",
      "source": [
        "!fastqc $reads # .html, .zip"
      ],
      "metadata": {
        "id": "pnFq-blOWThj"
      },
      "execution_count": null,
      "outputs": []
    },
    {
      "cell_type": "code",
      "source": [
        "!bwa index $ref # файлы: sa, bwt, ann, amb, pac"
      ],
      "metadata": {
        "id": "cFfmbubkWcpJ"
      },
      "execution_count": null,
      "outputs": []
    },
    {
      "cell_type": "code",
      "source": [
        "!bwa mem reads | samtools view -bS | samtools sort -o genomic.bam"
      ],
      "metadata": {
        "id": "O0pd7BpoWl_L"
      },
      "execution_count": null,
      "outputs": []
    },
    {
      "cell_type": "code",
      "source": [
        "!samtools index genomic.bam"
      ],
      "metadata": {
        "id": "IntAgvenWuHu"
      },
      "execution_count": null,
      "outputs": []
    },
    {
      "cell_type": "code",
      "source": [
        "!samtools stats genomic.bam | head -n 50"
      ],
      "metadata": {
        "id": "61ZdSa-XWwOJ"
      },
      "execution_count": null,
      "outputs": []
    },
    {
      "cell_type": "code",
      "source": [
        "!STAR --runMode genomeGenerate --genomeDir /content --genomeFastaFiles $ref"
      ],
      "metadata": {
        "id": "kLz3RoHrWwtc"
      },
      "execution_count": null,
      "outputs": []
    },
    {
      "cell_type": "code",
      "source": [
        "!STAR --runMode alignReads --genomeDir /content --quantMode GeneCounts \\\n",
        "\t--outFileNamePrefix \"star\" --sjdbGTFfile reads"
      ],
      "metadata": {
        "id": "2_9_CMZnWzDX"
      },
      "execution_count": null,
      "outputs": []
    },
    {
      "cell_type": "code",
      "source": [
        "#bam = '/content/drive/MyDrive/BIO/genomic.bam'"
      ],
      "metadata": {
        "id": "xYzYojI7W2Zm"
      },
      "execution_count": null,
      "outputs": []
    },
    {
      "cell_type": "code",
      "source": [
        "#!bcftools mpileup -f bam | bcftools call -mv -o calls.vcf"
      ],
      "metadata": {
        "id": "O6EBTQ1VW4mf"
      },
      "execution_count": null,
      "outputs": []
    },
    {
      "cell_type": "code",
      "source": [
        "!bcftools mpileup -f $ref genomic.bam | bcftools call -mv -o calls.vcf"
      ],
      "metadata": {
        "id": "l_leX60IW6ux"
      },
      "execution_count": null,
      "outputs": []
    },
    {
      "cell_type": "code",
      "source": [
        "!samtools stats genomic.bam > genomic.stats"
      ],
      "metadata": {
        "id": "trI1SjkxW869"
      },
      "execution_count": null,
      "outputs": []
    }
  ]
}