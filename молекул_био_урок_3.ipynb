{
  "nbformat": 4,
  "nbformat_minor": 0,
  "metadata": {
    "colab": {
      "provenance": [],
      "authorship_tag": "ABX9TyNfKBLDVWTUJNKlB+pQ0F7a",
      "include_colab_link": true
    },
    "kernelspec": {
      "name": "python3",
      "display_name": "Python 3"
    },
    "language_info": {
      "name": "python"
    }
  },
  "cells": [
    {
      "cell_type": "markdown",
      "metadata": {
        "id": "view-in-github",
        "colab_type": "text"
      },
      "source": [
        "<a href=\"https://colab.research.google.com/github/coldbilberry/repo-gui/blob/main/%D0%BC%D0%BE%D0%BB%D0%B5%D0%BA%D1%83%D0%BB_%D0%B1%D0%B8%D0%BE_%D1%83%D1%80%D0%BE%D0%BA_3.ipynb\" target=\"_parent\"><img src=\"https://colab.research.google.com/assets/colab-badge.svg\" alt=\"Open In Colab\"/></a>"
      ]
    },
    {
      "cell_type": "code",
      "execution_count": null,
      "metadata": {
        "id": "eTbIBsikPDyk"
      },
      "outputs": [],
      "source": [
        "!pip install biopython"
      ]
    },
    {
      "cell_type": "code",
      "source": [
        "import pandas as pd\n",
        "from Bio import Entrez\n",
        "from Bio import SeqIO\n",
        "from Bio.Seq import MutableSeq\n",
        "from Bio.Seq import Seq\n",
        "from Bio.SeqRecord import SeqRecord\n",
        "from Bio.Seq import MutableSeq\n",
        "import time"
      ],
      "metadata": {
        "id": "UBwhbSx9Pw1J"
      },
      "execution_count": null,
      "outputs": []
    },
    {
      "cell_type": "code",
      "source": [
        "from google.colab import drive"
      ],
      "metadata": {
        "id": "xszj0LmLP1XX"
      },
      "execution_count": null,
      "outputs": []
    },
    {
      "cell_type": "code",
      "source": [
        "drive.mount('/content/drive')"
      ],
      "metadata": {
        "id": "TCOhEqG_P2oc"
      },
      "execution_count": null,
      "outputs": []
    },
    {
      "cell_type": "code",
      "source": [
        "gene = SeqIO.read('/content/drive/MyDrive/BIO/gene.fna', 'fasta')\n",
        "gene.seq"
      ],
      "metadata": {
        "id": "SIvDqvQUP5Gg"
      },
      "execution_count": null,
      "outputs": []
    },
    {
      "cell_type": "code",
      "source": [
        "# переходим с минуса на плюс-нить\n",
        "gene = gene.seq.complement()\n",
        "gene"
      ],
      "metadata": {
        "id": "1k2b9fu3P7PD"
      },
      "execution_count": null,
      "outputs": []
    },
    {
      "cell_type": "code",
      "source": [
        "# находим старт-кодон \"ATG\"\n",
        "start_codon_index = str(gene).find(\"ATG\")\n",
        "start_codon_index"
      ],
      "metadata": {
        "id": "JG3mGdnIP9RR"
      },
      "execution_count": null,
      "outputs": []
    },
    {
      "cell_type": "code",
      "source": [
        "gene[start_codon_index:]"
      ],
      "metadata": {
        "id": "f_xPCxzpP_Tl"
      },
      "execution_count": null,
      "outputs": []
    },
    {
      "cell_type": "code",
      "source": [
        "# цепочка нуклеотидов со старт кодона\n",
        "dna_seq = gene[start_codon_index:]\n",
        "dna_seq"
      ],
      "metadata": {
        "id": "Gy-Y6nsYQBf8"
      },
      "execution_count": null,
      "outputs": []
    },
    {
      "cell_type": "code",
      "source": [
        "mutable_seq = MutableSeq(dna_seq)\n",
        "mutable_seq"
      ],
      "metadata": {
        "id": "DyKbXTBmQDa9"
      },
      "execution_count": null,
      "outputs": []
    },
    {
      "cell_type": "code",
      "source": [
        "# заменим какой-нибудь кодон после стартового на стоп-кодон\n",
        "stop_codon = \"UAA\""
      ],
      "metadata": {
        "id": "R8sW-DU1QF94"
      },
      "execution_count": null,
      "outputs": []
    },
    {
      "cell_type": "code",
      "source": [
        "stop = Seq('UAA')\n",
        "stop.transcribe().translate()"
      ],
      "metadata": {
        "id": "CAIlhsfrRR-Y"
      },
      "execution_count": null,
      "outputs": []
    },
    {
      "cell_type": "code",
      "source": [
        "# рассмотрим белок из цепи ДНК dna_seq\n",
        "protein = dna_seq.transcribe().translate()\n",
        "protein"
      ],
      "metadata": {
        "id": "Ag6aIQndRWE8"
      },
      "execution_count": null,
      "outputs": []
    },
    {
      "cell_type": "code",
      "source": [
        "mutable_seq[9:12] = stop_codon"
      ],
      "metadata": {
        "id": "PbKz8HfcRXBj"
      },
      "execution_count": null,
      "outputs": []
    },
    {
      "cell_type": "code",
      "source": [
        "nonsense_seq = mutable_seq.transcribe().translate()\n",
        "nonsense_seq"
      ],
      "metadata": {
        "id": "3RfZoUpPRZbL"
      },
      "execution_count": null,
      "outputs": []
    },
    {
      "cell_type": "code",
      "source": [
        "mutable_seq = MutableSeq(dna_seq)\n",
        "mutable_seq"
      ],
      "metadata": {
        "id": "xlJvS9B9RgLw"
      },
      "execution_count": null,
      "outputs": []
    },
    {
      "cell_type": "code",
      "source": [
        "protein"
      ],
      "metadata": {
        "id": "2BOg597FRiDr"
      },
      "execution_count": null,
      "outputs": []
    },
    {
      "cell_type": "code",
      "source": [
        "# заменим аминокислоту на 4-й позиции\n",
        "mutable_seq[9:12] = 'CAA'\n",
        "missense_seq = mutable_seq.transcribe().translate()\n",
        "missense_seq"
      ],
      "metadata": {
        "id": "Wf69GBYyRjA4"
      },
      "execution_count": null,
      "outputs": []
    },
    {
      "cell_type": "code",
      "source": [
        "mutable_seq = MutableSeq(dna_seq)\n",
        "mutable_seq"
      ],
      "metadata": {
        "id": "wTCMMovTRmvS"
      },
      "execution_count": null,
      "outputs": []
    },
    {
      "cell_type": "code",
      "source": [
        "protein"
      ],
      "metadata": {
        "id": "5X6tFQV0RnZ2"
      },
      "execution_count": null,
      "outputs": []
    },
    {
      "cell_type": "code",
      "source": [
        "mutable_seq[9:12]"
      ],
      "metadata": {
        "id": "FEu2kfiaRpPF"
      },
      "execution_count": null,
      "outputs": []
    },
    {
      "cell_type": "code",
      "source": [
        "mutable_seq[9:12] = \"ACC\""
      ],
      "metadata": {
        "id": "CTiZvrdXRq-3"
      },
      "execution_count": null,
      "outputs": []
    },
    {
      "cell_type": "code",
      "source": [
        "silent_seq = mutable_seq.transcribe().translate()\n",
        "silent_seq"
      ],
      "metadata": {
        "id": "5vtclU_VRtDc"
      },
      "execution_count": null,
      "outputs": []
    },
    {
      "cell_type": "code",
      "source": [
        "import sys"
      ],
      "metadata": {
        "id": "nO9AMEGTRvKf"
      },
      "execution_count": null,
      "outputs": []
    },
    {
      "cell_type": "code",
      "source": [
        "Entrez.email = \"dbsnp-user@nih.gov\"\n",
        "Entrez.api_key = None\n",
        "\n",
        "eShandle = Entrez.esearch(db=\"snp\",  # search dbSNP\n",
        "                          term='A2M[All Fields] AND pathogenic[Clinical_Significance] AND missense variant[Function_Class])',\n",
        "                          # AND (00000.0000[GLOBAL_MAF] : 00000.0100[GLOBAL_MAF])',\n",
        "                          usehistory=\"y\", #cache result on server for download in batches\n",
        "                          retmax=20 # return 20 RSID max\n",
        "                         )\n",
        "eSresult = Entrez.read(eShandle)\n",
        "for k in eSresult:\n",
        "    print (k, \":\", eSresult[k])"
      ],
      "metadata": {
        "id": "mdIYqmzqRxLo"
      },
      "execution_count": null,
      "outputs": []
    },
    {
      "cell_type": "code",
      "source": [
        "Entrez.email = \"dbsnp-user@nih.gov\"\n",
        "Entrez.api_key = None\n",
        "\n",
        "eShandle = Entrez.esearch(db=\"snp\",  # search dbSNP\n",
        "                          term='CAD[All Fields] AND pathogenic[Clinical_Significance] AND missense variant[Function_Class])',\n",
        "                          # AND (00000.0000[GLOBAL_MAF] : 00000.0100[GLOBAL_MAF])',\n",
        "                          usehistory=\"y\", #cache result on server for download in batches\n",
        "                          retmax=20 # return 20 RSID max\n",
        "                         )"
      ],
      "metadata": {
        "id": "jqJ_PxptRzTp"
      },
      "execution_count": null,
      "outputs": []
    },
    {
      "cell_type": "code",
      "source": [
        "eSresult = Entrez.read(eShandle)"
      ],
      "metadata": {
        "id": "FFID8qBaR3fE"
      },
      "execution_count": null,
      "outputs": []
    },
    {
      "cell_type": "code",
      "source": [
        "for k in eSresult:\n",
        "    print (k, \":\", eSresult[k])"
      ],
      "metadata": {
        "id": "mbT9Pg92R5Wx"
      },
      "execution_count": null,
      "outputs": []
    },
    {
      "cell_type": "code",
      "source": [
        "from urllib.error import HTTPError"
      ],
      "metadata": {
        "id": "uHi6NqBnR82W"
      },
      "execution_count": null,
      "outputs": []
    },
    {
      "cell_type": "code",
      "source": [
        "rslist = (eSresult['IdList'])"
      ],
      "metadata": {
        "id": "jFhuU2O7R-yf"
      },
      "execution_count": null,
      "outputs": []
    },
    {
      "cell_type": "code",
      "source": [
        "for rs in rslist:\n",
        "    print(rs)"
      ],
      "metadata": {
        "id": "H2164XYoR_T2"
      },
      "execution_count": null,
      "outputs": []
    },
    {
      "cell_type": "code",
      "source": [
        "webenv = eSresult[\"WebEnv\"]\n",
        "query_key = eSresult[\"QueryKey\"]\n",
        "total_count = int(eSresult[\"Count\"])\n",
        "query_key = eSresult[\"QueryKey\"]\n",
        "retmax = 2"
      ],
      "metadata": {
        "id": "4SHNKf_dSDOM"
      },
      "execution_count": null,
      "outputs": []
    },
    {
      "cell_type": "code",
      "source": [
        "fetch_count = 0\n",
        "for start in range(0, total_count, retmax):\n",
        "    end = min(total_count, start+retmax)\n",
        "    print(\"Going to download record %i to %i\" % (start+1, end))\n",
        "    attempt = 0\n",
        "    #fetch_count += 1\n",
        "    while (attempt < 3):\n",
        "        attempt += 1\n",
        "        try:\n",
        "            fetch_handle = Entrez.efetch(db=\"snp\",\n",
        "                                         #rettype=\"uilist\", #available types [uilist | xml (use retmode=xml))\n",
        "                                         retmode=\"xml\",\n",
        "                                         retstart=start,\n",
        "                                         retmax=retmax,\n",
        "                                         webenv=webenv,\n",
        "                                         query_key=query_key )\n",
        "        except HTTPError as err:\n",
        "            if 500 <= err.code <= 599:\n",
        "                print(\"Received error from server %s\" % err)\n",
        "                print(\"Attempt %i of 3\" % attempt)\n",
        "                time.sleep(15)\n",
        "            else:\n",
        "                raise\n",
        "    if (fetch_handle):\n",
        "        #print(fetch_handle)\n",
        "        data = fetch_handle.read()\n",
        "        print(data)\n",
        "        fetch_handle.close()"
      ],
      "metadata": {
        "id": "IGpQ_TWKSEEy"
      },
      "execution_count": null,
      "outputs": []
    }
  ]
}